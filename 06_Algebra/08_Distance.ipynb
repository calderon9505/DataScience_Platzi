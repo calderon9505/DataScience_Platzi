{
 "cells": [
  {
   "cell_type": "markdown",
   "source": "# 8. Distancia y Norma",
   "metadata": {
    "cell_id": "00000-a232da43-02d4-41c7-bc38-a826ff564c4f",
    "deepnote_cell_type": "markdown"
   }
  },
  {
   "cell_type": "markdown",
   "source": "En clases pasadas hablamos de la magnitud de un vector pero no dimos una forma de poder medirla, esa magnitud la podremos calcular a través de la *norma Euclidiana*:\n\n$$\n||x|| = \\displaystyle\\sqrt{x_{0}^2 + x_{1}^2 + \\cdots + x_{n-1}^{2}} = \\displaystyle\\sqrt(x^Tx)\n$$\n\nHay que notar que $x$ en la expresión anterior es un $n$-vector. \nPongamos un ejemplo con $x^T = [1,2,3]$\n\n$$\n||x|| = \\displaystyle\\sqrt{1^2 + 2^2 + 3^2} = \\sqrt{14} \\approx 3.74\n$$\n\nRealizaremos otro con $x^T = [2,-1,2]$\n\n$$\n||x|| = \\displaystyle\\sqrt{2^2 + (-1)^2 + 2^2} = \\sqrt{9} = 3\n$$",
   "metadata": {
    "cell_id": "00001-091fe107-b9f1-4136-bbab-48cb8e36fc39",
    "deepnote_cell_type": "markdown"
   }
  },
  {
   "cell_type": "markdown",
   "source": "## 8.1 Propieades de la norma",
   "metadata": {
    "cell_id": "00002-8c284649-3ff7-4dc3-b41a-3cb948f070fa",
    "deepnote_cell_type": "markdown"
   }
  },
  {
   "cell_type": "markdown",
   "source": "Como todas las operaciones con las que trabajamos hasta ahora la norma también cumple una serie de propiedades. Sean $x$, $y$ son $n$-vectores y $\\beta$ un escalar cualquiera, tenemos que la norma cumple:\n* Homogeneídad no negativa: $||\\beta x|| = |\\beta|\\cdot ||x||$\n\n* Desigualdad del triángulo: $||x+y|| \\le ||x|| + ||y||$ \n\n* No-negatividad: $||x||\\ge 0$ y además $||x|| = 0$ si y solamente si $x = \\mathbf{0}$",
   "metadata": {
    "cell_id": "00003-1fa44c12-f817-49af-9c47-a992cf0a6f76",
    "deepnote_cell_type": "markdown"
   }
  },
  {
   "cell_type": "markdown",
   "source": "La norma es ampliamente usada, en particular podemos señalar los siguientes ejemplos:\n\n**Valor cuadrático medio.** Algunas veces también es llamado simplemente **RMS** y se define como sigue:\n\n$$\nrms(x) = \\displaystyle\\sqrt{\\frac{x_{0}^2 + x_{1}^2 + \\cdots + x_{n-1}^{2}}{n}} = \\frac{||x||}{\\sqrt{n}}\n$$",
   "metadata": {
    "cell_id": "00004-981880ed-3308-48dd-b98f-7ef2b375dc57",
    "deepnote_cell_type": "markdown"
   }
  },
  {
   "cell_type": "markdown",
   "source": "**Norma de una suma.** Si tenemos dos vectores $x$ y $y$ entonces la norma de la suma es\n\n$$\n||x+y|| = \\displaystyle\\sqrt{||x||^{2} + 2x^{T}y + ||y||^{2}}\n$$",
   "metadata": {
    "cell_id": "00005-c9a431c9-755c-4eb6-9b38-b5f8635529f2",
    "deepnote_cell_type": "markdown"
   }
  },
  {
   "cell_type": "markdown",
   "source": "**Norma de una bloque de vectores.** La norma de bloque de vectores será simplemente la raíz cuadrada de la suma de sus componentes. Si tenemos $d$ un $k$-vector con componentes $d_{i}$ que son $n$-vectores entonces tenemos que:\n\n$$\n||d|| = \\displaystyle\\sqrt{||d_{0}||^{2}+||d_{1}||^{2}+\\cdots + ||d_{n-1}||^{2}}\n$$",
   "metadata": {
    "cell_id": "00006-d99ddd95-35da-4f6b-9972-2b39b4b1b20f",
    "deepnote_cell_type": "markdown"
   }
  },
  {
   "cell_type": "code",
   "metadata": {
    "cell_id": "00007-3927c34b-f240-4086-b382-7b787b4a1117",
    "deepnote_to_be_reexecuted": false,
    "source_hash": "c2602aa8",
    "execution_start": 1636416118015,
    "execution_millis": 0,
    "deepnote_cell_type": "code"
   },
   "source": "import numpy as np",
   "execution_count": null,
   "outputs": []
  },
  {
   "cell_type": "code",
   "metadata": {
    "cell_id": "00008-5c063b69-53df-4982-962a-92afc95110f0",
    "deepnote_to_be_reexecuted": false,
    "source_hash": "ca083ae1",
    "execution_start": 1636416118056,
    "deepnote_cell_type": "code"
   },
   "source": "u = np.array([1,1])",
   "execution_count": null,
   "outputs": []
  },
  {
   "cell_type": "code",
   "metadata": {
    "cell_id": "00009-175dae42-8ed4-4178-b7e7-323374855b99",
    "deepnote_to_be_reexecuted": false,
    "source_hash": "5564669e",
    "execution_start": 1636416118057,
    "deepnote_cell_type": "code"
   },
   "source": "def norma(x):\n    return np.sqrt(x@x)",
   "execution_count": null,
   "outputs": []
  },
  {
   "cell_type": "code",
   "metadata": {
    "cell_id": "00010-7c72eeb9-ba15-4075-a9f1-20d114ef0c5d",
    "deepnote_to_be_reexecuted": false,
    "source_hash": "f171d343",
    "execution_start": 1636416118105,
    "execution_millis": 3,
    "deepnote_cell_type": "code"
   },
   "source": "norma(u)",
   "execution_count": null,
   "outputs": [
    {
     "output_type": "execute_result",
     "execution_count": 4,
     "data": {
      "text/plain": "1.4142135623730951"
     },
     "metadata": {}
    }
   ]
  },
  {
   "cell_type": "markdown",
   "source": "$2*u^T = [2,2]$ entonces la norma será $||2u|| = \\displaystyle\\sqrt{2^2 + 2^2} = \\displaystyle\\sqrt{8}$",
   "metadata": {
    "cell_id": "00011-599bf569-590b-4d1b-8d62-f2e80287cd9c",
    "deepnote_cell_type": "markdown"
   }
  },
  {
   "cell_type": "code",
   "metadata": {
    "cell_id": "00012-deda2b4f-eb65-4c02-977b-03fdb7347342",
    "deepnote_to_be_reexecuted": false,
    "source_hash": "fed24f7a",
    "execution_start": 1636416118105,
    "execution_millis": 3,
    "deepnote_cell_type": "code"
   },
   "source": "norma(2*u)",
   "execution_count": null,
   "outputs": [
    {
     "output_type": "execute_result",
     "execution_count": 5,
     "data": {
      "text/plain": "2.8284271247461903"
     },
     "metadata": {}
    }
   ]
  },
  {
   "cell_type": "code",
   "metadata": {
    "cell_id": "00013-b29bfebc-2384-4eaf-8a1e-18e43125bcaf",
    "deepnote_to_be_reexecuted": false,
    "source_hash": "cdb46a8b",
    "execution_start": 1636416118149,
    "execution_millis": 2,
    "deepnote_cell_type": "code"
   },
   "source": "2*norma(u)",
   "execution_count": null,
   "outputs": [
    {
     "output_type": "execute_result",
     "execution_count": 6,
     "data": {
      "text/plain": "2.8284271247461903"
     },
     "metadata": {}
    }
   ]
  },
  {
   "cell_type": "code",
   "metadata": {
    "cell_id": "00014-c7177588-8b27-488e-9160-da78e59c6665",
    "deepnote_to_be_reexecuted": false,
    "source_hash": "ab1c403a",
    "execution_start": 1636416118150,
    "deepnote_cell_type": "code"
   },
   "source": "v = np.array([-1,1])",
   "execution_count": null,
   "outputs": []
  },
  {
   "cell_type": "code",
   "metadata": {
    "cell_id": "00015-77070ecc-61f3-4826-81a6-21bbf82b3f11",
    "deepnote_to_be_reexecuted": false,
    "source_hash": "173db90e",
    "execution_start": 1636416118156,
    "execution_millis": 1,
    "deepnote_cell_type": "code"
   },
   "source": "print('||u+v|| = ',norma(u+v))",
   "execution_count": null,
   "outputs": [
    {
     "name": "stdout",
     "text": "||u+v|| =  2.0\n",
     "output_type": "stream"
    }
   ]
  },
  {
   "cell_type": "code",
   "metadata": {
    "cell_id": "00016-ea569f25-8eea-423e-b41c-7a497cd5b329",
    "deepnote_to_be_reexecuted": false,
    "source_hash": "72fd4093",
    "execution_start": 1636416118213,
    "execution_millis": 1,
    "deepnote_cell_type": "code"
   },
   "source": "print('||v|| = ',norma(v))",
   "execution_count": null,
   "outputs": [
    {
     "name": "stdout",
     "text": "||v|| =  1.4142135623730951\n",
     "output_type": "stream"
    }
   ]
  },
  {
   "cell_type": "code",
   "metadata": {
    "cell_id": "00017-c79f033c-87a0-4db5-a75f-2e7dff65109e",
    "deepnote_to_be_reexecuted": false,
    "source_hash": "ae488239",
    "execution_start": 1636416118214,
    "execution_millis": 1,
    "deepnote_cell_type": "code"
   },
   "source": "print('¿Es verdad que ||u+v|| menor o igual que ||u||+||v||', norma(u+v) <= norma(v)+norma(u))",
   "execution_count": null,
   "outputs": [
    {
     "name": "stdout",
     "text": "¿Es verdad que ||u+v|| menor o igual que ||u||+||v|| True\n",
     "output_type": "stream"
    }
   ]
  },
  {
   "cell_type": "markdown",
   "source": "  ",
   "metadata": {
    "cell_id": "00018-1ca7856b-6742-4761-b441-1d4042b15ada",
    "deepnote_cell_type": "markdown"
   }
  },
  {
   "cell_type": "markdown",
   "source": "## 8.1 Distancia entre vectores",
   "metadata": {
    "cell_id": "00019-7e6d565a-2595-4db2-a967-f3058151d692",
    "deepnote_cell_type": "markdown"
   }
  },
  {
   "cell_type": "markdown",
   "source": "Podemos usar la norma pora definir la distancia entre dos vectores $\\mathbf{a}$ y $\\mathbf{b}$ como la norma de la diferencia de los vectores\n\n$$\ndist(\\mathbf{a},\\mathbf{b}) = ||\\mathbf{a} - \\mathbf{b}|| = \\displaystyle\\sqrt{(a_{0}-b_{0})^2 + (a_{1}-b_{1})^2 + \\cdots + (a_{n-1}-b_{n-1})^2}\n$$",
   "metadata": {
    "cell_id": "00020-795653c2-1b00-4f8a-ba21-154814fd6b8b",
    "deepnote_cell_type": "markdown"
   }
  },
  {
   "cell_type": "code",
   "metadata": {
    "cell_id": "00021-09712449-36c1-4009-90e0-7522c66742dd",
    "deepnote_to_be_reexecuted": false,
    "source_hash": "5fcdf29a",
    "execution_start": 1636416118257,
    "deepnote_cell_type": "code"
   },
   "source": "a = np.array([1,1])\nb = np.array([-2,3])",
   "execution_count": null,
   "outputs": []
  },
  {
   "cell_type": "code",
   "metadata": {
    "cell_id": "00022-7fe07f07-2c39-4098-a9bc-31265b95247b",
    "deepnote_to_be_reexecuted": false,
    "source_hash": "b2b63081",
    "execution_start": 1636416118258,
    "deepnote_cell_type": "code"
   },
   "source": "c = a - b",
   "execution_count": null,
   "outputs": []
  },
  {
   "cell_type": "code",
   "metadata": {
    "cell_id": "00023-0940561b-1a65-4173-8729-1bbbdf80c238",
    "deepnote_to_be_reexecuted": false,
    "source_hash": "2d3a5849",
    "execution_start": 1636416118300,
    "deepnote_cell_type": "code"
   },
   "source": "norma(a-b)",
   "execution_count": null,
   "outputs": [
    {
     "output_type": "execute_result",
     "execution_count": 13,
     "data": {
      "text/plain": "3.605551275463989"
     },
     "metadata": {}
    }
   ]
  },
  {
   "cell_type": "code",
   "metadata": {
    "cell_id": "00024-fc376d9f-7f82-4eb2-a8bc-e3c6236905dc",
    "deepnote_to_be_reexecuted": false,
    "source_hash": "bf4c0750",
    "execution_start": 1636416118301,
    "deepnote_cell_type": "code"
   },
   "source": "np.linalg.norm(a-b)",
   "execution_count": null,
   "outputs": [
    {
     "output_type": "execute_result",
     "execution_count": 14,
     "data": {
      "text/plain": "3.605551275463989"
     },
     "metadata": {}
    }
   ]
  },
  {
   "cell_type": "markdown",
   "source": "A esto se el llama _norma Euclidiana_ o *distancia Euclidiana* y tiene ese nombre porque es como se infiere la forma de medir distancias de los [postulados de Euclides](https://es.wikipedia.org/wiki/Postulados_de_Euclides). Ahora, la realidad es que siempre que nuestro espacio admita una $\\mathbf{L^p}$-norma entonces podremos generalizar la norma anterior como\n\n$$\n||x||_{p} = \\left(|x_{0}|^p + |x_{1}|^p + \\cdots + |x_{n-1}|^p\\right)^{1/p} \\qquad con \\;\\; 1\\le p\n$$",
   "metadata": {
    "cell_id": "00025-f27337a8-c956-42be-ac2c-64d72e96595b",
    "deepnote_cell_type": "markdown"
   }
  },
  {
   "cell_type": "markdown",
   "source": "Por eso es que la norma Euclidiana también es conocida como la *norma $L_{2}$*. Hay otras normas que recibe nombres. Por ejemplo, si $p=1$ tenemos la norma $L_{1}$ y esta es llamada _la métrica del taxista_ o _la métrica de Manhattan_. Si tomamos $p \\to \\infty$ entonces tenemos $L_{\\infty}$ y esta es llamada _la métrica del máximo_. Es muy importante saber qué métrica estamos usando para medir distancias ya que la forma en la que medimos distancias está en total correspondencia en con configuración y la percepción el espacio. Por ejemplo, mientras que en la métrica Euclidiana la distancia corresponde a la más corta entre los dos vectores en el espacio planeo en el caso de la métrica del taxista es la más corta pero no será es segmento más directo sino por _bloques_.",
   "metadata": {
    "cell_id": "00026-7dc7cf9d-4cf3-441d-8ce9-8a48f9b9255e",
    "deepnote_cell_type": "markdown"
   }
  },
  {
   "cell_type": "markdown",
   "source": "Para poder simplificar las cosas tomemos dos vectores $\\mathbf{x}$ y $\\mathbf{y}$ en $\\mathbb{R}^2$\n\n$$\n\\mathbf{x} = \\begin{bmatrix} 2\\\\1 \\end{bmatrix},\\; \\qquad \\mathbf{y} = \\begin{bmatrix} 1\\\\2 \\end{bmatrix}\n$$\n\nLa distancia en el caso de norma $L_{2}$ tenemos que la distancia entre los vectores es $||\\mathbf{x}-\\mathbf{y}||_{2} = \\displaystyle\\sqrt{(2-1)^{2} + (1-2)^{2}} = \\displaystyle\\sqrt{2}$ mientras que bajo la norma $L_{1}$ obtenemos que $||\\mathbf{x}-\\mathbf{y}||_{1} = |2-1|+|1-2| = 2$. ",
   "metadata": {
    "cell_id": "00027-395011d1-f041-4c70-9d79-9a85a4b7cd86",
    "deepnote_cell_type": "markdown"
   }
  },
  {
   "cell_type": "markdown",
   "source": "Ahora, si $\\mathbf{x}$ y $\\mathbf{y}$ son $n$-vectores hay una medida quer después cobrará importancia, *la desviación cuadrática media*\n\n$$\nrms_{dev}(\\mathbf{x},\\mathbf{y}) = \\displaystyle\\frac{||\\mathbf{x}-\\mathbf{y}||}{\\sqrt{n}}\n$$",
   "metadata": {
    "cell_id": "00028-d4405fb2-fb63-4e6f-a56d-a81a32357189",
    "deepnote_cell_type": "markdown"
   }
  },
  {
   "cell_type": "markdown",
   "source": "  ",
   "metadata": {
    "cell_id": "00029-99ae296e-81ca-4c39-8a61-8ecddf57e976",
    "deepnote_cell_type": "markdown"
   }
  },
  {
   "cell_type": "markdown",
   "source": "Algo muy imporante es que a pesar de que medimos distancias no existen propiamente nociones de *cerca* y *lejos*. Si tomamos los siguientes $4$-vectores\n\n$$\n\\mathbf{u} = \\begin{bmatrix}1.8 \\\\ 2.8 \\\\ -3.7 \\\\ 4.7 \\end{bmatrix}, \\qquad  \\mathbf{v} = \\begin{bmatrix}0.6 \\\\ 2.1 \\\\ 1.9 \\\\ -1.4 \\end{bmatrix}, \\qquad \\mathbf{w} = \\begin{bmatrix}2.0 \\\\ 1.9 \\\\ -4.0 \\\\ 4.6 \\end{bmatrix}\n$$\n\nTenemos que las distancia entre los vectores es:\n\n$$\n||\\mathbf{u}-\\mathbf{v}|| = 8.36, \\qquad ||\\mathbf{u}-\\mathbf{w}|| = 0.38, \\qquad ||\\mathbf{v}-\\mathbf{w}|| = 8.63\n$$\n\nEntonces así ya tenemos noción de cercanía o lontananza, de no ser porque comparamos no tendríamos estas nociones. ",
   "metadata": {
    "cell_id": "00030-40623313-ea57-4c23-ac9b-187b9f49953f",
    "deepnote_cell_type": "markdown"
   }
  },
  {
   "cell_type": "markdown",
   "source": "  ",
   "metadata": {
    "cell_id": "00031-34766935-a077-4624-937b-e663442668f3",
    "deepnote_cell_type": "markdown"
   }
  },
  {
   "cell_type": "markdown",
   "source": "**Desigualdad del triángulo.** Debido a que la distancia la definimos a partir de la norma entonces la distancia también está sujeta a cumplir la desigualdad del triángulo. Considemos entonces tres $n$-vectores $\\mathbf{a}$,$\\mathbf{b}$ y $\\mathbf{c}$ entonces tenemos\n\n$$\n||\\mathbf{a}-\\mathbf{c}|| = ||\\mathbf{a}-\\mathbf{b}+\\mathbf{b}-\\mathbf{c}|| \\le ||\\mathbf{a}-\\mathbf{b}|| + ||\\mathbf{b}-\\mathbf{c}||\n$$",
   "metadata": {
    "cell_id": "00032-5ad5f3a3-8f86-4350-838e-44de36c61c43",
    "deepnote_cell_type": "markdown"
   }
  },
  {
   "cell_type": "markdown",
   "source": "Vamos a partir de los siguientes $2$-vectores:\n$$\n\\mathbf{a} = \\begin{bmatrix} 1\\\\ 1 \\end{bmatrix}, \\qquad \\mathbf{b} = \\begin{bmatrix} 2\\\\ 3 \\end{bmatrix}, \\qquad \\mathbf{c} = \\begin{bmatrix} 4\\\\ 2 \\end{bmatrix}\n$$",
   "metadata": {
    "cell_id": "00033-e07eb855-c299-492b-afa1-d7a43cb950d1",
    "deepnote_cell_type": "markdown"
   }
  },
  {
   "cell_type": "markdown",
   "source": "  ",
   "metadata": {
    "cell_id": "00034-270b1d8f-5ed1-41f7-8279-1bac1a8485e6",
    "deepnote_cell_type": "markdown"
   }
  },
  {
   "cell_type": "markdown",
   "source": "## 8.3 Una aplicación",
   "metadata": {
    "cell_id": "00035-d8e7671d-9993-4773-ad52-67ddef3d8d64",
    "deepnote_cell_type": "markdown"
   }
  },
  {
   "cell_type": "markdown",
   "source": "**Visita óptima de apartamentos para arrendar.** Supongamos que estamos en búsqueda de alquilar un apartamento. Comenzamos buscando caracacterísticas como cantidad de recámaras, cantidad de baños, estacionamientos, zona y tamaño. Un problema es que algunas veces llegamos a colectar una gran cantidad de anuncios y contactos y organizarnos para ir a las visitas puede parecer prácticamte imposible y puede que dejemos escapar una gran oportunidad. Afortunadamente en este curso vamos a proponer una solución: vamos a partir de nuestro departamento ideal y vamos a representarlo como un vector de caracteristicas, construimos el mismo vector para los apartamentos que ya tengamos localizados y calculamos la distancia entre estos vectores y el vector que representa al departamento ideal. Los ordenamos por de manera ascendente y ya tendríamos una lista ordenada en prioridad de contacto y visita de apartamentos según nuestro apartamento ideal. \n\nPara esto, supongamos que las características que queremos tomar en cuenta son tamaño del apartamento, número de recámaras, número de baños y número de estacionamientos. Notemos que en el caso de tamaño del apartamento regularmente se nos da en metros cuadrados (área) pero el gran problema es que puede variar mucho y usar estos números *tan grandes* puede introducir una gran cantidad de ruido. Para resolver el problema anterior vamos a catalogar los tamaños de apartametos en categorias:\n1. Si el área es menor que 60 metros cuadrados\n2. Si el área es mayor o igual que 60 metros cuadrados pero menor que 80 metros cuadrados\n3. Si el área es mayor o igual que 80 metros cuadrados pero menor que 110 metros cuadrados\n4. Si el área es mayor o igual que 110 metros cuadrados pero menor que 130 metros cuadrados\n5. Si el área es mayor o igual que 130 metros cuadrados. ",
   "metadata": {
    "cell_id": "00036-fdbbd8ad-ff74-441f-a7a8-c2f11efe02f5",
    "deepnote_cell_type": "markdown"
   }
  },
  {
   "cell_type": "markdown",
   "source": "Supongamos también que el orden de las características en el vector es categoria de tamaño, número de recámaras, número de baños y número estacionamientos. Nuestro apartamento ideal viene dado por el siguiente vector:\n\n$$\n\\mathbf{I} = \\begin{bmatrix} 3\\\\ 2\\\\ 2\\\\1 \\end{bmatrix}\n$$\n\nY nostros encontramos los siguientes apartamentos:\n\n$$\n\\mathbf{A_{1}} = \\begin{bmatrix}4 \\\\3 \\\\ 3\\\\3 \\end{bmatrix}, \\qquad \\mathbf{A_{2}} = \\begin{bmatrix}3 \\\\3 \\\\ 1\\\\0 \\end{bmatrix}, \\qquad \\mathbf{A_{3}} = \\begin{bmatrix}5 \\\\4 \\\\ 3\\\\0 \\end{bmatrix}\n$$",
   "metadata": {
    "cell_id": "00037-cd9e1116-0b70-41e3-84ca-e854aca90049",
    "deepnote_cell_type": "markdown"
   }
  },
  {
   "cell_type": "code",
   "metadata": {
    "cell_id": "00038-83fc12f6-76da-4e62-920a-28ae795c63c8",
    "deepnote_to_be_reexecuted": false,
    "source_hash": "4a759282",
    "execution_start": 1636416118302,
    "deepnote_cell_type": "code"
   },
   "source": "I = np.array([3,2,2,1])\nA_1 = np.array([4,3,3,3])\nA_2 = np.array([3,3,2,1])\nA_3 = np.array([5,4,3,0])",
   "execution_count": null,
   "outputs": []
  },
  {
   "cell_type": "code",
   "metadata": {
    "cell_id": "00039-07f4ba50-afe1-44e4-bb33-70f3bbe2d5d7",
    "deepnote_to_be_reexecuted": false,
    "source_hash": "8cabe27d",
    "execution_start": 1636416118303,
    "execution_millis": 101,
    "deepnote_cell_type": "code"
   },
   "source": "print('||I-A_1|| =',np.linalg.norm(I-A_1))\nprint('||I-A_2|| =',np.linalg.norm(I-A_2))\nprint('||I-A_3|| =',np.linalg.norm(I-A_3))",
   "execution_count": null,
   "outputs": [
    {
     "name": "stdout",
     "text": "||I-A_1|| = 2.6457513110645907\n||I-A_2|| = 1.0\n||I-A_3|| = 3.1622776601683795\n",
     "output_type": "stream"
    }
   ]
  },
  {
   "cell_type": "markdown",
   "source": "Este problema es el problema de encontrar el vector más cercano. Básicamte si tenemos una colección de N $n$-vectores $z_{0},z_{1},\\dots,z_{N-1}$ vamos a decir que $z_{i}$ es el vecino más cercano del vector $x$ si \n\n$$\n||x-z_{i}|| \\le ||x - z_{j}|| \\quad con \\; \\; j = 0,\\dots, N-1\n$$",
   "metadata": {
    "cell_id": "00040-0afd2457-32f7-4057-95bc-55b32687a6d9",
    "deepnote_cell_type": "markdown"
   }
  },
  {
   "cell_type": "markdown",
   "source": "<a style='text-decoration:none;line-height:16px;display:flex;color:#5B5B62;padding:10px;justify-content:end;' href='https://deepnote.com?utm_source=created-in-deepnote-cell&projectId=b06e2ad7-2e73-4529-91c1-8e44f8b5881a' target=\"_blank\">\n<img alt='Created in deepnote.com' style='display:inline;max-height:16px;margin:0px;margin-right:7.5px;' src='data:image/svg+xml;base64,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' > </img>\nCreated in <span style='font-weight:600;margin-left:4px;'>Deepnote</span></a>",
   "metadata": {
    "tags": [],
    "created_in_deepnote_cell": true,
    "deepnote_cell_type": "markdown"
   }
  }
 ],
 "nbformat": 4,
 "nbformat_minor": 4,
 "metadata": {
  "kernelspec": {
   "display_name": "Python 3",
   "language": "python",
   "name": "python3"
  },
  "language_info": {
   "codemirror_mode": {
    "name": "ipython",
    "version": 3
   },
   "file_extension": ".py",
   "mimetype": "text/x-python",
   "name": "python",
   "nbconvert_exporter": "python",
   "pygments_lexer": "ipython3",
   "version": "3.7.3"
  },
  "deepnote_notebook_id": "439ae502-53b5-4089-96f4-b66b7e424ea3",
  "deepnote": {},
  "deepnote_execution_queue": []
 }
}