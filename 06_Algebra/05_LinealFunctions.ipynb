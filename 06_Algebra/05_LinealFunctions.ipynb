{
 "cells": [
  {
   "cell_type": "markdown",
   "source": "# 5. Funciones Lineales",
   "metadata": {
    "cell_id": "00000-752b2788-09db-4066-92bb-8c295880e6ab",
    "deepnote_cell_type": "markdown"
   }
  },
  {
   "cell_type": "markdown",
   "source": "La notación $f: \\mathbb{R}^{n}\\to \\mathbb{R}$ significa que $f$ es una función con **dominio** en $\\mathbb{R}^{n}$ e imagen en $\\mathbb{R}$, es decir, que toma un $n$-vector y lo convierte en un escalar.  \nLa función puede denotarse como $f\\left(\\mathbf{x}\\right)= f\\left(x_{0},x_{1},\\dots,x_{n-1}\\right)$ donde $\\mathbf{x}\\in \\mathbb{R}^{n}$ y $x_{i}$ son las entradas del vector.  \n\nEs necesario enfatizar que $f(\\mathbf{x})$ es un escalar. ",
   "metadata": {
    "cell_id": "00001-430b8bf6-1845-4081-ac5f-781662a5fcae",
    "deepnote_cell_type": "markdown"
   }
  },
  {
   "cell_type": "markdown",
   "source": "Para describir una función $f: \\mathbb{R}^{n} \\to \\mathbb{R}$ tenemos que especificar cual es el valor para cualquier vector $\\mathbf{x}\\in\\mathbb{R}^{n}$. Por ejemplo, sea $f: \\mathbb{R}^{4} \\to \\mathbb{R}$ definida por\n$$\nf(\\mathbf{x}) = x_{0} + x_{1} + x_{2} + x_{3}\n$$",
   "metadata": {
    "cell_id": "00002-acfdd0b3-a660-43e1-9de5-aa3e7ecc82cc",
    "deepnote_cell_type": "markdown"
   }
  },
  {
   "cell_type": "markdown",
   "source": "Así pues el valor de cualquier $4$-vector queda bien definido, por ejemplo:\n\n* $f(\\mathbf{0}) = 0 + 0+ 0+0 = 0$\n\n* $f([1\\; 0\\; 0\\; 0]) = 1+0+0+0 = 1$\n\n* $f([1\\; 1\\; 1\\; 1]) = 1+1+1+1 = 4$",
   "metadata": {
    "cell_id": "00003-2645d8b5-f133-41ab-989e-89497f693f0e",
    "deepnote_cell_type": "markdown"
   }
  },
  {
   "cell_type": "code",
   "metadata": {
    "cell_id": "00004-9dbd526e-5f0a-45ff-97a2-b6bde19074dd",
    "deepnote_cell_type": "code"
   },
   "source": "import numpy as np",
   "outputs": [],
   "execution_count": null
  },
  {
   "cell_type": "code",
   "metadata": {
    "cell_id": "00005-e836a34f-d98d-4151-9251-53d9fbac7e68",
    "deepnote_cell_type": "code"
   },
   "source": "def f(x):\n    return np.sum(x)",
   "outputs": [],
   "execution_count": null
  },
  {
   "cell_type": "code",
   "metadata": {
    "cell_id": "00006-19d64929-6f2c-4a8a-a092-967de2375d56",
    "deepnote_cell_type": "code"
   },
   "source": "print('f(0) = ',f(np.array([0,0,0,0])))",
   "outputs": [
    {
     "name": "stdout",
     "output_type": "stream",
     "text": "f(0) =  0\n"
    }
   ],
   "execution_count": null
  },
  {
   "cell_type": "code",
   "metadata": {
    "cell_id": "00007-ef32b4bc-5635-4616-9b75-0c4070d8141b",
    "deepnote_cell_type": "code"
   },
   "source": "print('f([1,0,0,0]) = ',f(np.array([1,0,0,0])))",
   "outputs": [
    {
     "name": "stdout",
     "output_type": "stream",
     "text": "f([1,0,0,0]) =  1\n"
    }
   ],
   "execution_count": null
  },
  {
   "cell_type": "code",
   "metadata": {
    "cell_id": "00008-0f9b932c-6211-4890-8599-853fa662fef3",
    "deepnote_cell_type": "code"
   },
   "source": "print('f([1,1,1,1]) = ',f(np.array([1,1,1,1])))",
   "outputs": [
    {
     "name": "stdout",
     "output_type": "stream",
     "text": "f([1,1,1,1]) =  4\n"
    }
   ],
   "execution_count": null
  },
  {
   "cell_type": "markdown",
   "source": "Como otro ejemplo, sea $g: \\mathbb{R}^{3} \\to \\mathbb{R}$ definida por \n$$\ng(\\mathbf{x}) = x_{0}\n$$",
   "metadata": {
    "cell_id": "00009-a37c441a-525a-4f1b-a16e-cbefc3012c57",
    "deepnote_cell_type": "markdown"
   }
  },
  {
   "cell_type": "markdown",
   "source": "Tenemos entonces:\n\n* $g(\\mathbf{0}) = 0$ \n\n* $g([0\\; 0\\; 1]) = 0$\n\n* $g([1\\; 0\\; 4]) = 1$",
   "metadata": {
    "cell_id": "00010-71aba75a-d37f-43c3-8817-5b371c3efa5c",
    "deepnote_cell_type": "markdown"
   }
  },
  {
   "cell_type": "code",
   "metadata": {
    "cell_id": "00011-bd00c78d-22fe-45d0-a262-95e14eb38b31",
    "deepnote_cell_type": "code"
   },
   "source": "def g(x):\n    return x[0]",
   "outputs": [],
   "execution_count": null
  },
  {
   "cell_type": "code",
   "metadata": {
    "cell_id": "00012-e2f7bcd3-5ce3-4d49-b4df-202b11186d27",
    "deepnote_cell_type": "code"
   },
   "source": "print('g(0) = ',g(np.array([0,0,0])))",
   "outputs": [
    {
     "name": "stdout",
     "output_type": "stream",
     "text": "g(0) =  0\n"
    }
   ],
   "execution_count": null
  },
  {
   "cell_type": "code",
   "metadata": {
    "cell_id": "00013-4925cf23-1d31-4ae7-b979-2676902d2d23",
    "deepnote_cell_type": "code"
   },
   "source": "print('g([0,0,1]) = ',g(np.array([0,0,1])))",
   "outputs": [
    {
     "name": "stdout",
     "output_type": "stream",
     "text": "g([0,0,1]) =  0\n"
    }
   ],
   "execution_count": null
  },
  {
   "cell_type": "code",
   "metadata": {
    "cell_id": "00014-60a89b46-5716-4c4e-b402-15ced6b64830",
    "deepnote_cell_type": "code"
   },
   "source": "print('g([1,0,4]) = ',g(np.array([1,0,4])))",
   "outputs": [
    {
     "name": "stdout",
     "output_type": "stream",
     "text": "g([1,0,4]) =  1\n"
    }
   ],
   "execution_count": null
  },
  {
   "cell_type": "markdown",
   "source": "Podemos notar que en este caso $f(\\mathbf{x})$ corresponde a la _función suma_ y $g(\\mathbf{x})$ a proyección sobre $x_{0}$.",
   "metadata": {
    "cell_id": "00015-64f9aefa-9ab2-4bad-8556-5ad197fae951",
    "deepnote_cell_type": "markdown"
   }
  },
  {
   "cell_type": "markdown",
   "source": "## 5.1 Algunas funciones",
   "metadata": {
    "cell_id": "00016-0254d9fd-32d8-48cc-bb9c-d6c3b46ce4f6",
    "deepnote_cell_type": "markdown"
   }
  },
  {
   "cell_type": "markdown",
   "source": "**Función producto interno**. Si una función tiene como aurgmentos dos $n$-vectores el dominio de la función se expresará como $\\mathbb{R}^{n}\\times\\mathbb{R}^{n}$. Por ejemplo, sea $f:\\mathbb{R}^{n}\\times\\mathbb{R}^{n} \\to \\mathbb{R}$ definida por:\n\n$$\nf(\\mathbf{a},\\mathbf{b}) = a_{0}b_{0} + a_{1}b_{1} + \\cdots + a_{n-1}b_{n-1}\n$$",
   "metadata": {
    "cell_id": "00017-628c35e2-5875-4038-892e-3c16a2da1039",
    "deepnote_cell_type": "markdown"
   }
  },
  {
   "cell_type": "markdown",
   "source": "Notemos que podemos expresar lo anterior como\n\n$$\nf(\\mathbf{a},\\mathbf{b}) = \\mathbf{a}^{T}\\mathbf{b}\n$$\n\nEsta función recibe el nombre de función producto interno. Si quisieramos dejar fijo un vector, digamos el vector $\\mathbf{a}$ podemos recurrir a la siguiente notación:\n\n$$\nf_{\\mathbf{a}}(\\mathbf{b}) = \\mathbf{a}^{T}\\mathbf{b}\n$$\n\nEsto significará que $\\mathbf{a}$ estará fijo mientras que $\\mathbf{b}$ será el que variará. ",
   "metadata": {
    "cell_id": "00018-5400d62c-65b7-4a6a-8d02-496740db4e82",
    "deepnote_cell_type": "markdown"
   }
  },
  {
   "cell_type": "markdown",
   "source": "**Superposición y linealidad.** La función producto interno satisface la siguiente propiedad:\n\n\n$$\nf_\\mathbf{x}(\\alpha\\mathbf{a}+\\beta\\mathbf{b}) = \\mathbf{x}^{T}(\\alpha\\mathbf{a}+\\beta\\mathbf{b})\n$$\n\n$$\nf_\\mathbf{x}(\\alpha\\mathbf{a}+\\beta\\mathbf{b}) = \\mathbf{x}^{T}(\\alpha\\mathbf{a})+\\mathbf{x}^{T}(\\beta\\mathbf{b})\n$$\n\n$$\nf_\\mathbf{x}(\\alpha\\mathbf{a}+\\beta\\mathbf{b}) = \\alpha(\\mathbf{x}^{T}\\mathbf{a}) + \\beta(\\mathbf{x}^{T}\\mathbf{b})\n$$\n\n$$\nf_\\mathbf{x}(\\alpha\\mathbf{a}+\\beta\\mathbf{b}) = \\alpha f_{\\mathbf{x}}(\\mathbf{a}) + \\beta f_{\\mathbf{x}}(\\mathbf{b})\n$$\n\nSi la función $g$ cumple que $g(\\alpha\\mathbf{x}+\\beta\\mathbf{y}) = \\alpha g(\\mathbf{x})+\\beta g(\\mathbf{y})$ decimos que la función $g$ es una **función lineal.** ",
   "metadata": {
    "cell_id": "00019-87cb3258-c947-4fb0-a0b2-021952a2693e",
    "deepnote_cell_type": "markdown"
   }
  },
  {
   "cell_type": "markdown",
   "source": "Si $f$ es una función lineal la _linearidad_ se extiende a cualquier combinación lineal y no solamente a una combinación de dos vectores, tenemos \n\n$$\nf(\\alpha_{0}\\mathbf{x_{0}} + \\alpha_{1}\\mathbf{x_{1}} + \\alpha_{2}\\mathbf{x_{2}} + \\cdots \n + \\alpha_{n-1}\\mathbf{x_{n-1}}) = \\alpha_{0}f(\\mathbf{x_{0}}) + \\alpha_{1}f(\\mathbf{x_{1}}) + \\alpha_{2}f(\\mathbf{x_{2}}) + \\cdots + \\alpha_{n-1}f(\\mathbf{x_{n-1}})\n$$\n",
   "metadata": {
    "cell_id": "00020-8fbecf1f-a364-4bc5-a858-e91cfc9e61ad",
    "deepnote_cell_type": "markdown"
   }
  },
  {
   "cell_type": "markdown",
   "source": "Si una función $g:\\mathbf{R}^{n} \\to \\mathbf{R}$ es lineal sabemo que cumple $g(\\alpha\\mathbf{x}+\\beta\\mathbf{y}) = \\alpha g(\\mathbf{x})+\\beta g(\\mathbf{y})$, propiedad que llamaremos _superposición_. Ahora, la superposición puede ser separada en dos propiedades:\n\n* _Homogeneidad_. Para cualquier $n$-vector $\\mathbf{x}$ y cualquier escalar $\\alpha$ tenemos que $g(\\alpha \\mathbf{x}) = \\alpha g(\\mathbf{x})$\n\n* _Aditividad_. Para cualquier $n$-vector $\\mathbf{x}$ y $\\mathbf{y}$ tenemos que $g(\\mathbf{x}+\\mathbf{y}) = g(\\mathbf{x})+g(\\mathbf{y})$\n\nLa homogeneidad nos dice que escalar el argumento es igual que escalar el valor de la función; la aditividad nos indica que sumar los argumentos es igual que sumar los valores de la función. ",
   "metadata": {
    "cell_id": "00021-a93c1c71-f93c-4975-89bb-8b16dae36f06",
    "deepnote_cell_type": "markdown"
   }
  },
  {
   "cell_type": "code",
   "metadata": {
    "cell_id": "00022-8e45ee42-2d23-46cd-93a4-d1b65c6ab1d0",
    "deepnote_cell_type": "code"
   },
   "source": "a = np.array([1,1,1,1])\nb = np.array([1,0,1,0])\nx,y = 1,-2",
   "outputs": [],
   "execution_count": null
  },
  {
   "cell_type": "code",
   "metadata": {
    "cell_id": "00023-f5c24e6a-3b49-46d6-9c09-12d9c590ed6e",
    "deepnote_cell_type": "code"
   },
   "source": "print('f(x*a + y*b) = ',f(x*a + y*b))",
   "outputs": [
    {
     "name": "stdout",
     "output_type": "stream",
     "text": "f(x*a + y*b) =  0\n"
    }
   ],
   "execution_count": null
  },
  {
   "cell_type": "code",
   "metadata": {
    "cell_id": "00024-86e02cdf-85a7-4844-b706-9bfebff7d448",
    "deepnote_cell_type": "code"
   },
   "source": "print('x*f(a) + y*f(b) =',x*f(a) + y*f(b))",
   "outputs": [
    {
     "name": "stdout",
     "output_type": "stream",
     "text": "x*f(a) + y*f(b) = 0\n"
    }
   ],
   "execution_count": null
  },
  {
   "cell_type": "markdown",
   "source": "**Representación producto interno de una función lineal.** En matemáticas las verdades, cuando son verdades, se demuestran usando argumentos principalmente lógicos. Estas verdades vienen empaquetadas en _teoremas_, _corolarios_ y _lemas_. Si no podemos demostrarlo pero creemos que es verdad lo llamamos _conjetura_. Por ejemplo, consideremos el siguiente teorema:",
   "metadata": {
    "cell_id": "00025-3ded42de-b6f7-41bb-bb1e-5221e6a501a1",
    "deepnote_cell_type": "markdown"
   }
  },
  {
   "cell_type": "markdown",
   "source": "**Teorema.** Los ángulos a ambos lados de una recta, que intersecta a otra, siempre suman $180^\\circ$ \n\n![img](fl_1.png)",
   "metadata": {
    "cell_id": "00026-dd36eecd-4179-4ea7-b580-168ccd480170",
    "deepnote_cell_type": "markdown"
   }
  },
  {
   "cell_type": "markdown",
   "source": "*Demostración*: Supongamos que $\\alpha + \\beta \\neq 180$ eso quiere decir que $\\alpha + \\beta > 180$ o $\\alpha + \\beta < 180$. Ahora, pensemos en la linea **f** pasa por el diámetro, es decir, corta a la mitad al círculo. \n\n![](fl_t1.png)\n\nAl pasar por el diámetro sabemos que ambos lados tenemos un ángulo de $180^\\circ$. Llamemos a ese ángulo $\\Omega=180^\\circ$. Ahora, llamemos **g** a una línea que pase por otro diámetro. \n\n![](fl_t2.png)",
   "metadata": {
    "cell_id": "00027-7e3a258a-e6fc-4f6c-b813-fe8d0cd65673",
    "deepnote_cell_type": "markdown"
   }
  },
  {
   "cell_type": "markdown",
   "source": "Entonces, al seccionar con **g** tenemos nuevamente los ángulos $\\alpha$ y $\\beta$ entonces tenemos que $\\alpha + \\beta = \\Omega$ pero asumimos que $\\alpha + \\beta \\neq 180^\\circ$ lo cuyal nos lleva a una contradicción $!$ por ello lo anteior debe ser cierto.  ",
   "metadata": {
    "cell_id": "00028-38d55765-d4ad-48dc-8655-a9603a66e549",
    "deepnote_cell_type": "markdown"
   }
  },
  {
   "cell_type": "markdown",
   "source": "**Corolario.** Cuando dos líneas se intersectan los ángulos opuestos entre ellos son iguales.\n\n![](fl_2.png)",
   "metadata": {
    "cell_id": "00029-76ab6ac2-e628-4d3f-b938-013386287f1d",
    "deepnote_cell_type": "markdown"
   }
  },
  {
   "cell_type": "markdown",
   "source": "*Demostración:* Sabemos que $\\beta + \\alpha = 180^\\circ$ entonces $\\alpha = 180^\\circ - \\beta$. Por otro lado, sabemos que también $\\gamma + \\beta = 180^\\circ$ así pues $\\gamma = 180^\\circ - \\beta$. Juntando lo anteior tenemos que:\n\n$$\n\\alpha  =  180^\\circ - \\beta = \\gamma\n$$\n\nLo mismo es posible aplicarse para $\\beta$ y $\\delta$. **QED**. ",
   "metadata": {
    "cell_id": "00030-3bee1ec7-b120-4c38-ae54-6f32179831f6",
    "deepnote_cell_type": "markdown"
   }
  },
  {
   "cell_type": "markdown",
   "source": "Ya explorados los teoremas y los corolarios veamos la siguiente proposición:  \n\n**Proposición:** Una función definida como el producto punto de sus argumentos y algún vector fijo es lineal. Lo inverso es también verdadero: si una función es lineal entonces puede ser expresada como el producto interno de sus argumentos y algún vector fijo.",
   "metadata": {
    "cell_id": "00031-06f2aa44-2eda-44c4-8f22-209ab5293b13",
    "deepnote_cell_type": "markdown"
   }
  },
  {
   "cell_type": "markdown",
   "source": "Ahora, sea $f$ una función escalar de $n$-vectores que además es lineal. Entonces decimos que _existe_ un $n$-vector $\\mathbf{a}$ tal que $f(\\mathbf{x}) = \\mathbf{a}^{T}\\mathbf{x}$ para cualquier $\\mathbf{x}$. A la expresión $\\mathbf{a}^{T}\\mathbf{x}$ le llamaremos *representación producto punto* de $f$. ",
   "metadata": {
    "cell_id": "00032-bc2f7013-595f-408d-8547-e54276af2ba4",
    "deepnote_cell_type": "markdown"
   }
  },
  {
   "cell_type": "markdown",
   "source": "Otra propiedad interesante es que la *representación producto punto* de $f$ como $\\mathbf{a}^{T}\\mathbf{x}$ es única. ",
   "metadata": {
    "cell_id": "00033-7ad03f8e-b769-40d2-b535-59836e5b7d63",
    "deepnote_cell_type": "markdown"
   }
  },
  {
   "cell_type": "markdown",
   "source": "$ f(\\mathbf{x}) = \\displaystyle\\sum_{i}^{n-1} x_{i}$ si n=4 esto lo podemos expresar como $f(\\mathbf{x}) = \\mathbf{a}^{T}\\mathbf{x}$ donde:\n$$\na^T = [1,1,1,1]\n$$",
   "metadata": {
    "cell_id": "00034-6b0676c4-c820-4e15-bb69-0929fc718a65",
    "deepnote_cell_type": "markdown"
   }
  },
  {
   "cell_type": "markdown",
   "source": "**Promedio.** El promedio de una $n$-vector es definida como\n\n$$\nf(x) = (x_{0}+x_{1}+\\cdots+x_{n-1})/n\n$$\n\nY se denota como $\\mathbf{avg}(x)$, notemos que este $\\mathbf{avg}(x) = a^{T}x$ con\n\n$$\na^T = [1/n\\; 1/n\\; \\cdots \\; 1/n] = \\mathbf{1}/n\n$$",
   "metadata": {
    "cell_id": "00035-80332bb2-a25d-4808-85e5-97f69478651b",
    "deepnote_cell_type": "markdown"
   }
  },
  {
   "cell_type": "markdown",
   "source": "**Máximo.** Para $n$-vectores $x$ la función que nos da el máximo coeficiente de un vector es $f(x)=max\\{x_{0},x_{1},\\dots,x_{n-1}\\}$ y no es lineal. Para demostrar esto voy a suponer que es lineal y dar un contraejemplo. Si tomamos $x^T = [1,-1]$ y $y^T=[-1,1]$ con $\\alpha = 1/2$ y $\\beta = 1/2$. Entonces tenemos que:\n\n$$\nf(\\alpha x + \\beta y) = 0 \\neq \\alpha f(x) + \\beta f(y) = 1\n$$",
   "metadata": {
    "cell_id": "00036-7c2b86be-625b-47f3-9921-a277aba00f6a",
    "deepnote_cell_type": "markdown"
   }
  },
  {
   "cell_type": "code",
   "metadata": {
    "cell_id": "00037-6923eace-56ac-47e7-b14a-8b50beda23e3",
    "deepnote_cell_type": "code"
   },
   "source": "def MAX(x):\n    return np.max(x)",
   "outputs": [],
   "execution_count": null
  },
  {
   "cell_type": "code",
   "metadata": {
    "cell_id": "00038-3c2b435b-e43e-42b6-8bbe-d448646bacb0",
    "deepnote_cell_type": "code"
   },
   "source": "print('MAX([1,0,2]) = ', MAX(np.array([1,0,2])))",
   "outputs": [
    {
     "name": "stdout",
     "output_type": "stream",
     "text": "MAX([1,0,2]) =  2\n"
    }
   ],
   "execution_count": null
  },
  {
   "cell_type": "code",
   "metadata": {
    "cell_id": "00039-6fe36cc7-d6d6-44ae-9f9c-fb9c7b4dcacc",
    "deepnote_cell_type": "code"
   },
   "source": "x = np.array([1,-1])\ny = np.array([-1,1])\na,b = 1/2, 1/2",
   "outputs": [],
   "execution_count": null
  },
  {
   "cell_type": "code",
   "metadata": {
    "cell_id": "00040-24a5ecb1-3e63-4fa5-bd61-dc1ff91d084c",
    "deepnote_cell_type": "code"
   },
   "source": "print('MAX(a*x + b*y) = ', MAX(a*x + b*y))",
   "outputs": [
    {
     "name": "stdout",
     "output_type": "stream",
     "text": "MAX(a*x + b*y) =  0.0\n"
    }
   ],
   "execution_count": null
  },
  {
   "cell_type": "code",
   "metadata": {
    "cell_id": "00041-b230739d-4b29-4d11-a6d7-8a5850251075",
    "deepnote_cell_type": "code"
   },
   "source": "print('a*MAX(x) + b*MAX(y) = ', a*MAX(x) + b*MAX(y))",
   "outputs": [
    {
     "name": "stdout",
     "output_type": "stream",
     "text": "a*MAX(x) + b*MAX(y) =  1.0\n"
    }
   ],
   "execution_count": null
  },
  {
   "cell_type": "markdown",
   "source": "## 5.2 Algunas consideraciones",
   "metadata": {
    "cell_id": "00042-a3565fc5-7fc6-4610-8360-df318ba04110",
    "deepnote_cell_type": "markdown"
   }
  },
  {
   "cell_type": "markdown",
   "source": "**Funciones Afines.** Una función $f:\\mathbb{R}^{n} \\to \\mathbb{R}$ es afín si y solo si puede ser expresada como $f(x) = a^{T}x + b$ para algún $n$-vector $a$ y un escalar $b$, es llamado algunas veces *offset* o *bias*. Por ejemplo si consideramos la siguiente función:\n\n$$\nf(x) = 3 + x_{0}+x_{1}+x_{2}\n$$\n\nLa podemos representar como \n\n$$\nf(x) = a^T x + b = [1 \\; 1 \\; 1] x + 3\n$$",
   "metadata": {
    "cell_id": "00043-5ec9b8ad-e144-428a-9c90-5c8c807c4068",
    "deepnote_cell_type": "markdown"
   }
  },
  {
   "cell_type": "markdown",
   "source": "Una función afín cumplirá la **superposición** si y solo si la suma de los coeficientes de la combinación lineal es uno. Es decir, si $f$ es una función afín entonces $f(\\alpha x + \\beta y) = \\alpha f(x)+ \\beta f(y)$ si y solo si $  \\alpha + \\beta = 1$.\n\n*Demostración.* Como $f$ es afín tenemos que $f(x)=a^T x + b$  entonces, usando que $  \\alpha + \\beta = 1$\n\n$$\nf(\\alpha x + \\beta y) = a^T (\\alpha x + \\beta y) + b\n$$\n$$\nf(\\alpha x + \\beta y) = a^T \\alpha x + a^T \\beta y + (\\alpha + \\beta) b\n$$\n$$\nf(\\alpha x + \\beta y) = \\alpha a^T x + \\alpha b + \\beta a^T y + \\beta b\n$$\n$$\nf(\\alpha x + \\beta y) = \\alpha (a^T x + b) + \\beta (a^T y + b)\n$$\n$$\nf(\\alpha x + \\beta y) = \\alpha f(x) + \\beta f(y)\n$$",
   "metadata": {
    "cell_id": "00044-b7fe1b93-fa7a-4a1f-a8a5-54d6495b72f6",
    "deepnote_cell_type": "markdown"
   }
  },
  {
   "cell_type": "markdown",
   "source": "**Ejercicio.** Determina si las siguientes funciones son lineales o no:\n* $f(\\mathbf{x}) = x_{n-1} - x_{0}$\n\n* Si $\\mathbf{x}\\in\\mathbb{R}^{4}$ y $f:\\mathbb{R}^{4} \\to \\mathbb{R}$ definida como $f(\\mathbf{x})=x_{3}+(x_{3}-x_{2})$",
   "metadata": {
    "cell_id": "00045-16824ae6-a63f-40df-bb3b-a1ff90d8f6ab",
    "deepnote_cell_type": "markdown"
   }
  },
  {
   "cell_type": "markdown",
   "source": "**Problema: Potencia en un clúster de procesadores y temperatura.** La temperatura $T$ de un cluster de tres procesadores es una función afín de la potencia de los procesadores $P^T = [P_{0}\\; P_{1}\\; P_{2}]$. Cuando los tres procesadores están en reposo tenemos que $P^T = [10\\; 10\\; 10]$ lo cual nos da una temperatura de $T=35$. Cuando el primer procesador opera a potencia absoluta tenemos que $P^T = [100\\; 10\\; 10]$ y la temperatura se eleva a $T=60$. Cuando el segundo procesador opera a su máxima capacidad tenemos $P^T = [10\\; 100\\; 10]$ y la temperatura se eleva a $T=75$. Cuando el tercer procesador opera a máxima potencia mientras que los otros dos están en reposo tenemos que $P^T = [10\\; 10\\; 100]$ y la temperatura se elevea a $T=65$. Supongamos que los tres procesadores operan a máxima potencia ¿Qué temperatura se alcanza? La temperatura de fusión de los procesadores (a la que los procesadores se derriten) es cerca de $150$ ¿Cuál es la potencia máxima que pueden alcanzar los procesadores para que $T\\le 150$?  \n*Hint:* $T(P) = a^T P + b$",
   "metadata": {
    "cell_id": "00046-5781a74f-17b1-4b60-9472-75b2275cb1d4",
    "deepnote_cell_type": "markdown"
   }
  },
  {
   "cell_type": "markdown",
   "source": "<a style='text-decoration:none;line-height:16px;display:flex;color:#5B5B62;padding:10px;justify-content:end;' href='https://deepnote.com?utm_source=created-in-deepnote-cell&projectId=b06e2ad7-2e73-4529-91c1-8e44f8b5881a' target=\"_blank\">\n<img alt='Created in deepnote.com' style='display:inline;max-height:16px;margin:0px;margin-right:7.5px;' src='data:image/svg+xml;base64,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' > </img>\nCreated in <span style='font-weight:600;margin-left:4px;'>Deepnote</span></a>",
   "metadata": {
    "tags": [],
    "created_in_deepnote_cell": true,
    "deepnote_cell_type": "markdown"
   }
  }
 ],
 "nbformat": 4,
 "nbformat_minor": 4,
 "metadata": {
  "kernelspec": {
   "display_name": "Python 3",
   "language": "python",
   "name": "python3"
  },
  "language_info": {
   "codemirror_mode": {
    "name": "ipython",
    "version": 3
   },
   "file_extension": ".py",
   "mimetype": "text/x-python",
   "name": "python",
   "nbconvert_exporter": "python",
   "pygments_lexer": "ipython3",
   "version": "3.7.3"
  },
  "deepnote_notebook_id": "1aa2ce82-3192-4306-839e-6497f5d9a709",
  "deepnote": {},
  "deepnote_execution_queue": []
 }
}