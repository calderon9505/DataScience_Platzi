{
 "cells": [
  {
   "cell_type": "markdown",
   "metadata": {},
   "source": [
    "# Transposición"
   ]
  },
  {
   "cell_type": "code",
   "execution_count": 62,
   "metadata": {},
   "outputs": [],
   "source": [
    "import numpy as np"
   ]
  },
  {
   "cell_type": "code",
   "execution_count": 63,
   "metadata": {},
   "outputs": [],
   "source": [
    "escalar = 2\n",
    "vector = np.array([3,4,5,6])\n",
    "matriz = np.array([[1,2],[3,4],[5,6]])\n",
    "tensor = np.array([\n",
    "    [[1,2,3,30],[4,5,6,31],[7,8,9,32]],\n",
    "    [[11,12,13,33],[14,15,16,34],[17,18,19,35]]\n",
    "])"
   ]
  },
  {
   "cell_type": "code",
   "execution_count": 64,
   "metadata": {},
   "outputs": [
    {
     "name": "stdout",
     "output_type": "stream",
     "text": [
      "[3 4 5 6]\n"
     ]
    }
   ],
   "source": [
    "vector_t = vector.T\n",
    "print(vector_t)"
   ]
  },
  {
   "cell_type": "code",
   "execution_count": 65,
   "metadata": {},
   "outputs": [
    {
     "name": "stdout",
     "output_type": "stream",
     "text": [
      "[[1 3 5]\n",
      " [2 4 6]]\n",
      "(3, 2)\n",
      "(2, 3)\n"
     ]
    }
   ],
   "source": [
    "matriz_t = matriz.T\n",
    "print(matriz_t)\n",
    "print(matriz.shape)\n",
    "print(matriz_t.shape)"
   ]
  },
  {
   "cell_type": "code",
   "execution_count": 66,
   "metadata": {},
   "outputs": [
    {
     "name": "stdout",
     "output_type": "stream",
     "text": [
      "[[[ 1 11]\n",
      "  [ 4 14]\n",
      "  [ 7 17]]\n",
      "\n",
      " [[ 2 12]\n",
      "  [ 5 15]\n",
      "  [ 8 18]]\n",
      "\n",
      " [[ 3 13]\n",
      "  [ 6 16]\n",
      "  [ 9 19]]\n",
      "\n",
      " [[30 33]\n",
      "  [31 34]\n",
      "  [32 35]]]\n"
     ]
    }
   ],
   "source": [
    "tensor_t = tensor.T\n",
    "print(tensor_t)"
   ]
  },
  {
   "cell_type": "code",
   "execution_count": 67,
   "metadata": {},
   "outputs": [
    {
     "name": "stdout",
     "output_type": "stream",
     "text": [
      "[[[ 1  2  3 30]\n",
      "  [ 4  5  6 31]\n",
      "  [ 7  8  9 32]]\n",
      "\n",
      " [[11 12 13 33]\n",
      "  [14 15 16 34]\n",
      "  [17 18 19 35]]]\n"
     ]
    }
   ],
   "source": [
    "print(tensor)"
   ]
  },
  {
   "cell_type": "code",
   "execution_count": 68,
   "metadata": {},
   "outputs": [
    {
     "name": "stdout",
     "output_type": "stream",
     "text": [
      "(2, 3, 4)\n",
      "(4, 3, 2)\n"
     ]
    }
   ],
   "source": [
    "print(tensor.shape)\n",
    "print(tensor_t.shape)"
   ]
  },
  {
   "cell_type": "markdown",
   "metadata": {},
   "source": [
    "## Transposición de una transposición"
   ]
  },
  {
   "cell_type": "code",
   "execution_count": 69,
   "metadata": {},
   "outputs": [
    {
     "name": "stdout",
     "output_type": "stream",
     "text": [
      "[[1 2]\n",
      " [3 4]\n",
      " [5 6]]\n"
     ]
    }
   ],
   "source": [
    "matriz_t_t = matriz_t.T\n",
    "print(matriz_t_t)"
   ]
  },
  {
   "cell_type": "code",
   "execution_count": 70,
   "metadata": {},
   "outputs": [
    {
     "name": "stdout",
     "output_type": "stream",
     "text": [
      "[[1 2]\n",
      " [3 4]\n",
      " [5 6]]\n"
     ]
    }
   ],
   "source": [
    "print(matriz)"
   ]
  },
  {
   "cell_type": "markdown",
   "metadata": {},
   "source": [
    "# Suma de matrices\n",
    "\n",
    "deben ser del mismo tamaño"
   ]
  },
  {
   "cell_type": "code",
   "execution_count": 71,
   "metadata": {},
   "outputs": [],
   "source": [
    "A = matriz\n",
    "B = matriz_t"
   ]
  },
  {
   "cell_type": "code",
   "execution_count": 72,
   "metadata": {},
   "outputs": [
    {
     "name": "stdout",
     "output_type": "stream",
     "text": [
      "[[1 2]\n",
      " [3 4]\n",
      " [5 6]]\n",
      "[[6 5]\n",
      " [4 3]\n",
      " [2 1]]\n",
      "[[7 7]\n",
      " [7 7]\n",
      " [7 7]]\n"
     ]
    }
   ],
   "source": [
    "A = np.array([[1,2],[3,4],[5,6]])\n",
    "B = np.array([[6,5],[4,3],[2,1]])\n",
    "C = A+B\n",
    "print(A)\n",
    "print(B)\n",
    "print(C)"
   ]
  },
  {
   "cell_type": "code",
   "execution_count": 73,
   "metadata": {},
   "outputs": [
    {
     "name": "stdout",
     "output_type": "stream",
     "text": [
      "[[3 4]\n",
      " [5 6]\n",
      " [7 8]]\n"
     ]
    }
   ],
   "source": [
    "D = A + escalar\n",
    "print(D)"
   ]
  },
  {
   "cell_type": "code",
   "execution_count": null,
   "metadata": {},
   "outputs": [],
   "source": []
  }
 ],
 "metadata": {
  "kernelspec": {
   "display_name": "Python 3",
   "language": "python",
   "name": "python3"
  },
  "language_info": {
   "codemirror_mode": {
    "name": "ipython",
    "version": 3
   },
   "file_extension": ".py",
   "mimetype": "text/x-python",
   "name": "python",
   "nbconvert_exporter": "python",
   "pygments_lexer": "ipython3",
   "version": "3.7.11"
  }
 },
 "nbformat": 4,
 "nbformat_minor": 2
}
