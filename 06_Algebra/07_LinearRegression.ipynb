{
 "cells": [
  {
   "cell_type": "markdown",
   "source": "# 7. Regresión lineal",
   "metadata": {
    "cell_id": "00000-7a995485-80d6-4de9-b805-7eb17593af41",
    "deepnote_cell_type": "markdown"
   }
  },
  {
   "cell_type": "markdown",
   "source": "Usaremos la función afín:\n\n$$\n\\hat{y} = \\mathbf{x}^{T}\\boldsymbol{\\beta} + v\n$$\n\nEsta función es llamada un **modelo de regresión**. En este caso las entradas de $\\mathbf{x}$ son llamadas *regresores* y a $\\hat{y}$ se le llama *predicción*. Hay que notar que la regresión es un modelo, nos estamos aproximando a estimar nuestra variable dependiente $y$, algunas veces llamada también *label*, *etiqueta* o *resultado esperado*. ",
   "metadata": {
    "cell_id": "00001-e32015d9-0825-4955-805b-8d8b72dc2bae",
    "deepnote_cell_type": "markdown"
   }
  },
  {
   "cell_type": "markdown",
   "source": "Al vector $\\mathbf{\\beta}$ se le denomina el *vector de pesos* mientras que el escalar $v$ es llamado el offset o bias. En conjunto $v$ y $\\beta$ son los parámetros de la regresión. Recordamos que la notación $\\hat{y}$ es usando para enfatizar que es un estimado o prediccción del resultado esperado $y$. ",
   "metadata": {
    "cell_id": "00002-dc8841b1-1056-48cf-a587-f96d8ade3b29",
    "deepnote_cell_type": "markdown"
   }
  },
  {
   "cell_type": "markdown",
   "source": "## 7.1 Notación simplificada de un modelo de regresión. ",
   "metadata": {
    "cell_id": "00003-c0b0ed50-9c19-407e-ae79-99537dc9b1fe",
    "deepnote_cell_type": "markdown"
   }
  },
  {
   "cell_type": "markdown",
   "source": "La concatenación de vectores nos puede ayudar a expresar de manera más sencilla la ecuación de regresión. Notemos que podemos definir el $(n+1)$-vector $\\boldsymbol{\\tilde{\\beta}}^{T} = [v\\; \\boldsymbol{\\beta}]$ y de igual forma el $(n+1)$-vector $\\mathbf{\\widetilde{x}}^{T} = [1 \\; \\boldsymbol{x}]$ de manera que:\n\n$$\n\\hat{y} = \\mathbf{x}^{T}\\boldsymbol{\\beta} + v = \\begin{bmatrix}1\\\\ \\mathbf{x}\\end{bmatrix}^{T} \\begin{bmatrix} v\\\\\\boldsymbol{\\beta}  \\end{bmatrix} = \\mathbf{\\widetilde{x}}^{T} \\boldsymbol{\\widetilde{\\beta}}\n$$\n\nPor simplicidad algunas veces solamente se escribe $\\hat{y}=\\mathbf{x}^{T}\\boldsymbol{\\beta}$ sobreentendiendo nuestra construcción. ",
   "metadata": {
    "cell_id": "00004-8b098597-4ee7-4786-902b-e9985a201572",
    "deepnote_cell_type": "markdown"
   }
  },
  {
   "cell_type": "markdown",
   "source": "## 7.2 Un ejemplo de regresión. ",
   "metadata": {
    "cell_id": "00005-502a845f-fcf6-462a-8331-07968c372f71",
    "deepnote_cell_type": "markdown"
   }
  },
  {
   "cell_type": "markdown",
   "source": "Vamos a considerar el siguiente ejemplo donde vamos a analizar una base de datos del *GOLDEN OAK RESEARCH GROUP*. Nuestra variable dependiente serán el ingreso promedio por casa y nuestros regresores serán simplemente la latitud y la longitud. \n\nPara poder cargar la base vamos a importar en conjunto a numpy también **pandas** la cual es una biblioteca de manejo y manipulación de bases de datos tomando como bases sus objetos *dataframe*. ",
   "metadata": {
    "cell_id": "00006-b78c7ad1-6008-461d-8008-c5d76c25e220",
    "deepnote_cell_type": "markdown"
   }
  },
  {
   "cell_type": "code",
   "metadata": {
    "cell_id": "00007-0454cf30-cab5-4598-b3a0-3bfea566d421",
    "deepnote_to_be_reexecuted": false,
    "source_hash": "46c7d7a",
    "execution_start": 1636410569770,
    "execution_millis": 603,
    "deepnote_cell_type": "code"
   },
   "source": "import matplotlib.pyplot as plt # Para poder realizar visualizaciones\nimport pandas as pd # Para poder acceder a pandas\nimport numpy as np # Para poder tener vectores",
   "execution_count": null,
   "outputs": []
  },
  {
   "cell_type": "code",
   "metadata": {
    "cell_id": "00008-abd89e7d-7361-4ea8-b6ed-1ee5aa8e147c",
    "deepnote_to_be_reexecuted": false,
    "source_hash": "c05e3f6d",
    "execution_start": 1636410570382,
    "execution_millis": 119,
    "deepnote_cell_type": "code"
   },
   "source": "df = pd.read_csv('income_db_GORG.csv')",
   "execution_count": null,
   "outputs": []
  },
  {
   "cell_type": "code",
   "metadata": {
    "cell_id": "00009-6a95afbc-c45d-49d9-8dad-9ff2282b3953",
    "deepnote_to_be_reexecuted": false,
    "source_hash": "838c0c28",
    "execution_start": 1636410570567,
    "execution_millis": 43,
    "is_output_hidden": true,
    "deepnote_cell_type": "code"
   },
   "source": "df.tail()",
   "execution_count": null,
   "outputs": [
    {
     "output_type": "execute_result",
     "execution_count": 3,
     "data": {
      "application/vnd.deepnote.dataframe.v2+json": {
       "row_count": 5,
       "column_count": 19,
       "columns": [
        {
         "name": "id",
         "dtype": "int64",
         "stats": {
          "unique_count": 5,
          "nan_count": 0,
          "min": "720296",
          "max": "7202996",
          "histogram": [
           {
            "bin_start": 720296,
            "bin_end": 1368566,
            "count": 1
           },
           {
            "bin_start": 1368566,
            "bin_end": 2016836,
            "count": 0
           },
           {
            "bin_start": 2016836,
            "bin_end": 2665106,
            "count": 0
           },
           {
            "bin_start": 2665106,
            "bin_end": 3313376,
            "count": 0
           },
           {
            "bin_start": 3313376,
            "bin_end": 3961646,
            "count": 0
           },
           {
            "bin_start": 3961646,
            "bin_end": 4609916,
            "count": 0
           },
           {
            "bin_start": 4609916,
            "bin_end": 5258186,
            "count": 0
           },
           {
            "bin_start": 5258186,
            "bin_end": 5906456,
            "count": 0
           },
           {
            "bin_start": 5906456,
            "bin_end": 6554726,
            "count": 0
           },
           {
            "bin_start": 6554726,
            "bin_end": 7202996,
            "count": 4
           }
          ]
         }
        },
        {
         "name": "State_Code",
         "dtype": "int64",
         "stats": {
          "unique_count": 1,
          "nan_count": 0,
          "min": "72",
          "max": "72",
          "histogram": [
           {
            "bin_start": 71.5,
            "bin_end": 71.6,
            "count": 0
           },
           {
            "bin_start": 71.6,
            "bin_end": 71.7,
            "count": 0
           },
           {
            "bin_start": 71.7,
            "bin_end": 71.8,
            "count": 0
           },
           {
            "bin_start": 71.8,
            "bin_end": 71.9,
            "count": 0
           },
           {
            "bin_start": 71.9,
            "bin_end": 72,
            "count": 0
           },
           {
            "bin_start": 72,
            "bin_end": 72.1,
            "count": 5
           },
           {
            "bin_start": 72.1,
            "bin_end": 72.2,
            "count": 0
           },
           {
            "bin_start": 72.2,
            "bin_end": 72.3,
            "count": 0
           },
           {
            "bin_start": 72.3,
            "bin_end": 72.4,
            "count": 0
           },
           {
            "bin_start": 72.4,
            "bin_end": 72.5,
            "count": 0
           }
          ]
         }
        },
        {
         "name": "State_Name",
         "dtype": "object",
         "stats": {
          "unique_count": 1,
          "nan_count": 0,
          "categories": [
           {
            "name": "Puerto Rico",
            "count": 5
           }
          ]
         }
        },
        {
         "name": "State_ab",
         "dtype": "object",
         "stats": {
          "unique_count": 1,
          "nan_count": 0,
          "categories": [
           {
            "name": "PR",
            "count": 5
           }
          ]
         }
        },
        {
         "name": "County",
         "dtype": "object",
         "stats": {
          "unique_count": 1,
          "nan_count": 0,
          "categories": [
           {
            "name": "Adjuntas Municipio",
            "count": 5
           }
          ]
         }
        },
        {
         "name": "City",
         "dtype": "object",
         "stats": {
          "unique_count": 3,
          "nan_count": 0,
          "categories": [
           {
            "name": "Aguada",
            "count": 3
           },
           {
            "name": "Guaynabo",
            "count": 1
           },
           {
            "name": "Aguadilla",
            "count": 1
           }
          ]
         }
        },
        {
         "name": "Place",
         "dtype": "object",
         "stats": {
          "unique_count": 1,
          "nan_count": 0,
          "categories": [
           {
            "name": "Adjuntas",
            "count": 5
           }
          ]
         }
        },
        {
         "name": "Type",
         "dtype": "object",
         "stats": {
          "unique_count": 1,
          "nan_count": 0,
          "categories": [
           {
            "name": "Track",
            "count": 5
           }
          ]
         }
        },
        {
         "name": "Primary",
         "dtype": "object",
         "stats": {
          "unique_count": 1,
          "nan_count": 0,
          "categories": [
           {
            "name": "Track",
            "count": 5
           }
          ]
         }
        },
        {
         "name": "Zip_Code",
         "dtype": "int64",
         "stats": {
          "unique_count": 3,
          "nan_count": 0,
          "min": "602",
          "max": "970",
          "histogram": [
           {
            "bin_start": 602,
            "bin_end": 638.8,
            "count": 4
           },
           {
            "bin_start": 638.8,
            "bin_end": 675.6,
            "count": 0
           },
           {
            "bin_start": 675.6,
            "bin_end": 712.4,
            "count": 0
           },
           {
            "bin_start": 712.4,
            "bin_end": 749.2,
            "count": 0
           },
           {
            "bin_start": 749.2,
            "bin_end": 786,
            "count": 0
           },
           {
            "bin_start": 786,
            "bin_end": 822.8,
            "count": 0
           },
           {
            "bin_start": 822.8,
            "bin_end": 859.5999999999999,
            "count": 0
           },
           {
            "bin_start": 859.5999999999999,
            "bin_end": 896.4,
            "count": 0
           },
           {
            "bin_start": 896.4,
            "bin_end": 933.2,
            "count": 0
           },
           {
            "bin_start": 933.2,
            "bin_end": 970,
            "count": 1
           }
          ]
         }
        },
        {
         "name": "Area_Code",
         "dtype": "object",
         "stats": {
          "unique_count": 1,
          "nan_count": 0,
          "categories": [
           {
            "name": "787",
            "count": 5
           }
          ]
         }
        },
        {
         "name": "ALand",
         "dtype": "int64",
         "stats": {
          "unique_count": 5,
          "nan_count": 0,
          "min": "0",
          "max": "11031227",
          "histogram": [
           {
            "bin_start": 0,
            "bin_end": 1103122.7,
            "count": 2
           },
           {
            "bin_start": 1103122.7,
            "bin_end": 2206245.4,
            "count": 1
           },
           {
            "bin_start": 2206245.4,
            "bin_end": 3309368.0999999996,
            "count": 0
           },
           {
            "bin_start": 3309368.0999999996,
            "bin_end": 4412490.8,
            "count": 0
           },
           {
            "bin_start": 4412490.8,
            "bin_end": 5515613.5,
            "count": 0
           },
           {
            "bin_start": 5515613.5,
            "bin_end": 6618736.199999999,
            "count": 1
           },
           {
            "bin_start": 6618736.199999999,
            "bin_end": 7721858.899999999,
            "count": 0
           },
           {
            "bin_start": 7721858.899999999,
            "bin_end": 8824981.6,
            "count": 0
           },
           {
            "bin_start": 8824981.6,
            "bin_end": 9928104.299999999,
            "count": 0
           },
           {
            "bin_start": 9928104.299999999,
            "bin_end": 11031227,
            "count": 1
           }
          ]
         }
        },
        {
         "name": "AWater",
         "dtype": "int64",
         "stats": {
          "unique_count": 5,
          "nan_count": 0,
          "min": "0",
          "max": "33597561",
          "histogram": [
           {
            "bin_start": 0,
            "bin_end": 3359756.1,
            "count": 4
           },
           {
            "bin_start": 3359756.1,
            "bin_end": 6719512.2,
            "count": 0
           },
           {
            "bin_start": 6719512.2,
            "bin_end": 10079268.3,
            "count": 0
           },
           {
            "bin_start": 10079268.3,
            "bin_end": 13439024.4,
            "count": 0
           },
           {
            "bin_start": 13439024.4,
            "bin_end": 16798780.5,
            "count": 0
           },
           {
            "bin_start": 16798780.5,
            "bin_end": 20158536.6,
            "count": 0
           },
           {
            "bin_start": 20158536.6,
            "bin_end": 23518292.7,
            "count": 0
           },
           {
            "bin_start": 23518292.7,
            "bin_end": 26878048.8,
            "count": 0
           },
           {
            "bin_start": 26878048.8,
            "bin_end": 30237804.900000002,
            "count": 0
           },
           {
            "bin_start": 30237804.900000002,
            "bin_end": 33597561,
            "count": 1
           }
          ]
         }
        },
        {
         "name": "Lat",
         "dtype": "float64",
         "stats": {
          "unique_count": 5,
          "nan_count": 0,
          "min": "18.3565654",
          "max": "18.4780938",
          "histogram": [
           {
            "bin_start": 18.3565654,
            "bin_end": 18.36871824,
            "count": 1
           },
           {
            "bin_start": 18.36871824,
            "bin_end": 18.380871080000002,
            "count": 0
           },
           {
            "bin_start": 18.380871080000002,
            "bin_end": 18.39302392,
            "count": 1
           },
           {
            "bin_start": 18.39302392,
            "bin_end": 18.40517676,
            "count": 1
           },
           {
            "bin_start": 18.40517676,
            "bin_end": 18.417329600000002,
            "count": 1
           },
           {
            "bin_start": 18.417329600000002,
            "bin_end": 18.42948244,
            "count": 0
           },
           {
            "bin_start": 18.42948244,
            "bin_end": 18.44163528,
            "count": 0
           },
           {
            "bin_start": 18.44163528,
            "bin_end": 18.45378812,
            "count": 0
           },
           {
            "bin_start": 18.45378812,
            "bin_end": 18.46594096,
            "count": 0
           },
           {
            "bin_start": 18.46594096,
            "bin_end": 18.4780938,
            "count": 1
           }
          ]
         }
        },
        {
         "name": "Lon",
         "dtype": "float64",
         "stats": {
          "unique_count": 5,
          "nan_count": 0,
          "min": "-67.2134127",
          "max": "-66.1306331",
          "histogram": [
           {
            "bin_start": -67.2134127,
            "bin_end": -67.10513474000001,
            "count": 4
           },
           {
            "bin_start": -67.10513474000001,
            "bin_end": -66.99685678,
            "count": 0
           },
           {
            "bin_start": -66.99685678,
            "bin_end": -66.88857882,
            "count": 0
           },
           {
            "bin_start": -66.88857882,
            "bin_end": -66.78030086,
            "count": 0
           },
           {
            "bin_start": -66.78030086,
            "bin_end": -66.6720229,
            "count": 0
           },
           {
            "bin_start": -66.6720229,
            "bin_end": -66.56374494,
            "count": 0
           },
           {
            "bin_start": -66.56374494,
            "bin_end": -66.45546698,
            "count": 0
           },
           {
            "bin_start": -66.45546698,
            "bin_end": -66.34718902,
            "count": 0
           },
           {
            "bin_start": -66.34718902,
            "bin_end": -66.23891105999999,
            "count": 0
           },
           {
            "bin_start": -66.23891105999999,
            "bin_end": -66.1306331,
            "count": 1
           }
          ]
         }
        },
        {
         "name": "Mean",
         "dtype": "int64",
         "stats": {
          "unique_count": 5,
          "nan_count": 0,
          "min": "0",
          "max": "41933",
          "histogram": [
           {
            "bin_start": 0,
            "bin_end": 4193.3,
            "count": 1
           },
           {
            "bin_start": 4193.3,
            "bin_end": 8386.6,
            "count": 0
           },
           {
            "bin_start": 8386.6,
            "bin_end": 12579.900000000001,
            "count": 0
           },
           {
            "bin_start": 12579.900000000001,
            "bin_end": 16773.2,
            "count": 1
           },
           {
            "bin_start": 16773.2,
            "bin_end": 20966.5,
            "count": 0
           },
           {
            "bin_start": 20966.5,
            "bin_end": 25159.800000000003,
            "count": 0
           },
           {
            "bin_start": 25159.800000000003,
            "bin_end": 29353.100000000002,
            "count": 1
           },
           {
            "bin_start": 29353.100000000002,
            "bin_end": 33546.4,
            "count": 1
           },
           {
            "bin_start": 33546.4,
            "bin_end": 37739.700000000004,
            "count": 0
           },
           {
            "bin_start": 37739.700000000004,
            "bin_end": 41933,
            "count": 1
           }
          ]
         }
        },
        {
         "name": "Median",
         "dtype": "int64",
         "stats": {
          "unique_count": 5,
          "nan_count": 0,
          "min": "0",
          "max": "34054",
          "histogram": [
           {
            "bin_start": 0,
            "bin_end": 3405.4,
            "count": 1
           },
           {
            "bin_start": 3405.4,
            "bin_end": 6810.8,
            "count": 0
           },
           {
            "bin_start": 6810.8,
            "bin_end": 10216.2,
            "count": 1
           },
           {
            "bin_start": 10216.2,
            "bin_end": 13621.6,
            "count": 0
           },
           {
            "bin_start": 13621.6,
            "bin_end": 17027,
            "count": 1
           },
           {
            "bin_start": 17027,
            "bin_end": 20432.4,
            "count": 1
           },
           {
            "bin_start": 20432.4,
            "bin_end": 23837.8,
            "count": 0
           },
           {
            "bin_start": 23837.8,
            "bin_end": 27243.2,
            "count": 0
           },
           {
            "bin_start": 27243.2,
            "bin_end": 30648.600000000002,
            "count": 0
           },
           {
            "bin_start": 30648.600000000002,
            "bin_end": 34054,
            "count": 1
           }
          ]
         }
        },
        {
         "name": "Stdev",
         "dtype": "int64",
         "stats": {
          "unique_count": 5,
          "nan_count": 0,
          "min": "0",
          "max": "37977",
          "histogram": [
           {
            "bin_start": 0,
            "bin_end": 3797.7,
            "count": 1
           },
           {
            "bin_start": 3797.7,
            "bin_end": 7595.4,
            "count": 0
           },
           {
            "bin_start": 7595.4,
            "bin_end": 11393.099999999999,
            "count": 0
           },
           {
            "bin_start": 11393.099999999999,
            "bin_end": 15190.8,
            "count": 0
           },
           {
            "bin_start": 15190.8,
            "bin_end": 18988.5,
            "count": 1
           },
           {
            "bin_start": 18988.5,
            "bin_end": 22786.199999999997,
            "count": 0
           },
           {
            "bin_start": 22786.199999999997,
            "bin_end": 26583.899999999998,
            "count": 0
           },
           {
            "bin_start": 26583.899999999998,
            "bin_end": 30381.6,
            "count": 0
           },
           {
            "bin_start": 30381.6,
            "bin_end": 34179.299999999996,
            "count": 2
           },
           {
            "bin_start": 34179.299999999996,
            "bin_end": 37977,
            "count": 1
           }
          ]
         }
        },
        {
         "name": "sum_w",
         "dtype": "float64",
         "stats": {
          "unique_count": 5,
          "nan_count": 0,
          "min": "0.0",
          "max": "1321.27808221525",
          "histogram": [
           {
            "bin_start": 0,
            "bin_end": 132.127808221525,
            "count": 1
           },
           {
            "bin_start": 132.127808221525,
            "bin_end": 264.25561644305,
            "count": 1
           },
           {
            "bin_start": 264.25561644305,
            "bin_end": 396.38342466457493,
            "count": 1
           },
           {
            "bin_start": 396.38342466457493,
            "bin_end": 528.5112328861,
            "count": 1
           },
           {
            "bin_start": 528.5112328861,
            "bin_end": 660.639041107625,
            "count": 0
           },
           {
            "bin_start": 660.639041107625,
            "bin_end": 792.7668493291499,
            "count": 0
           },
           {
            "bin_start": 792.7668493291499,
            "bin_end": 924.8946575506749,
            "count": 0
           },
           {
            "bin_start": 924.8946575506749,
            "bin_end": 1057.0224657722,
            "count": 0
           },
           {
            "bin_start": 1057.0224657722,
            "bin_end": 1189.1502739937248,
            "count": 0
           },
           {
            "bin_start": 1189.1502739937248,
            "bin_end": 1321.27808221525,
            "count": 1
           }
          ]
         }
        },
        {
         "name": "_deepnote_index_column",
         "dtype": "int64"
        }
       ],
       "rows_top": [
        {
         "id": 720296,
         "State_Code": 72,
         "State_Name": "Puerto Rico",
         "State_ab": "PR",
         "County": "Adjuntas Municipio",
         "City": "Guaynabo",
         "Place": "Adjuntas",
         "Type": "Track",
         "Primary": "Track",
         "Zip_Code": 970,
         "Area_Code": "787",
         "ALand": 589417,
         "AWater": 1691,
         "Lat": 18.3979247,
         "Lon": -66.1306331,
         "Mean": 30649,
         "Median": 13729,
         "Stdev": 37977,
         "sum_w": 1321.27808221525,
         "_deepnote_index_column": 32521
        },
        {
         "id": 7202966,
         "State_Code": 72,
         "State_Name": "Puerto Rico",
         "State_ab": "PR",
         "County": "Adjuntas Municipio",
         "City": "Aguada",
         "Place": "Adjuntas",
         "Type": "Track",
         "Primary": "Track",
         "Zip_Code": 602,
         "Area_Code": "787",
         "ALand": 1801613,
         "AWater": 795887,
         "Lat": 18.3854236,
         "Lon": -67.2033096,
         "Mean": 15520,
         "Median": 9923,
         "Stdev": 15541,
         "sum_w": 238.813449927216,
         "_deepnote_index_column": 32522
        },
        {
         "id": 7202976,
         "State_Code": 72,
         "State_Name": "Puerto Rico",
         "State_ab": "PR",
         "County": "Adjuntas Municipio",
         "City": "Aguada",
         "Place": "Adjuntas",
         "Type": "Track",
         "Primary": "Track",
         "Zip_Code": 602,
         "Area_Code": "787",
         "ALand": 11031227,
         "AWater": 0,
         "Lat": 18.3565654,
         "Lon": -67.180686,
         "Mean": 41933,
         "Median": 34054,
         "Stdev": 31539,
         "sum_w": 313.551069969634,
         "_deepnote_index_column": 32523
        },
        {
         "id": 7202986,
         "State_Code": 72,
         "State_Name": "Puerto Rico",
         "State_ab": "PR",
         "County": "Adjuntas Municipio",
         "City": "Aguada",
         "Place": "Adjuntas",
         "Type": "Track",
         "Primary": "Track",
         "Zip_Code": 602,
         "Area_Code": "787",
         "ALand": 0,
         "AWater": 33597561,
         "Lat": 18.4120413,
         "Lon": -67.2134127,
         "Mean": 0,
         "Median": 0,
         "Stdev": 0,
         "sum_w": 0,
         "_deepnote_index_column": 32524
        },
        {
         "id": 7202996,
         "State_Code": 72,
         "State_Name": "Puerto Rico",
         "State_ab": "PR",
         "County": "Adjuntas Municipio",
         "City": "Aguadilla",
         "Place": "Adjuntas",
         "Type": "Track",
         "Primary": "Track",
         "Zip_Code": 603,
         "Area_Code": "787",
         "ALand": 6476604,
         "AWater": 2717115,
         "Lat": 18.4780938,
         "Lon": -67.1604529,
         "Mean": 28049,
         "Median": 20229,
         "Stdev": 33333,
         "sum_w": 512.884803170543,
         "_deepnote_index_column": 32525
        }
       ],
       "rows_bottom": null
      },
      "text/plain": "            id  State_Code   State_Name State_ab              County  \\\n32521   720296          72  Puerto Rico       PR  Adjuntas Municipio   \n32522  7202966          72  Puerto Rico       PR  Adjuntas Municipio   \n32523  7202976          72  Puerto Rico       PR  Adjuntas Municipio   \n32524  7202986          72  Puerto Rico       PR  Adjuntas Municipio   \n32525  7202996          72  Puerto Rico       PR  Adjuntas Municipio   \n\n            City     Place   Type Primary  Zip_Code Area_Code     ALand  \\\n32521   Guaynabo  Adjuntas  Track   Track       970       787    589417   \n32522     Aguada  Adjuntas  Track   Track       602       787   1801613   \n32523     Aguada  Adjuntas  Track   Track       602       787  11031227   \n32524     Aguada  Adjuntas  Track   Track       602       787         0   \n32525  Aguadilla  Adjuntas  Track   Track       603       787   6476604   \n\n         AWater        Lat        Lon   Mean  Median  Stdev        sum_w  \n32521      1691  18.397925 -66.130633  30649   13729  37977  1321.278082  \n32522    795887  18.385424 -67.203310  15520    9923  15541   238.813450  \n32523         0  18.356565 -67.180686  41933   34054  31539   313.551070  \n32524  33597561  18.412041 -67.213413      0       0      0     0.000000  \n32525   2717115  18.478094 -67.160453  28049   20229  33333   512.884803  ",
      "text/html": "<div>\n<style scoped>\n    .dataframe tbody tr th:only-of-type {\n        vertical-align: middle;\n    }\n\n    .dataframe tbody tr th {\n        vertical-align: top;\n    }\n\n    .dataframe thead th {\n        text-align: right;\n    }\n</style>\n<table border=\"1\" class=\"dataframe\">\n  <thead>\n    <tr style=\"text-align: right;\">\n      <th></th>\n      <th>id</th>\n      <th>State_Code</th>\n      <th>State_Name</th>\n      <th>State_ab</th>\n      <th>County</th>\n      <th>City</th>\n      <th>Place</th>\n      <th>Type</th>\n      <th>Primary</th>\n      <th>Zip_Code</th>\n      <th>Area_Code</th>\n      <th>ALand</th>\n      <th>AWater</th>\n      <th>Lat</th>\n      <th>Lon</th>\n      <th>Mean</th>\n      <th>Median</th>\n      <th>Stdev</th>\n      <th>sum_w</th>\n    </tr>\n  </thead>\n  <tbody>\n    <tr>\n      <th>32521</th>\n      <td>720296</td>\n      <td>72</td>\n      <td>Puerto Rico</td>\n      <td>PR</td>\n      <td>Adjuntas Municipio</td>\n      <td>Guaynabo</td>\n      <td>Adjuntas</td>\n      <td>Track</td>\n      <td>Track</td>\n      <td>970</td>\n      <td>787</td>\n      <td>589417</td>\n      <td>1691</td>\n      <td>18.397925</td>\n      <td>-66.130633</td>\n      <td>30649</td>\n      <td>13729</td>\n      <td>37977</td>\n      <td>1321.278082</td>\n    </tr>\n    <tr>\n      <th>32522</th>\n      <td>7202966</td>\n      <td>72</td>\n      <td>Puerto Rico</td>\n      <td>PR</td>\n      <td>Adjuntas Municipio</td>\n      <td>Aguada</td>\n      <td>Adjuntas</td>\n      <td>Track</td>\n      <td>Track</td>\n      <td>602</td>\n      <td>787</td>\n      <td>1801613</td>\n      <td>795887</td>\n      <td>18.385424</td>\n      <td>-67.203310</td>\n      <td>15520</td>\n      <td>9923</td>\n      <td>15541</td>\n      <td>238.813450</td>\n    </tr>\n    <tr>\n      <th>32523</th>\n      <td>7202976</td>\n      <td>72</td>\n      <td>Puerto Rico</td>\n      <td>PR</td>\n      <td>Adjuntas Municipio</td>\n      <td>Aguada</td>\n      <td>Adjuntas</td>\n      <td>Track</td>\n      <td>Track</td>\n      <td>602</td>\n      <td>787</td>\n      <td>11031227</td>\n      <td>0</td>\n      <td>18.356565</td>\n      <td>-67.180686</td>\n      <td>41933</td>\n      <td>34054</td>\n      <td>31539</td>\n      <td>313.551070</td>\n    </tr>\n    <tr>\n      <th>32524</th>\n      <td>7202986</td>\n      <td>72</td>\n      <td>Puerto Rico</td>\n      <td>PR</td>\n      <td>Adjuntas Municipio</td>\n      <td>Aguada</td>\n      <td>Adjuntas</td>\n      <td>Track</td>\n      <td>Track</td>\n      <td>602</td>\n      <td>787</td>\n      <td>0</td>\n      <td>33597561</td>\n      <td>18.412041</td>\n      <td>-67.213413</td>\n      <td>0</td>\n      <td>0</td>\n      <td>0</td>\n      <td>0.000000</td>\n    </tr>\n    <tr>\n      <th>32525</th>\n      <td>7202996</td>\n      <td>72</td>\n      <td>Puerto Rico</td>\n      <td>PR</td>\n      <td>Adjuntas Municipio</td>\n      <td>Aguadilla</td>\n      <td>Adjuntas</td>\n      <td>Track</td>\n      <td>Track</td>\n      <td>603</td>\n      <td>787</td>\n      <td>6476604</td>\n      <td>2717115</td>\n      <td>18.478094</td>\n      <td>-67.160453</td>\n      <td>28049</td>\n      <td>20229</td>\n      <td>33333</td>\n      <td>512.884803</td>\n    </tr>\n  </tbody>\n</table>\n</div>"
     },
     "metadata": {}
    }
   ]
  },
  {
   "cell_type": "markdown",
   "source": "¿Qué data contiene la base de datos?",
   "metadata": {
    "cell_id": "00010-7e8e032b-0ba1-4f92-a25d-bcc155241ecd",
    "deepnote_cell_type": "markdown"
   }
  },
  {
   "cell_type": "markdown",
   "source": "¿Qué tamaño tiene?",
   "metadata": {
    "cell_id": "00011-f5423690-99d6-456f-8af7-92a6f470cc7e",
    "deepnote_cell_type": "markdown"
   }
  },
  {
   "cell_type": "code",
   "metadata": {
    "cell_id": "00012-96e48cf3-a7a5-424b-b506-ed4eef0aba1f",
    "deepnote_to_be_reexecuted": false,
    "source_hash": "25d43fa0",
    "execution_start": 1636410570647,
    "execution_millis": 6,
    "deepnote_cell_type": "code"
   },
   "source": "df.columns",
   "execution_count": null,
   "outputs": [
    {
     "output_type": "execute_result",
     "execution_count": 4,
     "data": {
      "text/plain": "Index(['id', 'State_Code', 'State_Name', 'State_ab', 'County', 'City', 'Place',\n       'Type', 'Primary', 'Zip_Code', 'Area_Code', 'ALand', 'AWater', 'Lat',\n       'Lon', 'Mean', 'Median', 'Stdev', 'sum_w'],\n      dtype='object')"
     },
     "metadata": {}
    }
   ]
  },
  {
   "cell_type": "markdown",
   "source": "nuestros regresores en términos de columnas son:\n* Lat\n* Lon\n\nMientras que nuestra variable dependiente es:\n* Mean ",
   "metadata": {
    "cell_id": "00014-5eabfe2a-270c-4ede-9e17-ca095fad8458",
    "deepnote_cell_type": "markdown"
   }
  },
  {
   "cell_type": "markdown",
   "source": "Ahora, calcular el vector predicciones $\\hat{y}$ ya que cada valor de Lat y Lon tendrá asociado un valor de Mean y es justo el que queremos aproximar con $\\hat{y}$. Ahora, como no forma parte de este curso ya tenemos unos parámetros dados:\n\n$$\nv = 30980.48, \\qquad \\boldsymbol{\\beta} = \\begin{bmatrix}744.83 \\\\ -83.45\\end{bmatrix}\n$$\n\nCon lo cual ya podemos realizar las predicciones $\\hat{y}_{i} = \\mathbf{x}^{T}_{i} \\boldsymbol{\\beta} + v$",
   "metadata": {
    "cell_id": "00015-191bd281-290a-48fc-a78b-e9dbf14114d4",
    "deepnote_cell_type": "markdown"
   }
  },
  {
   "cell_type": "code",
   "metadata": {
    "cell_id": "00016-a5f9d8dc-54c9-40e0-856d-7d578d91f672",
    "deepnote_to_be_reexecuted": false,
    "source_hash": "9d0ab437",
    "execution_start": 1636410570648,
    "execution_millis": 0,
    "deepnote_cell_type": "code"
   },
   "source": "def pred(x):\n    beta = np.array([744.83,-83.45])\n    v = 30980.48\n    return x@beta + v",
   "execution_count": null,
   "outputs": []
  },
  {
   "cell_type": "code",
   "metadata": {
    "cell_id": "00017-8bc09d1d-b077-46b5-947e-b86f45240568",
    "deepnote_to_be_reexecuted": false,
    "source_hash": "ad356d1e",
    "execution_start": 1636410570649,
    "execution_millis": 144278,
    "deepnote_cell_type": "code"
   },
   "source": "type(df['Lat'].values)",
   "execution_count": null,
   "outputs": [
    {
     "output_type": "execute_result",
     "execution_count": 6,
     "data": {
      "text/plain": "numpy.ndarray"
     },
     "metadata": {}
    }
   ]
  },
  {
   "cell_type": "code",
   "metadata": {
    "cell_id": "00018-ed421daa-1529-43ae-993a-1dfd39e0aaa3",
    "deepnote_to_be_reexecuted": false,
    "source_hash": "5db74aec",
    "execution_start": 1636410570669,
    "execution_millis": 731086,
    "deepnote_cell_type": "code"
   },
   "source": "X = df[['Lat','Lon']].values",
   "execution_count": null,
   "outputs": []
  },
  {
   "cell_type": "code",
   "metadata": {
    "cell_id": "00019-f8d0c86c-f335-4bb7-8882-cb8c1a630956",
    "deepnote_to_be_reexecuted": false,
    "source_hash": "ab4ff8b3",
    "execution_start": 1636410570721,
    "execution_millis": 730988,
    "deepnote_cell_type": "code"
   },
   "source": "Y_hat = pred(X)",
   "execution_count": null,
   "outputs": []
  },
  {
   "cell_type": "code",
   "metadata": {
    "cell_id": "00020-70099894-ca87-4603-87b6-386352909f93",
    "deepnote_to_be_reexecuted": false,
    "source_hash": "3bfa4112",
    "execution_start": 1636410570722,
    "execution_millis": 730950,
    "deepnote_cell_type": "code"
   },
   "source": "Y = df['Mean'].values",
   "execution_count": null,
   "outputs": []
  },
  {
   "cell_type": "code",
   "metadata": {
    "cell_id": "00021-627e853f-89d6-4fba-98b2-8e3bc02e3907",
    "deepnote_to_be_reexecuted": false,
    "source_hash": "c5015773",
    "execution_start": 1636410570722,
    "execution_millis": 594,
    "deepnote_cell_type": "code"
   },
   "source": "fig, ax = plt.subplots(1,1,figsize=(7,7),dpi=120)\n\nax.scatter(Y_hat,Y,marker ='o',color='red')\nax.plot(Y,Y,ls='--')\nplt.show()",
   "execution_count": null,
   "outputs": [
    {
     "data": {
      "text/plain": "<Figure size 840x840 with 1 Axes>",
      "image/png": "[encoded data removed]"
     },
     "metadata": {
      "needs_background": "light",
      "image/png": {
       "width": 769,
       "height": 687
      }
     },
     "output_type": "display_data"
    }
   ]
  },
  {
   "cell_type": "markdown",
   "source": "¿Cómo calculamos el error?",
   "metadata": {
    "cell_id": "00022-8068ff42-d9c6-4c2f-9c9f-f05a68275465",
    "deepnote_cell_type": "markdown"
   }
  },
  {
   "cell_type": "markdown",
   "source": "## 7.3 Ejercicio. \n\nConsidera que ya no solamente usamos Lat y Lon como regresores sino también comenzamos a usar Zip_Code como regresor, ajustar ese modelo nos deja con los siguientes parámetros:\n$$\nv = 4152.02, \\qquad \\boldsymbol{\\beta} = \\begin{bmatrix}6.55490348e+02 \\\\ -5.75918372e+02 \\\\ -2.94216316e-01\\end{bmatrix}\n$$\n\n¿Mejora la preducción al introducir un nuevo regresor?",
   "metadata": {
    "cell_id": "00023-0c824213-cc92-4af9-b457-a5a1d365c7a5",
    "deepnote_cell_type": "markdown"
   }
  },
  {
   "cell_type": "code",
   "metadata": {
    "tags": [],
    "cell_id": "00023-885d563e-b178-465c-9841-11b9dfaf288a",
    "deepnote_to_be_reexecuted": false,
    "source_hash": "e5de6c36",
    "execution_start": 1636411322365,
    "execution_millis": 0,
    "deepnote_cell_type": "code"
   },
   "source": "def pred2(x):\n    beta = np.array([6.5549e2,-5.7591e2,-2.9422e1])\n    v = 4152.02\n    return x@beta + v",
   "execution_count": null,
   "outputs": []
  },
  {
   "cell_type": "code",
   "metadata": {
    "tags": [],
    "cell_id": "00024-c14bb5ea-aa1f-4fb4-abe8-956c7c80f84c",
    "deepnote_to_be_reexecuted": false,
    "source_hash": "84307f92",
    "execution_start": 1636411323919,
    "execution_millis": 2,
    "deepnote_cell_type": "code"
   },
   "source": "X2 = df[['Lat','Lon','Zip_Code']].values\nY2_hat = pred2(X2)",
   "execution_count": null,
   "outputs": []
  },
  {
   "cell_type": "code",
   "metadata": {
    "tags": [],
    "cell_id": "00025-13b81963-d1aa-4037-a23a-1998868faa88",
    "deepnote_to_be_reexecuted": false,
    "source_hash": "ee265a8",
    "execution_start": 1636411325552,
    "execution_millis": 494,
    "deepnote_cell_type": "code"
   },
   "source": "fig2, ax2 = plt.subplots(1,1,figsize=(7,7),dpi=120)\n\nax2.scatter(Y2_hat,Y,marker ='o',color='red')\nax2.plot(Y,Y,ls='--')\nplt.show()",
   "execution_count": null,
   "outputs": [
    {
     "data": {
      "text/plain": "<Figure size 840x840 with 1 Axes>",
      "image/png": "[encoded data removed]"
     },
     "metadata": {
      "needs_background": "light",
      "image/png": {
       "width": 749,
       "height": 710
      }
     },
     "output_type": "display_data"
    }
   ]
  },
  {
   "cell_type": "markdown",
   "source": "<a style='text-decoration:none;line-height:16px;display:flex;color:#5B5B62;padding:10px;justify-content:end;' href='https://deepnote.com?utm_source=created-in-deepnote-cell&projectId=b06e2ad7-2e73-4529-91c1-8e44f8b5881a' target=\"_blank\">\n<img alt='Created in deepnote.com' style='display:inline;max-height:16px;margin:0px;margin-right:7.5px;' src='data:image/svg+xml;base64,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' > </img>\nCreated in <span style='font-weight:600;margin-left:4px;'>Deepnote</span></a>",
   "metadata": {
    "tags": [],
    "created_in_deepnote_cell": true,
    "deepnote_cell_type": "markdown"
   }
  }
 ],
 "nbformat": 4,
 "nbformat_minor": 4,
 "metadata": {
  "kernelspec": {
   "display_name": "Python 3",
   "language": "python",
   "name": "python3"
  },
  "language_info": {
   "codemirror_mode": {
    "name": "ipython",
    "version": 3
   },
   "file_extension": ".py",
   "mimetype": "text/x-python",
   "name": "python",
   "nbconvert_exporter": "python",
   "pygments_lexer": "ipython3",
   "version": "3.7.3"
  },
  "deepnote_notebook_id": "9ce0871d-d78e-4a97-8250-a694154411ce",
  "deepnote": {},
  "deepnote_execution_queue": []
 }
}