{
 "cells": [
  {
   "cell_type": "markdown",
   "metadata": {},
   "source": [
    "# REGEX"
   ]
  },
  {
   "cell_type": "code",
   "execution_count": 1,
   "metadata": {},
   "outputs": [],
   "source": [
    "from re import search"
   ]
  },
  {
   "cell_type": "markdown",
   "metadata": {},
   "source": [
    "> `search()` scans the search string from left to right, and as soon as it locates a match for \\<regex\\>, it stops scanning and returns the match."
   ]
  },
  {
   "cell_type": "code",
   "execution_count": 2,
   "metadata": {},
   "outputs": [
    {
     "data": {
      "text/plain": [
       "<re.Match object; span=(3, 6), match='123'>"
      ]
     },
     "execution_count": 2,
     "metadata": {},
     "output_type": "execute_result"
    }
   ],
   "source": [
    "search('123', 'foo123bar')"
   ]
  },
  {
   "cell_type": "markdown",
   "metadata": {},
   "source": [
    "Si no existe coincidencia, retorna **None**.\n",
    "\n",
    "El objeto **Match** contiene bastante información.\n",
    "\n",
    "El objeto **Match** puede ser usado como **booleano**."
   ]
  },
  {
   "cell_type": "markdown",
   "metadata": {},
   "source": [
    "## Python Regex Metacharacters"
   ]
  },
  {
   "cell_type": "markdown",
   "metadata": {},
   "source": [
    "Character(s) | Meaning\n",
    "------------ | -------\n",
    ".   |   Matches any single character except newline\n",
    "^   |   ∙ Anchors a match at the start of a string <br>∙ Complements a character class\n",
    "$   |   Anchors a match at the end of a string\n",
    "\\*  |   Matches zero or more repetitions\n",
    "\\+  |   Matches one or more repetitions\n",
    "?   |   ∙ Matches zero or one repetition <br>∙ Specifies the non-greedy versions of *, +, and ? <br>∙ Introduces a lookahead or lookbehind assertion <br>∙ Creates a named group\n",
    "{}  |   Matches an explicitly specified number of repetitions\n",
    "\\   |   ∙ Escapes a metacharacter of its special meaning <br>∙ Introduces a special character class <br>∙ Introduces a grouping backreference\n",
    "[]  |   Specifies a character class\n",
    "|   |   Designates alternation\n",
    "()  |   Creates a group\n",
    ":<br>#<br>=<br>!   |   Designate a specialized group\n",
    "<>  |   Creates a named group\n",
    "\n",
    "It’s good practice to use a **raw string** to specify a regex in Python whenever it contains backslashes."
   ]
  },
  {
   "cell_type": "markdown",
   "metadata": {},
   "source": [
    "## Metacharacters That Match a Single Character"
   ]
  },
  {
   "cell_type": "markdown",
   "metadata": {},
   "source": [
    "### `[]`\n",
    "\n",
    "Match a Single Character\n",
    "\n",
    "Specifies a **character class**\n",
    "\n",
    "Specifies a specific set of characters to match.\n",
    "\n",
    "To include a literal `-` character it has to be at the beginning or at the end. Or escape it with a backslash `\\`\n",
    "\n",
    "To include a literal `]` character it has to be at the beginning. Or escape it with a backslash `\\`\n",
    "\n",
    "Other regex metacharacters lose their special meaning inside a character class."
   ]
  },
  {
   "cell_type": "code",
   "execution_count": 3,
   "metadata": {},
   "outputs": [
    {
     "data": {
      "text/plain": [
       "<re.Match object; span=(3, 6), match='123'>"
      ]
     },
     "execution_count": 3,
     "metadata": {},
     "output_type": "execute_result"
    }
   ],
   "source": [
    "search('[0-9][0-9][0-9]', 'foo123bar')"
   ]
  },
  {
   "cell_type": "code",
   "execution_count": 4,
   "metadata": {},
   "outputs": [
    {
     "data": {
      "text/plain": [
       "<re.Match object; span=(3, 6), match='foo'>"
      ]
     },
     "execution_count": 4,
     "metadata": {},
     "output_type": "execute_result"
    }
   ],
   "source": [
    "search('[a-z][a-z][a-z]', '123foo456')"
   ]
  },
  {
   "cell_type": "code",
   "execution_count": 5,
   "metadata": {},
   "outputs": [
    {
     "data": {
      "text/plain": [
       "<re.Match object; span=(4, 5), match='a'>"
      ]
     },
     "execution_count": 5,
     "metadata": {},
     "output_type": "execute_result"
    }
   ],
   "source": [
    "search('[0-9a-fA-f]', '--- a0A2F9 ---')\n",
    "# [0-9a-fA-F] matches any hexadecimal digit character\n",
    "# Match the first coincidence"
   ]
  },
  {
   "cell_type": "code",
   "execution_count": 6,
   "metadata": {},
   "outputs": [
    {
     "data": {
      "text/plain": [
       "<re.Match object; span=(3, 6), match='bar'>"
      ]
     },
     "execution_count": 6,
     "metadata": {},
     "output_type": "execute_result"
    }
   ],
   "source": [
    "search('ba[artz]', 'foobarqux')\n",
    "# [artz] matches any single 'a', 'r', 't', or 'z' character.\n",
    "# 'baa', 'bar', 'bat', 'baz'"
   ]
  },
  {
   "cell_type": "markdown",
   "metadata": {},
   "source": [
    "### `^`\n",
    "\n",
    "Complement a character class by specifying it as the first character.\n",
    "\n",
    "It matches any character that isn’t in the set.\n",
    "\n",
    "if isn't the first character, then it has no special meaning."
   ]
  },
  {
   "cell_type": "code",
   "execution_count": 7,
   "metadata": {},
   "outputs": [
    {
     "data": {
      "text/plain": [
       "<re.Match object; span=(5, 6), match='f'>"
      ]
     },
     "execution_count": 7,
     "metadata": {},
     "output_type": "execute_result"
    }
   ],
   "source": [
    "search('[^0-9]', '12345foo')"
   ]
  },
  {
   "cell_type": "markdown",
   "metadata": {},
   "source": [
    "### `.`\n",
    "\n",
    "A wildcard. Matches any character except a newline."
   ]
  },
  {
   "cell_type": "code",
   "execution_count": 8,
   "metadata": {},
   "outputs": [
    {
     "data": {
      "text/plain": [
       "<re.Match object; span=(3, 6), match='123'>"
      ]
     },
     "execution_count": 8,
     "metadata": {},
     "output_type": "execute_result"
    }
   ],
   "source": [
    "search('1.3', 'foo123bar')\n",
    "# '1' and '3' match literally, and the . matches the '2'.\n",
    "# Does the string contain a '1', then any character (except a newline), then a '3'?"
   ]
  },
  {
   "cell_type": "code",
   "execution_count": 9,
   "metadata": {},
   "outputs": [
    {
     "name": "stdout",
     "output_type": "stream",
     "text": [
      "None\n"
     ]
    }
   ],
   "source": [
    "print(search('1.3','foo13bar'))"
   ]
  },
  {
   "cell_type": "markdown",
   "metadata": {},
   "source": [
    "### `\\d` or `\\D`\n",
    "\n",
    "`\\d` matches any decimal digit character. Shorthand for `[0-9]`\n",
    "\n",
    "`\\D` is the opposite. Shorthand for `[^0-9]`"
   ]
  },
  {
   "cell_type": "code",
   "execution_count": 10,
   "metadata": {},
   "outputs": [
    {
     "data": {
      "text/plain": [
       "<re.Match object; span=(3, 4), match='4'>"
      ]
     },
     "execution_count": 10,
     "metadata": {},
     "output_type": "execute_result"
    }
   ],
   "source": [
    "search('\\d', 'abc4def')"
   ]
  },
  {
   "cell_type": "markdown",
   "metadata": {},
   "source": [
    "### `\\w` or `\\W`\n",
    "\n",
    "`\\w` matches any alphanumeric word character and the underscore `_`. Shorthand for `[a-zA-Z0-9_]`\n",
    "\n",
    "`\\W` is the opposite. Shorthand for `[^a-zA-Z0-9_]`\n",
    "\n",
    "`\\w` includes `\\d`"
   ]
  },
  {
   "cell_type": "code",
   "execution_count": 11,
   "metadata": {},
   "outputs": [
    {
     "name": "stdout",
     "output_type": "stream",
     "text": [
      "<re.Match object; span=(4, 5), match='_'>\n"
     ]
    }
   ],
   "source": [
    "print(search('\\w','#()._$@&'))"
   ]
  },
  {
   "cell_type": "markdown",
   "metadata": {},
   "source": [
    "### `\\s` or `\\S`\n",
    "\n",
    "`\\s` matches any whitespace or newline character.\n",
    "\n",
    "`\\S` is the opposite."
   ]
  },
  {
   "cell_type": "code",
   "execution_count": 12,
   "metadata": {},
   "outputs": [
    {
     "data": {
      "text/plain": [
       "<re.Match object; span=(3, 4), match='\\n'>"
      ]
     },
     "execution_count": 12,
     "metadata": {},
     "output_type": "execute_result"
    }
   ],
   "source": [
    "search('\\s', 'foo\\nbar')"
   ]
  },
  {
   "cell_type": "markdown",
   "metadata": {},
   "source": [
    "### `\\`\n",
    "\n",
    "Escapes a metacharacter of its special meaning.\n",
    "\n",
    "To scape de `\\` itself it is a complex thing. The best way to handle this is to specify the \\<regex\\> using a **raw string**.\n",
    "\n",
    "It’s good practice to use a raw string to specify a regex in Python whenever it contains backslashes."
   ]
  },
  {
   "cell_type": "code",
   "execution_count": 13,
   "metadata": {},
   "outputs": [
    {
     "data": {
      "text/plain": [
       "<re.Match object; span=(3, 4), match='.'>"
      ]
     },
     "execution_count": 13,
     "metadata": {},
     "output_type": "execute_result"
    }
   ],
   "source": [
    "search('\\.', 'foo.bar')"
   ]
  },
  {
   "cell_type": "code",
   "execution_count": 14,
   "metadata": {},
   "outputs": [
    {
     "data": {
      "text/plain": [
       "<re.Match object; span=(3, 4), match='\\\\'>"
      ]
     },
     "execution_count": 14,
     "metadata": {},
     "output_type": "execute_result"
    }
   ],
   "source": [
    "search(r'\\\\', r'foo\\bar')"
   ]
  },
  {
   "cell_type": "markdown",
   "metadata": {},
   "source": [
    "## Anchors\n",
    "\n",
    "Anchors are zero-width matches, dictates a particular location in the search string where a match must occur."
   ]
  },
  {
   "cell_type": "markdown",
   "metadata": {},
   "source": [
    "### `^` or `\\A`\n",
    "\n",
    "The coincidence must be at the beginning.\n",
    "\n",
    "`^` and `\\A` behave slightly differently from each other in MULTILINE mode."
   ]
  },
  {
   "cell_type": "code",
   "execution_count": 15,
   "metadata": {},
   "outputs": [
    {
     "data": {
      "text/plain": [
       "<re.Match object; span=(0, 3), match='foo'>"
      ]
     },
     "execution_count": 15,
     "metadata": {},
     "output_type": "execute_result"
    }
   ],
   "source": [
    "search('^foo', 'foobar')"
   ]
  },
  {
   "cell_type": "code",
   "execution_count": 16,
   "metadata": {},
   "outputs": [
    {
     "name": "stdout",
     "output_type": "stream",
     "text": [
      "None\n"
     ]
    }
   ],
   "source": [
    "print(search('^foo', 'barfoo'))"
   ]
  },
  {
   "cell_type": "markdown",
   "metadata": {},
   "source": [
    "### `$` or `\\Z`\n",
    "\n",
    "The coincidence must be at the end. Whatever precedes `$` or `\\Z` must constitute the end of the search string.\n",
    "\n",
    "As a special case, `$` (but not `\\Z`) also matches just before a single newline at the end of the search string.\n",
    "\n",
    "`$` and `\\Z` behave slightly differently from each other in MULTILINE mode."
   ]
  },
  {
   "cell_type": "code",
   "execution_count": 17,
   "metadata": {},
   "outputs": [
    {
     "data": {
      "text/plain": [
       "<re.Match object; span=(3, 6), match='bar'>"
      ]
     },
     "execution_count": 17,
     "metadata": {},
     "output_type": "execute_result"
    }
   ],
   "source": [
    "search('bar$', 'foobar')"
   ]
  },
  {
   "cell_type": "code",
   "execution_count": 18,
   "metadata": {},
   "outputs": [
    {
     "name": "stdout",
     "output_type": "stream",
     "text": [
      "None\n"
     ]
    }
   ],
   "source": [
    "print(search('bar$', 'barfoo'))"
   ]
  },
  {
   "cell_type": "code",
   "execution_count": 19,
   "metadata": {},
   "outputs": [
    {
     "data": {
      "text/plain": [
       "<re.Match object; span=(3, 6), match='bar'>"
      ]
     },
     "execution_count": 19,
     "metadata": {},
     "output_type": "execute_result"
    }
   ],
   "source": [
    "search('bar$', 'foobar\\n')"
   ]
  },
  {
   "cell_type": "markdown",
   "metadata": {},
   "source": [
    "### `\\b` or `\\B`\n",
    "\n",
    "For `\\b` the coincidence must be at the beginning or end of a **word**. The word boundary.\n",
    "\n",
    "A word consists of a sequence of alphanumeric characters or underscores (`[a-zA-Z0-9_]`), the same as for the `\\w` character class.\n",
    "\n",
    "`\\B` is the opposite."
   ]
  },
  {
   "cell_type": "code",
   "execution_count": 20,
   "metadata": {},
   "outputs": [
    {
     "data": {
      "text/plain": [
       "<re.Match object; span=(8, 11), match='dad'>"
      ]
     },
     "execution_count": 20,
     "metadata": {},
     "output_type": "execute_result"
    }
   ],
   "source": [
    "search(r'\\bdad', 'persona dadivosa')"
   ]
  },
  {
   "cell_type": "code",
   "execution_count": 21,
   "metadata": {},
   "outputs": [
    {
     "data": {
      "text/plain": [
       "<re.Match object; span=(8, 11), match='dad'>"
      ]
     },
     "execution_count": 21,
     "metadata": {},
     "output_type": "execute_result"
    }
   ],
   "source": [
    "search(r'\\bdad', 'persona.dadivosa')"
   ]
  },
  {
   "cell_type": "code",
   "execution_count": 22,
   "metadata": {},
   "outputs": [
    {
     "data": {
      "text/plain": [
       "<re.Match object; span=(7, 10), match='dad'>"
      ]
     },
     "execution_count": 22,
     "metadata": {},
     "output_type": "execute_result"
    }
   ],
   "source": [
    "search(r'dad\\b', 'mentalidad positiva')"
   ]
  },
  {
   "cell_type": "markdown",
   "metadata": {},
   "source": [
    "## Quantifiers\n",
    "\n",
    "A quantifier metacharacter immediately follows a portion of a \\<regex\\> and indicates how many times that portion must occur for the match to succeed."
   ]
  },
  {
   "cell_type": "markdown",
   "metadata": {},
   "source": [
    "### `*`\n",
    "\n",
    "Matches **zero or more** repetitions of the preceding regex."
   ]
  },
  {
   "cell_type": "code",
   "execution_count": 23,
   "metadata": {},
   "outputs": [
    {
     "name": "stdout",
     "output_type": "stream",
     "text": [
      "<re.Match object; span=(1, 4), match='eti'>\n",
      "<re.Match object; span=(1, 5), match='epti'>\n",
      "<re.Match object; span=(1, 9), match='epppppti'>\n"
     ]
    }
   ],
   "source": [
    "print(search('ep*ti', 'setimo'))\n",
    "print(search('ep*ti', 'septimo'))\n",
    "print(search('ep*ti', 'seppppptimo'))"
   ]
  },
  {
   "cell_type": "code",
   "execution_count": 24,
   "metadata": {},
   "outputs": [
    {
     "data": {
      "text/plain": [
       "<re.Match object; span=(2, 23), match='foo $qux@grault % bar'>"
      ]
     },
     "execution_count": 24,
     "metadata": {},
     "output_type": "execute_result"
    }
   ],
   "source": [
    "search('foo.*bar', '# foo $qux@grault % bar #')"
   ]
  },
  {
   "cell_type": "markdown",
   "metadata": {},
   "source": [
    "### `+`\n",
    "\n",
    "Matches **one or more** repetitions of the preceding regex."
   ]
  },
  {
   "cell_type": "code",
   "execution_count": 25,
   "metadata": {},
   "outputs": [
    {
     "name": "stdout",
     "output_type": "stream",
     "text": [
      "None\n",
      "<re.Match object; span=(1, 5), match='epti'>\n",
      "<re.Match object; span=(1, 9), match='epppppti'>\n"
     ]
    }
   ],
   "source": [
    "print(search('ep+ti', 'setimo'))\n",
    "print(search('ep+ti', 'septimo'))\n",
    "print(search('ep+ti', 'seppppptimo'))"
   ]
  },
  {
   "cell_type": "markdown",
   "metadata": {},
   "source": [
    "### `?`\n",
    "\n",
    "Matches **zero or one** repetitions of the preceding regex."
   ]
  },
  {
   "cell_type": "code",
   "execution_count": 26,
   "metadata": {},
   "outputs": [
    {
     "name": "stdout",
     "output_type": "stream",
     "text": [
      "<re.Match object; span=(1, 4), match='eti'>\n",
      "<re.Match object; span=(1, 5), match='epti'>\n",
      "None\n"
     ]
    }
   ],
   "source": [
    "print(search('ep?ti', 'setimo'))\n",
    "print(search('ep?ti', 'septimo'))\n",
    "print(search('ep?ti', 'seppppptimo'))"
   ]
  },
  {
   "cell_type": "markdown",
   "metadata": {},
   "source": [
    "### `*?` or `+?` or `??`\n",
    "\n",
    "The non-greedy (or lazy) versions of the `*`, `+`, and `?` quantifiers."
   ]
  },
  {
   "cell_type": "code",
   "execution_count": 27,
   "metadata": {},
   "outputs": [
    {
     "name": "stdout",
     "output_type": "stream",
     "text": [
      "<re.Match object; span=(1, 18), match='<foo> <bar> <baz>'>\n",
      "<re.Match object; span=(1, 6), match='<foo>'>\n"
     ]
    }
   ],
   "source": [
    "print(search('<.*>', '%<foo> <bar> <baz>%'))\n",
    "print(search('<.*?>', '%<foo> <bar> <baz>%'))"
   ]
  },
  {
   "cell_type": "code",
   "execution_count": 28,
   "metadata": {},
   "outputs": [
    {
     "name": "stdout",
     "output_type": "stream",
     "text": [
      "<re.Match object; span=(1, 3), match='ep'>\n",
      "<re.Match object; span=(1, 2), match='e'>\n"
     ]
    }
   ],
   "source": [
    "print(search('ep?', 'seppppptimo')) # Entre cero o una, escoje una\n",
    "print(search('ep??', 'seppppptimo')) # Entre cero o una, escoje cero"
   ]
  },
  {
   "cell_type": "markdown",
   "metadata": {},
   "source": [
    "### `{m}`\n",
    "\n",
    "Matches exactly m repetitions of the preceding regex."
   ]
  },
  {
   "cell_type": "code",
   "execution_count": 29,
   "metadata": {},
   "outputs": [
    {
     "name": "stdout",
     "output_type": "stream",
     "text": [
      "None\n",
      "<re.Match object; span=(0, 5), match='x---x'>\n",
      "None\n"
     ]
    }
   ],
   "source": [
    "print(search('x-{3}x', 'x--x'))\n",
    "print(search('x-{3}x', 'x---x'))\n",
    "print(search('x-{3}x', 'x----x'))"
   ]
  },
  {
   "cell_type": "markdown",
   "metadata": {},
   "source": [
    "### `{m, n}`\n",
    "\n",
    "Matches any number of repetitions of the preceding regex from **m** to **n**, inclusive.\n",
    "\n",
    "Omitting **m** implies a lower bound of 0, and omitting **n** implies an unlimited upper bound.\n",
    "\n",
    "Using `{}` with nothing inside, matches just the literal string `{}`"
   ]
  },
  {
   "cell_type": "code",
   "execution_count": 30,
   "metadata": {},
   "outputs": [
    {
     "name": "stdout",
     "output_type": "stream",
     "text": [
      "None\n",
      "<re.Match object; span=(0, 5), match='x---x'>\n",
      "<re.Match object; span=(0, 6), match='x----x'>\n",
      "None\n"
     ]
    }
   ],
   "source": [
    "print(search('x-{3,4}x', 'x--x'))\n",
    "print(search('x-{3,4}x', 'x---x'))\n",
    "print(search('x-{3,4}x', 'x----x'))\n",
    "print(search('x-{3,4}x', 'x-----x'))"
   ]
  },
  {
   "cell_type": "markdown",
   "metadata": {},
   "source": [
    "### `{m, n}?`\n",
    "\n",
    "The non-greedy (lazy) version of {m,n}.\n",
    "\n",
    "`{m,n}` will match as many characters as possible, and `{m,n}?` will match as few as possible:"
   ]
  },
  {
   "cell_type": "code",
   "execution_count": 31,
   "metadata": {},
   "outputs": [
    {
     "name": "stdout",
     "output_type": "stream",
     "text": [
      "<re.Match object; span=(0, 5), match='aaaaa'>\n",
      "<re.Match object; span=(0, 3), match='aaa'>\n"
     ]
    }
   ],
   "source": [
    "print(search('a{3,5}', 'aaaaaaaa'))\n",
    "print(search('a{3,5}?', 'aaaaaaaa'))"
   ]
  },
  {
   "cell_type": "markdown",
   "metadata": {},
   "source": [
    "## Groups\n",
    "\n",
    "Grouping constructs break up a regex in Python into subexpressions or groups. This serves two purposes:\n",
    "\n",
    "* Grouping\n",
    "\n",
    "* Capturing\n",
    "\n",
    "The groups can be nested."
   ]
  },
  {
   "cell_type": "markdown",
   "metadata": {},
   "source": [
    "### `(<regex>)`\n",
    "\n",
    "**GROUPING**: To group a entire expression."
   ]
  },
  {
   "cell_type": "code",
   "execution_count": 33,
   "metadata": {},
   "outputs": [
    {
     "data": {
      "text/plain": [
       "<re.Match object; span=(4, 16), match='barbarbarbar'>"
      ]
     },
     "execution_count": 33,
     "metadata": {},
     "output_type": "execute_result"
    }
   ],
   "source": [
    "search('(bar)+', 'foo barbarbarbar baz')"
   ]
  },
  {
   "cell_type": "markdown",
   "metadata": {},
   "source": [
    "### `(<regex>)`\n",
    "\n",
    "**CAPTURING**: To extract part of the match."
   ]
  },
  {
   "cell_type": "code",
   "execution_count": 39,
   "metadata": {},
   "outputs": [
    {
     "data": {
      "text/plain": [
       "'file_record_transcript'"
      ]
     },
     "execution_count": 39,
     "metadata": {},
     "output_type": "execute_result"
    }
   ],
   "source": [
    "m = search('(^\\w+)\\.pdf$', 'file_record_transcript.pdf')\n",
    "m.group(1)\n",
    "# Extract only de name, without the extension."
   ]
  },
  {
   "cell_type": "code",
   "execution_count": 44,
   "metadata": {},
   "outputs": [
    {
     "name": "stdout",
     "output_type": "stream",
     "text": [
      "('foo', 'quux', 'baz')\n",
      "foo,quux,baz\n",
      "quux\n",
      "('foo', 'quux')\n"
     ]
    }
   ],
   "source": [
    "m = search('(\\w+),(\\w+),(\\w+)', 'foo,quux,baz')\n",
    "print(m.groups())\n",
    "print(m.group()) # m.group(0)\n",
    "print(m.group(2))\n",
    "print(m.group(1,2))"
   ]
  },
  {
   "cell_type": "markdown",
   "metadata": {},
   "source": [
    "### `(?P<name><regex>)`\n",
    "\n",
    "Creates a named **captured** group."
   ]
  },
  {
   "cell_type": "code",
   "execution_count": 45,
   "metadata": {},
   "outputs": [
    {
     "data": {
      "text/plain": [
       "'fuimos-la-mejor-unidad-de-la-region-en-todo-el-ano-policia-de-bolivar-NF6070078'"
      ]
     },
     "execution_count": 45,
     "metadata": {},
     "output_type": "execute_result"
    }
   ],
   "source": [
    "m = search('(?P<titulo>[^/]+)$', ' https://www.eluniversal.com.co/regional/bolivar/fuimos-la-mejor-unidad-de-la-region-en-todo-el-ano-policia-de-bolivar-NF6070078')\n",
    "m.group('titulo')"
   ]
  },
  {
   "cell_type": "markdown",
   "metadata": {},
   "source": [
    "### `(...|...)`\n",
    "\n",
    "Logical OR"
   ]
  },
  {
   "cell_type": "code",
   "execution_count": 34,
   "metadata": {},
   "outputs": [
    {
     "name": "stdout",
     "output_type": "stream",
     "text": [
      "<re.Match object; span=(7, 11), match='cats'>\n",
      "<re.Match object; span=(7, 11), match='dogs'>\n"
     ]
    }
   ],
   "source": [
    "print(search('(cats|dogs)', 'I love cats'))\n",
    "print(search('(cats|dogs)', 'I love dogs'))\n"
   ]
  },
  {
   "cell_type": "markdown",
   "metadata": {},
   "source": [
    "## Flags\n",
    "\n",
    "`search(<regex>, <string>, <flags>)`\n",
    "\n",
    "Scans a string for a regex match, applying the specified modifier \\<flags\\>.\n",
    "\n",
    "Makes matching of alphabetic characters case-insensitive, Causes the dot metacharacter to match a newline, Specifies Unicode encoding for character classification and others use..."
   ]
  },
  {
   "cell_type": "markdown",
   "metadata": {},
   "source": [
    "## RegEx en consola\n",
    "\n",
    "**grep** o **find**\n",
    "\n",
    "`cat results.csv | grep ',3[0-9],' `"
   ]
  }
 ],
 "metadata": {
  "interpreter": {
   "hash": "2647ea34e536f865ab67ff9ddee7fd78773d956cec0cab53c79b32cd10da5d83"
  },
  "kernelspec": {
   "display_name": "Python 3.9.6 64-bit",
   "language": "python",
   "name": "python3"
  },
  "language_info": {
   "codemirror_mode": {
    "name": "ipython",
    "version": 3
   },
   "file_extension": ".py",
   "mimetype": "text/x-python",
   "name": "python",
   "nbconvert_exporter": "python",
   "pygments_lexer": "ipython3",
   "version": "3.9.6"
  },
  "orig_nbformat": 4
 },
 "nbformat": 4,
 "nbformat_minor": 2
}
