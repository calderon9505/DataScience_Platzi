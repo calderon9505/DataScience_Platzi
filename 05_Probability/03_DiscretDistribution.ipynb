{
 "cells": [
  {
   "cell_type": "markdown",
   "source": "# DISTRIBUCIONES DISCRETAS",
   "metadata": {
    "tags": [],
    "cell_id": "00003-4714167a-db9d-4241-a62d-814278ba1af6",
    "deepnote_cell_type": "markdown"
   }
  },
  {
   "cell_type": "markdown",
   "source": "## Distribucion de Bernoulli\n\nVariables con ocurrencias binarias\n\n$$ P(X=1) = p \\, \\, \\,$$  (p = 0.5 para el caso de lanzamiento de moneda)\n\n$$ P(X=0) = 1-p $$",
   "metadata": {
    "tags": [],
    "cell_id": "00003-1ceb4474-b25f-4c12-bdf0-d78bb0f361af",
    "deepnote_cell_type": "markdown"
   }
  },
  {
   "cell_type": "markdown",
   "source": "## Distribución Binomial\n\nSecuencias repetitivas de varios evento binarios (eventos tipo Bernoulli)\n\n$$ P(k \\, \\, \\text{caras} | n \\, \\, \\text{lanzamientos}) = P(k;n,p) $$\n\n$$ P(k;n,p) = \\binom{n}{k} p^k (1-p)^{(n-k)} $$",
   "metadata": {
    "tags": [],
    "cell_id": "00004-794d02d7-ba39-4280-8fb2-9a59ffe6b99f",
    "deepnote_cell_type": "markdown"
   }
  },
  {
   "cell_type": "markdown",
   "source": "Ahora, la probabilidad de obtener $k$ o menos éxitos a partir de $n$ intentos está dada por la distribución acumulada: \n\n$$ \nC(k, n; p) = \\sum_{i=0}^k P(i, n;p) = \\sum_{i=0}^k {n \\choose i} p^i (1-p)^{n-i} \n$$ \n\nPor convención entendemos que:\n\n$$C(k=3,n=6;p=0.5) = P(k \\leq 3, n=6, p=0.5 )$$",
   "metadata": {
    "tags": [],
    "cell_id": "00003-f0efa84c-d211-43ba-b7b4-5f2c443a9a37",
    "deepnote_cell_type": "markdown"
   }
  },
  {
   "cell_type": "markdown",
   "source": "## Otras distribuciones discretas\n\n- Multinomial\n- Poisson\n- Hipergeométrica\n- Binomial negativa",
   "metadata": {
    "tags": [],
    "cell_id": "00005-bc8de718-7149-4100-9537-1e726e1ea388",
    "deepnote_cell_type": "markdown"
   }
  },
  {
   "cell_type": "code",
   "metadata": {
    "tags": [],
    "cell_id": "00007-d084214e-50b3-4aa3-8bfa-078555d4bf34",
    "deepnote_to_be_reexecuted": false,
    "source_hash": "b1b54b4",
    "execution_start": 1635046584194,
    "execution_millis": 1243,
    "deepnote_cell_type": "code"
   },
   "source": "import numpy as np\nfrom numpy.random import binomial\nfrom scipy.stats import binom\nfrom math import factorial\nimport matplotlib.pyplot as plt",
   "execution_count": null,
   "outputs": []
  },
  {
   "cell_type": "code",
   "metadata": {
    "tags": [],
    "cell_id": "00008-b9d70133-7f3c-40cb-9747-93fbbd32aaad",
    "deepnote_to_be_reexecuted": false,
    "source_hash": "f274958b",
    "execution_start": 1635046585445,
    "execution_millis": 3,
    "deepnote_cell_type": "code"
   },
   "source": "# definición de la distribución binomial \ndef my_binomial(k, n, p):\n  return factorial(n)/(factorial(k)*(factorial(n-k)))*pow(p,k)*pow(1-p, n-k)",
   "execution_count": null,
   "outputs": []
  },
  {
   "cell_type": "code",
   "metadata": {
    "tags": [],
    "cell_id": "00009-2d9318e2-dd89-4eef-a1ba-6dd77c26c61a",
    "deepnote_to_be_reexecuted": false,
    "source_hash": "186d66d3",
    "execution_start": 1635046585462,
    "execution_millis": 6,
    "deepnote_cell_type": "code"
   },
   "source": "# Probabilidad de obtener dos caras en tres lanzamiento de moneda\nprint('my binomial: {}'.format(my_binomial(2, 3, 0.5)))\ndist = binom(3, 0.5)\ndist.pmf(2) \n# probability mass function (densidad de probabilidad)",
   "execution_count": null,
   "outputs": [
    {
     "name": "stdout",
     "text": "my binomial: 0.375\n",
     "output_type": "stream"
    },
    {
     "output_type": "execute_result",
     "execution_count": 3,
     "data": {
      "text/plain": "0.3750000000000001"
     },
     "metadata": {}
    }
   ]
  },
  {
   "cell_type": "markdown",
   "source": "### Validación del ejercicio hecho a mano\n\n$$\nP(k\\leq 2, n=3, p=1/2) = \\sum_{k=0}^2 \\left[ \\frac{n!}{k!(n-k)!}p^k (1-p)^{n-k} \\right] = \\frac{7}{8}\n$$",
   "metadata": {
    "tags": [],
    "cell_id": "00010-e93618bf-6f60-422d-abe6-26c789e31759",
    "deepnote_cell_type": "markdown"
   }
  },
  {
   "cell_type": "code",
   "metadata": {
    "tags": [],
    "cell_id": "00011-16a97324-050c-4b9b-a810-ce5cd3ecf5f9",
    "deepnote_to_be_reexecuted": false,
    "source_hash": "bbc4513f",
    "execution_start": 1635046650974,
    "execution_millis": 1,
    "deepnote_cell_type": "code"
   },
   "source": "# Probabilidad acumulada\n# Obtener 2 o menos caras\nprint(7/8.0)\ndist.cdf(2)",
   "execution_count": null,
   "outputs": [
    {
     "name": "stdout",
     "text": "0.875\n",
     "output_type": "stream"
    },
    {
     "output_type": "execute_result",
     "execution_count": 5,
     "data": {
      "text/plain": "0.875"
     },
     "metadata": {}
    }
   ]
  },
  {
   "cell_type": "markdown",
   "source": "### Simulaciones de secuencias con generadores aleatorios\n\n* Los generadores aleatorios tienen como propósito simular muestras de datos que resultarían de muestreos en la vida real de procesos aleatorios como lanzar una moneda o un dado.",
   "metadata": {
    "tags": [],
    "cell_id": "00012-8581ecf1-6035-4f38-bb3f-aa7ab6608202",
    "deepnote_cell_type": "markdown"
   }
  },
  {
   "cell_type": "code",
   "metadata": {
    "tags": [],
    "cell_id": "00013-17684e40-0505-478a-b2f1-7a6aac5eb5b4",
    "deepnote_to_be_reexecuted": false,
    "source_hash": "86009738",
    "execution_start": 1635047097178,
    "execution_millis": 7,
    "deepnote_cell_type": "code"
   },
   "source": "# simulación con 100 lanzamientos de moneda equilibrada\n# (ejecuta esta celda varias veces para observar la variación en los resultados)\np=0.5\nn=3\nbinomial(n, p)",
   "execution_count": null,
   "outputs": [
    {
     "output_type": "execute_result",
     "execution_count": 12,
     "data": {
      "text/plain": "0"
     },
     "metadata": {}
    }
   ]
  },
  {
   "cell_type": "code",
   "metadata": {
    "tags": [],
    "cell_id": "00014-6a3d585c-ad30-4f8d-8b24-333de1d2cc54",
    "deepnote_to_be_reexecuted": false,
    "source_hash": "2f37ce73",
    "execution_start": 1635047194020,
    "execution_millis": 0,
    "deepnote_cell_type": "code"
   },
   "source": "# Vamos a hacer un experimento generando una muestra de conjuntos de \n# lanzamientos de a 3 monedas\narr = []\nfor _ in range(100):\n  arr.append(binomial(n, p))",
   "execution_count": null,
   "outputs": []
  },
  {
   "cell_type": "code",
   "metadata": {
    "tags": [],
    "cell_id": "00015-37fc8501-4cef-45b8-9dd4-e518cedab205",
    "deepnote_to_be_reexecuted": false,
    "source_hash": "ce9b35a0",
    "execution_start": 1635047648439,
    "execution_millis": 979,
    "deepnote_cell_type": "code"
   },
   "source": "def plot_hist(num_trials):\n  values = [0,1,2,3]\n  arr = []\n  for _ in range(num_trials):\n    arr.append(binomial(3, 0.5))\n  distribucion_simulada = np.unique(arr, return_counts=True)[1]/len(arr)\n  distribucion_teorica = [binom(3, 0.5).pmf(k) for k in values]\n  plt.bar(values, distribucion_teorica, label = 'teoría', alpha = 0.5, color = 'red')\n  plt.bar(values, distribucion_simulada, label = 'simulación', alpha = 0.5, color = 'blue')\n  plt.title('simulación con {} experimentos'.format(num_trials))\n  plt.show()\n\nplot_hist(20)\nplot_hist(200)\nplot_hist(20000)",
   "execution_count": null,
   "outputs": [
    {
     "data": {
      "text/plain": "<Figure size 432x288 with 1 Axes>",
      "image/png": "[encoded data removed]"
     },
     "metadata": {
      "needs_background": "light",
      "image/png": {
       "width": 379,
       "height": 264
      }
     },
     "output_type": "display_data"
    },
    {
     "data": {
      "text/plain": "<Figure size 432x288 with 1 Axes>",
      "image/png": "[encoded data removed]"
     },
     "metadata": {
      "needs_background": "light",
      "image/png": {
       "width": 379,
       "height": 264
      }
     },
     "output_type": "display_data"
    },
    {
     "data": {
      "text/plain": "<Figure size 432x288 with 1 Axes>",
      "image/png": "[encoded data removed]"
     },
     "metadata": {
      "needs_background": "light",
      "image/png": {
       "width": 379,
       "height": 264
      }
     },
     "output_type": "display_data"
    }
   ]
  },
  {
   "cell_type": "markdown",
   "source": "## De la binomial a la gaussiana\n\nEn la clase 8 vimos como generar secuencias aleatorias de experimentos binomiales ([aquí](https://colab.research.google.com/drive/1MR9VZg19vHyZhvWWuxtNcy_3PZQ7AfwW?usp=sharing)), donde cada experimento era lanzar un cierto número de monedas. \n\n**¿Qué sucede si el número consecutivo de monedas que lanzamos en cada experimento (trial) es muy largo?**\n\nLa función `generate_binomial_trials()` nos muestra lo que sucede si graficamos los resultados de muchos experimentos de lanzar 100 monedas en cada intento, con pyplot: ",
   "metadata": {
    "tags": [],
    "cell_id": "00014-863973dc-9abf-41a5-8454-2a59900ec617",
    "deepnote_cell_type": "markdown"
   }
  },
  {
   "cell_type": "code",
   "metadata": {
    "tags": [],
    "cell_id": "00015-b6f4ab18-95e7-4000-ab1b-738d3f34695d",
    "deepnote_to_be_reexecuted": false,
    "source_hash": "edc5a9df",
    "execution_start": 1636217335294,
    "execution_millis": 981,
    "deepnote_cell_type": "code"
   },
   "source": "import numpy as np\nfrom numpy.random import binomial\nimport matplotlib.pyplot as plt\n\ndef generate_binomial_trials(trials=1000, coin_toss=100):\n  '''\n  el resultado de esta funcion es generar un conjuntos \n  de experimentos binomiales (trials) y de cada uno obtener \n  las cantidades de exitos en cada secuencia (e.j. lanzar monedas).\n\n  * trial: es una secuencia de <coin_toss> lanzamientos de moneda\n\n  * coin_toss: es el numero de monedas lanzadas en cada trial\n  '''\n  arr = []\n  for _ in range(trials):\n    arr.append(binomial(coin_toss, 0.5))\n  values, dist = np.unique(arr, return_counts=True)\n\n  return values, dist\n\nvalues, dist = generate_binomial_trials(100000)\nplt.bar(values, dist)",
   "execution_count": null,
   "outputs": [
    {
     "output_type": "execute_result",
     "execution_count": 21,
     "data": {
      "text/plain": "<BarContainer object of 43 artists>"
     },
     "metadata": {}
    },
    {
     "data": {
      "text/plain": "<Figure size 432x288 with 1 Axes>",
      "image/png": "[encoded data removed]"
     },
     "metadata": {
      "needs_background": "light",
      "image/png": {
       "width": 381,
       "height": 248
      }
     },
     "output_type": "display_data"
    }
   ]
  },
  {
   "cell_type": "markdown",
   "source": "<a style='text-decoration:none;line-height:16px;display:flex;color:#5B5B62;padding:10px;justify-content:end;' href='https://deepnote.com?utm_source=created-in-deepnote-cell&projectId=b06e2ad7-2e73-4529-91c1-8e44f8b5881a' target=\"_blank\">\n<img alt='Created in deepnote.com' style='display:inline;max-height:16px;margin:0px;margin-right:7.5px;' src='data:image/svg+xml;base64,PD94bWwgdmVyc2lvbj0iMS4wIiBlbmNvZGluZz0iVVRGLTgiPz4KPHN2ZyB3aWR0aD0iODBweCIgaGVpZ2h0PSI4MHB4IiB2aWV3Qm94PSIwIDAgODAgODAiIHZlcnNpb249IjEuMSIgeG1sbnM9Imh0dHA6Ly93d3cudzMub3JnLzIwMDAvc3ZnIiB4bWxuczp4bGluaz0iaHR0cDovL3d3dy53My5vcmcvMTk5OS94bGluayI+CiAgICA8IS0tIEdlbmVyYXRvcjogU2tldGNoIDU0LjEgKDc2NDkwKSAtIGh0dHBzOi8vc2tldGNoYXBwLmNvbSAtLT4KICAgIDx0aXRsZT5Hcm91cCAzPC90aXRsZT4KICAgIDxkZXNjPkNyZWF0ZWQgd2l0aCBTa2V0Y2guPC9kZXNjPgogICAgPGcgaWQ9IkxhbmRpbmciIHN0cm9rZT0ibm9uZSIgc3Ryb2tlLXdpZHRoPSIxIiBmaWxsPSJub25lIiBmaWxsLXJ1bGU9ImV2ZW5vZGQiPgogICAgICAgIDxnIGlkPSJBcnRib2FyZCIgdHJhbnNmb3JtPSJ0cmFuc2xhdGUoLTEyMzUuMDAwMDAwLCAtNzkuMDAwMDAwKSI+CiAgICAgICAgICAgIDxnIGlkPSJHcm91cC0zIiB0cmFuc2Zvcm09InRyYW5zbGF0ZSgxMjM1LjAwMDAwMCwgNzkuMDAwMDAwKSI+CiAgICAgICAgICAgICAgICA8cG9seWdvbiBpZD0iUGF0aC0yMCIgZmlsbD0iIzAyNjVCNCIgcG9pbnRzPSIyLjM3NjIzNzYyIDgwIDM4LjA0NzY2NjcgODAgNTcuODIxNzgyMiA3My44MDU3NTkyIDU3LjgyMTc4MjIgMzIuNzU5MjczOSAzOS4xNDAyMjc4IDMxLjY4MzE2ODMiPjwvcG9seWdvbj4KICAgICAgICAgICAgICAgIDxwYXRoIGQ9Ik0zNS4wMDc3MTgsODAgQzQyLjkwNjIwMDcsNzYuNDU0OTM1OCA0Ny41NjQ5MTY3LDcxLjU0MjI2NzEgNDguOTgzODY2LDY1LjI2MTk5MzkgQzUxLjExMjI4OTksNTUuODQxNTg0MiA0MS42NzcxNzk1LDQ5LjIxMjIyODQgMjUuNjIzOTg0Niw0OS4yMTIyMjg0IEMyNS40ODQ5Mjg5LDQ5LjEyNjg0NDggMjkuODI2MTI5Niw0My4yODM4MjQ4IDM4LjY0NzU4NjksMzEuNjgzMTY4MyBMNzIuODcxMjg3MSwzMi41NTQ0MjUgTDY1LjI4MDk3Myw2Ny42NzYzNDIxIEw1MS4xMTIyODk5LDc3LjM3NjE0NCBMMzUuMDA3NzE4LDgwIFoiIGlkPSJQYXRoLTIyIiBmaWxsPSIjMDAyODY4Ij48L3BhdGg+CiAgICAgICAgICAgICAgICA8cGF0aCBkPSJNMCwzNy43MzA0NDA1IEwyNy4xMTQ1MzcsMC4yNTcxMTE0MzYgQzYyLjM3MTUxMjMsLTEuOTkwNzE3MDEgODAsMTAuNTAwMzkyNyA4MCwzNy43MzA0NDA1IEM4MCw2NC45NjA0ODgyIDY0Ljc3NjUwMzgsNzkuMDUwMzQxNCAzNC4zMjk1MTEzLDgwIEM0Ny4wNTUzNDg5LDc3LjU2NzA4MDggNTMuNDE4MjY3Nyw3MC4zMTM2MTAzIDUzLjQxODI2NzcsNTguMjM5NTg4NSBDNTMuNDE4MjY3Nyw0MC4xMjg1NTU3IDM2LjMwMzk1NDQsMzcuNzMwNDQwNSAyNS4yMjc0MTcsMzcuNzMwNDQwNSBDMTcuODQzMDU4NiwzNy43MzA0NDA1IDkuNDMzOTE5NjYsMzcuNzMwNDQwNSAwLDM3LjczMDQ0MDUgWiIgaWQ9IlBhdGgtMTkiIGZpbGw9IiMzNzkzRUYiPjwvcGF0aD4KICAgICAgICAgICAgPC9nPgogICAgICAgIDwvZz4KICAgIDwvZz4KPC9zdmc+' > </img>\nCreated in <span style='font-weight:600;margin-left:4px;'>Deepnote</span></a>",
   "metadata": {
    "tags": [],
    "created_in_deepnote_cell": true,
    "deepnote_cell_type": "markdown"
   }
  }
 ],
 "nbformat": 4,
 "nbformat_minor": 2,
 "metadata": {
  "orig_nbformat": 2,
  "deepnote": {
   "is_reactive": false
  },
  "deepnote_notebook_id": "3cd4cc1d-be5c-4150-bfe4-2388286ce6fa",
  "deepnote_execution_queue": []
 }
}