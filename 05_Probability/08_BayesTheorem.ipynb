{
 "cells": [
  {
   "cell_type": "markdown",
   "source": "# Teorema de Bayes\n\n$$ P(A|B) = \\frac{P(B|A) \\, P(A)}{P(B)} $$\n\n$$ P(A|B) $$ -> posteriori\n\n$$ P(B|A) $$ -> verosimilitud\n\n$$ P(A) $$ -> priori (probabilidad de la creencia inicial)\n\n$$ P(B) $$ -> evidencia (modifica las probabilidades reales)\n\nLa regla de bayes lo que hace es actualizar mi creencia inicial sobre las probabilidades de un evento aleatorio.\n\nhttps://towardsdatascience.com/probability-concepts-explained-bayesian-inference-for-parameter-estimation-90e8930e5348\n\nhttps://www.youtube.com/watch?v=O2L2Uv9pdDA&ab_channel=StatQuestwithJoshStarmer",
   "metadata": {
    "tags": [],
    "cell_id": "00000-fecc002c-9e40-4602-a2e7-6844cc74d5da",
    "deepnote_cell_type": "markdown"
   }
  },
  {
   "cell_type": "markdown",
   "source": "$$ A $$ -> tener cancer\n\n$$ B $$ -> examen positivo\n\n$$ P(A|B) = \\frac{P(B|A) \\, P(A)}{P(B|A) \\, P(A) + P(B|-A) \\, P(-A)} $$\n\nToda esta ecuación surge de expresar P(B) como una probabilidad marginal (la sumatoria de todos los eventos conjuntos respecto a A) y despues aplicar la regla del producto(probabilidad conjunta) a los dos posibles estados de A, es decir, tener o no tener cancer.\n\nPara este ejemplo se asume que:\n- La sensitividad del examen es 80%, esto es, dado que tengo cancer, cual es la probabilidad de que el examen sea positivo. Esta es la verosimilitud.\n- La probabilidad de tener cancer a modo general en toda la población es de aproximadamente 0.4%. Esta es la probabilidad a priori de tener la enfermedad.\n- Los falsos positivos son de este dispositivo lo asumiremos como del 10%, es decir, probabilidad de tener examen positivo pero no tener cancer\n\nCon estos datos ya puedo calcular la probabilidad de tener la enfermedad dado que tengo un resultado positivo, la cual es de 3.1%\n\nSi se realiza un nuevo examen y el resultado es positivo de nuevo, se actualiza el valor de P(A|B) dado que ahora P(A) es de 3.1%. El nuevo valor sería de 20.4%.",
   "metadata": {
    "tags": [],
    "cell_id": "00001-3a7e6e54-b629-489b-8b23-88e78c0bee07",
    "deepnote_cell_type": "markdown"
   }
  },
  {
   "cell_type": "markdown",
   "source": "## MPA vs MLE\n\nMLE hace parte del area frecuentista.\n\nMPA (Maximun A Posteriori) es el correspondiente del area Bayesiana.\n\n$$ P(h|D) = \\frac{P(D|h) \\, P(h)}{P(D)} $$\n\n$$ h $$ -> hipótesis\n\n$$ D $$ -> datos\n\nDado un conjunto conocido de datos D cual es la probabilidad de tener una hipotesis h que describa ese conjunto de datos.\n\nCuando se trabaja con MLE se busca optimizar la verosimilitud P(D|h). Con MPA se busca optimizar la probabilidad a posteriori P(h|D). Por lo que se obiene parámetros a partir de los datos, en lugar de obtener datos a partir de los parámetros.\n\n$$ \\text{max} \\, \\{ P(h|D) \\} $$ -> $$ \\text{max} \\, \\{ P(D|h) \\cdot P(h) \\} $$\n\nSe desprecia la evidencia porque sin importar el modelo que se usa, la evidencia es la misma. Así tambien se reduce el cálculo de probabilidades a solo 2 cálculos en lugar de 3.",
   "metadata": {
    "tags": [],
    "cell_id": "00002-dd7c56f9-6ecf-4f05-9c21-47b715828cc5",
    "deepnote_cell_type": "markdown"
   }
  },
  {
   "cell_type": "markdown",
   "source": "## Naive Bayes\n\n$$ \\text{max} \\, \\{ P(h|D) \\} = \\text{max} \\, \\{ P(D|h) \\cdot P(h) \\} $$\n\nAhora se calcula cada una de las dos probabilidades para el correspondiente modelo h (rectas, sigmoides, etc).\n\nHallar la verosimilitud es dificil porque el espacio muestral es muy grande. Si no se asume ninguna simplificación sobre las probabilidades se habla de *Optimal Bayes Classifier*. Con esto se calcularía la probabilidad de la verosimilitud de la forma más exacta posible, pero eso no es viable con grandes cantidades de datos.\n\nAhora, si asumimos que \n\n$$ P(D|h) = P([x_1, x_2, ..., x_n] | h) = P(x_1|h) \\cdot P(x_2|h) \\cdot ... \\cdot P(x_n|h) $$\n\neste cálculo es más sencillo, y se llama *Naive Bayes*\n\nhttps://www.youtube.com/watch?v=O2L2Uv9pdDA&ab_channel=StatQuestwithJoshStarmer",
   "metadata": {
    "tags": [],
    "cell_id": "00003-c7c31cd4-5465-488b-bede-3a518ca7de9c",
    "deepnote_cell_type": "markdown"
   }
  },
  {
   "cell_type": "markdown",
   "source": "Consideremos un conjunto de datos artificial sobre el cual podamos probar un clasificador de Naive Bayes:",
   "metadata": {
    "tags": [],
    "cell_id": "00004-4a15f46c-fe72-4bb4-80aa-5da7143aa870",
    "deepnote_cell_type": "markdown"
   }
  },
  {
   "cell_type": "code",
   "metadata": {
    "tags": [],
    "cell_id": "00004-b68089db-355e-473d-a39e-0916742d3d9f",
    "deepnote_to_be_reexecuted": false,
    "source_hash": "55461b84",
    "execution_start": 1636218950803,
    "execution_millis": 608,
    "deepnote_cell_type": "code"
   },
   "source": "from sklearn.datasets import make_blobs\nimport matplotlib.pyplot as plt\nimport numpy as np\nfrom scipy.stats import norm\n\nX, y = make_blobs(n_samples=1000, centers=2, n_features=2, random_state=1)\n\nplt.scatter(X[y==1][:,0], X[y==1][:,1], label = '1', color='red', alpha=0.4)\nplt.scatter(X[y==0][:,0], X[y==0][:,1], label = '0', color = 'blue', alpha=0.4)\nplt.legend()",
   "execution_count": null,
   "outputs": [
    {
     "output_type": "execute_result",
     "execution_count": 22,
     "data": {
      "text/plain": "<matplotlib.legend.Legend at 0x7f203df6f1d0>"
     },
     "metadata": {}
    },
    {
     "data": {
      "text/plain": "<Figure size 432x288 with 1 Axes>",
      "image/png": "[encoded data removed]"
     },
     "metadata": {
      "needs_background": "light",
      "image/png": {
       "width": 370,
       "height": 248
      }
     },
     "output_type": "display_data"
    }
   ]
  },
  {
   "cell_type": "code",
   "metadata": {
    "tags": [],
    "cell_id": "00006-f96fe10c-db50-4fe7-9c0a-8c92f8830a31",
    "deepnote_to_be_reexecuted": false,
    "source_hash": "995439d1",
    "execution_start": 1636218954498,
    "execution_millis": 15,
    "deepnote_cell_type": "code"
   },
   "source": "# esta función ajusta una gausiana \n# a un conjunto 'data' \ndef fit_distribution(data): \n  mu = data.mean()\n  sigma = data.std() \n  return norm(mu, sigma)",
   "execution_count": null,
   "outputs": []
  },
  {
   "cell_type": "code",
   "metadata": {
    "tags": [],
    "cell_id": "00006-bb6e76b6-e83e-45ac-a660-20963db2a4e1",
    "deepnote_to_be_reexecuted": false,
    "source_hash": "b2696ff6",
    "execution_start": 1636218703434,
    "execution_millis": 7,
    "is_code_hidden": false,
    "is_output_hidden": true,
    "deepnote_cell_type": "code"
   },
   "source": "X",
   "execution_count": null,
   "outputs": [
    {
     "output_type": "execute_result",
     "execution_count": 12,
     "data": {
      "text/plain": "array([[-3.08389358,  5.70067218],\n       [-8.80258525, -5.07389013],\n       [-1.68452735,  5.22511143],\n       ...,\n       [-8.65168502, -5.58805662],\n       [-1.41968841,  3.76555241],\n       [-9.9077506 , -3.42556702]])"
     },
     "metadata": {}
    }
   ]
  },
  {
   "cell_type": "code",
   "metadata": {
    "tags": [],
    "cell_id": "00007-3e1597ed-9bd8-400d-a49c-a997913c4192",
    "deepnote_to_be_reexecuted": false,
    "source_hash": "ce04b77e",
    "execution_start": 1636218477388,
    "execution_millis": 9,
    "is_output_hidden": true,
    "deepnote_cell_type": "code"
   },
   "source": "y",
   "execution_count": null,
   "outputs": [
    {
     "output_type": "execute_result",
     "execution_count": 3,
     "data": {
      "text/plain": "array([0, 1, 0, ..., 1, 0, 1])"
     },
     "metadata": {}
    }
   ]
  },
  {
   "cell_type": "markdown",
   "source": "Consideramos un modelo de clasificacion de Naive Bayes:\n\n$$\nP(c \\vert x) = P(x \\vert c)P(c)\n$$\n\ndonde $P(c)$ es la probabilidad prior dada una clase $c$ y $P(x\\vert c)$ es la verosimilitud de $x$ dada una clase $c$, con Naive Bayes esto resulta en: \n\n$$\nP(c \\vert x) = P(c)\\prod_iP(x_i \\vert c)\n$$\n\nLo cual para nuestro caso (`n_features=2`) se traduce en: \n\n$$\nP(c \\vert x) = \\underbrace{P(c)}_{\\text{prior}} \\underbrace{P(x_0 \\vert c) P(x_1 \\vert c)}_{\\text{likelihood}}\n$$",
   "metadata": {
    "tags": [],
    "cell_id": "00009-59030c10-8223-4459-a35d-d8eafe0f527e",
    "deepnote_cell_type": "markdown"
   }
  },
  {
   "cell_type": "code",
   "metadata": {
    "tags": [],
    "cell_id": "00010-d3fb5e55-2043-480d-afe6-a436c21a4666",
    "deepnote_cell_type": "code"
   },
   "source": "# calculamos priors\ndef prior(c):\n  return len(X[y==c])/len(X)\n\n# tenemos cuatro posibles distribuciones a ajustar (verosimilitud)\ndef distX0(c):\n  if c==0:\n    return fit_distribution(X[y==0][:,0])\n  elif c==1:\n    return fit_distribution(X[y==1][:,0])\n\ndef distX1(c):\n  if c==0:\n    return fit_distribution(X[y==0][:,1])\n  elif c==1:\n    return fit_distribution(X[y==1][:,1])\n\n# verosimilitud\ndef likelihood(X, c):\n  return distX0(c).pdf(X[0])*distX1(c).pdf(X[1])\n\n# posterior\ndef probability(c, X):\n  return prior(c)*likelihood(X,c)\n\npredictions = [np.argmax([probability(0, vector), probability(1, vector)]) for vector in X]",
   "execution_count": null,
   "outputs": []
  },
  {
   "cell_type": "markdown",
   "source": "https://colab.research.google.com/drive/1XbQ6-5Ax8Pksik2MR2kWB87ay85RMX2b?usp=sharing#scrollTo=BA0pPTW_dLIW",
   "metadata": {
    "tags": [],
    "cell_id": "00011-3794aa83-9351-4847-bfe3-3df5d568cad2",
    "deepnote_cell_type": "markdown"
   }
  },
  {
   "cell_type": "markdown",
   "source": "<a style='text-decoration:none;line-height:16px;display:flex;color:#5B5B62;padding:10px;justify-content:end;' href='https://deepnote.com?utm_source=created-in-deepnote-cell&projectId=b06e2ad7-2e73-4529-91c1-8e44f8b5881a' target=\"_blank\">\n<img alt='Created in deepnote.com' style='display:inline;max-height:16px;margin:0px;margin-right:7.5px;' src='data:image/svg+xml;base64,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' > </img>\nCreated in <span style='font-weight:600;margin-left:4px;'>Deepnote</span></a>",
   "metadata": {
    "tags": [],
    "created_in_deepnote_cell": true,
    "deepnote_cell_type": "markdown"
   }
  }
 ],
 "nbformat": 4,
 "nbformat_minor": 2,
 "metadata": {
  "orig_nbformat": 2,
  "deepnote": {
   "is_reactive": false
  },
  "deepnote_notebook_id": "ef51135f-d0cf-4062-bb45-3bf70e3baa68",
  "deepnote_execution_queue": []
 }
}