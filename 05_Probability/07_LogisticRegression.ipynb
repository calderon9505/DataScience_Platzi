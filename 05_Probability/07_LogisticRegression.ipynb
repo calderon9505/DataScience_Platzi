{
 "cells": [
  {
   "cell_type": "markdown",
   "source": "# Regresión Logística\n\nTipo de análisis de regresión utilizado para predecir el resultado de una variable categórica en función de las variables independientes o predictoras.\n\nSe usa en problemas de clasificación.\n\nhttps://www.youtube.com/watch?v=yIYKR4sgzI8&t=265s&ab_channel=StatQuestwithJoshStarmer\n\nhttps://www.youtube.com/watch?v=vN5cNN2-HWE&ab_channel=StatQuestwithJoshStarmer\n\nhttps://www.youtube.com/watch?v=BfKanl1aSG0&ab_channel=StatQuestwithJoshStarmer\n\nhttps://medium.com/@csarchiquerodriguez/modelo-de-regresi%C3%B3n-log%C3%ADstica-a17ffe204ade",
   "metadata": {
    "tags": [],
    "cell_id": "00000-b0236a5c-9b12-4d03-a855-fd4d002561d7",
    "deepnote_cell_type": "markdown"
   }
  },
  {
   "cell_type": "markdown",
   "source": "## Clasificación binaria\n\n![](https://upload.wikimedia.org/wikipedia/commons/6/6d/Exam_pass_logistic_curve.jpeg)\n\n### Funcion sigmoide\n\n$$ y = \\frac{1}{1+e^{-X}} $$\n\nEn la clasificación binaria el resultado es 1 o 0.\n\nTengo un conjunto de atributos (variables predictoras)\n\n$$ \\{x_1, x_2, ... , x_n\\} $$\n\n$$ X = b_1 x_1 + b_2 x_2 + ... + b_n x_n $$\n\nesta vaiable que tiene en cuenta los pesos es la que se pasa a la función sigmoide.",
   "metadata": {
    "tags": [],
    "cell_id": "00001-07c08f63-b262-4341-8ba5-c046c647355e",
    "deepnote_cell_type": "markdown"
   }
  },
  {
   "cell_type": "markdown",
   "source": "### MLE\n\npara este ejemplo se usa el modelo\n\n$$ p = \\hat{y} = \\frac{1}{1+e^{-X}} $$\n\nSe aplica Bernoulli. la probabilidad promedio de Bernoulli es\n\n$$ \\bar{p} = p \\cdot 1 + (1-p) \\cdot 0 $$\n\na partir de aquí se puede definir una verosimilitud de *uno* de los puntos de mi dataset\n\n$$ L_i = \\hat{y_i} \\cdot y_i + (1 - \\hat{y_i}) \\cdot (1-y_i) $$\n\nahora se usa el logaritmo y se suman todos los puntos para obtener una verosimilitud total\n\n$$ L = \\sum_i (y_i \\cdot ln(\\hat{y_i}) + (1-y_i) \\cdot ln(1 - \\hat{y_i}) ) $$\n\nahora lo que queremos es maximizar esa verosimilitud, pero...\n\n$$ max(L) = min(-L) $$\n\nesa -L es la función que se busca optimizar (función de costo) en un problema de clasificación binario y se llama (Cross-Entrop)\n\n$$ CE = - \\sum_i (y_i \\cdot ln(\\hat{y_i}) + (1-y_i) \\cdot ln(1 - \\hat{y_i}) ) $$\n\nesta verosimilitud da los valores de probabilidad más altos cuando la predicción de la sigmoide coincide con las clases del conjunto de datos, es decir, cuando \n\n$$ \\hat{y} \\approx y  $$",
   "metadata": {
    "tags": [],
    "cell_id": "00002-d3acd51b-333d-4da0-877c-a59bc9afe111",
    "deepnote_cell_type": "markdown"
   }
  },
  {
   "cell_type": "code",
   "metadata": {
    "tags": [],
    "cell_id": "00004-f4bb834c-83a8-41c9-869c-be3aef277e06",
    "deepnote_to_be_reexecuted": false,
    "source_hash": "ecc09662",
    "execution_start": 1636144226776,
    "execution_millis": 1058,
    "deepnote_cell_type": "code"
   },
   "source": "from mpl_toolkits.mplot3d import Axes3D  \nimport matplotlib.pyplot as plt\nfrom matplotlib import cm\nimport numpy as np\nimport pandas as pd\nimport seaborn as sns",
   "execution_count": null,
   "outputs": []
  },
  {
   "cell_type": "code",
   "metadata": {
    "tags": [],
    "cell_id": "00004-40262c25-a703-40a9-bb35-df83ea9f906a",
    "deepnote_to_be_reexecuted": false,
    "source_hash": "e3effb80",
    "execution_start": 1636144227842,
    "execution_millis": 4,
    "deepnote_cell_type": "code"
   },
   "source": "# máxima verosimilitud para un punto\ndef likelihood(y, yp):\n  return yp*y+(1-yp)*(1-y)",
   "execution_count": null,
   "outputs": []
  },
  {
   "cell_type": "code",
   "metadata": {
    "tags": [],
    "cell_id": "00005-5dfab64e-e763-49a6-afb7-c521ab9ea372",
    "deepnote_to_be_reexecuted": false,
    "source_hash": "8ac8b1f7",
    "execution_start": 1636144227860,
    "execution_millis": 559,
    "deepnote_cell_type": "code"
   },
   "source": "fig = plt.figure()\nax = fig.gca(projection='3d')\n\nY = np.arange(0, 1, 0.1)\nYP = np.arange(0, 1, 0.1)\nY, YP = np.meshgrid(Y, YP)\nZ = likelihood(Y, YP)\n\nsurf = ax.plot_surface(Y, YP, Z, cmap=cm.coolwarm,\n                       linewidth=0, antialiased=False)\nfig.colorbar(surf, shrink=0.5, aspect=5)\n\nplt.show()\n\n# esto confirma lo de que la verosimilitud es alta\n# cuando \"y gorro\" coincide con \"y\" ",
   "execution_count": null,
   "outputs": [
    {
     "name": "stderr",
     "text": "/shared-libs/python3.7/py-core/lib/python3.7/site-packages/ipykernel_launcher.py:2: MatplotlibDeprecationWarning: Calling gca() with keyword arguments was deprecated in Matplotlib 3.4. Starting two minor releases later, gca() will take no keyword arguments. The gca() function should only be used to get the current axes, or if no axes exist, create new axes with default keyword arguments. To create a new axes with non-default arguments, use plt.axes() or plt.subplot().\n  \n",
     "output_type": "stream"
    },
    {
     "data": {
      "text/plain": "<Figure size 432x288 with 2 Axes>",
      "image/png": "[encoded data removed]"
     },
     "metadata": {
      "needs_background": "light",
      "image/png": {
       "width": 293,
       "height": 237
      }
     },
     "output_type": "display_data"
    }
   ]
  },
  {
   "cell_type": "markdown",
   "source": "### Regresión logística con Scikit-learn\n\nRecordemos que:\n\n$$\n\\hat{y} = \\frac{1}{1 + e^{-\\text{ln(odds)}}}\n$$\n\ndonde $\\text{ln(odds)} = \\beta_0 + \\beta_1 x_1 + \\dots \\beta_n x_n$ y los betas son los parámetros del modelo.\n\nse suele llamar *log-odds* porque es un termino que hace referencia a las apuestas.",
   "metadata": {
    "tags": [],
    "cell_id": "00006-4f275fad-660f-45af-92ed-8296f8c977fa",
    "deepnote_cell_type": "markdown"
   }
  },
  {
   "cell_type": "code",
   "metadata": {
    "tags": [],
    "cell_id": "00006-8bc66cba-4e34-4d66-ab57-b25f9b5d703b",
    "deepnote_to_be_reexecuted": false,
    "source_hash": "6b676e5a",
    "execution_start": 1636144228422,
    "execution_millis": 287,
    "deepnote_cell_type": "code"
   },
   "source": "from sklearn.datasets import load_iris\nfrom sklearn.linear_model import LogisticRegression\n\natrib_names = ['sepal length', 'sepal width', 'petal length', 'petal width']\nX, y = load_iris(return_X_y=True)",
   "execution_count": null,
   "outputs": []
  },
  {
   "cell_type": "code",
   "metadata": {
    "tags": [],
    "cell_id": "00007-c3547e5c-a902-4ebb-8d45-5cee2bc5ddbc",
    "deepnote_to_be_reexecuted": false,
    "source_hash": "aa4dcd2e",
    "execution_start": 1636144228717,
    "execution_millis": 96,
    "is_output_hidden": true,
    "is_code_hidden": false,
    "deepnote_cell_type": "code"
   },
   "source": "X[:5]",
   "execution_count": null,
   "outputs": [
    {
     "output_type": "execute_result",
     "execution_count": 5,
     "data": {
      "text/plain": "array([[5.1, 3.5, 1.4, 0.2],\n       [4.9, 3. , 1.4, 0.2],\n       [4.7, 3.2, 1.3, 0.2],\n       [4.6, 3.1, 1.5, 0.2],\n       [5. , 3.6, 1.4, 0.2]])"
     },
     "metadata": {}
    }
   ]
  },
  {
   "cell_type": "code",
   "metadata": {
    "tags": [],
    "cell_id": "00008-78a2d67e-442f-466d-b685-7642102e90a1",
    "deepnote_to_be_reexecuted": false,
    "source_hash": "b52b2ce7",
    "execution_start": 1636144228760,
    "execution_millis": 54,
    "is_output_hidden": true,
    "deepnote_cell_type": "code"
   },
   "source": "y[:100]",
   "execution_count": null,
   "outputs": [
    {
     "output_type": "execute_result",
     "execution_count": 6,
     "data": {
      "text/plain": "array([0, 0, 0, 0, 0, 0, 0, 0, 0, 0, 0, 0, 0, 0, 0, 0, 0, 0, 0, 0, 0, 0,\n       0, 0, 0, 0, 0, 0, 0, 0, 0, 0, 0, 0, 0, 0, 0, 0, 0, 0, 0, 0, 0, 0,\n       0, 0, 0, 0, 0, 0, 1, 1, 1, 1, 1, 1, 1, 1, 1, 1, 1, 1, 1, 1, 1, 1,\n       1, 1, 1, 1, 1, 1, 1, 1, 1, 1, 1, 1, 1, 1, 1, 1, 1, 1, 1, 1, 1, 1,\n       1, 1, 1, 1, 1, 1, 1, 1, 1, 1, 1, 1])"
     },
     "metadata": {}
    }
   ]
  },
  {
   "cell_type": "code",
   "metadata": {
    "tags": [],
    "cell_id": "00010-0cd3e438-127e-4895-80fa-54c694bd431a",
    "deepnote_to_be_reexecuted": false,
    "source_hash": "543a0e70",
    "execution_start": 1636144228804,
    "execution_millis": 0,
    "deepnote_cell_type": "code"
   },
   "source": "clf = LogisticRegression(random_state=10, solver='liblinear').fit(X[:100], y[:100])",
   "execution_count": null,
   "outputs": []
  },
  {
   "cell_type": "markdown",
   "source": "Revisamos los parámetros resultantes $\\beta_i$: ",
   "metadata": {
    "tags": [],
    "cell_id": "00011-870bf1e5-89bd-44ea-af4a-f2d5944f0ad8",
    "deepnote_cell_type": "markdown"
   }
  },
  {
   "cell_type": "code",
   "metadata": {
    "tags": [],
    "cell_id": "00012-3f70166b-5ff8-45f4-b051-23236bb69ccd",
    "deepnote_to_be_reexecuted": false,
    "source_hash": "325e57db",
    "execution_start": 1636144228804,
    "execution_millis": 11,
    "deepnote_cell_type": "code"
   },
   "source": "clf.coef_",
   "execution_count": null,
   "outputs": [
    {
     "output_type": "execute_result",
     "execution_count": 8,
     "data": {
      "text/plain": "array([[-0.40247392, -1.46382925,  2.23785648,  1.00009294]])"
     },
     "metadata": {}
    }
   ]
  },
  {
   "cell_type": "code",
   "metadata": {
    "tags": [],
    "cell_id": "00013-493ce0d9-a5e5-4e51-94ed-0259352c7c29",
    "deepnote_to_be_reexecuted": false,
    "source_hash": "6a557c17",
    "execution_start": 1636144228805,
    "execution_millis": 35,
    "deepnote_cell_type": "code"
   },
   "source": "model_coefs = pd.DataFrame(clf.coef_, columns=atrib_names)\nmodel_coefs",
   "execution_count": null,
   "outputs": [
    {
     "output_type": "execute_result",
     "execution_count": 9,
     "data": {
      "application/vnd.deepnote.dataframe.v2+json": {
       "row_count": 1,
       "column_count": 4,
       "columns": [
        {
         "name": "sepal length",
         "dtype": "float64",
         "stats": {
          "unique_count": 1,
          "nan_count": 0,
          "min": "-0.40247391752770156",
          "max": "-0.40247391752770156",
          "histogram": [
           {
            "bin_start": -0.9024739175277016,
            "bin_end": -0.8024739175277016,
            "count": 0
           },
           {
            "bin_start": -0.8024739175277016,
            "bin_end": -0.7024739175277015,
            "count": 0
           },
           {
            "bin_start": -0.7024739175277015,
            "bin_end": -0.6024739175277015,
            "count": 0
           },
           {
            "bin_start": -0.6024739175277015,
            "bin_end": -0.5024739175277015,
            "count": 0
           },
           {
            "bin_start": -0.5024739175277015,
            "bin_end": -0.40247391752770156,
            "count": 0
           },
           {
            "bin_start": -0.40247391752770156,
            "bin_end": -0.3024739175277015,
            "count": 1
           },
           {
            "bin_start": -0.3024739175277015,
            "bin_end": -0.2024739175277015,
            "count": 0
           },
           {
            "bin_start": -0.2024739175277015,
            "bin_end": -0.10247391752770152,
            "count": 0
           },
           {
            "bin_start": -0.10247391752770152,
            "bin_end": -0.0024739175277015413,
            "count": 0
           },
           {
            "bin_start": -0.0024739175277015413,
            "bin_end": 0.09752608247229844,
            "count": 0
           }
          ]
         }
        },
        {
         "name": "sepal width",
         "dtype": "float64",
         "stats": {
          "unique_count": 1,
          "nan_count": 0,
          "min": "-1.4638292477102341",
          "max": "-1.4638292477102341",
          "histogram": [
           {
            "bin_start": -1.9638292477102341,
            "bin_end": -1.863829247710234,
            "count": 0
           },
           {
            "bin_start": -1.863829247710234,
            "bin_end": -1.7638292477102342,
            "count": 0
           },
           {
            "bin_start": -1.7638292477102342,
            "bin_end": -1.663829247710234,
            "count": 0
           },
           {
            "bin_start": -1.663829247710234,
            "bin_end": -1.5638292477102342,
            "count": 0
           },
           {
            "bin_start": -1.5638292477102342,
            "bin_end": -1.4638292477102341,
            "count": 0
           },
           {
            "bin_start": -1.4638292477102341,
            "bin_end": -1.363829247710234,
            "count": 1
           },
           {
            "bin_start": -1.363829247710234,
            "bin_end": -1.263829247710234,
            "count": 0
           },
           {
            "bin_start": -1.263829247710234,
            "bin_end": -1.163829247710234,
            "count": 0
           },
           {
            "bin_start": -1.163829247710234,
            "bin_end": -1.0638292477102342,
            "count": 0
           },
           {
            "bin_start": -1.0638292477102342,
            "bin_end": -0.9638292477102341,
            "count": 0
           }
          ]
         }
        },
        {
         "name": "petal length",
         "dtype": "float64",
         "stats": {
          "unique_count": 1,
          "nan_count": 0,
          "min": "2.2378564796428906",
          "max": "2.2378564796428906",
          "histogram": [
           {
            "bin_start": 1.7378564796428906,
            "bin_end": 1.8378564796428907,
            "count": 0
           },
           {
            "bin_start": 1.8378564796428907,
            "bin_end": 1.9378564796428905,
            "count": 0
           },
           {
            "bin_start": 1.9378564796428905,
            "bin_end": 2.0378564796428904,
            "count": 0
           },
           {
            "bin_start": 2.0378564796428904,
            "bin_end": 2.1378564796428905,
            "count": 0
           },
           {
            "bin_start": 2.1378564796428905,
            "bin_end": 2.2378564796428906,
            "count": 0
           },
           {
            "bin_start": 2.2378564796428906,
            "bin_end": 2.3378564796428907,
            "count": 1
           },
           {
            "bin_start": 2.3378564796428907,
            "bin_end": 2.4378564796428908,
            "count": 0
           },
           {
            "bin_start": 2.4378564796428908,
            "bin_end": 2.5378564796428904,
            "count": 0
           },
           {
            "bin_start": 2.5378564796428904,
            "bin_end": 2.6378564796428905,
            "count": 0
           },
           {
            "bin_start": 2.6378564796428905,
            "bin_end": 2.7378564796428906,
            "count": 0
           }
          ]
         }
        },
        {
         "name": "petal width",
         "dtype": "float64",
         "stats": {
          "unique_count": 1,
          "nan_count": 0,
          "min": "1.000092940399717",
          "max": "1.000092940399717",
          "histogram": [
           {
            "bin_start": 0.500092940399717,
            "bin_end": 0.600092940399717,
            "count": 0
           },
           {
            "bin_start": 0.600092940399717,
            "bin_end": 0.7000929403997169,
            "count": 0
           },
           {
            "bin_start": 0.7000929403997169,
            "bin_end": 0.800092940399717,
            "count": 0
           },
           {
            "bin_start": 0.800092940399717,
            "bin_end": 0.900092940399717,
            "count": 0
           },
           {
            "bin_start": 0.900092940399717,
            "bin_end": 1.000092940399717,
            "count": 0
           },
           {
            "bin_start": 1.000092940399717,
            "bin_end": 1.100092940399717,
            "count": 1
           },
           {
            "bin_start": 1.100092940399717,
            "bin_end": 1.200092940399717,
            "count": 0
           },
           {
            "bin_start": 1.200092940399717,
            "bin_end": 1.300092940399717,
            "count": 0
           },
           {
            "bin_start": 1.300092940399717,
            "bin_end": 1.400092940399717,
            "count": 0
           },
           {
            "bin_start": 1.400092940399717,
            "bin_end": 1.500092940399717,
            "count": 0
           }
          ]
         }
        },
        {
         "name": "_deepnote_index_column",
         "dtype": "int64"
        }
       ],
       "rows_top": [
        {
         "sepal length": -0.40247391752770156,
         "sepal width": -1.4638292477102341,
         "petal length": 2.2378564796428906,
         "petal width": 1.000092940399717,
         "_deepnote_index_column": 0
        }
       ],
       "rows_bottom": null
      },
      "text/plain": "   sepal length  sepal width  petal length  petal width\n0     -0.402474    -1.463829      2.237856     1.000093",
      "text/html": "<div>\n<style scoped>\n    .dataframe tbody tr th:only-of-type {\n        vertical-align: middle;\n    }\n\n    .dataframe tbody tr th {\n        vertical-align: top;\n    }\n\n    .dataframe thead th {\n        text-align: right;\n    }\n</style>\n<table border=\"1\" class=\"dataframe\">\n  <thead>\n    <tr style=\"text-align: right;\">\n      <th></th>\n      <th>sepal length</th>\n      <th>sepal width</th>\n      <th>petal length</th>\n      <th>petal width</th>\n    </tr>\n  </thead>\n  <tbody>\n    <tr>\n      <th>0</th>\n      <td>-0.402474</td>\n      <td>-1.463829</td>\n      <td>2.237856</td>\n      <td>1.000093</td>\n    </tr>\n  </tbody>\n</table>\n</div>"
     },
     "metadata": {}
    }
   ]
  },
  {
   "cell_type": "markdown",
   "source": "### Voy a aplicar la regresión logística teniendo en cuenta solo el petal length",
   "metadata": {
    "tags": [],
    "cell_id": "00014-075fcc25-bcd5-439a-aae0-fc623f7c00d0",
    "deepnote_cell_type": "markdown"
   }
  },
  {
   "cell_type": "code",
   "metadata": {
    "tags": [],
    "cell_id": "00015-c967d017-3709-4999-a612-b2beece75a42",
    "deepnote_to_be_reexecuted": false,
    "source_hash": "9000db40",
    "execution_start": 1636144228839,
    "execution_millis": 4,
    "is_code_hidden": false,
    "is_output_hidden": true,
    "deepnote_cell_type": "code"
   },
   "source": "X[:100,2]",
   "execution_count": null,
   "outputs": [
    {
     "output_type": "execute_result",
     "execution_count": 10,
     "data": {
      "text/plain": "array([1.4, 1.4, 1.3, 1.5, 1.4, 1.7, 1.4, 1.5, 1.4, 1.5, 1.5, 1.6, 1.4,\n       1.1, 1.2, 1.5, 1.3, 1.4, 1.7, 1.5, 1.7, 1.5, 1. , 1.7, 1.9, 1.6,\n       1.6, 1.5, 1.4, 1.6, 1.6, 1.5, 1.5, 1.4, 1.5, 1.2, 1.3, 1.4, 1.3,\n       1.5, 1.3, 1.3, 1.3, 1.6, 1.9, 1.4, 1.6, 1.4, 1.5, 1.4, 4.7, 4.5,\n       4.9, 4. , 4.6, 4.5, 4.7, 3.3, 4.6, 3.9, 3.5, 4.2, 4. , 4.7, 3.6,\n       4.4, 4.5, 4.1, 4.5, 3.9, 4.8, 4. , 4.9, 4.7, 4.3, 4.4, 4.8, 5. ,\n       4.5, 3.5, 3.8, 3.7, 3.9, 5.1, 4.5, 4.5, 4.7, 4.4, 4.1, 4. , 4.4,\n       4.6, 4. , 3.3, 4.2, 4.2, 4.2, 4.3, 3. , 4.1])"
     },
     "metadata": {}
    }
   ]
  },
  {
   "cell_type": "code",
   "metadata": {
    "tags": [],
    "cell_id": "00016-a3e0549e-3540-4854-aa83-1d7223ddf875",
    "deepnote_to_be_reexecuted": false,
    "source_hash": "4962828a",
    "execution_start": 1636144228847,
    "execution_millis": 3,
    "deepnote_cell_type": "code"
   },
   "source": "def sigmoid(b0, b1, x):\n  return 1/(1+np.exp(-(b0+b1*x)))",
   "execution_count": null,
   "outputs": []
  },
  {
   "cell_type": "code",
   "metadata": {
    "tags": [],
    "cell_id": "00014-acac4647-ca8d-4ff3-b01b-8295a3fadc0a",
    "deepnote_to_be_reexecuted": false,
    "source_hash": "178735d7",
    "execution_start": 1636144228979,
    "execution_millis": 272,
    "deepnote_cell_type": "code"
   },
   "source": "fig, ax = plt.subplots()\nax.plot(X[:100,2], y[0:100], \"o\")\n\nclf = LogisticRegression().fit(X[:100,2].reshape(-1, 1), y[:100])\nprint(clf.coef_)\nprint(clf.intercept_)\n\n\nX2 = np.arange(1,5, 0.1)\ny2 = sigmoid(clf.intercept_, clf.coef_, X2)\n# print(y2)\nax.plot(X2, y2[0,:])",
   "execution_count": null,
   "outputs": [
    {
     "name": "stdout",
     "text": "[[2.89999783]]\n[-7.88572444]\n",
     "output_type": "stream"
    },
    {
     "output_type": "execute_result",
     "execution_count": 12,
     "data": {
      "text/plain": "[<matplotlib.lines.Line2D at 0x7f8d532675d0>]"
     },
     "metadata": {}
    },
    {
     "data": {
      "text/plain": "<Figure size 432x288 with 1 Axes>",
      "image/png": "[encoded data removed]"
     },
     "metadata": {
      "needs_background": "light",
      "image/png": {
       "width": 372,
       "height": 248
      }
     },
     "output_type": "display_data"
    }
   ]
  },
  {
   "cell_type": "markdown",
   "source": "<a style='text-decoration:none;line-height:16px;display:flex;color:#5B5B62;padding:10px;justify-content:end;' href='https://deepnote.com?utm_source=created-in-deepnote-cell&projectId=b06e2ad7-2e73-4529-91c1-8e44f8b5881a' target=\"_blank\">\n<img alt='Created in deepnote.com' style='display:inline;max-height:16px;margin:0px;margin-right:7.5px;' src='data:image/svg+xml;base64,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' > </img>\nCreated in <span style='font-weight:600;margin-left:4px;'>Deepnote</span></a>",
   "metadata": {
    "tags": [],
    "created_in_deepnote_cell": true,
    "deepnote_cell_type": "markdown"
   }
  }
 ],
 "nbformat": 4,
 "nbformat_minor": 2,
 "metadata": {
  "orig_nbformat": 2,
  "deepnote": {
   "is_reactive": false
  },
  "deepnote_notebook_id": "de8940f3-621d-4675-a969-538201cd8fb1",
  "deepnote_execution_queue": []
 }
}