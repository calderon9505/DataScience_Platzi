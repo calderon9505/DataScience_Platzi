{
 "cells": [
  {
   "cell_type": "markdown",
   "source": "# 2. Adición entre vectores.",
   "metadata": {
    "cell_id": "00000-055641a2-43da-4c83-8af8-e79108658875",
    "deepnote_cell_type": "markdown"
   }
  },
  {
   "cell_type": "markdown",
   "source": "La información de vectores de la **misma dimensión** se puede *juntar* sumando elemento a elemento sus entradas. A esta operación entre vectores se le conoce como suma y es denotada por el operador $+$.",
   "metadata": {
    "cell_id": "00001-7a39f6dc-fc3d-40c4-896a-a81a4ea1c8e3",
    "deepnote_cell_type": "markdown"
   }
  },
  {
   "cell_type": "markdown",
   "source": "Así pues, sean $a,b,c$ $n$-vectores de $\\mathbb{R}^{n}$ donde $c=a+b$, la operación se ilustra como:\n\n$$\nc = a+b = \\begin{bmatrix}a_{0}\\\\ a_{1}\\\\\\vdots \\\\ a_{n-1}\\end{bmatrix} + \\begin{bmatrix}b_{0}\\\\ b_{1}\\\\\\vdots \\\\ b_{n-1}\\end{bmatrix} = \\begin{bmatrix}a_{0} + b_{0}\\\\ a_{1}+b_{1}\\\\\\vdots \\\\ a_{n-1}+b_{n-1}\\end{bmatrix} \n$$\n",
   "metadata": {
    "cell_id": "00002-ee766dc9-54ac-4824-9f28-9347e3249c74",
    "deepnote_cell_type": "markdown"
   }
  },
  {
   "cell_type": "markdown",
   "source": "Por ejemplo:\n$$\n\\begin{bmatrix} 0\\\\ 1\\\\ 2\\end{bmatrix} + \\begin{bmatrix}2\\\\ 3\\\\ -1\\end{bmatrix} = \\begin{bmatrix}0+2\\\\ 1+3 \\\\ 2-1\\end{bmatrix} = \\begin{bmatrix}2\\\\ 4 \\\\ 1\\end{bmatrix} \n$$\nY también:\n$$\n \\left( 1 , 2 , 3 \\right) + \\left( -1 ,-2 , -3 \\right) = \\left( 1-1 , 2-2 , 3-3 \\right) = \\left( 0 , 0 , 0 \\right) = \\mathbf{0}\n$$",
   "metadata": {
    "cell_id": "00003-ecea9e24-9ee9-42a9-ba40-f7d161645a99",
    "deepnote_cell_type": "markdown"
   }
  },
  {
   "cell_type": "markdown",
   "source": "## 2.1 Propiedades de la adición",
   "metadata": {
    "cell_id": "00004-68fae61f-8d80-4c88-a945-e0c2259be94b",
    "deepnote_cell_type": "markdown"
   }
  },
  {
   "cell_type": "markdown",
   "source": "La suma entre vectores es llamada una *operación algebraíca* y esta cumple ciertas propiedades. Consideremos $\\displaystyle\\vec{a},\\displaystyle\\vec{b},\\displaystyle\\vec{c}$ vectores de $\\mathbb{R}^n$ entonces:\n\n* La suma de vectores es *conmutativa*: $\\vec{a}+\\vec{b} = \\vec{b}+\\vec{a}$\n\n* La suma de vectores es *asociativa*: $(\\vec{a}+\\vec{b})+\\vec{c} = \\vec{a}+(\\vec{b}+\\vec{c})$. Por esto último podemos escribir libremente $\\vec{a}+\\vec{b}+\\vec{c}$ ya que el resultado no cambiará según qué pareja de vectores sumemos primero. \n\n* La suma entre vectores, cuando uno es el vector cero, no surte algún efecto sobre el otro vector: $\\vec{a}+\\vec{0}=\\vec{0}+\\vec{a}=\\vec{a}$\n\n* Suma un vector con su inverso o lo que es lo mismo restar dos vectores iguales nos deja con el vector cero: $\\vec{a}-\\vec{a}=\\vec{0}$",
   "metadata": {
    "cell_id": "00005-437eaacc-f33f-4e69-afde-fdd98276e478",
    "deepnote_cell_type": "markdown"
   }
  },
  {
   "cell_type": "markdown",
   "source": "**Advertencia:** No todas las operaciones son cerradas en su espacio vectorial. Es decir, no siempre la suma de dos vectores nos va a mantener en el mismo espacio vectorial.",
   "metadata": {
    "cell_id": "00006-0b7307c1-9cfb-4a8f-9c9c-4f7d260c3f42",
    "deepnote_cell_type": "markdown"
   }
  },
  {
   "cell_type": "markdown",
   "source": "## 2.2 Suma de vectores en Python",
   "metadata": {
    "cell_id": "00007-4f1429d7-b3ee-4785-88c8-715ad8a85f5d",
    "deepnote_cell_type": "markdown"
   }
  },
  {
   "cell_type": "markdown",
   "source": "Vamos a rescatar el ejemplo de la clase pasada: el modelo aditivo RGB.",
   "metadata": {
    "cell_id": "00008-9934bdc2-023d-4fed-a6f4-03eccc144f46",
    "deepnote_cell_type": "markdown"
   }
  },
  {
   "cell_type": "markdown",
   "source": "Sabemos que podemos representar los vectores como listas, por ejemplo, el negro y el rojo son:",
   "metadata": {
    "cell_id": "00009-69e50c2c-dab2-484c-ab5a-9c01738f9f6d",
    "deepnote_cell_type": "markdown"
   }
  },
  {
   "cell_type": "code",
   "metadata": {
    "cell_id": "00010-d664425e-5b34-4b2f-8beb-cd0e19c6e314",
    "deepnote_cell_type": "code"
   },
   "source": "rojo = [255,0,0]\nnegro = [0,0,0]",
   "outputs": [],
   "execution_count": 1
  },
  {
   "cell_type": "markdown",
   "source": "El gran problema es que en Python el operador $+$ entre listas respresenta concatenación y no suma entrada a entrada:",
   "metadata": {
    "cell_id": "00011-ff92f30d-44a3-47a9-b3b2-3441cc30730a",
    "deepnote_cell_type": "markdown"
   }
  },
  {
   "cell_type": "code",
   "metadata": {
    "cell_id": "00012-cfed7315-bc8e-4627-8b69-1964212562a3",
    "deepnote_cell_type": "code"
   },
   "source": "print('rojo + negro resulta en',rojo+negro)",
   "outputs": [
    {
     "name": "stdout",
     "output_type": "stream",
     "text": "rojo + negro resulta en [255, 0, 0, 0, 0, 0]\n"
    }
   ],
   "execution_count": 2
  },
  {
   "cell_type": "markdown",
   "source": "Una solución a esto es crear una función que tome dos listas y las sume entrada por entrada",
   "metadata": {
    "cell_id": "00013-1a8b3eb2-ea94-4392-a222-bd28873e8182",
    "deepnote_cell_type": "markdown"
   }
  },
  {
   "cell_type": "code",
   "metadata": {
    "cell_id": "00014-03e181d4-3e5f-4888-8aa6-79e429556d53",
    "deepnote_cell_type": "code"
   },
   "source": "def suma_vectores(a,b):\n    return [i+j for i,j in zip(a,b)]",
   "outputs": [],
   "execution_count": 3
  },
  {
   "cell_type": "code",
   "metadata": {
    "cell_id": "00015-a774fb1c-e6d3-4395-a131-d469bb99db5d",
    "deepnote_cell_type": "code"
   },
   "source": "print('suma_vectores(rojo,negro) nos devuelve',suma_vectores(rojo,negro))",
   "outputs": [
    {
     "name": "stdout",
     "output_type": "stream",
     "text": "suma_vectores(rojo,negro) nos devuelve [255, 0, 0]\n"
    }
   ],
   "execution_count": 4
  },
  {
   "cell_type": "code",
   "metadata": {
    "cell_id": "00016-ec05984a-94c9-421d-abce-e76c342dd8b1",
    "deepnote_cell_type": "code"
   },
   "source": "print('suma_vectores(verde,negro) nos devuelve',suma_vectores([0,255,0],negro))",
   "outputs": [
    {
     "name": "stdout",
     "output_type": "stream",
     "text": "suma_vectores(verde,negro) nos devuelve [0, 255, 0]\n"
    }
   ],
   "execution_count": 5
  },
  {
   "cell_type": "markdown",
   "source": "Al parecer con esta función gran parte de nuestros problemas se resuelven. Sin embargo a largo plazo nos será más últil comenzar a usar **Numpy**.  \n\n**Numpy** es una biblioteca de Python que nos da soporte para poder operar entre vectores y matrices. De igual manera contiene funciones matemáticas de alto nivel y que también podrán operar con los vectores y matrices. ",
   "metadata": {
    "cell_id": "00017-21d887ed-64a6-4388-b08d-052a0f6df145",
    "deepnote_cell_type": "markdown"
   }
  },
  {
   "cell_type": "markdown",
   "source": "Lo primero que tenemos que hacer es importar la biblioteca numpy",
   "metadata": {
    "cell_id": "00018-4a15067d-1cad-40ad-aeed-bc387a719698",
    "deepnote_cell_type": "markdown"
   }
  },
  {
   "cell_type": "code",
   "metadata": {
    "cell_id": "00019-ec348c96-b257-48fe-a9d6-f160728f05f0",
    "deepnote_cell_type": "code"
   },
   "source": "import numpy as np",
   "outputs": [],
   "execution_count": 6
  },
  {
   "cell_type": "markdown",
   "source": "Después vamos a declarar nuestras listas ya creadas como *numpy.arrays*",
   "metadata": {
    "cell_id": "00020-d6a69137-ee36-4328-83ea-e6dbcc8db9bf",
    "deepnote_cell_type": "markdown"
   }
  },
  {
   "cell_type": "code",
   "metadata": {
    "cell_id": "00021-4005fd61-a0e5-40dc-98d6-05585633fefb",
    "deepnote_cell_type": "code"
   },
   "source": "rojo = np.array(rojo)\nnegro = np.array(negro)",
   "outputs": [],
   "execution_count": 7
  },
  {
   "cell_type": "markdown",
   "source": "Si verificamos el tipo de la función entonces notaremos que es una instancia de *numpy.ndarray*",
   "metadata": {
    "cell_id": "00022-2b80cbe1-7ab8-4c70-b63b-4aa711f91c30",
    "deepnote_cell_type": "markdown"
   }
  },
  {
   "cell_type": "code",
   "metadata": {
    "cell_id": "00023-b551dced-7c97-4eb5-81cd-bf6612fb561e",
    "deepnote_cell_type": "code"
   },
   "source": "print(type(rojo))",
   "outputs": [
    {
     "name": "stdout",
     "output_type": "stream",
     "text": "<class 'numpy.ndarray'>\n"
    }
   ],
   "execution_count": 8
  },
  {
   "cell_type": "markdown",
   "source": "Finalmente, notemos que *rojo* y *negro* ya no son listas de Python sino instancias de numpy. Entre ndarrays el operador $+$ funcionará exactamente como se espera entre vectores, entrada a entrada:",
   "metadata": {
    "cell_id": "00024-43a048f7-156b-437e-9dbb-057be3b51d1f",
    "deepnote_cell_type": "markdown"
   }
  },
  {
   "cell_type": "code",
   "metadata": {
    "cell_id": "00025-e36d3652-4c9f-4fe6-b8a7-d18708144153",
    "deepnote_cell_type": "code"
   },
   "source": "print('La suma de los numpy array rojo + negro es', rojo+negro)",
   "outputs": [
    {
     "name": "stdout",
     "output_type": "stream",
     "text": "La suma de los numpy array rojo + negro es [255   0   0]\n"
    }
   ],
   "execution_count": 9
  },
  {
   "cell_type": "markdown",
   "source": "  ",
   "metadata": {
    "cell_id": "00026-c89bf15c-ac50-421f-80e9-eacf2fe4de4e",
    "deepnote_cell_type": "markdown"
   }
  },
  {
   "cell_type": "markdown",
   "source": "Por completez vamos a realizar un ejercicio más. \n\nSean $\\mathbf{a}=(1,2,3,4,5)$, $\\mathbf{b} = (-1,-2,-3,-4,5)$ y $\\mathbf{c} = \\mathbf{a}+\\mathbf{b} = (0,0,0,0,10)$. Vamos a replicar este cálculo en Python con ayuda de numpy. ",
   "metadata": {
    "cell_id": "00027-5514b19c-8362-4d67-aac9-45c0b2fbb7b6",
    "deepnote_cell_type": "markdown"
   }
  },
  {
   "cell_type": "code",
   "metadata": {
    "cell_id": "00028-e395c1bb-9b9d-49c8-95e4-c447fae246e0",
    "deepnote_cell_type": "code"
   },
   "source": "a = np.array([1,2,3,4,5]) #declaramos el arreglo/vector a\n\nb = np.array([-1,-2,-3,-4,5]) #declaramos el arreglo/vector b",
   "outputs": [],
   "execution_count": 10
  },
  {
   "cell_type": "code",
   "metadata": {
    "cell_id": "00029-7e509322-577f-4706-8a74-21486802b14d",
    "deepnote_cell_type": "code"
   },
   "source": "c = a+b",
   "outputs": [],
   "execution_count": 11
  },
  {
   "cell_type": "code",
   "metadata": {
    "cell_id": "00030-4fd43a26-6f47-496e-af90-b1df57d093ea",
    "deepnote_cell_type": "code"
   },
   "source": "print('La el vector c = a+b =',c)",
   "outputs": [
    {
     "name": "stdout",
     "output_type": "stream",
     "text": "La el vector c = a+b = [ 0  0  0  0 10]\n"
    }
   ],
   "execution_count": 12
  },
  {
   "cell_type": "markdown",
   "source": "  ",
   "metadata": {
    "cell_id": "00031-35b15389-2f12-424d-ae47-2ff3f0580ba2",
    "deepnote_cell_type": "markdown"
   }
  },
  {
   "cell_type": "markdown",
   "source": "**Problema:**\n\nPuedes ir al [siguiente sitio](https://www.w3schools.com/colors/colors_rgb.asp), el sitio te permite introducir un vector del modelo RGB y te muestra el color al que corresponde.  \n\nAhora, primer confirma a qué color corresponden el vector $\\vec{a} = [0,0,255]$ y así responde:\n* ¿Qué color obtienes si sumas $\\vec{rojo}+\\vec{verde}+\\vec{a}$? \n* ¿Qué color obtienes sumando $\\vec{rojo}+\\vec{verde}$?\n* ¿Qué color obtienes sumando $\\vec{negro}-\\vec{a}$? ¿Tiene sentido este resultado dentro del modelo aditivo RGB? No lo tiene. A esto se refiere el hecho de que no todas las operaciones son cerradas en su espacio vectorial.",
   "metadata": {
    "cell_id": "00032-95deca47-2f9f-427d-b8f8-c2eb387e94ad",
    "deepnote_cell_type": "markdown"
   }
  },
  {
   "cell_type": "markdown",
   "source": "<a style='text-decoration:none;line-height:16px;display:flex;color:#5B5B62;padding:10px;justify-content:end;' href='https://deepnote.com?utm_source=created-in-deepnote-cell&projectId=b06e2ad7-2e73-4529-91c1-8e44f8b5881a' target=\"_blank\">\n<img alt='Created in deepnote.com' style='display:inline;max-height:16px;margin:0px;margin-right:7.5px;' src='data:image/svg+xml;base64,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' > </img>\nCreated in <span style='font-weight:600;margin-left:4px;'>Deepnote</span></a>",
   "metadata": {
    "tags": [],
    "created_in_deepnote_cell": true,
    "deepnote_cell_type": "markdown"
   }
  }
 ],
 "nbformat": 4,
 "nbformat_minor": 4,
 "metadata": {
  "kernelspec": {
   "display_name": "Python 3",
   "language": "python",
   "name": "python3"
  },
  "language_info": {
   "codemirror_mode": {
    "name": "ipython",
    "version": 3
   },
   "file_extension": ".py",
   "mimetype": "text/x-python",
   "name": "python",
   "nbconvert_exporter": "python",
   "pygments_lexer": "ipython3",
   "version": "3.7.3"
  },
  "deepnote_notebook_id": "d8589c69-d57e-47a9-aa79-9026eda37c7d",
  "deepnote": {},
  "deepnote_execution_queue": []
 }
}