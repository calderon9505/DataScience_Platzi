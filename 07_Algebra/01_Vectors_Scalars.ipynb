{
 "cells": [
  {
   "cell_type": "markdown",
   "source": "# 1. Vectores",
   "metadata": {
    "id": "EAZS5U92XOI7",
    "cell_id": "00000-60daf0b7-74e5-4ce1-8c61-2fd1e25b25b9",
    "deepnote_cell_type": "markdown"
   }
  },
  {
   "cell_type": "markdown",
   "source": "Un *vector* es una lista finita de números.\n* Vector columna:\n$$\n\\begin{Bmatrix} 1 \\\\ 2 \\\\ 3\\end{Bmatrix} \\qquad o, \\qquad \\begin{bmatrix}1\\\\2\\\\3\\end{bmatrix} \\qquad o, \\qquad  \\begin{pmatrix} 1 \\\\ 2 \\\\ 3 \\end{pmatrix}\n$$\n* Vector renglón\n$$\n \\left( 1 , 2 , 3 \\right) \\qquad o \\qquad \\left[1,2,3\\right]\n$$",
   "metadata": {
    "id": "1jAWFRqlXRRZ",
    "cell_id": "00001-9cbf4e08-b0f2-4235-8876-e3e5e59bb1a0",
    "deepnote_cell_type": "markdown"
   }
  },
  {
   "cell_type": "markdown",
   "source": "Los *elementos* (o *entradas, coeficientes, componentes*) son los valores en el arreglo (los de dentro de los corchetes). El *tamaño* (que también podremos llamar *dimensión* o *longitud*) es el número de elementos que contiene. Por ejemplo, todos los vectores mostrados anteriormente son de dimension 3 o bien *$3$-vectores*. ",
   "metadata": {
    "id": "3hfoTfZ9ZI-l",
    "cell_id": "00002-f5af8077-f55b-40af-bb3e-ffa08b0ba56e",
    "deepnote_cell_type": "markdown"
   }
  },
  {
   "cell_type": "markdown",
   "source": "En el caso de tener un $1$-vector, e.g. $\\left(1.5\\right)$, no haremos distinción entre el 1-vector y el *escalar* (o número, *parámetro*) $1.5$. ",
   "metadata": {
    "id": "dcHYlJrqaHG3",
    "cell_id": "00003-e8a84397-f42f-4c68-b865-f2972da7322e",
    "deepnote_cell_type": "markdown"
   }
  },
  {
   "cell_type": "markdown",
   "source": "Ahora, si tenemos un $n$-vector $a$ su $i$-ésima entrada se denotara por $a_{i}$. \n\nPor ejemplo, si $a = (1,2,3)$ entonces $a_{0}$ es igual a $1$, $a_{1}$ es 2 y $a_{2}$ es 3.\n\nOtro ejemplo sería $b=(3.5,-2.4,0)$ entonces $b_{0}$ es 3.5, $b_{1}$ es -2.4 y $b_{2}$ es 0",
   "metadata": {
    "id": "ZcP2dExzfBXS",
    "cell_id": "00004-c6a5ceb1-231a-4569-bfbe-a37ed3d045ea",
    "deepnote_cell_type": "markdown"
   }
  },
  {
   "cell_type": "markdown",
   "source": "Sean $a$,$b$ dos vectores. Diremos que $a=b$ si y solo si $a_{i}=b_{i}$ con i de $0$ a $n-1$.  \nEn símbolos: \n> Sean $a$,$b$ dos vectores, $a = b \\; \\Leftrightarrow \\; a_{i}=b_{i} \\; con \\; 0\\le i \\le n-1$",
   "metadata": {
    "cell_id": "00006-479ddfcd-38da-4dba-9109-274405e7ef41",
    "deepnote_cell_type": "markdown"
   }
  },
  {
   "cell_type": "markdown",
   "source": "En el futuro nos vamos a referir a dos estrucuras: **espacios vectoriales** y **campos**. De manera simplificada podríamos pensar que los *números* viven en los campos mientras que los vectores viven en los espacios vectoriales.   \n\nComo ejemplo, supongamos que tenemos los números $a=1$,$b=2$ y $c=-3$. En este caso decimos que $a\\in \\mathbb{Z}$, $b\\in \\mathbb{Z}$ y $c\\in \\mathbb{Z}$ con $\\mathbb{Z}$ el **conjuto de los números enteros**. Para fines prácticos $\\mathbb{Z}$ es también un campo. \n\nOtro ejemplo sería considerar $a=1$,$b=2.2$ y $c=-3.99$- En este caso decimos que $a\\in \\mathbb{R}$, $b\\in \\mathbb{R}$ y $c\\in \\mathbb{R}$ con $\\mathbb{R}$ el **conjunto de los números reales**. Para fines prácticos $\\mathbb{R}$ es también un campo.  \n\nComo último ejemplo, sean $a=(0.2,-2)$ y $b=(-1.2,-3.4)$ dos vectores. En este caso decimos que $a\\in \\mathbb{R}^{2}$ y $b\\in \\mathbb{R}^{2}$, y en general para cualquier $v$ n-vector de entradas reales decimos que $v\\in \\mathbb{R}^{n}$. ",
   "metadata": {
    "cell_id": "00007-322fdf9e-5179-497d-a1f2-3a339aa255e6",
    "deepnote_cell_type": "markdown"
   }
  },
  {
   "cell_type": "markdown",
   "source": "Así pues si el objeto del que estamos hablando es elemento de un espacio vectorial entonces nos referiremos a el como vector, en cambio si el objeto del que hablamos es elemento de un campo entonces nos referimos al mismo como *escalar*. ",
   "metadata": {
    "cell_id": "00008-d949c81e-0d7d-4c5c-9c7f-ffba4616621b",
    "deepnote_cell_type": "markdown"
   }
  },
  {
   "cell_type": "markdown",
   "source": "## 1.1 Algunas consideraciones",
   "metadata": {
    "cell_id": "00009-ced0fd84-8718-41cb-9424-e6610ecd4136",
    "deepnote_cell_type": "markdown"
   }
  },
  {
   "cell_type": "markdown",
   "source": "**Bloque o stack de vectores**. Nos será útil definir vectores *concatenando* otros vectores. Por ejemplo, sean $a,b,c,d$ cuatro vectores con:\n$$\n a = \\begin{bmatrix}b\\\\ c\\\\ d \\end{bmatrix} ,\n$$\nSi $b$ es un $m$-vector, $c$ un $n$-vector y $d$ un $p$-vector entonces a queda definido como el $(m+n+p)$-vector \n$$\na = \\left( b_{0},b_{1},\\dots,b_{m-1},c_{0},c_{1},\\dots,c_{n-1},d_{0},d_{1},\\dots,d_{p-1} \\right)\n$$  \nPor ejemplo, si $B=(1,2)$ y $C=(1.2,-4.7,0.1)$ entonces tenemos que:\n$$\nA = \\left(B,C\\right) = \\left(1,2,1.2,-4.7,0.1 \\right)\n$$",
   "metadata": {
    "cell_id": "00010-ec01a838-8206-444d-97fe-d3ffe496a539",
    "deepnote_cell_type": "markdown"
   }
  },
  {
   "cell_type": "markdown",
   "source": "  ",
   "metadata": {
    "cell_id": "00011-6a187b9b-cfde-4fef-8ec8-5bc221ca43fa",
    "deepnote_cell_type": "markdown"
   }
  },
  {
   "cell_type": "markdown",
   "source": "**Subvector**.\nConsideremos el ejemplo anterior donde $a$ es un $(m+n+p)$-vector. Vamos a considerar a $b,c,d$ subvectores de $a$ de tamaños $m,n$ y $p$ respectivamente. Para referirnos a cualquier subvector de $a$ usaremos la notación de dos puntos. Si consideramos $a$ nuestro vector entonces $a_{r:s}$ es un vector de tamaño $s-r+1$\n$$\na_{r:s} = (a_{r},a_{r+1},\\dots, a_{s})\n$$\nEl subíndice $r:s$ es llamado el *índice de rango*. Y así entonces, siguiendo el ejemplo de anterior tenemos que:\n$$\nb = a_{0:(m-1)}, \\qquad c = a_{m:(m+n-1)}, \\qquad d=a_{(m+n):(m+n+p-1)}\n$$",
   "metadata": {
    "cell_id": "00012-19c8ab32-b895-4bf6-81a2-1dc1df1d0939",
    "deepnote_cell_type": "markdown"
   }
  },
  {
   "cell_type": "markdown",
   "source": "  ",
   "metadata": {
    "cell_id": "00013-c31d67ae-ceff-45a2-99e7-b992fe074ec9",
    "deepnote_cell_type": "markdown"
   }
  },
  {
   "cell_type": "markdown",
   "source": "**Convención en notación**. Regularmente se trata de usar alguna notación para ayudar a distiguir entre vectores y escalares. Por ejemplo, letras Griegas ($\\alpha, \\beta, \\gamma, \\dots, \\Omega$) pueden ser usadas para escalares mientras que letras minúsculas para vectores ($a,b,c,\\dots,x,y,z$). Otras conveciones incluyen denotar los vectores como letras minúsculas en negríta ($\\mathbf{a},\\dots,\\mathbf{x},\\mathbf{y},\\mathbf{z}$) y otras con flechas arriba de la letra ($\\vec{a},\\dots,\\vec{x},\\vec{y},\\vec{z}$). Estas convenciones no son un estándar y quien estudie esta materia debería de conocer las más comunes al igual que estar a la espera de poder ver nuevas.  \nA lo largo de este curso se usarán de manera indistinta estas notaciones. ",
   "metadata": {
    "cell_id": "00014-55715aae-c9f3-4578-866d-993b23ba951b",
    "deepnote_cell_type": "markdown"
   }
  },
  {
   "cell_type": "markdown",
   "source": "  ",
   "metadata": {
    "cell_id": "00015-c9437eb0-d584-4438-8753-261fa50eb0c6",
    "deepnote_cell_type": "markdown"
   }
  },
  {
   "cell_type": "markdown",
   "source": "**Indexación**. Quien estudie este curso deberá estar muy atento a este tema ya que en la gran mayoría de literatura el estándar es que los índices  de los $n$-vectores corran desde $i=1$ hasta $i=n$. En este curso, y salvo que se indique explícitamente lo contrario, los índices en los $n$-vectores correrán desde $i=0$ hasta $n-1$ para hacer más natural la introducción de los conceptos y problemas en python.",
   "metadata": {
    "cell_id": "00016-5f736db3-9a44-47d0-9f76-7042a6b5dd2a",
    "deepnote_cell_type": "markdown"
   }
  },
  {
   "cell_type": "markdown",
   "source": "  ",
   "metadata": {
    "cell_id": "00017-b17be141-f4d8-48d6-af06-3e20141cd8c8",
    "deepnote_cell_type": "markdown"
   }
  },
  {
   "cell_type": "markdown",
   "source": "**Cero vectores**. Un *cero vector* es un vector en el cual todos los elementos son igual a cero. Algunas veces el cero vector de dimensión $n$ es escrito como $\\mathbf{0}_{n}$ pero usualmente es denotado simplemente como $\\mathbf{0}$.  \nPor ejemplo $\\mathbf{0} = (0,0)$",
   "metadata": {
    "cell_id": "00018-35cb2ab6-14f4-4f05-b4b5-76e80684932a",
    "deepnote_cell_type": "markdown"
   }
  },
  {
   "cell_type": "markdown",
   "source": "  ",
   "metadata": {
    "cell_id": "00019-baf428d4-b20c-42e4-9505-e61551026c5d",
    "deepnote_cell_type": "markdown"
   }
  },
  {
   "cell_type": "markdown",
   "source": "**Uno vectores**. Los *uno vectores* son $n$-vectores en los cuales todas las entradas son igual a uno. Algunas veces son representados como $\\mathbf{1}_{n}$ pero usualmente es denotado simplemente como $\\mathbf{1}$.  \nUn ejemplo sería el uno vector de dimensión 2: $\\mathbf{1} = (1,1)$.  ",
   "metadata": {
    "cell_id": "00020-e357d19d-e17a-43ff-8329-8bd04cd798e1",
    "deepnote_cell_type": "markdown"
   }
  },
  {
   "cell_type": "markdown",
   "source": "  ",
   "metadata": {
    "cell_id": "00021-c115d215-d72c-4c89-b956-3eda65aa0111",
    "deepnote_cell_type": "markdown"
   }
  },
  {
   "cell_type": "markdown",
   "source": "**Vectores unitarios**. El *vector unitario* $\\mathbf{e}_{i}$ es aquel en donde todas las entradas son cero salvo la $i$-ésima.  \nPor ejemplo, si $\\mathbf{e}_{1}$, $\\mathbf{e}_{2}$ y $\\mathbf{e}_{3}$ son 3-vectores unitarios estos se ven como:\n$$\n\\mathbf{e}_{0} =  \\begin{bmatrix}1\\\\ 0\\\\ 0 \\end{bmatrix}, \\qquad \\mathbf{e}_{1} =  \\begin{bmatrix}0\\\\ 1\\\\ 0 \\end{bmatrix}, \\qquad \\mathbf{e}_{2} =  \\begin{bmatrix}0\\\\ 0\\\\ 1 \\end{bmatrix}\n$$\nUna forma de representar a los vectores unitarios es la siguiente:\n$$\n\\left( e_{i} \\right)_{j} = \\{\n\\begin{matrix} \n1 & \\text{si } i=j \\\\ \n0 & \\text{si } i \\neq j\n\\end{matrix}\n$$\n",
   "metadata": {
    "cell_id": "00022-b3b1173f-7852-48ad-97bd-043386c4e32b",
    "deepnote_cell_type": "markdown"
   }
  },
  {
   "cell_type": "markdown",
   "source": "## 1.2 Un ejemplo: Colores RGB",
   "metadata": {
    "cell_id": "00023-d2448f56-17b6-42d0-946c-9343ec445745",
    "deepnote_cell_type": "markdown"
   }
  },
  {
   "cell_type": "markdown",
   "source": "Casi todos los colores que conocemos se pueden genrar mediante [el modelo aditivo RGB](https://en.wikipedia.org/wiki/RGB_color_model).  \nEn este modelo se presentan los colores como combinaciones de *concetraciones* en un vector y en donde cada una de las entradas representa la concentracción de ese color.",
   "metadata": {
    "cell_id": "00024-cff370f4-9fc2-4f5f-9597-b5e4e7c06a12",
    "deepnote_cell_type": "markdown"
   }
  },
  {
   "cell_type": "markdown",
   "source": "Sea $\\vec{c}\\in\\mathbb{Z}_{+}^{3}$ (un vector de dimensión 3 cuyas entradas son todas únicamente enteros positivos). $c_{0}$ corresponde con la concetración de rojo, $c_{1}$ corresponde a la concetración de verde y $c_{2}$ corresponde con la concetración de azul.  \n\nAhora, cualquier color lo vamos a poder representar como combinación de estos colores, además el modelo completo es $(\\mathbb{Z}^{3},+)$ esto quiere decir que podemos sumar vectores de colores y y obtener un color nuevo que exista. ",
   "metadata": {
    "cell_id": "00025-7ad19ca1-e5cc-4c58-955a-79b68e10f390",
    "deepnote_cell_type": "markdown"
   }
  },
  {
   "cell_type": "markdown",
   "source": "Por ejemplo el vector $\\mathbf{0}$ en este caso corresponde con el color negro, el vector $(255,0,0)$ correponde a rojo y el vector $(0,255,0)$ corresponde al verde. Si sumamos los vectores tenemos entonces el vector $(255,255,0)$ que corresponde al amarillo.",
   "metadata": {
    "cell_id": "00026-9af25b37-82a4-4ee2-8fc6-15a497fbf643",
    "deepnote_cell_type": "markdown"
   }
  },
  {
   "cell_type": "markdown",
   "source": "En python estos vectores los podemos representar mediante listas.",
   "metadata": {
    "cell_id": "00027-9f51514d-906c-4fd0-8c70-49957fae9db6",
    "deepnote_cell_type": "markdown"
   }
  },
  {
   "cell_type": "code",
   "metadata": {
    "cell_id": "00028-70501bbc-e1e5-48d7-adb1-cc66a21f9512",
    "deepnote_cell_type": "code"
   },
   "source": "rojo = [255,0,0]\nverde = [0,255,0] \nazul = [0,0,255]\nnegro = [0,0,0]",
   "execution_count": 1,
   "outputs": []
  },
  {
   "cell_type": "code",
   "metadata": {
    "cell_id": "00029-fd9b332b-4c48-4def-916d-e9dfd1d84558",
    "deepnote_cell_type": "code"
   },
   "source": "print('El color rojo en el modelo RGB se puede representar por el vector:',rojo)",
   "execution_count": 5,
   "outputs": [
    {
     "name": "stdout",
     "output_type": "stream",
     "text": "El color rojo en el modelo RGB se puede representar por el vector: [255, 0, 0]\n"
    }
   ]
  },
  {
   "cell_type": "code",
   "metadata": {
    "cell_id": "00030-58fc349a-44d3-4241-bf65-6d20c38013a5",
    "deepnote_cell_type": "code"
   },
   "source": "print('El color verde en el modelo RGB se puede representar por el vector:',verde)",
   "execution_count": 6,
   "outputs": [
    {
     "name": "stdout",
     "output_type": "stream",
     "text": "El color verde en el modelo RGB se puede representar por el vector: [0, 255, 0]\n"
    }
   ]
  },
  {
   "cell_type": "code",
   "metadata": {
    "cell_id": "00031-c95c96c5-0e38-4e51-8641-eca4d4256204",
    "deepnote_cell_type": "code"
   },
   "source": "print('El color negro en el modelo RGB se puede representar por el vector:',negro)",
   "execution_count": 7,
   "outputs": [
    {
     "name": "stdout",
     "output_type": "stream",
     "text": "El color negro en el modelo RGB se puede representar por el vector: [0, 0, 0]\n"
    }
   ]
  },
  {
   "cell_type": "markdown",
   "source": "  ",
   "metadata": {
    "cell_id": "00032-7ace013d-a917-4410-b2bd-1ca522ac8b01",
    "deepnote_cell_type": "markdown"
   }
  },
  {
   "cell_type": "markdown",
   "source": "En python podemos responder también la pregunta de la dimensión del vector mediante la función **len**",
   "metadata": {
    "cell_id": "00033-2f055b62-a5af-4a3b-93c4-eb81f3ba8917",
    "deepnote_cell_type": "markdown"
   }
  },
  {
   "cell_type": "code",
   "metadata": {
    "cell_id": "00034-d557cf0f-cfb8-4973-868c-6fff7ff293a3",
    "deepnote_cell_type": "code"
   },
   "source": "print('La dimensión de un vector del modelo RGB es',len(verde))",
   "execution_count": 8,
   "outputs": [
    {
     "name": "stdout",
     "output_type": "stream",
     "text": "La dimensión de un vector del modelo RGB es 3\n"
    }
   ]
  },
  {
   "cell_type": "markdown",
   "source": "  ",
   "metadata": {
    "cell_id": "00035-dd00caf3-7dfd-4993-aeca-a83d892143ab",
    "deepnote_cell_type": "markdown"
   }
  },
  {
   "cell_type": "markdown",
   "source": "De igual manera poder crear un stack de vectores pendiante el operador **+**. ",
   "metadata": {
    "cell_id": "00036-2c5d3451-4e74-49d2-9baa-a7dcf724200e",
    "deepnote_cell_type": "markdown"
   }
  },
  {
   "cell_type": "code",
   "metadata": {
    "cell_id": "00037-b553f920-65f7-4fa7-bdf2-ef81ac40c656",
    "deepnote_cell_type": "code"
   },
   "source": "Rojo_y_Verde = rojo+verde",
   "execution_count": 15,
   "outputs": []
  },
  {
   "cell_type": "code",
   "metadata": {
    "cell_id": "00038-a8a4bb0d-cc30-4357-972d-76902b67428f",
    "deepnote_cell_type": "code"
   },
   "source": "print('El vector resultante de concatenar los vectores rojo y verde es',Rojo_y_Verde)",
   "execution_count": 16,
   "outputs": [
    {
     "name": "stdout",
     "output_type": "stream",
     "text": "El vector resultante de concatenar los vectores rojo y verde es [255, 0, 0, 0, 255, 0]\n"
    }
   ]
  },
  {
   "cell_type": "markdown",
   "source": "  ",
   "metadata": {
    "cell_id": "00039-f3d3f9fd-15e4-4f5c-91b7-389eb9d3745a",
    "deepnote_cell_type": "markdown"
   }
  },
  {
   "cell_type": "markdown",
   "source": "De igual manera podemos obtener del vector *Rojo_y_Verde* los subvectores correspondientes a los vectores *rojo* y *verde*",
   "metadata": {
    "cell_id": "00040-040a0055-9f5a-4d74-a2a7-caf4ae45b58c",
    "deepnote_cell_type": "markdown"
   }
  },
  {
   "cell_type": "code",
   "metadata": {
    "cell_id": "00041-fe4c7689-2b6f-4b9a-99ee-68b3d1d3584c",
    "deepnote_cell_type": "code"
   },
   "source": "print('El subvector del vector Rojo_y_Verde que corresponde al rojo es el vector que va del 0:3', Rojo_y_Verde[0:3])",
   "execution_count": 17,
   "outputs": [
    {
     "name": "stdout",
     "output_type": "stream",
     "text": "El subvector del vector Rojo_y_Verde que corresponde al rojo es el vector que va del 0:3 [255, 0, 0]\n"
    }
   ]
  },
  {
   "cell_type": "code",
   "metadata": {
    "cell_id": "00042-0e9390e9-fceb-4608-95c0-8455faadc335",
    "deepnote_cell_type": "code"
   },
   "source": "print('El subvector del vector Rojo_y_Verde que corresponde al verde es el vector que va del 3:6', Rojo_y_Verde[3:6])",
   "execution_count": 18,
   "outputs": [
    {
     "name": "stdout",
     "output_type": "stream",
     "text": "El subvector del vector Rojo_y_Verde que corresponde al verde es el vector que va del 3:6 [0, 255, 0]\n"
    }
   ]
  },
  {
   "cell_type": "markdown",
   "source": "<a style='text-decoration:none;line-height:16px;display:flex;color:#5B5B62;padding:10px;justify-content:end;' href='https://deepnote.com?utm_source=created-in-deepnote-cell&projectId=b06e2ad7-2e73-4529-91c1-8e44f8b5881a' target=\"_blank\">\n<img alt='Created in deepnote.com' style='display:inline;max-height:16px;margin:0px;margin-right:7.5px;' src='data:image/svg+xml;base64,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' > </img>\nCreated in <span style='font-weight:600;margin-left:4px;'>Deepnote</span></a>",
   "metadata": {
    "tags": [],
    "created_in_deepnote_cell": true,
    "deepnote_cell_type": "markdown"
   }
  }
 ],
 "nbformat": 4,
 "nbformat_minor": 4,
 "metadata": {
  "colab": {
   "name": "Vectores.ipynb",
   "provenance": []
  },
  "kernelspec": {
   "display_name": "Python 3",
   "language": "python",
   "name": "python3"
  },
  "language_info": {
   "codemirror_mode": {
    "name": "ipython",
    "version": 3
   },
   "file_extension": ".py",
   "mimetype": "text/x-python",
   "name": "python",
   "nbconvert_exporter": "python",
   "pygments_lexer": "ipython3",
   "version": "3.7.3"
  },
  "deepnote_notebook_id": "0fea149d-e0fa-4102-b293-3d925775eb0f",
  "deepnote": {},
  "deepnote_execution_queue": []
 }
}