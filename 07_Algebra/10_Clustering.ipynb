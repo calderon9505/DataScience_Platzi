{
 "cells": [
  {
   "cell_type": "markdown",
   "source": "# 10. Clustering",
   "metadata": {
    "cell_id": "00000-5646910f-7864-4ea1-8d0e-79474eb4ce05",
    "deepnote_cell_type": "markdown"
   }
  },
  {
   "cell_type": "markdown",
   "source": "Acá va a ser donde todo el conocimiento que adquirimos hasta ahora se va a juntar. ",
   "metadata": {
    "cell_id": "00001-456e0889-46d4-4713-b33e-66faf50bb4b2",
    "deepnote_cell_type": "markdown"
   }
  },
  {
   "cell_type": "markdown",
   "source": "Lo que vamos a hacer es tratar de _clusterizar_ una colección de vectores en grupos o clústers de vectores que son los que estarán cerca unos de otros y todo a través de medir las distancias a pares. ",
   "metadata": {
    "cell_id": "00002-afaecd90-28c5-445a-a0ac-fcb104d87e06",
    "deepnote_cell_type": "markdown"
   }
  },
  {
   "cell_type": "markdown",
   "source": "Supongamos que tenemos un grupo de $N$ $n$-vectores $x_{0},x_{1},\\dots,x_{N-1}$. El objetivo de _clustering_ es agrupar (si es posible) en $k$ grupos los vectores tal que dentro de esos grupos estén lo más cerca posible unos de otros. ",
   "metadata": {
    "cell_id": "00003-f3c4a55e-9236-4ccb-b8cc-0d3b05c8cd21",
    "deepnote_cell_type": "markdown"
   }
  },
  {
   "cell_type": "markdown",
   "source": "![](https://static.platzi.com/media/public/uploads/fig1_ea3db9dd-9336-4374-902f-96816a1246ff.png)",
   "metadata": {
    "cell_id": "00004-48fa70af-d456-4cf3-b87d-cb323ee2c890",
    "deepnote_cell_type": "markdown"
   }
  },
  {
   "cell_type": "markdown",
   "source": "## 10.1 El objetivo de clustering",
   "metadata": {
    "cell_id": "00006-7d3fd487-f352-435b-a7bb-96ab8dfff6ab",
    "deepnote_cell_type": "markdown"
   }
  },
  {
   "cell_type": "markdown",
   "source": "**Específicar el asignamiento de clúster**. Uno de los primeros problemas es asignar a una serie de vectores un clúster. Ahora, para empezar, vamos a partir teniendo las etiquetas $1,2,\\dots,k$ que representan los clusters o grupos y estas etiquetas se las vamos a asignar a nuestros $N$ vectores usando al $N$-vector $c$, donde $c_{i}$ va a representar el grupo al que el vector $x_{i}$ está asignado. Por ejemplo, si $N=6$ y $k=3$, y además $c^{T} = [3,1,1,1,2,2]$ entonces esto significa que el vector $x_{0}$ quedará asignado al grupo $3$, los vectores $x_{1},x_{2},x_{3}$ estarán asignados al grupo $1$ y los vectores $x_{4},x_{5}$ quedarán asignados al grupo 2. Ahora, una forma alternativa de expresar esto es con conjuntos de los index de los vectores. Vamos a denotar como $G_{i}$ al grupo $i$ de indices de vectores que pertenecen a cada grupo. Continuando nuestro ejemplo entonces tenemos que\n\n$$\nG_{1} = \\{1,2,3\\}, \\qquad G_{2} = \\{4,5\\}, \\qquad G_{3} = \\{0\\}\n$$",
   "metadata": {
    "cell_id": "00007-356b4bdd-0cf8-47e2-b4f8-ea8e218d101c",
    "deepnote_cell_type": "markdown"
   }
  },
  {
   "cell_type": "markdown",
   "source": "**Representativos de un grupo.** Ahora, consideremos de nuevo que tenemos $k$ grupos, a cada uno de estos grupos le vamos a asignar un vector representativo, el cual vamos a denotar por $z_{1},z_{2},\\dots,z_{k}$. Estos vectores representativos pueden ser cualquier vector, no tiene que ser necesariamente uno de los vectores dados. Sin embargo, tiene que ser tal que la distancia de este $z_{i}$ a todos los otros vectores del grupo sea la mínima.",
   "metadata": {
    "cell_id": "00008-759e036c-b54d-4f51-b675-d80d0ebc7217",
    "deepnote_cell_type": "markdown"
   }
  },
  {
   "cell_type": "markdown",
   "source": "**Un objetivo de clustering.** Ahora bien, ya que definimos lo anterior podemos dar una métrica que nos ayude a juzgar la elección de un clúster en conjunto con los representativos de cada grupo. Definimos entonces:\n\n$$\nJ^{clust} = (||x_{0}-z_{c_{1}}||^{2}+\\cdots+||x_{N-1}-z_{c_{N}}||^{2})/N\n$$",
   "metadata": {
    "cell_id": "00009-5b89d968-fea9-43a1-88c1-7bb1f8bb13c9",
    "deepnote_cell_type": "markdown"
   }
  },
  {
   "cell_type": "markdown",
   "source": "**Clustering óptimo y subóptimo.** Nosotros vamos a buscar un clustering, es decir, un asignamiento de cluster $c_{1},c_{2},\\dots,c_{N}$ y vamos a elegir unos representativos $z_{1},z_{2},\\dots,z_{N}$ que minimicen el objetivo $J^{clust}$. Al que nos retorne el $J^{clust}$ mínimo le vamos a llamar clustering óptimo. Aunque no existe tal solución lo que vamos a hacer es aproximarla por medio del algoritmo *k-means*, a esta solución le llamaremos *subóptima* y aunque no es solución exacta del problema es lo sufientemente buena para poder trabajar con ella. ",
   "metadata": {
    "cell_id": "00010-16de18e9-f522-4a81-b1a0-e720ed7bb707",
    "deepnote_cell_type": "markdown"
   }
  },
  {
   "cell_type": "markdown",
   "source": "## 10.2 El algoritmo K-Means",
   "metadata": {
    "cell_id": "00011-08d88ef3-63b3-46ce-a0e4-e9f79e4bc6d3",
    "deepnote_cell_type": "markdown"
   }
  },
  {
   "cell_type": "markdown",
   "source": "**ALGORITMO** Algoritmo K-Means  \n**iniciar** Se da una lista de $N$ vectores y una lista de $k$ vectores representativos $z_{1},z_{2},\\dots,z_{k}$  \n\nrepetir hasta la convergencia:\n1. *Parte los vectores en k-grupos*. Para cada vector $i=0,\\dots,N-1$, asigna  $x_{i}$ a un grupo asociado con su representativo más cercano. \n2. *Actualiza los representativos de cada cluster*. Para cada grupo $1,\\dots, k$ selecciona $z_{j}$ como el promedio de los vectores del grupo $j$.",
   "metadata": {
    "cell_id": "00012-c8d16f66-e476-4fdd-8468-e65747295544",
    "deepnote_cell_type": "markdown"
   }
  },
  {
   "cell_type": "markdown",
   "source": "![](https://static.platzi.com/media/public/uploads/it1_1177911a-a650-4ba8-8afe-713f979be36a.png)",
   "metadata": {
    "cell_id": "00013-43251878-b406-46db-ab4e-8cb47dac30af",
    "deepnote_cell_type": "markdown"
   }
  },
  {
   "cell_type": "markdown",
   "source": "![](https://static.platzi.com/media/public/uploads/it3_b63841f7-089c-4af1-aa01-7e28a94fbfeb.png)",
   "metadata": {
    "cell_id": "00015-0af40237-4393-4c1b-9f38-9803c89bec73",
    "deepnote_cell_type": "markdown"
   }
  },
  {
   "cell_type": "markdown",
   "source": "![](https://static.platzi.com/media/public/uploads/it4_2fd8f16e-2c18-419a-be94-3e60c7d952cf.png)",
   "metadata": {
    "cell_id": "00016-5fe7ef71-48ea-4a3d-b60e-89c39c009691",
    "deepnote_cell_type": "markdown"
   }
  },
  {
   "cell_type": "markdown",
   "source": "![](https://static.platzi.com/media/public/uploads/it5_781a65bc-cd89-4a23-aaa5-44ae1a1ac3df.png)",
   "metadata": {
    "cell_id": "00017-4ce5b6ff-f1eb-42fb-a025-58a9c7ba5c29",
    "deepnote_cell_type": "markdown"
   }
  },
  {
   "cell_type": "code",
   "metadata": {
    "cell_id": "00018-1423ba47-3dc8-4988-bccd-2574398f96c7",
    "deepnote_to_be_reexecuted": false,
    "source_hash": "33c9e287",
    "execution_start": 1636475636757,
    "execution_millis": 15,
    "deepnote_cell_type": "code"
   },
   "source": "def group_assignment(data,centroids):\n    grouping_vec_c = np.zeros(len(data))\n    for i in range(len(data)):\n        dist = np.zeros(len(centroids))\n        for j in range(len(centroids)):\n            dist[j] = np.linalg.norm(data[i] - centroids[j])\n        min_dist = min(dist)\n        for j in range(len(centroids)):\n            if min_dist == dist[j]:\n                grouping_vec_c[i] = j+1\n    return grouping_vec_c",
   "outputs": [],
   "execution_count": null
  },
  {
   "cell_type": "code",
   "metadata": {
    "cell_id": "00019-d929dc93-c91e-4ea1-912a-ae80735d03c1",
    "deepnote_to_be_reexecuted": false,
    "source_hash": "1bec274",
    "execution_start": 1636475636829,
    "execution_millis": 0,
    "deepnote_cell_type": "code"
   },
   "source": "def update_centroid(data, grouping, centroids):\n    new_centroids = [];\n    for i in range(len(centroids)):\n        cent = np.zeros(len(data[0]))\n        count = 0\n        for j in range(len(data)):\n            if grouping[j] == (i+1):\n                cent = cent+data[j]\n                count += 1\n        group_average = cent/count\n        new_centroids.append(group_average)\n    return new_centroids",
   "outputs": [],
   "execution_count": null
  },
  {
   "cell_type": "code",
   "metadata": {
    "cell_id": "00020-5ca0597f-6ebe-4311-a7d8-a544e4c030e2",
    "deepnote_to_be_reexecuted": false,
    "source_hash": "9848ae95",
    "execution_start": 1636475636830,
    "execution_millis": 44,
    "deepnote_cell_type": "code"
   },
   "source": "def clustering_objective(data, grouping, centroids):\n    J_obj = 0\n    for i in range(len(data)):\n        for j in range(len(centroids)):\n            if grouping[i] == (j+1):\n                J_obj += np.linalg.norm(data[i] - centroids[j])**2\n    J_obj = J_obj/len(data)\n    return J_obj",
   "outputs": [],
   "execution_count": null
  },
  {
   "cell_type": "code",
   "metadata": {
    "cell_id": "00021-903dc536-4c0f-4225-b3ad-1bc39154b18b",
    "deepnote_to_be_reexecuted": false,
    "source_hash": "5ce156cb",
    "execution_start": 1636475636874,
    "execution_millis": 1,
    "deepnote_cell_type": "code"
   },
   "source": "def Kmeans_alg(data, centroids):\n    iteration = 0\n    J_obj_vector = []\n    Stop = False\n    while Stop == False:\n        grouping = group_assignment(data, centroids)\n        new_centroids = update_centroid(data, grouping, centroids)\n        J_obj = clustering_objective(data, grouping,new_centroids)\n        J_obj_vector.append(J_obj)\n        iteration += 1\n        if np.linalg.norm(np.array(new_centroids) - np.array(centroids)) < 1e-6:\n            Stop = True\n        else:\n            centroids = new_centroids\n    return new_centroids, grouping, J_obj_vector, iteration",
   "outputs": [],
   "execution_count": null
  },
  {
   "cell_type": "code",
   "metadata": {
    "cell_id": "00022-8ec908de-56cf-40fa-81ba-e8980ce349e1",
    "deepnote_to_be_reexecuted": false,
    "source_hash": "21e32291",
    "execution_start": 1636475636932,
    "execution_millis": 832,
    "deepnote_cell_type": "code"
   },
   "source": "import matplotlib.pyplot as plt\nimport numpy as np",
   "outputs": [],
   "execution_count": null
  },
  {
   "cell_type": "code",
   "metadata": {
    "cell_id": "00023-c0e899ca-2feb-4aac-9543-bf1294b03060",
    "deepnote_to_be_reexecuted": false,
    "source_hash": "702bac4",
    "execution_start": 1636475637808,
    "execution_millis": 675,
    "deepnote_cell_type": "code"
   },
   "source": "fig,ax = plt.subplots(1,1,figsize=(7,7),dpi=120)\nX = np.concatenate([[0.3*np.random.randn(2) for i in range(100)],\\\n                    [[1,1] + 0.3*np.random.randn(2) for i in range(100)], \\\n                    [[1,-1]+ 0.3* np.random.randn(2) for i in range(100)]])\nax.scatter( X[:,0],X[:,1])\nax.set_xlim(-1.5,2.5)\nax.set_ylim(-2,2)\nplt.show()",
   "outputs": [
    {
     "data": {
      "text/plain": "<Figure size 840x840 with 1 Axes>",
      "image/png": "[encoded data removed]"
     },
     "metadata": {
      "needs_background": "light",
      "image/png": {
       "width": 740,
       "height": 694
      }
     },
     "output_type": "display_data"
    }
   ],
   "execution_count": null
  },
  {
   "cell_type": "code",
   "source": "X[0]",
   "metadata": {
    "tags": [],
    "cell_id": "00022-4cefcd3b-eb51-40bc-95e1-43f9933e18fd",
    "deepnote_to_be_reexecuted": false,
    "source_hash": "f3a00d0b",
    "execution_start": 1636475638510,
    "execution_millis": 43,
    "deepnote_cell_type": "code"
   },
   "outputs": [
    {
     "output_type": "execute_result",
     "execution_count": 7,
     "data": {
      "text/plain": "array([-0.20427836,  0.15947949])"
     },
     "metadata": {}
    }
   ],
   "execution_count": null
  },
  {
   "cell_type": "code",
   "metadata": {
    "cell_id": "00024-ace7d2c9-6a31-4743-8144-8ebd140ad192",
    "deepnote_to_be_reexecuted": false,
    "source_hash": "5c9613fc",
    "execution_start": 1636475638597,
    "execution_millis": 146,
    "deepnote_cell_type": "code"
   },
   "source": "A = Kmeans_alg(X,X[:3])",
   "outputs": [],
   "execution_count": null
  },
  {
   "cell_type": "code",
   "metadata": {
    "cell_id": "00025-61c0aab5-2a2e-4566-94c1-f66b94e584b6",
    "deepnote_to_be_reexecuted": false,
    "source_hash": "f2ae1a96",
    "execution_start": 1636475638817,
    "execution_millis": 98,
    "deepnote_cell_type": "code"
   },
   "source": "A[0]",
   "outputs": [
    {
     "output_type": "execute_result",
     "execution_count": 9,
     "data": {
      "text/plain": "[array([ 0.00035083, -0.00872283]),\n array([ 0.99775335, -0.99364255]),\n array([0.97558882, 0.99491259])]"
     },
     "metadata": {}
    }
   ],
   "execution_count": null
  },
  {
   "cell_type": "code",
   "metadata": {
    "cell_id": "00026-c9eb1ebe-0f2b-4d17-a8fe-9b19f2d480ef",
    "deepnote_to_be_reexecuted": false,
    "source_hash": "9453cbe7",
    "execution_start": 1636475638917,
    "execution_millis": 2,
    "deepnote_cell_type": "code"
   },
   "source": "A[1]",
   "outputs": [
    {
     "output_type": "execute_result",
     "execution_count": 10,
     "data": {
      "text/plain": "array([1., 1., 1., 1., 1., 1., 1., 1., 1., 1., 1., 1., 1., 1., 1., 3., 1.,\n       1., 1., 1., 1., 2., 2., 1., 1., 1., 1., 1., 1., 1., 1., 1., 1., 1.,\n       1., 1., 1., 1., 1., 1., 1., 1., 1., 1., 1., 1., 1., 1., 1., 2., 1.,\n       1., 1., 1., 1., 1., 1., 1., 1., 1., 1., 1., 1., 1., 1., 1., 1., 1.,\n       1., 1., 1., 1., 1., 1., 1., 1., 1., 1., 1., 1., 1., 1., 1., 1., 1.,\n       3., 1., 1., 1., 1., 1., 1., 1., 1., 1., 1., 1., 1., 1., 1., 3., 3.,\n       3., 3., 3., 3., 3., 3., 3., 3., 3., 3., 3., 3., 3., 3., 3., 3., 3.,\n       3., 3., 3., 3., 3., 3., 3., 3., 3., 3., 3., 3., 3., 1., 3., 3., 3.,\n       3., 3., 3., 3., 3., 3., 3., 3., 3., 3., 3., 3., 3., 3., 3., 3., 3.,\n       3., 3., 3., 3., 3., 3., 3., 3., 3., 3., 3., 3., 3., 3., 3., 3., 3.,\n       3., 3., 3., 3., 3., 3., 3., 3., 3., 3., 3., 3., 3., 3., 3., 3., 3.,\n       3., 3., 3., 3., 3., 3., 3., 3., 3., 3., 3., 3., 3., 2., 2., 2., 2.,\n       2., 2., 2., 2., 2., 2., 2., 2., 2., 2., 2., 2., 2., 2., 2., 2., 2.,\n       2., 2., 2., 2., 2., 2., 2., 2., 2., 2., 2., 2., 2., 2., 2., 2., 2.,\n       2., 2., 2., 2., 2., 2., 2., 2., 2., 2., 2., 2., 2., 2., 2., 2., 2.,\n       2., 2., 2., 2., 2., 2., 2., 2., 2., 2., 2., 2., 2., 2., 2., 2., 2.,\n       2., 2., 2., 2., 2., 2., 2., 2., 2., 2., 2., 2., 2., 2., 2., 2., 2.,\n       2., 2., 2., 2., 2., 2., 2., 2., 2., 2., 2.])"
     },
     "metadata": {}
    }
   ],
   "execution_count": null
  },
  {
   "cell_type": "code",
   "metadata": {
    "cell_id": "00027-8482a6e9-2222-4ae8-a52f-fc367d600ccc",
    "deepnote_to_be_reexecuted": false,
    "source_hash": "fe37bf11",
    "execution_start": 1636475638917,
    "execution_millis": 591,
    "deepnote_cell_type": "code"
   },
   "source": "fig, ax = plt.subplots(1,1,figsize=(7,7),dpi=120)\nax.plot(list(range(A[-1])),A[2])\nplt.show()",
   "outputs": [
    {
     "data": {
      "text/plain": "<Figure size 840x840 with 1 Axes>",
      "image/png": "[encoded data removed]"
     },
     "metadata": {
      "needs_background": "light",
      "image/png": {
       "width": 723,
       "height": 690
      }
     },
     "output_type": "display_data"
    }
   ],
   "execution_count": null
  },
  {
   "cell_type": "code",
   "source": "X.shape",
   "metadata": {
    "tags": [],
    "cell_id": "00027-d8c39927-7dfe-42f1-947f-00af498846e4",
    "deepnote_to_be_reexecuted": false,
    "source_hash": "83f8c40",
    "execution_start": 1636475639469,
    "execution_millis": 46,
    "deepnote_cell_type": "code"
   },
   "outputs": [
    {
     "output_type": "execute_result",
     "execution_count": 12,
     "data": {
      "text/plain": "(300, 2)"
     },
     "metadata": {}
    }
   ],
   "execution_count": null
  },
  {
   "cell_type": "code",
   "source": "fig,ax = plt.subplots(1,1,figsize=(7,7),dpi=120)\nG1 = np.array([X[i] for i in range(len(X)) if A[1][i] == 1])\nG2 = np.array([X[i] for i in range(len(X)) if A[1][i] == 2])\nG3 = np.array([X[i] for i in range(len(X)) if A[1][i] == 3])\nax.scatter( G1[:,0], G1[:,1], color=\"red\", label='Grupo 1')\nax.scatter( G2[:,0], G2[:,1], color=\"blue\", label='Grupo 2')\nax.scatter( G3[:,0], G3[:,1], color=\"green\", label='Grupo 3')\nax.set_xlim(-1.5,2.5)\nax.set_ylim(-2,2)\nplt.legend()\nplt.show()",
   "metadata": {
    "tags": [],
    "cell_id": "00026-fd9f44f4-4dd7-46a1-8ac9-abb57c6f8c30",
    "deepnote_to_be_reexecuted": false,
    "source_hash": "f256912d",
    "execution_start": 1636475639470,
    "execution_millis": 798,
    "deepnote_cell_type": "code"
   },
   "outputs": [
    {
     "data": {
      "text/plain": "<Figure size 840x840 with 1 Axes>",
      "image/png": "[encoded data removed]"
     },
     "metadata": {
      "needs_background": "light",
      "image/png": {
       "width": 740,
       "height": 694
      }
     },
     "output_type": "display_data"
    }
   ],
   "execution_count": null
  },
  {
   "cell_type": "code",
   "metadata": {
    "cell_id": "00028-25f82c1d-2983-47fe-b730-e4e02e57b8de",
    "deepnote_to_be_reexecuted": false,
    "source_hash": "da8408f",
    "execution_start": 1636476127132,
    "execution_millis": 3706,
    "deepnote_cell_type": "code"
   },
   "source": "from sklearn.datasets import fetch_openml\nimport matplotlib.pyplot as plt\nimport numpy as np\nimport random",
   "outputs": [],
   "execution_count": null
  },
  {
   "cell_type": "code",
   "metadata": {
    "cell_id": "00029-1d9d505a-b69a-4eef-89c4-041c2b1fd6a8",
    "deepnote_to_be_reexecuted": false,
    "source_hash": "2a4537a",
    "execution_start": 1636475999172,
    "execution_millis": 81129,
    "deepnote_cell_type": "code"
   },
   "source": "X, y = fetch_openml('mnist_784', version=1, return_X_y=True)",
   "outputs": [],
   "execution_count": null
  },
  {
   "cell_type": "code",
   "source": "X.shape",
   "metadata": {
    "tags": [],
    "cell_id": "00031-be2c812d-eb96-43a1-b099-2caae8ba570e",
    "deepnote_to_be_reexecuted": false,
    "source_hash": "83f8c40",
    "execution_start": 1636476404552,
    "execution_millis": 2,
    "deepnote_cell_type": "code"
   },
   "outputs": [
    {
     "output_type": "execute_result",
     "execution_count": 12,
     "data": {
      "text/plain": "(70000, 784)"
     },
     "metadata": {}
    }
   ],
   "execution_count": null
  },
  {
   "cell_type": "code",
   "metadata": {
    "cell_id": "00030-5e13f655-a532-4379-a564-f08513feb63a",
    "deepnote_to_be_reexecuted": false,
    "source_hash": "352201b7",
    "execution_start": 1636475715785,
    "execution_millis": 0,
    "deepnote_cell_type": "code"
   },
   "source": "# A = Kmeans_alg(X,random.choices(X,k=9))",
   "outputs": [],
   "execution_count": null
  },
  {
   "cell_type": "code",
   "metadata": {
    "cell_id": "00031-f1adc0f7-2edd-4f9a-95f1-e0c670819298",
    "deepnote_to_be_reexecuted": false,
    "source_hash": "6a57a483",
    "execution_start": 1636475715785,
    "execution_millis": 2,
    "deepnote_cell_type": "code"
   },
   "source": "import itertools",
   "outputs": [],
   "execution_count": null
  },
  {
   "cell_type": "code",
   "metadata": {
    "cell_id": "00032-b3f0abfb-4370-4b15-9a80-7c2b50e8de9c",
    "deepnote_to_be_reexecuted": false,
    "source_hash": "1586eebd",
    "execution_start": 1636475715841,
    "deepnote_cell_type": "code"
   },
   "source": "a = list(itertools.product(list(range(3)),list(range(3))))",
   "outputs": [],
   "execution_count": null
  },
  {
   "cell_type": "code",
   "source": "# fig, ax = plt.subplots(1,1,figsize=(7,7),dpi=120)\nX\n# ax.imshow()\n# plt.show()",
   "metadata": {
    "tags": [],
    "cell_id": "00034-47b1d82f-0cd9-40da-ae3b-b959bb52a084",
    "deepnote_to_be_reexecuted": false,
    "source_hash": "39e7fbb4",
    "execution_start": 1636476536950,
    "execution_millis": 910,
    "deepnote_cell_type": "code"
   },
   "outputs": [
    {
     "output_type": "execute_result",
     "execution_count": 18,
     "data": {
      "application/vnd.deepnote.dataframe.v2+json": {
       "row_count": 70000,
       "column_count": 784,
       "columns": [
        {
         "name": "pixel1",
         "dtype": "float64",
         "stats": {
          "unique_count": 1,
          "nan_count": 0,
          "min": "0.0",
          "max": "0.0",
          "histogram": [
           {
            "bin_start": -0.5,
            "bin_end": -0.4,
            "count": 0
           },
           {
            "bin_start": -0.4,
            "bin_end": -0.3,
            "count": 0
           },
           {
            "bin_start": -0.3,
            "bin_end": -0.19999999999999996,
            "count": 0
           },
           {
            "bin_start": -0.19999999999999996,
            "bin_end": -0.09999999999999998,
            "count": 0
           },
           {
            "bin_start": -0.09999999999999998,
            "bin_end": 0,
            "count": 0
           },
           {
            "bin_start": 0,
            "bin_end": 0.10000000000000009,
            "count": 70000
           },
           {
            "bin_start": 0.10000000000000009,
            "bin_end": 0.20000000000000007,
            "count": 0
           },
           {
            "bin_start": 0.20000000000000007,
            "bin_end": 0.30000000000000004,
            "count": 0
           },
           {
            "bin_start": 0.30000000000000004,
            "bin_end": 0.4,
            "count": 0
           },
           {
            "bin_start": 0.4,
            "bin_end": 0.5,
            "count": 0
           }
          ]
         }
        },
        {
         "name": "pixel2",
         "dtype": "float64"
        },
        {
         "name": "pixel3",
         "dtype": "float64"
        },
        {
         "name": "pixel4",
         "dtype": "float64"
        },
        {
         "name": "pixel5",
         "dtype": "float64"
        },
        {
         "name": "pixel6",
         "dtype": "float64"
        },
        {
         "name": "pixel7",
         "dtype": "float64"
        },
        {
         "name": "pixel8",
         "dtype": "float64"
        },
        {
         "name": "pixel9",
         "dtype": "float64"
        },
        {
         "name": "pixel10",
         "dtype": "float64"
        },
        {
         "name": "pixel11",
         "dtype": "float64"
        },
        {
         "name": "pixel12",
         "dtype": "float64"
        },
        {
         "name": "pixel13",
         "dtype": "float64"
        },
        {
         "name": "pixel14",
         "dtype": "float64"
        },
        {
         "name": "pixel15",
         "dtype": "float64"
        },
        {
         "name": "pixel16",
         "dtype": "float64"
        },
        {
         "name": "pixel17",
         "dtype": "float64"
        },
        {
         "name": "pixel18",
         "dtype": "float64"
        },
        {
         "name": "pixel19",
         "dtype": "float64"
        },
        {
         "name": "pixel20",
         "dtype": "float64"
        },
        {
         "name": "pixel21",
         "dtype": "float64"
        },
        {
         "name": "pixel22",
         "dtype": "float64"
        },
        {
         "name": "pixel23",
         "dtype": "float64"
        },
        {
         "name": "pixel24",
         "dtype": "float64"
        },
        {
         "name": "pixel25",
         "dtype": "float64"
        },
        {
         "name": "pixel26",
         "dtype": "float64"
        },
        {
         "name": "pixel27",
         "dtype": "float64"
        },
        {
         "name": "pixel28",
         "dtype": "float64"
        },
        {
         "name": "pixel29",
         "dtype": "float64"
        },
        {
         "name": "pixel30",
         "dtype": "float64"
        },
        {
         "name": "pixel31",
         "dtype": "float64"
        },
        {
         "name": "pixel32",
         "dtype": "float64"
        },
        {
         "name": "pixel33",
         "dtype": "float64"
        },
        {
         "name": "pixel34",
         "dtype": "float64"
        },
        {
         "name": "pixel35",
         "dtype": "float64"
        },
        {
         "name": "pixel36",
         "dtype": "float64"
        },
        {
         "name": "pixel37",
         "dtype": "float64"
        },
        {
         "name": "pixel38",
         "dtype": "float64"
        },
        {
         "name": "pixel39",
         "dtype": "float64"
        },
        {
         "name": "pixel40",
         "dtype": "float64"
        },
        {
         "name": "pixel41",
         "dtype": "float64"
        },
        {
         "name": "pixel42",
         "dtype": "float64"
        },
        {
         "name": "pixel43",
         "dtype": "float64"
        },
        {
         "name": "pixel44",
         "dtype": "float64"
        },
        {
         "name": "pixel45",
         "dtype": "float64"
        },
        {
         "name": "pixel46",
         "dtype": "float64"
        },
        {
         "name": "pixel47",
         "dtype": "float64"
        },
        {
         "name": "pixel48",
         "dtype": "float64"
        },
        {
         "name": "pixel49",
         "dtype": "float64"
        },
        {
         "name": "pixel50",
         "dtype": "float64"
        },
        {
         "name": "pixel51",
         "dtype": "float64"
        },
        {
         "name": "pixel52",
         "dtype": "float64"
        },
        {
         "name": "pixel53",
         "dtype": "float64"
        },
        {
         "name": "pixel54",
         "dtype": "float64"
        },
        {
         "name": "pixel55",
         "dtype": "float64"
        },
        {
         "name": "pixel56",
         "dtype": "float64"
        },
        {
         "name": "pixel57",
         "dtype": "float64"
        },
        {
         "name": "pixel58",
         "dtype": "float64"
        },
        {
         "name": "pixel59",
         "dtype": "float64"
        },
        {
         "name": "pixel60",
         "dtype": "float64"
        },
        {
         "name": "pixel61",
         "dtype": "float64"
        },
        {
         "name": "pixel62",
         "dtype": "float64"
        },
        {
         "name": "pixel63",
         "dtype": "float64"
        },
        {
         "name": "pixel64",
         "dtype": "float64"
        },
        {
         "name": "pixel65",
         "dtype": "float64"
        },
        {
         "name": "pixel66",
         "dtype": "float64"
        },
        {
         "name": "pixel67",
         "dtype": "float64"
        },
        {
         "name": "pixel68",
         "dtype": "float64"
        },
        {
         "name": "pixel69",
         "dtype": "float64"
        },
        {
         "name": "pixel70",
         "dtype": "float64"
        },
        {
         "name": "pixel71",
         "dtype": "float64"
        },
        {
         "name": "pixel72",
         "dtype": "float64"
        },
        {
         "name": "pixel73",
         "dtype": "float64"
        },
        {
         "name": "pixel74",
         "dtype": "float64"
        },
        {
         "name": "pixel75",
         "dtype": "float64"
        },
        {
         "name": "pixel76",
         "dtype": "float64"
        },
        {
         "name": "pixel77",
         "dtype": "float64"
        },
        {
         "name": "pixel78",
         "dtype": "float64"
        },
        {
         "name": "pixel79",
         "dtype": "float64"
        },
        {
         "name": "pixel80",
         "dtype": "float64"
        },
        {
         "name": "pixel81",
         "dtype": "float64"
        },
        {
         "name": "pixel82",
         "dtype": "float64"
        },
        {
         "name": "pixel83",
         "dtype": "float64"
        },
        {
         "name": "pixel84",
         "dtype": "float64"
        },
        {
         "name": "pixel85",
         "dtype": "float64"
        },
        {
         "name": "pixel86",
         "dtype": "float64"
        },
        {
         "name": "pixel87",
         "dtype": "float64"
        },
        {
         "name": "pixel88",
         "dtype": "float64"
        },
        {
         "name": "pixel89",
         "dtype": "float64"
        },
        {
         "name": "pixel90",
         "dtype": "float64"
        },
        {
         "name": "pixel91",
         "dtype": "float64"
        },
        {
         "name": "pixel92",
         "dtype": "float64"
        },
        {
         "name": "pixel93",
         "dtype": "float64"
        },
        {
         "name": "pixel94",
         "dtype": "float64"
        },
        {
         "name": "pixel95",
         "dtype": "float64"
        },
        {
         "name": "pixel96",
         "dtype": "float64"
        },
        {
         "name": "pixel97",
         "dtype": "float64"
        },
        {
         "name": "pixel98",
         "dtype": "float64"
        },
        {
         "name": "pixel99",
         "dtype": "float64"
        },
        {
         "name": "pixel100",
         "dtype": "float64"
        },
        {
         "name": "pixel101",
         "dtype": "float64"
        },
        {
         "name": "pixel102",
         "dtype": "float64"
        },
        {
         "name": "pixel103",
         "dtype": "float64"
        },
        {
         "name": "pixel104",
         "dtype": "float64"
        },
        {
         "name": "pixel105",
         "dtype": "float64"
        },
        {
         "name": "pixel106",
         "dtype": "float64"
        },
        {
         "name": "pixel107",
         "dtype": "float64"
        },
        {
         "name": "pixel108",
         "dtype": "float64"
        },
        {
         "name": "pixel109",
         "dtype": "float64"
        },
        {
         "name": "pixel110",
         "dtype": "float64"
        },
        {
         "name": "pixel111",
         "dtype": "float64"
        },
        {
         "name": "pixel112",
         "dtype": "float64"
        },
        {
         "name": "pixel113",
         "dtype": "float64"
        },
        {
         "name": "pixel114",
         "dtype": "float64"
        },
        {
         "name": "pixel115",
         "dtype": "float64"
        },
        {
         "name": "pixel116",
         "dtype": "float64"
        },
        {
         "name": "pixel117",
         "dtype": "float64"
        },
        {
         "name": "pixel118",
         "dtype": "float64"
        },
        {
         "name": "pixel119",
         "dtype": "float64"
        },
        {
         "name": "pixel120",
         "dtype": "float64"
        },
        {
         "name": "pixel121",
         "dtype": "float64"
        },
        {
         "name": "pixel122",
         "dtype": "float64"
        },
        {
         "name": "pixel123",
         "dtype": "float64"
        },
        {
         "name": "pixel124",
         "dtype": "float64"
        },
        {
         "name": "pixel125",
         "dtype": "float64"
        },
        {
         "name": "pixel126",
         "dtype": "float64"
        },
        {
         "name": "pixel127",
         "dtype": "float64"
        },
        {
         "name": "pixel128",
         "dtype": "float64"
        },
        {
         "name": "pixel129",
         "dtype": "float64"
        },
        {
         "name": "pixel130",
         "dtype": "float64"
        },
        {
         "name": "pixel131",
         "dtype": "float64"
        },
        {
         "name": "pixel132",
         "dtype": "float64"
        },
        {
         "name": "pixel133",
         "dtype": "float64"
        },
        {
         "name": "pixel134",
         "dtype": "float64"
        },
        {
         "name": "pixel135",
         "dtype": "float64"
        },
        {
         "name": "pixel136",
         "dtype": "float64"
        },
        {
         "name": "pixel137",
         "dtype": "float64"
        },
        {
         "name": "pixel138",
         "dtype": "float64"
        },
        {
         "name": "pixel139",
         "dtype": "float64"
        },
        {
         "name": "pixel140",
         "dtype": "float64"
        },
        {
         "name": "pixel141",
         "dtype": "float64"
        },
        {
         "name": "pixel142",
         "dtype": "float64"
        },
        {
         "name": "pixel143",
         "dtype": "float64"
        },
        {
         "name": "pixel144",
         "dtype": "float64"
        },
        {
         "name": "pixel145",
         "dtype": "float64"
        },
        {
         "name": "pixel146",
         "dtype": "float64"
        },
        {
         "name": "pixel147",
         "dtype": "float64"
        },
        {
         "name": "pixel148",
         "dtype": "float64"
        },
        {
         "name": "pixel149",
         "dtype": "float64"
        },
        {
         "name": "pixel150",
         "dtype": "float64"
        },
        {
         "name": "pixel151",
         "dtype": "float64"
        },
        {
         "name": "pixel152",
         "dtype": "float64"
        },
        {
         "name": "pixel153",
         "dtype": "float64"
        },
        {
         "name": "pixel154",
         "dtype": "float64"
        },
        {
         "name": "pixel155",
         "dtype": "float64"
        },
        {
         "name": "pixel156",
         "dtype": "float64"
        },
        {
         "name": "pixel157",
         "dtype": "float64"
        },
        {
         "name": "pixel158",
         "dtype": "float64"
        },
        {
         "name": "pixel159",
         "dtype": "float64"
        },
        {
         "name": "pixel160",
         "dtype": "float64"
        },
        {
         "name": "pixel161",
         "dtype": "float64"
        },
        {
         "name": "pixel162",
         "dtype": "float64"
        },
        {
         "name": "pixel163",
         "dtype": "float64"
        },
        {
         "name": "pixel164",
         "dtype": "float64"
        },
        {
         "name": "pixel165",
         "dtype": "float64"
        },
        {
         "name": "pixel166",
         "dtype": "float64"
        },
        {
         "name": "pixel167",
         "dtype": "float64"
        },
        {
         "name": "pixel168",
         "dtype": "float64"
        },
        {
         "name": "pixel169",
         "dtype": "float64"
        },
        {
         "name": "pixel170",
         "dtype": "float64"
        },
        {
         "name": "pixel171",
         "dtype": "float64"
        },
        {
         "name": "pixel172",
         "dtype": "float64"
        },
        {
         "name": "pixel173",
         "dtype": "float64"
        },
        {
         "name": "pixel174",
         "dtype": "float64"
        },
        {
         "name": "pixel175",
         "dtype": "float64"
        },
        {
         "name": "pixel176",
         "dtype": "float64"
        },
        {
         "name": "pixel177",
         "dtype": "float64"
        },
        {
         "name": "pixel178",
         "dtype": "float64"
        },
        {
         "name": "pixel179",
         "dtype": "float64"
        },
        {
         "name": "pixel180",
         "dtype": "float64"
        },
        {
         "name": "pixel181",
         "dtype": "float64"
        },
        {
         "name": "pixel182",
         "dtype": "float64"
        },
        {
         "name": "pixel183",
         "dtype": "float64"
        },
        {
         "name": "pixel184",
         "dtype": "float64"
        },
        {
         "name": "pixel185",
         "dtype": "float64"
        },
        {
         "name": "pixel186",
         "dtype": "float64"
        },
        {
         "name": "pixel187",
         "dtype": "float64"
        },
        {
         "name": "pixel188",
         "dtype": "float64"
        },
        {
         "name": "pixel189",
         "dtype": "float64"
        },
        {
         "name": "pixel190",
         "dtype": "float64"
        },
        {
         "name": "pixel191",
         "dtype": "float64"
        },
        {
         "name": "pixel192",
         "dtype": "float64"
        },
        {
         "name": "pixel193",
         "dtype": "float64"
        },
        {
         "name": "pixel194",
         "dtype": "float64"
        },
        {
         "name": "pixel195",
         "dtype": "float64"
        },
        {
         "name": "pixel196",
         "dtype": "float64"
        },
        {
         "name": "pixel197",
         "dtype": "float64"
        },
        {
         "name": "pixel198",
         "dtype": "float64"
        },
        {
         "name": "pixel199",
         "dtype": "float64"
        },
        {
         "name": "pixel200",
         "dtype": "float64"
        },
        {
         "name": "pixel201",
         "dtype": "float64"
        },
        {
         "name": "pixel202",
         "dtype": "float64"
        },
        {
         "name": "pixel203",
         "dtype": "float64"
        },
        {
         "name": "pixel204",
         "dtype": "float64"
        },
        {
         "name": "pixel205",
         "dtype": "float64"
        },
        {
         "name": "pixel206",
         "dtype": "float64"
        },
        {
         "name": "pixel207",
         "dtype": "float64"
        },
        {
         "name": "pixel208",
         "dtype": "float64"
        },
        {
         "name": "pixel209",
         "dtype": "float64"
        },
        {
         "name": "pixel210",
         "dtype": "float64"
        },
        {
         "name": "pixel211",
         "dtype": "float64"
        },
        {
         "name": "pixel212",
         "dtype": "float64"
        },
        {
         "name": "pixel213",
         "dtype": "float64"
        },
        {
         "name": "pixel214",
         "dtype": "float64"
        },
        {
         "name": "pixel215",
         "dtype": "float64"
        },
        {
         "name": "pixel216",
         "dtype": "float64"
        },
        {
         "name": "pixel217",
         "dtype": "float64"
        },
        {
         "name": "pixel218",
         "dtype": "float64"
        },
        {
         "name": "pixel219",
         "dtype": "float64"
        },
        {
         "name": "pixel220",
         "dtype": "float64"
        },
        {
         "name": "pixel221",
         "dtype": "float64"
        },
        {
         "name": "pixel222",
         "dtype": "float64"
        },
        {
         "name": "pixel223",
         "dtype": "float64"
        },
        {
         "name": "pixel224",
         "dtype": "float64"
        },
        {
         "name": "pixel225",
         "dtype": "float64"
        },
        {
         "name": "pixel226",
         "dtype": "float64"
        },
        {
         "name": "pixel227",
         "dtype": "float64"
        },
        {
         "name": "pixel228",
         "dtype": "float64"
        },
        {
         "name": "pixel229",
         "dtype": "float64"
        },
        {
         "name": "pixel230",
         "dtype": "float64"
        },
        {
         "name": "pixel231",
         "dtype": "float64"
        },
        {
         "name": "pixel232",
         "dtype": "float64"
        },
        {
         "name": "pixel233",
         "dtype": "float64"
        },
        {
         "name": "pixel234",
         "dtype": "float64"
        },
        {
         "name": "pixel235",
         "dtype": "float64"
        },
        {
         "name": "pixel236",
         "dtype": "float64"
        },
        {
         "name": "pixel237",
         "dtype": "float64"
        },
        {
         "name": "pixel238",
         "dtype": "float64"
        },
        {
         "name": "pixel239",
         "dtype": "float64"
        },
        {
         "name": "pixel240",
         "dtype": "float64"
        },
        {
         "name": "pixel241",
         "dtype": "float64"
        },
        {
         "name": "pixel242",
         "dtype": "float64"
        },
        {
         "name": "pixel243",
         "dtype": "float64"
        },
        {
         "name": "pixel244",
         "dtype": "float64"
        },
        {
         "name": "pixel245",
         "dtype": "float64"
        },
        {
         "name": "pixel246",
         "dtype": "float64"
        },
        {
         "name": "pixel247",
         "dtype": "float64"
        },
        {
         "name": "pixel248",
         "dtype": "float64"
        },
        {
         "name": "pixel249",
         "dtype": "float64"
        },
        {
         "name": "pixel250",
         "dtype": "float64"
        },
        {
         "name": "pixel251",
         "dtype": "float64"
        },
        {
         "name": "pixel252",
         "dtype": "float64"
        },
        {
         "name": "pixel253",
         "dtype": "float64"
        },
        {
         "name": "pixel254",
         "dtype": "float64"
        },
        {
         "name": "pixel255",
         "dtype": "float64"
        },
        {
         "name": "pixel256",
         "dtype": "float64"
        },
        {
         "name": "pixel257",
         "dtype": "float64"
        },
        {
         "name": "pixel258",
         "dtype": "float64"
        },
        {
         "name": "pixel259",
         "dtype": "float64"
        },
        {
         "name": "pixel260",
         "dtype": "float64"
        },
        {
         "name": "pixel261",
         "dtype": "float64"
        },
        {
         "name": "pixel262",
         "dtype": "float64"
        },
        {
         "name": "pixel263",
         "dtype": "float64"
        },
        {
         "name": "pixel264",
         "dtype": "float64"
        },
        {
         "name": "pixel265",
         "dtype": "float64"
        },
        {
         "name": "pixel266",
         "dtype": "float64"
        },
        {
         "name": "pixel267",
         "dtype": "float64"
        },
        {
         "name": "pixel268",
         "dtype": "float64"
        },
        {
         "name": "pixel269",
         "dtype": "float64"
        },
        {
         "name": "pixel270",
         "dtype": "float64"
        },
        {
         "name": "pixel271",
         "dtype": "float64"
        },
        {
         "name": "pixel272",
         "dtype": "float64"
        },
        {
         "name": "pixel273",
         "dtype": "float64"
        },
        {
         "name": "pixel274",
         "dtype": "float64"
        },
        {
         "name": "pixel275",
         "dtype": "float64"
        },
        {
         "name": "pixel276",
         "dtype": "float64"
        },
        {
         "name": "pixel277",
         "dtype": "float64"
        },
        {
         "name": "pixel278",
         "dtype": "float64"
        },
        {
         "name": "pixel279",
         "dtype": "float64"
        },
        {
         "name": "pixel280",
         "dtype": "float64"
        },
        {
         "name": "pixel281",
         "dtype": "float64"
        },
        {
         "name": "pixel282",
         "dtype": "float64"
        },
        {
         "name": "pixel283",
         "dtype": "float64"
        },
        {
         "name": "pixel284",
         "dtype": "float64"
        },
        {
         "name": "pixel285",
         "dtype": "float64"
        },
        {
         "name": "pixel286",
         "dtype": "float64"
        },
        {
         "name": "pixel287",
         "dtype": "float64"
        },
        {
         "name": "pixel288",
         "dtype": "float64"
        },
        {
         "name": "pixel289",
         "dtype": "float64"
        },
        {
         "name": "pixel290",
         "dtype": "float64"
        },
        {
         "name": "pixel291",
         "dtype": "float64"
        },
        {
         "name": "pixel292",
         "dtype": "float64"
        },
        {
         "name": "pixel293",
         "dtype": "float64"
        },
        {
         "name": "pixel294",
         "dtype": "float64"
        },
        {
         "name": "pixel295",
         "dtype": "float64"
        },
        {
         "name": "pixel296",
         "dtype": "float64"
        },
        {
         "name": "pixel297",
         "dtype": "float64"
        },
        {
         "name": "pixel298",
         "dtype": "float64"
        },
        {
         "name": "pixel299",
         "dtype": "float64"
        },
        {
         "name": "pixel300",
         "dtype": "float64"
        },
        {
         "name": "pixel301",
         "dtype": "float64"
        },
        {
         "name": "pixel302",
         "dtype": "float64"
        },
        {
         "name": "pixel303",
         "dtype": "float64"
        },
        {
         "name": "pixel304",
         "dtype": "float64"
        },
        {
         "name": "pixel305",
         "dtype": "float64"
        },
        {
         "name": "pixel306",
         "dtype": "float64"
        },
        {
         "name": "pixel307",
         "dtype": "float64"
        },
        {
         "name": "pixel308",
         "dtype": "float64"
        },
        {
         "name": "pixel309",
         "dtype": "float64"
        },
        {
         "name": "pixel310",
         "dtype": "float64"
        },
        {
         "name": "pixel311",
         "dtype": "float64"
        },
        {
         "name": "pixel312",
         "dtype": "float64"
        },
        {
         "name": "pixel313",
         "dtype": "float64"
        },
        {
         "name": "pixel314",
         "dtype": "float64"
        },
        {
         "name": "pixel315",
         "dtype": "float64"
        },
        {
         "name": "pixel316",
         "dtype": "float64"
        },
        {
         "name": "pixel317",
         "dtype": "float64"
        },
        {
         "name": "pixel318",
         "dtype": "float64"
        },
        {
         "name": "pixel319",
         "dtype": "float64"
        },
        {
         "name": "pixel320",
         "dtype": "float64"
        },
        {
         "name": "pixel321",
         "dtype": "float64"
        },
        {
         "name": "pixel322",
         "dtype": "float64"
        },
        {
         "name": "pixel323",
         "dtype": "float64"
        },
        {
         "name": "pixel324",
         "dtype": "float64"
        },
        {
         "name": "pixel325",
         "dtype": "float64"
        },
        {
         "name": "pixel326",
         "dtype": "float64"
        },
        {
         "name": "pixel327",
         "dtype": "float64"
        },
        {
         "name": "pixel328",
         "dtype": "float64"
        },
        {
         "name": "pixel329",
         "dtype": "float64"
        },
        {
         "name": "pixel330",
         "dtype": "float64"
        },
        {
         "name": "pixel331",
         "dtype": "float64"
        },
        {
         "name": "pixel332",
         "dtype": "float64"
        },
        {
         "name": "pixel333",
         "dtype": "float64"
        },
        {
         "name": "pixel334",
         "dtype": "float64"
        },
        {
         "name": "pixel335",
         "dtype": "float64"
        },
        {
         "name": "pixel336",
         "dtype": "float64"
        },
        {
         "name": "pixel337",
         "dtype": "float64"
        },
        {
         "name": "pixel338",
         "dtype": "float64"
        },
        {
         "name": "pixel339",
         "dtype": "float64"
        },
        {
         "name": "pixel340",
         "dtype": "float64"
        },
        {
         "name": "pixel341",
         "dtype": "float64"
        },
        {
         "name": "pixel342",
         "dtype": "float64"
        },
        {
         "name": "pixel343",
         "dtype": "float64"
        },
        {
         "name": "pixel344",
         "dtype": "float64"
        },
        {
         "name": "pixel345",
         "dtype": "float64"
        },
        {
         "name": "pixel346",
         "dtype": "float64"
        },
        {
         "name": "pixel347",
         "dtype": "float64"
        },
        {
         "name": "pixel348",
         "dtype": "float64"
        },
        {
         "name": "pixel349",
         "dtype": "float64"
        },
        {
         "name": "pixel350",
         "dtype": "float64"
        },
        {
         "name": "pixel351",
         "dtype": "float64"
        },
        {
         "name": "pixel352",
         "dtype": "float64"
        },
        {
         "name": "pixel353",
         "dtype": "float64"
        },
        {
         "name": "pixel354",
         "dtype": "float64"
        },
        {
         "name": "pixel355",
         "dtype": "float64"
        },
        {
         "name": "pixel356",
         "dtype": "float64"
        },
        {
         "name": "pixel357",
         "dtype": "float64"
        },
        {
         "name": "pixel358",
         "dtype": "float64"
        },
        {
         "name": "pixel359",
         "dtype": "float64"
        },
        {
         "name": "pixel360",
         "dtype": "float64"
        },
        {
         "name": "pixel361",
         "dtype": "float64"
        },
        {
         "name": "pixel362",
         "dtype": "float64"
        },
        {
         "name": "pixel363",
         "dtype": "float64"
        },
        {
         "name": "pixel364",
         "dtype": "float64"
        },
        {
         "name": "pixel365",
         "dtype": "float64"
        },
        {
         "name": "pixel366",
         "dtype": "float64"
        },
        {
         "name": "pixel367",
         "dtype": "float64"
        },
        {
         "name": "pixel368",
         "dtype": "float64"
        },
        {
         "name": "pixel369",
         "dtype": "float64"
        },
        {
         "name": "pixel370",
         "dtype": "float64"
        },
        {
         "name": "pixel371",
         "dtype": "float64"
        },
        {
         "name": "pixel372",
         "dtype": "float64"
        },
        {
         "name": "pixel373",
         "dtype": "float64"
        },
        {
         "name": "pixel374",
         "dtype": "float64"
        },
        {
         "name": "pixel375",
         "dtype": "float64"
        },
        {
         "name": "pixel376",
         "dtype": "float64"
        },
        {
         "name": "pixel377",
         "dtype": "float64"
        },
        {
         "name": "pixel378",
         "dtype": "float64"
        },
        {
         "name": "pixel379",
         "dtype": "float64"
        },
        {
         "name": "pixel380",
         "dtype": "float64"
        },
        {
         "name": "pixel381",
         "dtype": "float64"
        },
        {
         "name": "pixel382",
         "dtype": "float64"
        },
        {
         "name": "pixel383",
         "dtype": "float64"
        },
        {
         "name": "pixel384",
         "dtype": "float64"
        },
        {
         "name": "pixel385",
         "dtype": "float64"
        },
        {
         "name": "pixel386",
         "dtype": "float64"
        },
        {
         "name": "pixel387",
         "dtype": "float64"
        },
        {
         "name": "pixel388",
         "dtype": "float64"
        },
        {
         "name": "pixel389",
         "dtype": "float64"
        },
        {
         "name": "pixel390",
         "dtype": "float64"
        },
        {
         "name": "pixel391",
         "dtype": "float64"
        },
        {
         "name": "pixel392",
         "dtype": "float64"
        },
        {
         "name": "pixel393",
         "dtype": "float64"
        },
        {
         "name": "pixel394",
         "dtype": "float64"
        },
        {
         "name": "pixel395",
         "dtype": "float64"
        },
        {
         "name": "pixel396",
         "dtype": "float64"
        },
        {
         "name": "pixel397",
         "dtype": "float64"
        },
        {
         "name": "pixel398",
         "dtype": "float64"
        },
        {
         "name": "pixel399",
         "dtype": "float64"
        },
        {
         "name": "pixel400",
         "dtype": "float64"
        },
        {
         "name": "pixel401",
         "dtype": "float64"
        },
        {
         "name": "pixel402",
         "dtype": "float64"
        },
        {
         "name": "pixel403",
         "dtype": "float64"
        },
        {
         "name": "pixel404",
         "dtype": "float64"
        },
        {
         "name": "pixel405",
         "dtype": "float64"
        },
        {
         "name": "pixel406",
         "dtype": "float64"
        },
        {
         "name": "pixel407",
         "dtype": "float64"
        },
        {
         "name": "pixel408",
         "dtype": "float64"
        },
        {
         "name": "pixel409",
         "dtype": "float64"
        },
        {
         "name": "pixel410",
         "dtype": "float64"
        },
        {
         "name": "pixel411",
         "dtype": "float64"
        },
        {
         "name": "pixel412",
         "dtype": "float64"
        },
        {
         "name": "pixel413",
         "dtype": "float64"
        },
        {
         "name": "pixel414",
         "dtype": "float64"
        },
        {
         "name": "pixel415",
         "dtype": "float64"
        },
        {
         "name": "pixel416",
         "dtype": "float64"
        },
        {
         "name": "pixel417",
         "dtype": "float64"
        },
        {
         "name": "pixel418",
         "dtype": "float64"
        },
        {
         "name": "pixel419",
         "dtype": "float64"
        },
        {
         "name": "pixel420",
         "dtype": "float64"
        },
        {
         "name": "pixel421",
         "dtype": "float64"
        },
        {
         "name": "pixel422",
         "dtype": "float64"
        },
        {
         "name": "pixel423",
         "dtype": "float64"
        },
        {
         "name": "pixel424",
         "dtype": "float64"
        },
        {
         "name": "pixel425",
         "dtype": "float64"
        },
        {
         "name": "pixel426",
         "dtype": "float64"
        },
        {
         "name": "pixel427",
         "dtype": "float64"
        },
        {
         "name": "pixel428",
         "dtype": "float64"
        },
        {
         "name": "pixel429",
         "dtype": "float64"
        },
        {
         "name": "pixel430",
         "dtype": "float64"
        },
        {
         "name": "pixel431",
         "dtype": "float64"
        },
        {
         "name": "pixel432",
         "dtype": "float64"
        },
        {
         "name": "pixel433",
         "dtype": "float64"
        },
        {
         "name": "pixel434",
         "dtype": "float64"
        },
        {
         "name": "pixel435",
         "dtype": "float64"
        },
        {
         "name": "pixel436",
         "dtype": "float64"
        },
        {
         "name": "pixel437",
         "dtype": "float64"
        },
        {
         "name": "pixel438",
         "dtype": "float64"
        },
        {
         "name": "pixel439",
         "dtype": "float64"
        },
        {
         "name": "pixel440",
         "dtype": "float64"
        },
        {
         "name": "pixel441",
         "dtype": "float64"
        },
        {
         "name": "pixel442",
         "dtype": "float64"
        },
        {
         "name": "pixel443",
         "dtype": "float64"
        },
        {
         "name": "pixel444",
         "dtype": "float64"
        },
        {
         "name": "pixel445",
         "dtype": "float64"
        },
        {
         "name": "pixel446",
         "dtype": "float64"
        },
        {
         "name": "pixel447",
         "dtype": "float64"
        },
        {
         "name": "pixel448",
         "dtype": "float64"
        },
        {
         "name": "pixel449",
         "dtype": "float64"
        },
        {
         "name": "pixel450",
         "dtype": "float64"
        },
        {
         "name": "pixel451",
         "dtype": "float64"
        },
        {
         "name": "pixel452",
         "dtype": "float64"
        },
        {
         "name": "pixel453",
         "dtype": "float64"
        },
        {
         "name": "pixel454",
         "dtype": "float64"
        },
        {
         "name": "pixel455",
         "dtype": "float64"
        },
        {
         "name": "pixel456",
         "dtype": "float64"
        },
        {
         "name": "pixel457",
         "dtype": "float64"
        },
        {
         "name": "pixel458",
         "dtype": "float64"
        },
        {
         "name": "pixel459",
         "dtype": "float64"
        },
        {
         "name": "pixel460",
         "dtype": "float64"
        },
        {
         "name": "pixel461",
         "dtype": "float64"
        },
        {
         "name": "pixel462",
         "dtype": "float64"
        },
        {
         "name": "pixel463",
         "dtype": "float64"
        },
        {
         "name": "pixel464",
         "dtype": "float64"
        },
        {
         "name": "pixel465",
         "dtype": "float64"
        },
        {
         "name": "pixel466",
         "dtype": "float64"
        },
        {
         "name": "pixel467",
         "dtype": "float64"
        },
        {
         "name": "pixel468",
         "dtype": "float64"
        },
        {
         "name": "pixel469",
         "dtype": "float64"
        },
        {
         "name": "pixel470",
         "dtype": "float64"
        },
        {
         "name": "pixel471",
         "dtype": "float64"
        },
        {
         "name": "pixel472",
         "dtype": "float64"
        },
        {
         "name": "pixel473",
         "dtype": "float64"
        },
        {
         "name": "pixel474",
         "dtype": "float64"
        },
        {
         "name": "pixel475",
         "dtype": "float64"
        },
        {
         "name": "pixel476",
         "dtype": "float64"
        },
        {
         "name": "pixel477",
         "dtype": "float64"
        },
        {
         "name": "pixel478",
         "dtype": "float64"
        },
        {
         "name": "pixel479",
         "dtype": "float64"
        },
        {
         "name": "pixel480",
         "dtype": "float64"
        },
        {
         "name": "pixel481",
         "dtype": "float64"
        },
        {
         "name": "pixel482",
         "dtype": "float64"
        },
        {
         "name": "pixel483",
         "dtype": "float64"
        },
        {
         "name": "pixel484",
         "dtype": "float64"
        },
        {
         "name": "pixel485",
         "dtype": "float64"
        },
        {
         "name": "pixel486",
         "dtype": "float64"
        },
        {
         "name": "pixel487",
         "dtype": "float64"
        },
        {
         "name": "pixel488",
         "dtype": "float64"
        },
        {
         "name": "pixel489",
         "dtype": "float64"
        },
        {
         "name": "pixel490",
         "dtype": "float64"
        },
        {
         "name": "pixel491",
         "dtype": "float64"
        },
        {
         "name": "pixel492",
         "dtype": "float64"
        },
        {
         "name": "pixel493",
         "dtype": "float64"
        },
        {
         "name": "pixel494",
         "dtype": "float64"
        },
        {
         "name": "pixel495",
         "dtype": "float64"
        },
        {
         "name": "pixel496",
         "dtype": "float64"
        },
        {
         "name": "pixel497",
         "dtype": "float64"
        },
        {
         "name": "pixel498",
         "dtype": "float64"
        },
        {
         "name": "pixel499",
         "dtype": "float64"
        },
        {
         "name": "pixel500",
         "dtype": "float64"
        },
        {
         "name": "_deepnote_index_column",
         "dtype": "int64"
        }
       ],
       "rows_top": [
        {
         "pixel1": 0,
         "pixel2": 0,
         "pixel3": 0,
         "pixel4": 0,
         "pixel5": 0,
         "pixel6": 0,
         "pixel7": 0,
         "pixel8": 0,
         "pixel9": 0,
         "pixel10": 0,
         "pixel11": 0,
         "pixel12": 0,
         "pixel13": 0,
         "pixel14": 0,
         "pixel15": 0,
         "pixel16": 0,
         "pixel17": 0,
         "pixel18": 0,
         "pixel19": 0,
         "pixel20": 0,
         "pixel21": 0,
         "pixel22": 0,
         "pixel23": 0,
         "pixel24": 0,
         "pixel25": 0,
         "pixel26": 0,
         "pixel27": 0,
         "pixel28": 0,
         "pixel29": 0,
         "pixel30": 0,
         "pixel31": 0,
         "pixel32": 0,
         "pixel33": 0,
         "pixel34": 0,
         "pixel35": 0,
         "pixel36": 0,
         "pixel37": 0,
         "pixel38": 0,
         "pixel39": 0,
         "pixel40": 0,
         "pixel41": 0,
         "pixel42": 0,
         "pixel43": 0,
         "pixel44": 0,
         "pixel45": 0,
         "pixel46": 0,
         "pixel47": 0,
         "pixel48": 0,
         "pixel49": 0,
         "pixel50": 0,
         "pixel51": 0,
         "pixel52": 0,
         "pixel53": 0,
         "pixel54": 0,
         "pixel55": 0,
         "pixel56": 0,
         "pixel57": 0,
         "pixel58": 0,
         "pixel59": 0,
         "pixel60": 0,
         "pixel61": 0,
         "pixel62": 0,
         "pixel63": 0,
         "pixel64": 0,
         "pixel65": 0,
         "pixel66": 0,
         "pixel67": 0,
         "pixel68": 0,
         "pixel69": 0,
         "pixel70": 0,
         "pixel71": 0,
         "pixel72": 0,
         "pixel73": 0,
         "pixel74": 0,
         "pixel75": 0,
         "pixel76": 0,
         "pixel77": 0,
         "pixel78": 0,
         "pixel79": 0,
         "pixel80": 0,
         "pixel81": 0,
         "pixel82": 0,
         "pixel83": 0,
         "pixel84": 0,
         "pixel85": 0,
         "pixel86": 0,
         "pixel87": 0,
         "pixel88": 0,
         "pixel89": 0,
         "pixel90": 0,
         "pixel91": 0,
         "pixel92": 0,
         "pixel93": 0,
         "pixel94": 0,
         "pixel95": 0,
         "pixel96": 0,
         "pixel97": 0,
         "pixel98": 0,
         "pixel99": 0,
         "pixel100": 0,
         "pixel101": 0,
         "pixel102": 0,
         "pixel103": 0,
         "pixel104": 0,
         "pixel105": 0,
         "pixel106": 0,
         "pixel107": 0,
         "pixel108": 0,
         "pixel109": 0,
         "pixel110": 0,
         "pixel111": 0,
         "pixel112": 0,
         "pixel113": 0,
         "pixel114": 0,
         "pixel115": 0,
         "pixel116": 0,
         "pixel117": 0,
         "pixel118": 0,
         "pixel119": 0,
         "pixel120": 0,
         "pixel121": 0,
         "pixel122": 0,
         "pixel123": 0,
         "pixel124": 0,
         "pixel125": 0,
         "pixel126": 0,
         "pixel127": 0,
         "pixel128": 0,
         "pixel129": 0,
         "pixel130": 0,
         "pixel131": 0,
         "pixel132": 0,
         "pixel133": 0,
         "pixel134": 0,
         "pixel135": 0,
         "pixel136": 0,
         "pixel137": 0,
         "pixel138": 0,
         "pixel139": 0,
         "pixel140": 0,
         "pixel141": 0,
         "pixel142": 0,
         "pixel143": 0,
         "pixel144": 0,
         "pixel145": 0,
         "pixel146": 0,
         "pixel147": 0,
         "pixel148": 0,
         "pixel149": 0,
         "pixel150": 0,
         "pixel151": 0,
         "pixel152": 0,
         "pixel153": 3,
         "pixel154": 18,
         "pixel155": 18,
         "pixel156": 18,
         "pixel157": 126,
         "pixel158": 136,
         "pixel159": 175,
         "pixel160": 26,
         "pixel161": 166,
         "pixel162": 255,
         "pixel163": 247,
         "pixel164": 127,
         "pixel165": 0,
         "pixel166": 0,
         "pixel167": 0,
         "pixel168": 0,
         "pixel169": 0,
         "pixel170": 0,
         "pixel171": 0,
         "pixel172": 0,
         "pixel173": 0,
         "pixel174": 0,
         "pixel175": 0,
         "pixel176": 0,
         "pixel177": 30,
         "pixel178": 36,
         "pixel179": 94,
         "pixel180": 154,
         "pixel181": 170,
         "pixel182": 253,
         "pixel183": 253,
         "pixel184": 253,
         "pixel185": 253,
         "pixel186": 253,
         "pixel187": 225,
         "pixel188": 172,
         "pixel189": 253,
         "pixel190": 242,
         "pixel191": 195,
         "pixel192": 64,
         "pixel193": 0,
         "pixel194": 0,
         "pixel195": 0,
         "pixel196": 0,
         "pixel197": 0,
         "pixel198": 0,
         "pixel199": 0,
         "pixel200": 0,
         "pixel201": 0,
         "pixel202": 0,
         "pixel203": 0,
         "pixel204": 49,
         "pixel205": 238,
         "pixel206": 253,
         "pixel207": 253,
         "pixel208": 253,
         "pixel209": 253,
         "pixel210": 253,
         "pixel211": 253,
         "pixel212": 253,
         "pixel213": 253,
         "pixel214": 251,
         "pixel215": 93,
         "pixel216": 82,
         "pixel217": 82,
         "pixel218": 56,
         "pixel219": 39,
         "pixel220": 0,
         "pixel221": 0,
         "pixel222": 0,
         "pixel223": 0,
         "pixel224": 0,
         "pixel225": 0,
         "pixel226": 0,
         "pixel227": 0,
         "pixel228": 0,
         "pixel229": 0,
         "pixel230": 0,
         "pixel231": 0,
         "pixel232": 18,
         "pixel233": 219,
         "pixel234": 253,
         "pixel235": 253,
         "pixel236": 253,
         "pixel237": 253,
         "pixel238": 253,
         "pixel239": 198,
         "pixel240": 182,
         "pixel241": 247,
         "pixel242": 241,
         "pixel243": 0,
         "pixel244": 0,
         "pixel245": 0,
         "pixel246": 0,
         "pixel247": 0,
         "pixel248": 0,
         "pixel249": 0,
         "pixel250": 0,
         "pixel251": 0,
         "pixel252": 0,
         "pixel253": 0,
         "pixel254": 0,
         "pixel255": 0,
         "pixel256": 0,
         "pixel257": 0,
         "pixel258": 0,
         "pixel259": 0,
         "pixel260": 0,
         "pixel261": 80,
         "pixel262": 156,
         "pixel263": 107,
         "pixel264": 253,
         "pixel265": 253,
         "pixel266": 205,
         "pixel267": 11,
         "pixel268": 0,
         "pixel269": 43,
         "pixel270": 154,
         "pixel271": 0,
         "pixel272": 0,
         "pixel273": 0,
         "pixel274": 0,
         "pixel275": 0,
         "pixel276": 0,
         "pixel277": 0,
         "pixel278": 0,
         "pixel279": 0,
         "pixel280": 0,
         "pixel281": 0,
         "pixel282": 0,
         "pixel283": 0,
         "pixel284": 0,
         "pixel285": 0,
         "pixel286": 0,
         "pixel287": 0,
         "pixel288": 0,
         "pixel289": 0,
         "pixel290": 14,
         "pixel291": 1,
         "pixel292": 154,
         "pixel293": 253,
         "pixel294": 90,
         "pixel295": 0,
         "pixel296": 0,
         "pixel297": 0,
         "pixel298": 0,
         "pixel299": 0,
         "pixel300": 0,
         "pixel301": 0,
         "pixel302": 0,
         "pixel303": 0,
         "pixel304": 0,
         "pixel305": 0,
         "pixel306": 0,
         "pixel307": 0,
         "pixel308": 0,
         "pixel309": 0,
         "pixel310": 0,
         "pixel311": 0,
         "pixel312": 0,
         "pixel313": 0,
         "pixel314": 0,
         "pixel315": 0,
         "pixel316": 0,
         "pixel317": 0,
         "pixel318": 0,
         "pixel319": 0,
         "pixel320": 139,
         "pixel321": 253,
         "pixel322": 190,
         "pixel323": 2,
         "pixel324": 0,
         "pixel325": 0,
         "pixel326": 0,
         "pixel327": 0,
         "pixel328": 0,
         "pixel329": 0,
         "pixel330": 0,
         "pixel331": 0,
         "pixel332": 0,
         "pixel333": 0,
         "pixel334": 0,
         "pixel335": 0,
         "pixel336": 0,
         "pixel337": 0,
         "pixel338": 0,
         "pixel339": 0,
         "pixel340": 0,
         "pixel341": 0,
         "pixel342": 0,
         "pixel343": 0,
         "pixel344": 0,
         "pixel345": 0,
         "pixel346": 0,
         "pixel347": 0,
         "pixel348": 11,
         "pixel349": 190,
         "pixel350": 253,
         "pixel351": 70,
         "pixel352": 0,
         "pixel353": 0,
         "pixel354": 0,
         "pixel355": 0,
         "pixel356": 0,
         "pixel357": 0,
         "pixel358": 0,
         "pixel359": 0,
         "pixel360": 0,
         "pixel361": 0,
         "pixel362": 0,
         "pixel363": 0,
         "pixel364": 0,
         "pixel365": 0,
         "pixel366": 0,
         "pixel367": 0,
         "pixel368": 0,
         "pixel369": 0,
         "pixel370": 0,
         "pixel371": 0,
         "pixel372": 0,
         "pixel373": 0,
         "pixel374": 0,
         "pixel375": 0,
         "pixel376": 0,
         "pixel377": 35,
         "pixel378": 241,
         "pixel379": 225,
         "pixel380": 160,
         "pixel381": 108,
         "pixel382": 1,
         "pixel383": 0,
         "pixel384": 0,
         "pixel385": 0,
         "pixel386": 0,
         "pixel387": 0,
         "pixel388": 0,
         "pixel389": 0,
         "pixel390": 0,
         "pixel391": 0,
         "pixel392": 0,
         "pixel393": 0,
         "pixel394": 0,
         "pixel395": 0,
         "pixel396": 0,
         "pixel397": 0,
         "pixel398": 0,
         "pixel399": 0,
         "pixel400": 0,
         "pixel401": 0,
         "pixel402": 0,
         "pixel403": 0,
         "pixel404": 0,
         "pixel405": 0,
         "pixel406": 81,
         "pixel407": 240,
         "pixel408": 253,
         "pixel409": 253,
         "pixel410": 119,
         "pixel411": 25,
         "pixel412": 0,
         "pixel413": 0,
         "pixel414": 0,
         "pixel415": 0,
         "pixel416": 0,
         "pixel417": 0,
         "pixel418": 0,
         "pixel419": 0,
         "pixel420": 0,
         "pixel421": 0,
         "pixel422": 0,
         "pixel423": 0,
         "pixel424": 0,
         "pixel425": 0,
         "pixel426": 0,
         "pixel427": 0,
         "pixel428": 0,
         "pixel429": 0,
         "pixel430": 0,
         "pixel431": 0,
         "pixel432": 0,
         "pixel433": 0,
         "pixel434": 0,
         "pixel435": 45,
         "pixel436": 186,
         "pixel437": 253,
         "pixel438": 253,
         "pixel439": 150,
         "pixel440": 27,
         "pixel441": 0,
         "pixel442": 0,
         "pixel443": 0,
         "pixel444": 0,
         "pixel445": 0,
         "pixel446": 0,
         "pixel447": 0,
         "pixel448": 0,
         "pixel449": 0,
         "pixel450": 0,
         "pixel451": 0,
         "pixel452": 0,
         "pixel453": 0,
         "pixel454": 0,
         "pixel455": 0,
         "pixel456": 0,
         "pixel457": 0,
         "pixel458": 0,
         "pixel459": 0,
         "pixel460": 0,
         "pixel461": 0,
         "pixel462": 0,
         "pixel463": 0,
         "pixel464": 16,
         "pixel465": 93,
         "pixel466": 252,
         "pixel467": 253,
         "pixel468": 187,
         "pixel469": 0,
         "pixel470": 0,
         "pixel471": 0,
         "pixel472": 0,
         "pixel473": 0,
         "pixel474": 0,
         "pixel475": 0,
         "pixel476": 0,
         "pixel477": 0,
         "pixel478": 0,
         "pixel479": 0,
         "pixel480": 0,
         "pixel481": 0,
         "pixel482": 0,
         "pixel483": 0,
         "pixel484": 0,
         "pixel485": 0,
         "pixel486": 0,
         "pixel487": 0,
         "pixel488": 0,
         "pixel489": 0,
         "pixel490": 0,
         "pixel491": 0,
         "pixel492": 0,
         "pixel493": 0,
         "pixel494": 249,
         "pixel495": 253,
         "pixel496": 249,
         "pixel497": 64,
         "pixel498": 0,
         "pixel499": 0,
         "pixel500": 0,
         "_deepnote_index_column": 0
        }
       ],
       "rows_bottom": [
        {
         "pixel1": 0,
         "pixel2": 0,
         "pixel3": 0,
         "pixel4": 0,
         "pixel5": 0,
         "pixel6": 0,
         "pixel7": 0,
         "pixel8": 0,
         "pixel9": 0,
         "pixel10": 0,
         "pixel11": 0,
         "pixel12": 0,
         "pixel13": 0,
         "pixel14": 0,
         "pixel15": 0,
         "pixel16": 0,
         "pixel17": 0,
         "pixel18": 0,
         "pixel19": 0,
         "pixel20": 0,
         "pixel21": 0,
         "pixel22": 0,
         "pixel23": 0,
         "pixel24": 0,
         "pixel25": 0,
         "pixel26": 0,
         "pixel27": 0,
         "pixel28": 0,
         "pixel29": 0,
         "pixel30": 0,
         "pixel31": 0,
         "pixel32": 0,
         "pixel33": 0,
         "pixel34": 0,
         "pixel35": 0,
         "pixel36": 0,
         "pixel37": 0,
         "pixel38": 0,
         "pixel39": 0,
         "pixel40": 0,
         "pixel41": 0,
         "pixel42": 0,
         "pixel43": 0,
         "pixel44": 0,
         "pixel45": 0,
         "pixel46": 0,
         "pixel47": 0,
         "pixel48": 0,
         "pixel49": 0,
         "pixel50": 0,
         "pixel51": 0,
         "pixel52": 0,
         "pixel53": 0,
         "pixel54": 0,
         "pixel55": 0,
         "pixel56": 0,
         "pixel57": 0,
         "pixel58": 0,
         "pixel59": 0,
         "pixel60": 0,
         "pixel61": 0,
         "pixel62": 0,
         "pixel63": 0,
         "pixel64": 0,
         "pixel65": 0,
         "pixel66": 0,
         "pixel67": 0,
         "pixel68": 0,
         "pixel69": 0,
         "pixel70": 0,
         "pixel71": 0,
         "pixel72": 0,
         "pixel73": 0,
         "pixel74": 8,
         "pixel75": 117,
         "pixel76": 254,
         "pixel77": 220,
         "pixel78": 89,
         "pixel79": 0,
         "pixel80": 0,
         "pixel81": 0,
         "pixel82": 0,
         "pixel83": 0,
         "pixel84": 0,
         "pixel85": 0,
         "pixel86": 0,
         "pixel87": 0,
         "pixel88": 0,
         "pixel89": 0,
         "pixel90": 0,
         "pixel91": 0,
         "pixel92": 0,
         "pixel93": 0,
         "pixel94": 0,
         "pixel95": 0,
         "pixel96": 0,
         "pixel97": 0,
         "pixel98": 0,
         "pixel99": 0,
         "pixel100": 13,
         "pixel101": 95,
         "pixel102": 212,
         "pixel103": 253,
         "pixel104": 253,
         "pixel105": 253,
         "pixel106": 157,
         "pixel107": 0,
         "pixel108": 0,
         "pixel109": 0,
         "pixel110": 0,
         "pixel111": 0,
         "pixel112": 0,
         "pixel113": 0,
         "pixel114": 0,
         "pixel115": 0,
         "pixel116": 0,
         "pixel117": 0,
         "pixel118": 0,
         "pixel119": 0,
         "pixel120": 0,
         "pixel121": 0,
         "pixel122": 0,
         "pixel123": 0,
         "pixel124": 0,
         "pixel125": 0,
         "pixel126": 16,
         "pixel127": 95,
         "pixel128": 209,
         "pixel129": 253,
         "pixel130": 253,
         "pixel131": 253,
         "pixel132": 245,
         "pixel133": 125,
         "pixel134": 18,
         "pixel135": 0,
         "pixel136": 0,
         "pixel137": 0,
         "pixel138": 0,
         "pixel139": 0,
         "pixel140": 0,
         "pixel141": 0,
         "pixel142": 0,
         "pixel143": 0,
         "pixel144": 0,
         "pixel145": 0,
         "pixel146": 0,
         "pixel147": 0,
         "pixel148": 0,
         "pixel149": 0,
         "pixel150": 0,
         "pixel151": 0,
         "pixel152": 40,
         "pixel153": 96,
         "pixel154": 206,
         "pixel155": 253,
         "pixel156": 254,
         "pixel157": 253,
         "pixel158": 253,
         "pixel159": 198,
         "pixel160": 64,
         "pixel161": 0,
         "pixel162": 0,
         "pixel163": 0,
         "pixel164": 0,
         "pixel165": 0,
         "pixel166": 0,
         "pixel167": 0,
         "pixel168": 0,
         "pixel169": 0,
         "pixel170": 0,
         "pixel171": 0,
         "pixel172": 0,
         "pixel173": 0,
         "pixel174": 0,
         "pixel175": 0,
         "pixel176": 0,
         "pixel177": 0,
         "pixel178": 44,
         "pixel179": 182,
         "pixel180": 240,
         "pixel181": 253,
         "pixel182": 253,
         "pixel183": 253,
         "pixel184": 254,
         "pixel185": 253,
         "pixel186": 198,
         "pixel187": 24,
         "pixel188": 0,
         "pixel189": 0,
         "pixel190": 0,
         "pixel191": 0,
         "pixel192": 0,
         "pixel193": 0,
         "pixel194": 0,
         "pixel195": 0,
         "pixel196": 0,
         "pixel197": 0,
         "pixel198": 0,
         "pixel199": 0,
         "pixel200": 0,
         "pixel201": 0,
         "pixel202": 0,
         "pixel203": 0,
         "pixel204": 0,
         "pixel205": 0,
         "pixel206": 15,
         "pixel207": 60,
         "pixel208": 60,
         "pixel209": 168,
         "pixel210": 253,
         "pixel211": 253,
         "pixel212": 254,
         "pixel213": 200,
         "pixel214": 23,
         "pixel215": 0,
         "pixel216": 0,
         "pixel217": 0,
         "pixel218": 0,
         "pixel219": 0,
         "pixel220": 0,
         "pixel221": 0,
         "pixel222": 0,
         "pixel223": 0,
         "pixel224": 0,
         "pixel225": 0,
         "pixel226": 0,
         "pixel227": 0,
         "pixel228": 0,
         "pixel229": 0,
         "pixel230": 0,
         "pixel231": 0,
         "pixel232": 0,
         "pixel233": 0,
         "pixel234": 0,
         "pixel235": 0,
         "pixel236": 70,
         "pixel237": 247,
         "pixel238": 253,
         "pixel239": 253,
         "pixel240": 245,
         "pixel241": 21,
         "pixel242": 0,
         "pixel243": 0,
         "pixel244": 0,
         "pixel245": 0,
         "pixel246": 0,
         "pixel247": 0,
         "pixel248": 0,
         "pixel249": 0,
         "pixel250": 0,
         "pixel251": 0,
         "pixel252": 0,
         "pixel253": 0,
         "pixel254": 0,
         "pixel255": 0,
         "pixel256": 0,
         "pixel257": 0,
         "pixel258": 0,
         "pixel259": 0,
         "pixel260": 0,
         "pixel261": 0,
         "pixel262": 0,
         "pixel263": 75,
         "pixel264": 207,
         "pixel265": 253,
         "pixel266": 253,
         "pixel267": 207,
         "pixel268": 92,
         "pixel269": 0,
         "pixel270": 0,
         "pixel271": 0,
         "pixel272": 0,
         "pixel273": 0,
         "pixel274": 0,
         "pixel275": 0,
         "pixel276": 0,
         "pixel277": 0,
         "pixel278": 0,
         "pixel279": 0,
         "pixel280": 0,
         "pixel281": 0,
         "pixel282": 0,
         "pixel283": 0,
         "pixel284": 0,
         "pixel285": 0,
         "pixel286": 0,
         "pixel287": 0,
         "pixel288": 0,
         "pixel289": 0,
         "pixel290": 79,
         "pixel291": 219,
         "pixel292": 253,
         "pixel293": 253,
         "pixel294": 253,
         "pixel295": 138,
         "pixel296": 0,
         "pixel297": 0,
         "pixel298": 0,
         "pixel299": 0,
         "pixel300": 0,
         "pixel301": 0,
         "pixel302": 0,
         "pixel303": 0,
         "pixel304": 0,
         "pixel305": 0,
         "pixel306": 0,
         "pixel307": 0,
         "pixel308": 0,
         "pixel309": 0,
         "pixel310": 0,
         "pixel311": 0,
         "pixel312": 0,
         "pixel313": 0,
         "pixel314": 0,
         "pixel315": 0,
         "pixel316": 0,
         "pixel317": 105,
         "pixel318": 250,
         "pixel319": 253,
         "pixel320": 253,
         "pixel321": 253,
         "pixel322": 34,
         "pixel323": 1,
         "pixel324": 0,
         "pixel325": 0,
         "pixel326": 0,
         "pixel327": 0,
         "pixel328": 0,
         "pixel329": 0,
         "pixel330": 0,
         "pixel331": 0,
         "pixel332": 0,
         "pixel333": 0,
         "pixel334": 0,
         "pixel335": 0,
         "pixel336": 0,
         "pixel337": 0,
         "pixel338": 0,
         "pixel339": 0,
         "pixel340": 0,
         "pixel341": 0,
         "pixel342": 0,
         "pixel343": 0,
         "pixel344": 95,
         "pixel345": 254,
         "pixel346": 254,
         "pixel347": 254,
         "pixel348": 254,
         "pixel349": 94,
         "pixel350": 0,
         "pixel351": 0,
         "pixel352": 0,
         "pixel353": 0,
         "pixel354": 0,
         "pixel355": 3,
         "pixel356": 13,
         "pixel357": 13,
         "pixel358": 13,
         "pixel359": 8,
         "pixel360": 0,
         "pixel361": 0,
         "pixel362": 0,
         "pixel363": 0,
         "pixel364": 0,
         "pixel365": 0,
         "pixel366": 0,
         "pixel367": 0,
         "pixel368": 0,
         "pixel369": 0,
         "pixel370": 0,
         "pixel371": 0,
         "pixel372": 107,
         "pixel373": 253,
         "pixel374": 253,
         "pixel375": 253,
         "pixel376": 204,
         "pixel377": 15,
         "pixel378": 0,
         "pixel379": 0,
         "pixel380": 0,
         "pixel381": 0,
         "pixel382": 21,
         "pixel383": 166,
         "pixel384": 253,
         "pixel385": 253,
         "pixel386": 253,
         "pixel387": 212,
         "pixel388": 25,
         "pixel389": 0,
         "pixel390": 0,
         "pixel391": 0,
         "pixel392": 0,
         "pixel393": 0,
         "pixel394": 0,
         "pixel395": 0,
         "pixel396": 0,
         "pixel397": 0,
         "pixel398": 0,
         "pixel399": 33,
         "pixel400": 217,
         "pixel401": 253,
         "pixel402": 253,
         "pixel403": 132,
         "pixel404": 64,
         "pixel405": 0,
         "pixel406": 0,
         "pixel407": 18,
         "pixel408": 43,
         "pixel409": 157,
         "pixel410": 171,
         "pixel411": 253,
         "pixel412": 253,
         "pixel413": 253,
         "pixel414": 253,
         "pixel415": 253,
         "pixel416": 160,
         "pixel417": 2,
         "pixel418": 0,
         "pixel419": 0,
         "pixel420": 0,
         "pixel421": 0,
         "pixel422": 0,
         "pixel423": 0,
         "pixel424": 0,
         "pixel425": 0,
         "pixel426": 3,
         "pixel427": 166,
         "pixel428": 253,
         "pixel429": 253,
         "pixel430": 242,
         "pixel431": 49,
         "pixel432": 17,
         "pixel433": 49,
         "pixel434": 158,
         "pixel435": 210,
         "pixel436": 254,
         "pixel437": 253,
         "pixel438": 253,
         "pixel439": 253,
         "pixel440": 253,
         "pixel441": 253,
         "pixel442": 253,
         "pixel443": 253,
         "pixel444": 253,
         "pixel445": 11,
         "pixel446": 0,
         "pixel447": 0,
         "pixel448": 0,
         "pixel449": 0,
         "pixel450": 0,
         "pixel451": 0,
         "pixel452": 0,
         "pixel453": 0,
         "pixel454": 10,
         "pixel455": 227,
         "pixel456": 253,
         "pixel457": 253,
         "pixel458": 207,
         "pixel459": 15,
         "pixel460": 172,
         "pixel461": 253,
         "pixel462": 253,
         "pixel463": 253,
         "pixel464": 254,
         "pixel465": 247,
         "pixel466": 201,
         "pixel467": 253,
         "pixel468": 210,
         "pixel469": 210,
         "pixel470": 253,
         "pixel471": 253,
         "pixel472": 175,
         "pixel473": 4,
         "pixel474": 0,
         "pixel475": 0,
         "pixel476": 0,
         "pixel477": 0,
         "pixel478": 0,
         "pixel479": 0,
         "pixel480": 0,
         "pixel481": 0,
         "pixel482": 10,
         "pixel483": 228,
         "pixel484": 253,
         "pixel485": 253,
         "pixel486": 224,
         "pixel487": 87,
         "pixel488": 242,
         "pixel489": 253,
         "pixel490": 253,
         "pixel491": 184,
         "pixel492": 60,
         "pixel493": 54,
         "pixel494": 9,
         "pixel495": 60,
         "pixel496": 35,
         "pixel497": 182,
         "pixel498": 253,
         "pixel499": 253,
         "pixel500": 52,
         "_deepnote_index_column": 69999
        }
       ]
      },
      "text/plain": "       pixel1  pixel2  pixel3  pixel4  pixel5  pixel6  pixel7  pixel8  pixel9  \\\n0         0.0     0.0     0.0     0.0     0.0     0.0     0.0     0.0     0.0   \n1         0.0     0.0     0.0     0.0     0.0     0.0     0.0     0.0     0.0   \n2         0.0     0.0     0.0     0.0     0.0     0.0     0.0     0.0     0.0   \n3         0.0     0.0     0.0     0.0     0.0     0.0     0.0     0.0     0.0   \n4         0.0     0.0     0.0     0.0     0.0     0.0     0.0     0.0     0.0   \n...       ...     ...     ...     ...     ...     ...     ...     ...     ...   \n69995     0.0     0.0     0.0     0.0     0.0     0.0     0.0     0.0     0.0   \n69996     0.0     0.0     0.0     0.0     0.0     0.0     0.0     0.0     0.0   \n69997     0.0     0.0     0.0     0.0     0.0     0.0     0.0     0.0     0.0   \n69998     0.0     0.0     0.0     0.0     0.0     0.0     0.0     0.0     0.0   \n69999     0.0     0.0     0.0     0.0     0.0     0.0     0.0     0.0     0.0   \n\n       pixel10  ...  pixel775  pixel776  pixel777  pixel778  pixel779  \\\n0          0.0  ...       0.0       0.0       0.0       0.0       0.0   \n1          0.0  ...       0.0       0.0       0.0       0.0       0.0   \n2          0.0  ...       0.0       0.0       0.0       0.0       0.0   \n3          0.0  ...       0.0       0.0       0.0       0.0       0.0   \n4          0.0  ...       0.0       0.0       0.0       0.0       0.0   \n...        ...  ...       ...       ...       ...       ...       ...   \n69995      0.0  ...       0.0       0.0       0.0       0.0       0.0   \n69996      0.0  ...       0.0       0.0       0.0       0.0       0.0   \n69997      0.0  ...       0.0       0.0       0.0       0.0       0.0   \n69998      0.0  ...       0.0       0.0       0.0       0.0       0.0   \n69999      0.0  ...       0.0       0.0       0.0       0.0       0.0   \n\n       pixel780  pixel781  pixel782  pixel783  pixel784  \n0           0.0       0.0       0.0       0.0       0.0  \n1           0.0       0.0       0.0       0.0       0.0  \n2           0.0       0.0       0.0       0.0       0.0  \n3           0.0       0.0       0.0       0.0       0.0  \n4           0.0       0.0       0.0       0.0       0.0  \n...         ...       ...       ...       ...       ...  \n69995       0.0       0.0       0.0       0.0       0.0  \n69996       0.0       0.0       0.0       0.0       0.0  \n69997       0.0       0.0       0.0       0.0       0.0  \n69998       0.0       0.0       0.0       0.0       0.0  \n69999       0.0       0.0       0.0       0.0       0.0  \n\n[70000 rows x 784 columns]",
      "text/html": "<div>\n<style scoped>\n    .dataframe tbody tr th:only-of-type {\n        vertical-align: middle;\n    }\n\n    .dataframe tbody tr th {\n        vertical-align: top;\n    }\n\n    .dataframe thead th {\n        text-align: right;\n    }\n</style>\n<table border=\"1\" class=\"dataframe\">\n  <thead>\n    <tr style=\"text-align: right;\">\n      <th></th>\n      <th>pixel1</th>\n      <th>pixel2</th>\n      <th>pixel3</th>\n      <th>pixel4</th>\n      <th>pixel5</th>\n      <th>pixel6</th>\n      <th>pixel7</th>\n      <th>pixel8</th>\n      <th>pixel9</th>\n      <th>pixel10</th>\n      <th>...</th>\n      <th>pixel775</th>\n      <th>pixel776</th>\n      <th>pixel777</th>\n      <th>pixel778</th>\n      <th>pixel779</th>\n      <th>pixel780</th>\n      <th>pixel781</th>\n      <th>pixel782</th>\n      <th>pixel783</th>\n      <th>pixel784</th>\n    </tr>\n  </thead>\n  <tbody>\n    <tr>\n      <th>0</th>\n      <td>0.0</td>\n      <td>0.0</td>\n      <td>0.0</td>\n      <td>0.0</td>\n      <td>0.0</td>\n      <td>0.0</td>\n      <td>0.0</td>\n      <td>0.0</td>\n      <td>0.0</td>\n      <td>0.0</td>\n      <td>...</td>\n      <td>0.0</td>\n      <td>0.0</td>\n      <td>0.0</td>\n      <td>0.0</td>\n      <td>0.0</td>\n      <td>0.0</td>\n      <td>0.0</td>\n      <td>0.0</td>\n      <td>0.0</td>\n      <td>0.0</td>\n    </tr>\n    <tr>\n      <th>1</th>\n      <td>0.0</td>\n      <td>0.0</td>\n      <td>0.0</td>\n      <td>0.0</td>\n      <td>0.0</td>\n      <td>0.0</td>\n      <td>0.0</td>\n      <td>0.0</td>\n      <td>0.0</td>\n      <td>0.0</td>\n      <td>...</td>\n      <td>0.0</td>\n      <td>0.0</td>\n      <td>0.0</td>\n      <td>0.0</td>\n      <td>0.0</td>\n      <td>0.0</td>\n      <td>0.0</td>\n      <td>0.0</td>\n      <td>0.0</td>\n      <td>0.0</td>\n    </tr>\n    <tr>\n      <th>2</th>\n      <td>0.0</td>\n      <td>0.0</td>\n      <td>0.0</td>\n      <td>0.0</td>\n      <td>0.0</td>\n      <td>0.0</td>\n      <td>0.0</td>\n      <td>0.0</td>\n      <td>0.0</td>\n      <td>0.0</td>\n      <td>...</td>\n      <td>0.0</td>\n      <td>0.0</td>\n      <td>0.0</td>\n      <td>0.0</td>\n      <td>0.0</td>\n      <td>0.0</td>\n      <td>0.0</td>\n      <td>0.0</td>\n      <td>0.0</td>\n      <td>0.0</td>\n    </tr>\n    <tr>\n      <th>3</th>\n      <td>0.0</td>\n      <td>0.0</td>\n      <td>0.0</td>\n      <td>0.0</td>\n      <td>0.0</td>\n      <td>0.0</td>\n      <td>0.0</td>\n      <td>0.0</td>\n      <td>0.0</td>\n      <td>0.0</td>\n      <td>...</td>\n      <td>0.0</td>\n      <td>0.0</td>\n      <td>0.0</td>\n      <td>0.0</td>\n      <td>0.0</td>\n      <td>0.0</td>\n      <td>0.0</td>\n      <td>0.0</td>\n      <td>0.0</td>\n      <td>0.0</td>\n    </tr>\n    <tr>\n      <th>4</th>\n      <td>0.0</td>\n      <td>0.0</td>\n      <td>0.0</td>\n      <td>0.0</td>\n      <td>0.0</td>\n      <td>0.0</td>\n      <td>0.0</td>\n      <td>0.0</td>\n      <td>0.0</td>\n      <td>0.0</td>\n      <td>...</td>\n      <td>0.0</td>\n      <td>0.0</td>\n      <td>0.0</td>\n      <td>0.0</td>\n      <td>0.0</td>\n      <td>0.0</td>\n      <td>0.0</td>\n      <td>0.0</td>\n      <td>0.0</td>\n      <td>0.0</td>\n    </tr>\n    <tr>\n      <th>...</th>\n      <td>...</td>\n      <td>...</td>\n      <td>...</td>\n      <td>...</td>\n      <td>...</td>\n      <td>...</td>\n      <td>...</td>\n      <td>...</td>\n      <td>...</td>\n      <td>...</td>\n      <td>...</td>\n      <td>...</td>\n      <td>...</td>\n      <td>...</td>\n      <td>...</td>\n      <td>...</td>\n      <td>...</td>\n      <td>...</td>\n      <td>...</td>\n      <td>...</td>\n      <td>...</td>\n    </tr>\n    <tr>\n      <th>69995</th>\n      <td>0.0</td>\n      <td>0.0</td>\n      <td>0.0</td>\n      <td>0.0</td>\n      <td>0.0</td>\n      <td>0.0</td>\n      <td>0.0</td>\n      <td>0.0</td>\n      <td>0.0</td>\n      <td>0.0</td>\n      <td>...</td>\n      <td>0.0</td>\n      <td>0.0</td>\n      <td>0.0</td>\n      <td>0.0</td>\n      <td>0.0</td>\n      <td>0.0</td>\n      <td>0.0</td>\n      <td>0.0</td>\n      <td>0.0</td>\n      <td>0.0</td>\n    </tr>\n    <tr>\n      <th>69996</th>\n      <td>0.0</td>\n      <td>0.0</td>\n      <td>0.0</td>\n      <td>0.0</td>\n      <td>0.0</td>\n      <td>0.0</td>\n      <td>0.0</td>\n      <td>0.0</td>\n      <td>0.0</td>\n      <td>0.0</td>\n      <td>...</td>\n      <td>0.0</td>\n      <td>0.0</td>\n      <td>0.0</td>\n      <td>0.0</td>\n      <td>0.0</td>\n      <td>0.0</td>\n      <td>0.0</td>\n      <td>0.0</td>\n      <td>0.0</td>\n      <td>0.0</td>\n    </tr>\n    <tr>\n      <th>69997</th>\n      <td>0.0</td>\n      <td>0.0</td>\n      <td>0.0</td>\n      <td>0.0</td>\n      <td>0.0</td>\n      <td>0.0</td>\n      <td>0.0</td>\n      <td>0.0</td>\n      <td>0.0</td>\n      <td>0.0</td>\n      <td>...</td>\n      <td>0.0</td>\n      <td>0.0</td>\n      <td>0.0</td>\n      <td>0.0</td>\n      <td>0.0</td>\n      <td>0.0</td>\n      <td>0.0</td>\n      <td>0.0</td>\n      <td>0.0</td>\n      <td>0.0</td>\n    </tr>\n    <tr>\n      <th>69998</th>\n      <td>0.0</td>\n      <td>0.0</td>\n      <td>0.0</td>\n      <td>0.0</td>\n      <td>0.0</td>\n      <td>0.0</td>\n      <td>0.0</td>\n      <td>0.0</td>\n      <td>0.0</td>\n      <td>0.0</td>\n      <td>...</td>\n      <td>0.0</td>\n      <td>0.0</td>\n      <td>0.0</td>\n      <td>0.0</td>\n      <td>0.0</td>\n      <td>0.0</td>\n      <td>0.0</td>\n      <td>0.0</td>\n      <td>0.0</td>\n      <td>0.0</td>\n    </tr>\n    <tr>\n      <th>69999</th>\n      <td>0.0</td>\n      <td>0.0</td>\n      <td>0.0</td>\n      <td>0.0</td>\n      <td>0.0</td>\n      <td>0.0</td>\n      <td>0.0</td>\n      <td>0.0</td>\n      <td>0.0</td>\n      <td>0.0</td>\n      <td>...</td>\n      <td>0.0</td>\n      <td>0.0</td>\n      <td>0.0</td>\n      <td>0.0</td>\n      <td>0.0</td>\n      <td>0.0</td>\n      <td>0.0</td>\n      <td>0.0</td>\n      <td>0.0</td>\n      <td>0.0</td>\n    </tr>\n  </tbody>\n</table>\n<p>70000 rows × 784 columns</p>\n</div>"
     },
     "metadata": {}
    }
   ],
   "execution_count": null
  },
  {
   "cell_type": "code",
   "metadata": {
    "cell_id": "00033-e7607f68-d488-44c4-a7c9-340106786a22",
    "deepnote_to_be_reexecuted": false,
    "source_hash": "b7f335f0",
    "execution_start": 1636475715841,
    "execution_millis": 4723,
    "deepnote_cell_type": "code"
   },
   "source": "fig, ax = plt.subplots(3,3,figsize=(7,7),dpi=120)\nfor i,j in zip(a,A[0]):\n        ax[i[0]][i[1]].imshow(j.reshape(28,28))\nplt.show()",
   "outputs": [
    {
     "output_type": "error",
     "ename": "ValueError",
     "evalue": "cannot reshape array of size 2 into shape (28,28)",
     "traceback": [
      "\u001b[0;31m---------------------------------------------------------------------------\u001b[0m",
      "\u001b[0;31mValueError\u001b[0m                                Traceback (most recent call last)",
      "\u001b[0;32m<ipython-input-19-1833cc086384>\u001b[0m in \u001b[0;36m<module>\u001b[0;34m\u001b[0m\n\u001b[1;32m      1\u001b[0m \u001b[0mfig\u001b[0m\u001b[0;34m,\u001b[0m \u001b[0max\u001b[0m \u001b[0;34m=\u001b[0m \u001b[0mplt\u001b[0m\u001b[0;34m.\u001b[0m\u001b[0msubplots\u001b[0m\u001b[0;34m(\u001b[0m\u001b[0;36m3\u001b[0m\u001b[0;34m,\u001b[0m\u001b[0;36m3\u001b[0m\u001b[0;34m,\u001b[0m\u001b[0mfigsize\u001b[0m\u001b[0;34m=\u001b[0m\u001b[0;34m(\u001b[0m\u001b[0;36m7\u001b[0m\u001b[0;34m,\u001b[0m\u001b[0;36m7\u001b[0m\u001b[0;34m)\u001b[0m\u001b[0;34m,\u001b[0m\u001b[0mdpi\u001b[0m\u001b[0;34m=\u001b[0m\u001b[0;36m120\u001b[0m\u001b[0;34m)\u001b[0m\u001b[0;34m\u001b[0m\u001b[0;34m\u001b[0m\u001b[0m\n\u001b[1;32m      2\u001b[0m \u001b[0;32mfor\u001b[0m \u001b[0mi\u001b[0m\u001b[0;34m,\u001b[0m\u001b[0mj\u001b[0m \u001b[0;32min\u001b[0m \u001b[0mzip\u001b[0m\u001b[0;34m(\u001b[0m\u001b[0ma\u001b[0m\u001b[0;34m,\u001b[0m\u001b[0mA\u001b[0m\u001b[0;34m[\u001b[0m\u001b[0;36m0\u001b[0m\u001b[0;34m]\u001b[0m\u001b[0;34m)\u001b[0m\u001b[0;34m:\u001b[0m\u001b[0;34m\u001b[0m\u001b[0;34m\u001b[0m\u001b[0m\n\u001b[0;32m----> 3\u001b[0;31m         \u001b[0max\u001b[0m\u001b[0;34m[\u001b[0m\u001b[0mi\u001b[0m\u001b[0;34m[\u001b[0m\u001b[0;36m0\u001b[0m\u001b[0;34m]\u001b[0m\u001b[0;34m]\u001b[0m\u001b[0;34m[\u001b[0m\u001b[0mi\u001b[0m\u001b[0;34m[\u001b[0m\u001b[0;36m1\u001b[0m\u001b[0;34m]\u001b[0m\u001b[0;34m]\u001b[0m\u001b[0;34m.\u001b[0m\u001b[0mimshow\u001b[0m\u001b[0;34m(\u001b[0m\u001b[0mj\u001b[0m\u001b[0;34m.\u001b[0m\u001b[0mreshape\u001b[0m\u001b[0;34m(\u001b[0m\u001b[0;36m28\u001b[0m\u001b[0;34m,\u001b[0m\u001b[0;36m28\u001b[0m\u001b[0;34m)\u001b[0m\u001b[0;34m)\u001b[0m\u001b[0;34m\u001b[0m\u001b[0;34m\u001b[0m\u001b[0m\n\u001b[0m\u001b[1;32m      4\u001b[0m \u001b[0mplt\u001b[0m\u001b[0;34m.\u001b[0m\u001b[0mshow\u001b[0m\u001b[0;34m(\u001b[0m\u001b[0;34m)\u001b[0m\u001b[0;34m\u001b[0m\u001b[0;34m\u001b[0m\u001b[0m\n",
      "\u001b[0;31mValueError\u001b[0m: cannot reshape array of size 2 into shape (28,28)"
     ]
    },
    {
     "data": {
      "text/plain": "<Figure size 840x840 with 9 Axes>",
      "image/png": "[encoded data removed]"
     },
     "metadata": {
      "needs_background": "light",
      "image/png": {
       "width": 726,
       "height": 694
      }
     },
     "output_type": "display_data"
    }
   ],
   "execution_count": null
  },
  {
   "cell_type": "code",
   "metadata": {
    "cell_id": "00034-40eca868-0189-4280-b30a-e7c8c968e0c5",
    "deepnote_to_be_reexecuted": true,
    "source_hash": "b623e53d",
    "deepnote_cell_type": "code"
   },
   "source": "",
   "execution_count": null,
   "outputs": []
  },
  {
   "cell_type": "markdown",
   "source": "<a style='text-decoration:none;line-height:16px;display:flex;color:#5B5B62;padding:10px;justify-content:end;' href='https://deepnote.com?utm_source=created-in-deepnote-cell&projectId=b06e2ad7-2e73-4529-91c1-8e44f8b5881a' target=\"_blank\">\n<img alt='Created in deepnote.com' style='display:inline;max-height:16px;margin:0px;margin-right:7.5px;' src='data:image/svg+xml;base64,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' > </img>\nCreated in <span style='font-weight:600;margin-left:4px;'>Deepnote</span></a>",
   "metadata": {
    "tags": [],
    "created_in_deepnote_cell": true,
    "deepnote_cell_type": "markdown"
   }
  }
 ],
 "nbformat": 4,
 "nbformat_minor": 4,
 "metadata": {
  "kernelspec": {
   "display_name": "Python 3",
   "language": "python",
   "name": "python3"
  },
  "language_info": {
   "codemirror_mode": {
    "name": "ipython",
    "version": 3
   },
   "file_extension": ".py",
   "mimetype": "text/x-python",
   "name": "python",
   "nbconvert_exporter": "python",
   "pygments_lexer": "ipython3",
   "version": "3.7.3"
  },
  "deepnote_notebook_id": "4a29b018-72ac-416b-96ca-63851fe95bb4",
  "deepnote": {},
  "deepnote_execution_queue": []
 }
}