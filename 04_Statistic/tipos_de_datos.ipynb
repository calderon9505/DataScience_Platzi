{
 "cells": [
  {
   "cell_type": "markdown",
   "source": "## Enlaces de interés\n\nhttps://pandao.github.io/editor.md/en.html\nhttps://www.amazon.com/-/es/Charles-Wheelan/dp/1480590185 https://platzi.com/blog/deepnote/\nhttps://platzi.com/tutoriales/1344-storytelling/6430-escribe-historias-geniales-con-markdown/\nhttps://www.kaggle.com/\n",
   "metadata": {
    "tags": [],
    "cell_id": "00000-6cc00c57-41df-4d75-81d8-5a86d03a8763",
    "deepnote_cell_type": "markdown"
   }
  },
  {
   "cell_type": "markdown",
   "source": "![](https://i.imgur.com/tCtMUL3.png)\n\n# ESTADÍSTICA DESCRIPTIVA\n\n**Estadística descriptiva**: \n    obtener, organizar, presentar y describir un conjunto de datos con el propósito de facilitar el uso.\n> Resumir los datos\n\n\n**Estadística inferencial**:\n    determinar propiedades de una población a partir de una muestra.\n> Predecir con datos",
   "metadata": {
    "tags": [],
    "cell_id": "00000-71612dcc-1419-47a6-bd48-409f732e2e4e",
    "deepnote_cell_type": "markdown"
   }
  },
  {
   "cell_type": "markdown",
   "source": "## Flujo de trabajo en Data Science\n\n![](https://i.imgur.com/PJ1zmz1.png)\n\n![](https://i.imgur.com/Kkha6tI.png)\n\nLa estadística descriptiva está presente en los 2 primeros bloques, mientras que la inferencial está en los últimos.",
   "metadata": {
    "tags": [],
    "cell_id": "00002-3a06cdc5-b1b6-432f-907a-c6bf242980e3",
    "deepnote_cell_type": "markdown"
   }
  },
  {
   "cell_type": "markdown",
   "source": "## Tipos de datos\n\n+ **categóricos** (cadenas de texto que son categorias, pueden ser categorias numéricas)\n    + ordinal\n    + nominal\n\n+ **numéricos** (números)\n    + discretos\n    + continuos\n\nDatos categóricos : `object`, `bool`.\n\nDatos numéricos : `int64`, `float64`.",
   "metadata": {
    "tags": [],
    "cell_id": "00003-517b7efa-eb45-421c-94ac-dc61bd3409d1",
    "deepnote_cell_type": "markdown"
   }
  },
  {
   "cell_type": "code",
   "metadata": {
    "tags": [],
    "cell_id": "00000-4548ee57-94cf-4ffb-a6b0-952cca64c1ea",
    "deepnote_to_be_reexecuted": false,
    "source_hash": "3eedcc6e",
    "execution_start": 1629258889989,
    "execution_millis": 375,
    "deepnote_cell_type": "code"
   },
   "source": "import pandas as pd\n\ndf = pd.read_csv('cars.csv') #dataframe\n# df\n# df.dtypes\n# df.describe()",
   "outputs": [],
   "execution_count": null
  },
  {
   "cell_type": "markdown",
   "source": "# Estadística en la ingesta de datos\n\n\n## Medidas de tendencia central\nManera de resumir información.\n\n+ Media (promedio)\n    + susceptible a valores atípicos\n+ Mediana (dato central)\n+ Moda (dato que más se repite)\n    + no aplica para datos numéricos continuos\n\n## Diagrama de frecuencias\n\n![](https://i.imgur.com/zWiiAlJ.png?1)",
   "metadata": {
    "tags": [],
    "cell_id": "00005-1c568fc9-70c5-4a65-ae49-1a157f1a584a",
    "deepnote_cell_type": "markdown"
   }
  },
  {
   "cell_type": "markdown",
   "source": "",
   "metadata": {
    "tags": [],
    "cell_id": "00004-bf0eb9c8-89d9-4cc0-9d0d-5d5fad7cf888",
    "deepnote_cell_type": "markdown"
   }
  },
  {
   "cell_type": "markdown",
   "source": "<a style='text-decoration:none;line-height:16px;display:flex;color:#5B5B62;padding:10px;justify-content:end;' href='https://deepnote.com?utm_source=created-in-deepnote-cell&projectId=b06e2ad7-2e73-4529-91c1-8e44f8b5881a' target=\"_blank\">\n<img alt='Created in deepnote.com' style='display:inline;max-height:16px;margin:0px;margin-right:7.5px;' src='data:image/svg+xml;base64,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' > </img>\nCreated in <span style='font-weight:600;margin-left:4px;'>Deepnote</span></a>",
   "metadata": {
    "tags": [],
    "created_in_deepnote_cell": true,
    "deepnote_cell_type": "markdown"
   }
  }
 ],
 "nbformat": 4,
 "nbformat_minor": 2,
 "metadata": {
  "orig_nbformat": 2,
  "deepnote": {
   "is_reactive": false
  },
  "deepnote_notebook_id": "6437a791-f93a-4132-a511-80a27ab4fe0d",
  "deepnote_execution_queue": []
 }
}