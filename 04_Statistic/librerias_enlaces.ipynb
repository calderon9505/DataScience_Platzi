{
 "cells": [
  {
   "cell_type": "markdown",
   "source": "# Enlaces de interés\n\n- Markdown.\n\nhttps://pandao.github.io/editor.md/en.html\n\nhttps://platzi.com/tutoriales/1344-storytelling/6430-escribe-historias-geniales-con-markdown/\n\nhttps://manualdelatex.com/tutoriales/ecuaciones\n\nhttp://elclubdelautodidacta.es/wp/2012/05/latex-capitulo-28-el-alfabeto-griego/\n\n- Naked Statistics. Charles Wheelan.\n\nhttps://www.amazon.com/-/es/Charles-Wheelan/dp/1480590185 \n\n- Proyectos prácticos de ML y DS\n\nhttps://www.kaggle.com/\n\nhttps://www.youtube.com/watch?v=Qt-pN9CqJeo&ab_channel=AprendeIAconLigdiGonzalez\n\n- Data visualizations\n\nhttps://datavizproject.com/\n\n- Tutoriales firmes\n\nhttps://interactivechaos.com/es/tutoriales\n\nhttps://www.superprof.es/apuntes/escolar/matematicas/estadistica/\n\n- Probability and Statistics for Data Science\n\nhttps://cims.nyu.edu/~cfgranda/pages/stuff/probability_stats_for_DS.pdf",
   "metadata": {
    "tags": [],
    "cell_id": "00000-bf58dbaf-7bd8-4067-ad96-bd99b1077d83",
    "deepnote_cell_type": "markdown"
   }
  },
  {
   "cell_type": "markdown",
   "source": "---\n---\n---",
   "metadata": {
    "tags": [],
    "cell_id": "00001-1f39c4d8-ad73-4015-a095-652b7b83bfdc",
    "deepnote_cell_type": "markdown"
   }
  },
  {
   "cell_type": "markdown",
   "source": "# Librerías para Ciencia de datos\n\n---",
   "metadata": {
    "tags": [],
    "cell_id": "00001-9b97e796-f788-4a3b-86a2-af4e86efbe4a",
    "deepnote_cell_type": "markdown"
   }
  },
  {
   "cell_type": "markdown",
   "source": "## NumPy\n\nThe fundamental package for scientific computing with Python\n\nNumPy is an open source project aiming to enable numerical computing with Python.\n\n",
   "metadata": {
    "tags": [],
    "cell_id": "00002-20b90c6f-3e37-47a8-a98b-10e7fa141354",
    "deepnote_cell_type": "markdown"
   }
  },
  {
   "cell_type": "markdown",
   "source": "## Pandas\n\nhttps://pandas.pydata.org/\n\nPandas es una librería de Python especializada en el manejo y análisis de estructuras de datos.\n\nLas principales características de esta librería son:\n\n- Define nuevas estructuras de datos basadas en los arrays de la librería NumPy pero con nuevas funcionalidades.\n- Permite leer y escribir fácilmente ficheros en formato CSV, Excel y bases de datos SQL.\n- Permite acceder a los datos mediante índices o nombres para filas y columnas.\n- Ofrece métodos para reordenar, dividir y combinar conjuntos de datos.\n- Permite trabajar con series temporales.\n\n**Tipos de datos**\n\n- **Series**: Estructura de una dimensión.\n- **DataFrame**: Estructura de dos dimensiones (tablas).\n- **Panel**: Estructura de tres dimensiones (cubos).\n\nEstas estructuras se construyen a partir de arrays de la librería *NumPy*, añadiendo nuevas funcionalidades.\n\nAl instalar pandas en python con  `$ pip install pandas` se incluye *pytz, numpy, python_dateutil, six*.",
   "metadata": {
    "tags": [],
    "cell_id": "00003-cc267f64-c15b-4326-bad5-cb1022826134",
    "deepnote_cell_type": "markdown"
   }
  },
  {
   "cell_type": "markdown",
   "source": "## SciPy\n\nFunciones para algebra lineal, optimización, integración y estadística.",
   "metadata": {
    "tags": [],
    "cell_id": "00005-d82a602c-36ba-46b8-9051-9326e9e51b16",
    "deepnote_cell_type": "markdown"
   }
  },
  {
   "cell_type": "markdown",
   "source": "# Librerías para Visualización\n\n---",
   "metadata": {
    "tags": [],
    "cell_id": "00006-278db440-0a74-4493-aa82-8efd2474b21c",
    "deepnote_cell_type": "markdown"
   }
  },
  {
   "cell_type": "markdown",
   "source": "## Matplotlib\n\nMatplotlib is a comprehensive library for creating static, animated, and interactive visualizations in Python.",
   "metadata": {
    "tags": [],
    "cell_id": "00005-603797d8-d949-454f-a9dc-18d074287e89",
    "deepnote_cell_type": "markdown"
   }
  },
  {
   "cell_type": "markdown",
   "source": "## Seaborn\n\nhttps://seaborn.pydata.org/index.html\nhttps://seaborn.pydata.org/tutorial.html\nhttps://seaborn.pydata.org/generated/seaborn.load_dataset.html\nhttps://github.com/mwaskom/seaborn-data\n\n\nSeaborn is a Python data visualization library based on *matplotlib*. It provides a high-level interface for drawing attractive and informative statistical graphics.",
   "metadata": {
    "tags": [],
    "cell_id": "00005-1eeb1fef-ab99-4332-936c-f381ef3906c8",
    "deepnote_cell_type": "markdown"
   }
  },
  {
   "cell_type": "markdown",
   "source": "## Bokeh\n\nDiagramas interactivos y con zoom en navegadores web modernos que usan widgets JavaScript.",
   "metadata": {
    "tags": [],
    "cell_id": "00009-5a975a21-fa6b-461c-889c-2e67c8188197",
    "deepnote_cell_type": "markdown"
   }
  },
  {
   "cell_type": "markdown",
   "source": "# Librerías para Machine Learning\n\n---",
   "metadata": {
    "tags": [],
    "cell_id": "00011-c53c20b8-e479-473c-b211-f40505d4ef09",
    "deepnote_cell_type": "markdown"
   }
  },
  {
   "cell_type": "markdown",
   "source": "## Scikit-learn\n\nScikit-learn sirve para hacer análisis predictivo.\n\nIncorpora funciones para procesamiento de datos:\nNormalizaciones, transformaciones no lineales, etc \n\nEstá basada en *NumPy, SciPy y matplotlib*.",
   "metadata": {
    "tags": [],
    "cell_id": "00007-08f8e606-71a0-4cba-aa13-e4837a69a03d",
    "deepnote_cell_type": "markdown"
   }
  },
  {
   "cell_type": "markdown",
   "source": "## Theano\n\nPermite definir, optimizar y evaluar expresiones matemáticas que involucran multidimensionales.\n\nAprovecha la GPU de la PC para cálculos intensivos de datos.\n\nEs de muy alta velocidad.",
   "metadata": {
    "tags": [],
    "cell_id": "00012-3d3ad64e-5aad-4896-8874-bc800d585020",
    "deepnote_cell_type": "markdown"
   }
  },
  {
   "cell_type": "markdown",
   "source": "## Keras\n\nContruir redes neuronales en un alto nivel de la interfaz.",
   "metadata": {
    "tags": [],
    "cell_id": "00013-5a83f918-d1c9-457e-acf2-7f51b1a91f1e",
    "deepnote_cell_type": "markdown"
   }
  },
  {
   "cell_type": "markdown",
   "source": "## TensorFlow\n\nRedes neuronales de alto nivel.",
   "metadata": {
    "tags": [],
    "cell_id": "00014-6843be04-2fa2-40e5-8845-cfa44bfbbe9c",
    "deepnote_cell_type": "markdown"
   }
  },
  {
   "cell_type": "markdown",
   "source": "<a style='text-decoration:none;line-height:16px;display:flex;color:#5B5B62;padding:10px;justify-content:end;' href='https://deepnote.com?utm_source=created-in-deepnote-cell&projectId=b06e2ad7-2e73-4529-91c1-8e44f8b5881a' target=\"_blank\">\n<img alt='Created in deepnote.com' style='display:inline;max-height:16px;margin:0px;margin-right:7.5px;' src='data:image/svg+xml;base64,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' > </img>\nCreated in <span style='font-weight:600;margin-left:4px;'>Deepnote</span></a>",
   "metadata": {
    "tags": [],
    "created_in_deepnote_cell": true,
    "deepnote_cell_type": "markdown"
   }
  }
 ],
 "nbformat": 4,
 "nbformat_minor": 2,
 "metadata": {
  "orig_nbformat": 2,
  "deepnote": {
   "is_reactive": false
  },
  "deepnote_notebook_id": "8af72595-1ab9-44c1-89a0-4ea2426c8248",
  "deepnote_execution_queue": []
 }
}