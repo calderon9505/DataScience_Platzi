{
 "cells": [
  {
   "cell_type": "markdown",
   "source": "# Pipelines de procesamiento para variables numéricas\n\nUna **pipeline** de datos es una construcción lógica que representa un proceso dividido en fases.",
   "metadata": {
    "tags": [],
    "cell_id": "00000-8f471cd5-ba05-448d-86f5-bb82450e3a10",
    "deepnote_cell_type": "markdown"
   }
  },
  {
   "cell_type": "markdown",
   "source": "## Transformacion (Escalamiento) lineal\n\nse usan porque los modelos de Machine Learning son eficientes en el rango [-1,1] o [0,1].\n\nEl escalamiento lineal se usa cuando los datos están uniformemente distribuidos o que los datos sean simétricos.\n\n$$ X \\text{ se transforma en } X_s \\text{ (scale)} $$\n\nHay diferentes tipos de escalamiento (transformaciones lineales):\n- **max-min**: Escalamiento en el rango [-1,1]\n$$ X_s = \\frac{2X-min-max}{max-min} $$\n\nSi se quire en el rango [0,1]\n\n$$ X_s = \\frac{X-min}{max-min} $$\n\n- **Clipping**: defino un máximo y un mínimo (puede ser arbitrario o según percentiles(Winsorizing)) . Los datos que queden por fuera se colapsan al máximo o mínimo.\n- **Z-score**: Ajusta la distribución normal a otra distribución normal con promedio en cero y con desviación estandar de uno.\n\n$$ Z = X_s = \\frac{X - \\mu}{\\sigma} $$\n\nLa distribución normal estandarizada es la distribución normal con $$ \\mu = 0 $$ y $$ \\sigma = 1 $$. $$ N(0,1) $$.\n\nExiste una tabla de \"probabilidades normales estandarizadas\" que me pertmite encontrar la probabilidad a la izquierda de un valor Z dado.\n- **etc**...\n\nhttps://interactivechaos.com/es/manual/tutorial-de-machine-learning/escalado-de-datos",
   "metadata": {
    "tags": [],
    "cell_id": "00001-5d5e3b03-e55d-460c-a526-68d4158b3889",
    "deepnote_cell_type": "markdown"
   }
  },
  {
   "cell_type": "markdown",
   "source": "### max-min\n\nMejor para datos uniformemente distribuidos.\n\n\n### Z-score\n\nMejor para datos distribuidos \"normalmente\" (campana de gauss).\n\n\nEsto dice el estandar, pero se debe validar para cada conjunto de datos en específico.",
   "metadata": {
    "tags": [],
    "cell_id": "00010-6475cff9-032c-4629-9b2f-0c3e06720634",
    "deepnote_cell_type": "markdown"
   }
  },
  {
   "cell_type": "code",
   "metadata": {
    "tags": [],
    "cell_id": "00003-b96ad72e-c34d-4ee0-938a-f253cf1d6d24",
    "deepnote_to_be_reexecuted": false,
    "source_hash": "25761362",
    "execution_start": 1632856684781,
    "execution_millis": 1743,
    "deepnote_cell_type": "code"
   },
   "source": "import timeit\nimport numpy as np\nimport pandas as pd\nimport matplotlib.pyplot as plt\nfrom sklearn import datasets, linear_model\n\nX, y = datasets.load_diabetes(return_X_y=True)\nraw = X[:, None, 2]",
   "outputs": [],
   "execution_count": null
  },
  {
   "cell_type": "markdown",
   "source": "https://scikit-learn.org/stable/datasets/toy_dataset.html\n\nDetalles del dataset: https://scikit-learn.org/stable/modules/generated/sklearn.datasets.load_diabetes.html\n\nhttps://www4.stat.ncsu.edu/~boos/var.select/diabetes.html\n\nX tiene un shape de (442, 10). para nuestro estudio solo necesitamos una columna, buscamos tener un raw con shape (442, 1)\n\n`None` indica la transformación del arreglo (newaxis)\n\n`2` Selecciona la 3ra columna de X. bmi(body mass index)\n\nla variable \"y\" es la progresión de la enfermedad.",
   "metadata": {
    "tags": [],
    "cell_id": "00005-761d73c8-a514-48be-9e9d-7c32fff09982",
    "deepnote_cell_type": "markdown"
   }
  },
  {
   "cell_type": "code",
   "source": "fig, ax = plt.subplots()\nax.scatter(X[:, None, 2],y)",
   "metadata": {
    "tags": [],
    "cell_id": "00005-af1c61b3-2e9c-4f2f-9f53-190942d95ba0",
    "deepnote_to_be_reexecuted": false,
    "source_hash": "f89bf920",
    "execution_start": 1632858599178,
    "execution_millis": 202,
    "deepnote_cell_type": "code"
   },
   "outputs": [
    {
     "output_type": "execute_result",
     "execution_count": 14,
     "data": {
      "text/plain": "<matplotlib.collections.PathCollection at 0x7f89a3bef9d0>"
     },
     "metadata": {}
    },
    {
     "data": {
      "text/plain": "<Figure size 432x288 with 1 Axes>",
      "image/png": "[encoded data removed]"
     },
     "metadata": {
      "needs_background": "light",
      "image/png": {
       "width": 375,
       "height": 248
      }
     },
     "output_type": "display_data"
    }
   ],
   "execution_count": null
  },
  {
   "cell_type": "code",
   "metadata": {
    "tags": [],
    "cell_id": "00004-32bf7fed-1972-4311-b0f6-386bdf653e2f",
    "deepnote_to_be_reexecuted": false,
    "source_hash": "f3a00d0b",
    "execution_start": 1632589006690,
    "execution_millis": 15,
    "deepnote_cell_type": "code"
   },
   "source": "X[0]",
   "execution_count": null,
   "outputs": [
    {
     "output_type": "execute_result",
     "execution_count": 9,
     "data": {
      "text/plain": "array([ 0.03807591,  0.05068012,  0.06169621,  0.02187235, -0.0442235 ,\n       -0.03482076, -0.04340085, -0.00259226,  0.01990842, -0.01764613])"
     },
     "metadata": {}
    }
   ]
  },
  {
   "cell_type": "code",
   "metadata": {
    "tags": [],
    "cell_id": "00005-f08aa8dc-2083-45b8-9a8f-61487d911553",
    "deepnote_to_be_reexecuted": false,
    "source_hash": "2906a030",
    "execution_start": 1632589145187,
    "execution_millis": 1,
    "deepnote_cell_type": "code"
   },
   "source": "y[0]",
   "execution_count": null,
   "outputs": [
    {
     "output_type": "execute_result",
     "execution_count": 13,
     "data": {
      "text/plain": "151.0"
     },
     "metadata": {}
    }
   ]
  },
  {
   "cell_type": "code",
   "metadata": {
    "tags": [],
    "cell_id": "00004-e93357a6-2f7a-4040-8c6d-6f94dd74292d",
    "deepnote_to_be_reexecuted": false,
    "source_hash": "ab036509",
    "execution_start": 1632588834872,
    "execution_millis": 11,
    "deepnote_cell_type": "code"
   },
   "source": "# https://numpy.org/doc/stable/reference/generated/numpy.ndarray.html\n\n# Atributos\nX.size # 4420\nX.ndim # 2\nX.shape # (442, 10)",
   "execution_count": null,
   "outputs": [
    {
     "output_type": "execute_result",
     "execution_count": 7,
     "data": {
      "text/plain": "(442, 10)"
     },
     "metadata": {}
    }
   ]
  },
  {
   "cell_type": "code",
   "metadata": {
    "tags": [],
    "cell_id": "00007-1e95d894-8b1a-4a40-ab9f-55042d188a6c",
    "deepnote_to_be_reexecuted": false,
    "source_hash": "a4b88757",
    "execution_start": 1632711668872,
    "execution_millis": 1,
    "deepnote_cell_type": "code"
   },
   "source": "# Escalamiento max - min\nmax_raw = max(raw)\nmin_raw = min(raw)\nscaled = (2*raw - max_raw - min_raw)/(max_raw-min_raw)\n\n# normalización Z-score\navg = np.average(raw)\nstd = np.std(raw)\nz_scaled = (raw - avg)/std\n# z_scaled = (raw - raw.mean())/(raw.std())",
   "execution_count": null,
   "outputs": []
  },
  {
   "cell_type": "markdown",
   "source": "Al entrenar un modelo el efecto del escalamiento debe ser el apropiado.\nCuando voy a hacer una regla de escalamiento debo saber cual es la distribución de mis datos **vs** la distribucion de los datos escaldos",
   "metadata": {
    "tags": [],
    "cell_id": "00010-edc6d85f-18db-40f8-9485-05adb9f5208f",
    "deepnote_cell_type": "markdown"
   }
  },
  {
   "cell_type": "code",
   "metadata": {
    "tags": [],
    "cell_id": "00011-05b7febe-f029-4800-962a-8e6de3d99083",
    "deepnote_to_be_reexecuted": false,
    "source_hash": "cf5ea2a",
    "execution_start": 1632711553225,
    "execution_millis": 366,
    "deepnote_cell_type": "code"
   },
   "source": "fig, axs = plt.subplots(3,1, sharex = True)\n\naxs[0].hist(raw)\naxs[1].hist(scaled)\naxs[2].hist(z_scaled)",
   "execution_count": null,
   "outputs": [
    {
     "output_type": "execute_result",
     "execution_count": 4,
     "data": {
      "text/plain": "(array([32., 66., 98., 90., 64., 50., 23., 12.,  5.,  2.]),\n array([-1.89792941, -1.34956464, -0.80119987, -0.2528351 ,  0.29552967,\n         0.84389444,  1.39225921,  1.94062398,  2.48898875,  3.03735352,\n         3.58571828]),\n <BarContainer object of 10 artists>)"
     },
     "metadata": {}
    },
    {
     "data": {
      "text/plain": "<Figure size 432x288 with 3 Axes>",
      "image/png": "[encoded data removed]"
     },
     "metadata": {
      "needs_background": "light",
      "image/png": {
       "width": 375,
       "height": 251
      }
     },
     "output_type": "display_data"
    }
   ]
  },
  {
   "cell_type": "code",
   "metadata": {
    "tags": [],
    "cell_id": "00008-4a08767a-e122-449a-8e9e-3ed277efd312",
    "deepnote_to_be_reexecuted": false,
    "source_hash": "2aadc2b5",
    "execution_start": 1632711561706,
    "execution_millis": 0,
    "deepnote_cell_type": "code"
   },
   "source": "# Modelos para entrenamiento\n\ndef train_raw():\n    linear_model.LinearRegression().fit(raw, y)\n\ndef train_scaled():\n    linear_model.LinearRegression().fit(scaled, y)\n\ndef train_z_scaled():\n    linear_model.LinearRegression().fit(z_scaled, y)",
   "execution_count": null,
   "outputs": []
  },
  {
   "cell_type": "code",
   "metadata": {
    "tags": [],
    "cell_id": "00009-30125d73-8769-465b-a9bf-351349c0c261",
    "deepnote_to_be_reexecuted": false,
    "source_hash": "1ac2703d",
    "execution_start": 1632711611284,
    "execution_millis": 1022,
    "deepnote_cell_type": "code"
   },
   "source": "raw_time = timeit.timeit(train_raw, number = 1000)\nscaled_time = timeit.timeit(train_scaled, number = 1000)\nz_scaled_time = timeit.timeit(train_raw, number = 1000)\nprint('trainning time for raw data : {} '.format(raw_time))\nprint('trainning time for scaled data : {}'.format(scaled_time))\nprint('trainning time for z_scaled data : {}'.format(z_scaled_time))",
   "execution_count": null,
   "outputs": [
    {
     "name": "stdout",
     "text": "trainning time for raw data : 0.3724820399993405 \ntrainning time for scaled data : 0.3198911110002882\ntrainning time for z_scaled data : 0.31388229899948783\n",
     "output_type": "stream"
    }
   ]
  },
  {
   "cell_type": "markdown",
   "source": "**Conclusion**: Escalar datos contribuye a que el algoritmo sea más eficiente.",
   "metadata": {
    "tags": [],
    "cell_id": "00014-f088a8ad-a08f-4efb-9930-c125e82de3a2",
    "deepnote_cell_type": "markdown"
   }
  },
  {
   "cell_type": "markdown",
   "source": "Utilidades de Scikit Learn : https://scikit-learn.org/stable/modules/preprocessing.html\n\nLa normalización Z se conoce como estandarización de una variable.",
   "metadata": {
    "tags": [],
    "cell_id": "00014-eb235490-0358-42e7-a2f9-33ab86b478a1",
    "deepnote_cell_type": "markdown"
   }
  },
  {
   "cell_type": "markdown",
   "source": "## Transformacion (Escalamiento) no lineal\n\nTransformaciones cuando la distribución no es simétrica, es decir, los datos están sesgados.\n\nSe realiza una transformación no lineal y luego se aplican escalamientos lineales.\n\nTipos de transformaciones no lineales:\n- Logaritmos\n- Sigmoide\n- Polinomiales\n- etc...\n\n\n![](https://i.imgur.com/y5m4jtp.png)\n![](https://i.imgur.com/6cqNq6h.png)",
   "metadata": {
    "tags": [],
    "cell_id": "00003-ea40b5f2-9241-4f6c-aeb5-d49fa4123028",
    "deepnote_cell_type": "markdown"
   }
  },
  {
   "cell_type": "code",
   "metadata": {
    "tags": [],
    "cell_id": "00016-1af7f5a2-1073-4d9b-b30c-444526473a92",
    "deepnote_to_be_reexecuted": false,
    "source_hash": "c415f9b1",
    "execution_start": 1632711633285,
    "execution_millis": 480,
    "deepnote_cell_type": "code"
   },
   "source": "df = pd.read_csv('cars.csv')\n\ndf.price_usd.hist()",
   "execution_count": null,
   "outputs": [
    {
     "output_type": "execute_result",
     "execution_count": 10,
     "data": {
      "text/plain": "<AxesSubplot:>"
     },
     "metadata": {}
    },
    {
     "data": {
      "text/plain": "<Figure size 432x288 with 1 Axes>",
      "image/png": "[encoded data removed]"
     },
     "metadata": {
      "needs_background": "light",
      "image/png": {
       "width": 388,
       "height": 248
      }
     },
     "output_type": "display_data"
    }
   ]
  },
  {
   "cell_type": "code",
   "metadata": {
    "tags": [],
    "cell_id": "00017-3c303bfb-b216-49d8-b1ad-15258d71840d",
    "deepnote_to_be_reexecuted": false,
    "source_hash": "422ccc88",
    "execution_start": 1632711675694,
    "execution_millis": 233,
    "deepnote_cell_type": "code"
   },
   "source": "p = 10000\ndf.price_usd.apply(lambda x : np.tanh(x/p)).hist()",
   "execution_count": null,
   "outputs": [
    {
     "output_type": "execute_result",
     "execution_count": 15,
     "data": {
      "text/plain": "<AxesSubplot:>"
     },
     "metadata": {}
    },
    {
     "data": {
      "text/plain": "<Figure size 432x288 with 1 Axes>",
      "image/png": "[encoded data removed]"
     },
     "metadata": {
      "needs_background": "light",
      "image/png": {
       "width": 381,
       "height": 248
      }
     },
     "output_type": "display_data"
    }
   ]
  },
  {
   "cell_type": "markdown",
   "source": "* mapear datos a una distribucion gaussiana:\nhttps://scikit-learn.org/stable/auto_examples/preprocessing/plot_map_data_to_normal.html#sphx-glr-auto-examples-preprocessing-plot-map-data-to-normal-py",
   "metadata": {
    "tags": [],
    "cell_id": "00018-a93fe85d-0c73-44a3-a6ab-c111f2ae0735",
    "deepnote_cell_type": "markdown"
   }
  },
  {
   "cell_type": "markdown",
   "source": "<a style='text-decoration:none;line-height:16px;display:flex;color:#5B5B62;padding:10px;justify-content:end;' href='https://deepnote.com?utm_source=created-in-deepnote-cell&projectId=b06e2ad7-2e73-4529-91c1-8e44f8b5881a' target=\"_blank\">\n<img alt='Created in deepnote.com' style='display:inline;max-height:16px;margin:0px;margin-right:7.5px;' src='data:image/svg+xml;base64,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' > </img>\nCreated in <span style='font-weight:600;margin-left:4px;'>Deepnote</span></a>",
   "metadata": {
    "tags": [],
    "created_in_deepnote_cell": true,
    "deepnote_cell_type": "markdown"
   }
  }
 ],
 "nbformat": 4,
 "nbformat_minor": 2,
 "metadata": {
  "orig_nbformat": 2,
  "deepnote": {
   "is_reactive": false
  },
  "deepnote_notebook_id": "f3fc264e-36f9-42bf-90c3-d50a0ecba68b",
  "deepnote_execution_queue": []
 }
}