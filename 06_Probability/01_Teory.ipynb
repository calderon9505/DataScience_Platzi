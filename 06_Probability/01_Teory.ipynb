{
 "cells": [
  {
   "cell_type": "markdown",
   "source": "## Definición clásica de Probabilidad\n\nLa probabilidad de ocurrencia de A es:\n\n$$ P_{(A)} = \\frac{\\text{Número resultados favorables}}{\\text{Números resultados posibles}} = \\frac{n(A)}{n(\\Omega)} $$",
   "metadata": {
    "tags": [],
    "cell_id": "00000-e8989974-03df-44c7-a202-22c1ff1eb171",
    "deepnote_cell_type": "markdown"
   }
  },
  {
   "cell_type": "markdown",
   "source": "## Teorema de la adición\n\n- Si A y B son sucesos no excluyentes\n\n$$ P{(A\\cup B)} = P{(A)} + P{(B)} - P{(A \\cap B)} $$\n\n- Si A y B son sucesos mutuamente excluyentes\n\n$$ P{(A\\cup B)} = P{(A)} + P{(B)} $$",
   "metadata": {
    "tags": [],
    "cell_id": "00001-7901fd5d-ee63-4575-926b-096589f60a5a",
    "deepnote_cell_type": "markdown"
   }
  },
  {
   "cell_type": "markdown",
   "source": "## Teorema de la multiplicación\n\n- Si A y B son sucesos independientes\n\n$$ P(A\\cap B) = P(A) \\cdot P(B) $$\n\n$$ P(A | B) = P(A) $$\n\n- Si A y B son sucesos dependientes\n\n$$ P(A\\cap B) = P(A) \\cdot P(B|A) $$\n\n$$ P(A\\cap B) = P(B) \\cdot P(A|B) $$\n",
   "metadata": {
    "tags": [],
    "cell_id": "00002-4bca4ad2-a6bb-4380-bc64-26c9111491d4",
    "deepnote_cell_type": "markdown"
   }
  },
  {
   "cell_type": "markdown",
   "source": "## Tipos de probabilidad\n\nhttps://towardsdatascience.com/probability-concepts-explained-introduction-a7c0316de465\n\n- Conjunta (joint)\n\nProbabilidad de que dos o más eventos ocurran juntos y en el mismo momento.\n\n$$ P(A,B) = P(B | A)P(A) $$\n\n- condicional\n\nProbabilidad de que un evento ocurra sabiendo que tambien sucede otro evento. No tiene por qué haber una relación causal o temporal entre los eventos. *Las probabilidades condicionales no reflejan relaciones de causalidad*. Existe una relación conceptual entre las probabilidades condicionales y las operaciones basadas en la expresión *group by* de SQL. \n\n$$ P(A|B) $$\n\n- Marginal\n\nProbabilidad de la ocurrencia de un suceso independiente de lo que pase con el otro\n\n$$ P(A) = \\sum_b P(A,B)$$",
   "metadata": {
    "tags": [],
    "cell_id": "00000-a5410aa0-d60f-4d5a-8198-6c620df57cd1",
    "deepnote_cell_type": "markdown"
   }
  },
  {
   "cell_type": "markdown",
   "source": "### Correlación\n\nlos eventos A y B están *positivamente* correlacionados cuando la incidencia de un evento aumenta la probabilidades del otro evento. Y *negativamente* correlaciones en caso contrario.",
   "metadata": {
    "tags": [],
    "cell_id": "00004-24af22a1-9455-4906-8569-46c3ae3b042c",
    "deepnote_cell_type": "markdown"
   }
  },
  {
   "cell_type": "markdown",
   "source": "## Función de densidad de probabilidad\n## Función de densidad\n## Función de probabilidad\n## Distribución de probabiliad\n\nEs una **función** que toma una variable aleatoria y le asigna una probabilidad.",
   "metadata": {
    "tags": [],
    "cell_id": "00005-75074e0c-828d-4809-ab8d-8fb536f09c0a",
    "deepnote_cell_type": "markdown"
   }
  },
  {
   "cell_type": "markdown",
   "source": "$$ X \\rightarrow \\text{Variable aleatoria} $$\n\n$$ x \\rightarrow \\text{Valores posibles en el espacio muestral} $$\n\n$$ f(x) \\rightarrow \\text{Función de densidad de probabilidad} $$\n\nToma valores mayores que cero y el area bajo la curva es 1 (o la sumatoria es 1 para el caso discreto).\n\n$$ Dom(x) \\rightarrow \\text{Todos los valores posbiles de X (continuo o discreto)}$$",
   "metadata": {
    "tags": [],
    "cell_id": "00006-a8790ede-75e5-4002-ab8a-e1e4fe0d7e96",
    "deepnote_cell_type": "markdown"
   }
  },
  {
   "cell_type": "markdown",
   "source": "## Función de distribución\n## Distribución de probabilidad acumulada\n\nProporcionan la probabilidad acumulada hasta un determinado valor de la variable.\n\n$$ F(X) \\rightarrow \\text{Función de distribución}$$\n\nF(X) siempre es creciente y su imagen (codominio, Rango) es [0,1]\n\n- Función continua\n\n$$ F(x) = P(X \\leq x) = \\int_{- \\infty}^x  f(X) \\, \\mathrm{d}x $$\n\n$$ F(x) = P(a \\leq X \\leq b) = \\int_a^b  f(X) \\, \\mathrm{d}x $$\n\n- Función discreta\n\n$$ F(x) = P(X \\leq x) = \\sum_{- \\infty}^x f(X)  $$",
   "metadata": {
    "tags": [],
    "cell_id": "00007-08b45313-b941-4e59-aaaf-b3968016c320",
    "deepnote_cell_type": "markdown"
   }
  },
  {
   "cell_type": "markdown",
   "source": "<a style='text-decoration:none;line-height:16px;display:flex;color:#5B5B62;padding:10px;justify-content:end;' href='https://deepnote.com?utm_source=created-in-deepnote-cell&projectId=b06e2ad7-2e73-4529-91c1-8e44f8b5881a' target=\"_blank\">\n<img alt='Created in deepnote.com' style='display:inline;max-height:16px;margin:0px;margin-right:7.5px;' src='data:image/svg+xml;base64,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' > </img>\nCreated in <span style='font-weight:600;margin-left:4px;'>Deepnote</span></a>",
   "metadata": {
    "tags": [],
    "created_in_deepnote_cell": true,
    "deepnote_cell_type": "markdown"
   }
  }
 ],
 "nbformat": 4,
 "nbformat_minor": 2,
 "metadata": {
  "orig_nbformat": 2,
  "deepnote": {
   "is_reactive": false
  },
  "deepnote_notebook_id": "26d2d9d1-d441-4109-a771-71f1e44830da",
  "deepnote_execution_queue": []
 }
}