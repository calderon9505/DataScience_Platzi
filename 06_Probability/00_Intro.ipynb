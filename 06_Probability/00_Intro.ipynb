{
 "cells": [
  {
   "cell_type": "markdown",
   "source": "# Probabilidad\n\nLa probabilidad asociada a un suceso o evento aleatorio es una medida del grado de certidumbre de que dicho suceso pueda ocurrir.\n\nLa probabilidad es el lenguaje y conjunto de herramientas matemáticas que permite cuantificar la incertidumbre.\n\nLa probabilidad es un método por el cual se obtiene la frecuencia de un acontecimiento determinado mediante la realización de un experimento aleatorio, del que se conocen todos los resultados posibles, bajo condiciones suficientemente estables.\n\nLa *teoría de la probabilidad* es la rama de las matemáticas que estudia los experimentos o fenómenos aleatorios. \n\nhttps://datanalytics.com/libro_estadistica/",
   "metadata": {
    "tags": [],
    "cell_id": "00000-e61b1a0e-d8f0-473a-a1aa-59d9273bc11c",
    "deepnote_cell_type": "markdown"
   }
  },
  {
   "cell_type": "markdown",
   "source": "### Incertidumbre\n\nTomar decisiones con información incompleta. La probabilidad se usa donde hay incertidumbre.\n\n> El azar no es más que la medida de nuestra ignorancia. Los fenómenos fortuitos son, por definición, aquellos cuyas leyes o causas simplemente ignoramos. *Henri Poincaré*",
   "metadata": {
    "tags": [],
    "cell_id": "00001-984dcf34-a7c5-4bce-a777-7792902ec7bd",
    "deepnote_cell_type": "markdown"
   }
  },
  {
   "cell_type": "markdown",
   "source": "## Terminología\n\n- **Experimento**: Una operación que puede producir algunos resultados bien definidos.\n\n- **Experimento aleatorio**: Experimento en que se conocen todos los resultados posibles y no se puede predecir el resultado exacto de antemano.\n\n- **Espacio muestral (S) ($$ \\Omega $$)**: Todos los resultados posibles de un experimento en su conjunto.\n\n- **Resultado**: Cualquier resultado posible del Espacio Muestral S de un Experimento Aleatorio.\n\n- **Evento (E)**: Cualquier subconjunto del Espacio Muestral S.\n\n- **Suceso elemental**: Un suceso elemental es cada uno de los posibles resultados de un experimento aleatorio.\n\n- **Suceso (compuesto)**: Un suceso ocurre cuando se produce un resultado que pertenece al subconjunto E.\n\n- **Ensayo**: Realización de un experimento aleatorio.",
   "metadata": {
    "tags": [],
    "cell_id": "00002-92f9583c-c48c-45d7-9e6d-f4d3008830ca",
    "deepnote_cell_type": "markdown"
   }
  },
  {
   "cell_type": "markdown",
   "source": "## Axiomas\n\n$$ 0 \\leq P \\leq 1 $$\n\n$$ certeza \\rightarrow P=1 $$\n\n$$ imposibilidad \\rightarrow P=0 $$\n\n$$ disjuntos \\rightarrow P(A \\cup B) = P(A) + P(B)  $$",
   "metadata": {
    "tags": [],
    "cell_id": "00003-82390e53-a75f-4647-a7e4-11289362398e",
    "deepnote_cell_type": "markdown"
   }
  },
  {
   "cell_type": "markdown",
   "source": "## Clases de sucesos probabilísticos\n\n- Sucesos mutuamente excluyentes\n\n$$ A \\cap B = \\emptyset $$\n\n- Sucesos compatibles\n\nDos sucesos, A y B, son compatibles cuando tienen algún suceso elemental común.\n\nSi A es sacar puntuación par al tirar un dado y B es obtener múltiplo de 3, A y B son compatibles porque el 6 es un suceso elemental común.\n\n- Sucesos independientes\n\nDos sucesos, A y B, son independientes cuando la probabilidad de que suceda A no se ve afectada porque haya sucedido, o no, B.\n\n- Sucesos dependientes\n\nDos sucesos, A y B, son dependientes cuando la probabilidad de que suceda A se ve afectada porque haya sucedido, o no, B.\n\n- Suceso contrario\n\nEl suceso contrario a A es otro suceso que se realiza cuando no se realiza A. Se denota por $$\\overline{A}$$ .",
   "metadata": {
    "tags": [],
    "cell_id": "00004-995e6b47-df47-4586-bc5e-f80c62aa16f3",
    "deepnote_cell_type": "markdown"
   }
  },
  {
   "cell_type": "markdown",
   "source": "---\n---\n---\n## Fuentes de incertidumbre en ML\n\n- **Datos**: Margen de error de los instrumentos.\n- **Atributos del modelo**: Variables que representan un subconjunto reducido de toda la realidad del problema. Provienen de los datos y por lo tanto presentan cierto grado de incertidumbre.\n- **Arquitectura del modelo**: Un modelo es una representación simplificada de la realidad, por tanto se considera menos información que en la realidad.",
   "metadata": {
    "tags": [],
    "cell_id": "00004-07d80029-6104-4350-879a-3c3dc775e528",
    "deepnote_cell_type": "markdown"
   }
  },
  {
   "cell_type": "markdown",
   "source": "<a style='text-decoration:none;line-height:16px;display:flex;color:#5B5B62;padding:10px;justify-content:end;' href='https://deepnote.com?utm_source=created-in-deepnote-cell&projectId=b06e2ad7-2e73-4529-91c1-8e44f8b5881a' target=\"_blank\">\n<img alt='Created in deepnote.com' style='display:inline;max-height:16px;margin:0px;margin-right:7.5px;' src='data:image/svg+xml;base64,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' > </img>\nCreated in <span style='font-weight:600;margin-left:4px;'>Deepnote</span></a>",
   "metadata": {
    "tags": [],
    "created_in_deepnote_cell": true,
    "deepnote_cell_type": "markdown"
   }
  }
 ],
 "nbformat": 4,
 "nbformat_minor": 2,
 "metadata": {
  "orig_nbformat": 2,
  "deepnote": {
   "is_reactive": false
  },
  "deepnote_notebook_id": "66327e38-77b1-4e26-863b-ca83f2087610",
  "deepnote_execution_queue": []
 }
}