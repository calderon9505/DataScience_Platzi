{
 "cells": [
  {
   "cell_type": "markdown",
   "metadata": {},
   "source": [
    "# Matplotlib\n",
    "\n",
    "Matplotlib is a low level graph plotting library in python that serves as a visualization utility.\n",
    "\n",
    "It's inspired by MATLAB, meaning that the terms used (Axis, Figure, Plots) will be similar to those used in MATLAB.\n",
    "\n",
    "[Matplotlib Tutorial](https://www.w3schools.com/python/matplotlib_intro.asp)"
   ]
  },
  {
   "cell_type": "markdown",
   "metadata": {},
   "source": [
    "## Pyplot\n",
    "\n",
    "Most of the Matplotlib utilities lies under the pyplot submodule.\n",
    "\n",
    "PyPlot is a shell-like interface to Matplotlib, to make it easier to use for people who are used to MATLAB.\n",
    "\n",
    "* Pyplot maintains **state** across calls.\n",
    "\n",
    "* Useful for use in Jupyter or IPython notebooks.\n",
    "\n",
    "* You can import it via the `matplotlib.pyplot` namespace.\n",
    "\n",
    "## Pylab\n",
    "\n",
    "Someone had the idea of combining both the PyPlot and NumPy namespaces into a single one (to avoid having to import two namespaces), the result is PyLab.\n",
    "\n",
    "Using Pylab is now discouraged."
   ]
  },
  {
   "cell_type": "markdown",
   "metadata": {},
   "source": [
    "---"
   ]
  },
  {
   "cell_type": "code",
   "execution_count": 140,
   "metadata": {},
   "outputs": [],
   "source": [
    "import matplotlib.pyplot as plt"
   ]
  }
 ],
 "metadata": {
  "interpreter": {
   "hash": "0fc281f233cb7653dd5bb8f79b68c789986f655b3f74ebebe33c671fa5459e64"
  },
  "kernelspec": {
   "display_name": "Python 3.9.6 64-bit ('venv': venv)",
   "language": "python",
   "name": "python3"
  },
  "language_info": {
   "codemirror_mode": {
    "name": "ipython",
    "version": 3
   },
   "file_extension": ".py",
   "mimetype": "text/x-python",
   "name": "python",
   "nbconvert_exporter": "python",
   "pygments_lexer": "ipython3",
   "version": "3.9.6"
  },
  "orig_nbformat": 4
 },
 "nbformat": 4,
 "nbformat_minor": 2
}
