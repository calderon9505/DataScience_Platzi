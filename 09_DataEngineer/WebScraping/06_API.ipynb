{
 "cells": [
  {
   "cell_type": "markdown",
   "metadata": {},
   "source": [
    "# API\n",
    "\n",
    "Una API (Application Programming Interface) es un conjunto de funciones que permiten el desarrollo de aplicaciones que se comuniquen con un determinado servicio.\n",
    "\n",
    "Una API REST (Representational State Transfer) es una API que respeta unos determinados principios de arquitectura: Protocolo HTTP, retorno de archivos JSON, entre otras.\n"
   ]
  },
  {
   "cell_type": "code",
   "execution_count": 296,
   "metadata": {},
   "outputs": [],
   "source": [
    "import requests"
   ]
  },
  {
   "cell_type": "code",
   "execution_count": 297,
   "metadata": {},
   "outputs": [],
   "source": [
    "url_base = 'https://api.spotify.com/v1'\n",
    "ep_artist = '/artists/{id_artist}'\n",
    "id_juanluisguerra = '3nlpTZci9O5W8RsNoNH559'"
   ]
  },
  {
   "cell_type": "code",
   "execution_count": 298,
   "metadata": {},
   "outputs": [
    {
     "data": {
      "text/plain": [
       "'https://api.spotify.com/v1/artists/3nlpTZci9O5W8RsNoNH559'"
      ]
     },
     "execution_count": 298,
     "metadata": {},
     "output_type": "execute_result"
    }
   ],
   "source": [
    "juanluisguerra = url_base + ep_artist.format(id_artist=id_juanluisguerra)\n",
    "juanluisguerra"
   ]
  },
  {
   "cell_type": "markdown",
   "metadata": {},
   "source": [
    "Se requiere una autenticación para poder acceder a la API de Spotify"
   ]
  },
  {
   "cell_type": "markdown",
   "metadata": {},
   "source": [
    "Para obtener el token tengo que registrame en Spotify. Lo hice con la cuenta de google. Creé una app dentro de Spotify. El nombre de la app es **test-platzi** con CLIENT ID \"a1a79fa4f9a34725a2696b740e908c4a\"\n",
    "\n",
    "[Dashboard](https://developer.spotify.com/dashboard/applications)\n",
    "\n",
    "[Get Artist](https://developer.spotify.com/documentation/web-api/reference/#/operations/get-an-artist)\n",
    "\n",
    "[Authorization](https://developer.spotify.com/documentation/general/guides/authorization/)"
   ]
  },
  {
   "cell_type": "code",
   "execution_count": 299,
   "metadata": {},
   "outputs": [],
   "source": [
    "token_url = 'https://accounts.spotify.com/api/token'\n",
    "\n",
    "client_id = 'a1a79fa4f9a34725a2696b740e908c4a'\n",
    "client_secret = '6c487004871b4b118906f7f0b86fa34c'"
   ]
  },
  {
   "cell_type": "code",
   "execution_count": 300,
   "metadata": {},
   "outputs": [],
   "source": [
    "params = {'grant_type':'client_credentials'}"
   ]
  },
  {
   "cell_type": "code",
   "execution_count": 301,
   "metadata": {},
   "outputs": [],
   "source": [
    "# import base64\n",
    "# client_str = f'{client_id}:{client_secret}'\n",
    "# print(client_str)\n",
    "\n",
    "# base64_client = base64.b64encode(client_str.encode()).decode()\n",
    "# print(base64_client)\n",
    "\n",
    "# header = {'Authorization':base64_client}\n",
    "# header\n",
    "\n",
    "# r = requests.post(token_url, data=params, headers=header)"
   ]
  },
  {
   "cell_type": "code",
   "execution_count": 302,
   "metadata": {},
   "outputs": [
    {
     "data": {
      "text/plain": [
       "200"
      ]
     },
     "execution_count": 302,
     "metadata": {},
     "output_type": "execute_result"
    }
   ],
   "source": [
    "r = requests.post(token_url, data=params, auth=(client_id, client_secret))\n",
    "r.status_code"
   ]
  },
  {
   "cell_type": "code",
   "execution_count": 303,
   "metadata": {},
   "outputs": [
    {
     "data": {
      "text/plain": [
       "{'access_token': 'BQB2RWRenezsdorcfy020QGm0uT8U1_By5kfURn2dcx-qNm4DEnVIpv_cOjInrQ5typ2Jv9a6HOMC86JNVI',\n",
       " 'token_type': 'Bearer',\n",
       " 'expires_in': 3600}"
      ]
     },
     "execution_count": 303,
     "metadata": {},
     "output_type": "execute_result"
    }
   ],
   "source": [
    "r.json()"
   ]
  },
  {
   "cell_type": "code",
   "execution_count": 304,
   "metadata": {},
   "outputs": [
    {
     "data": {
      "text/plain": [
       "200"
      ]
     },
     "execution_count": 304,
     "metadata": {},
     "output_type": "execute_result"
    }
   ],
   "source": [
    "token = r.json()['access_token']\n",
    "header = {'Authorization': f'Bearer {token}'}\n",
    "\n",
    "r = requests.get(juanluisguerra, headers=header)\n",
    "r.status_code"
   ]
  },
  {
   "cell_type": "code",
   "execution_count": 305,
   "metadata": {},
   "outputs": [
    {
     "data": {
      "text/plain": [
       "{'external_urls': {'spotify': 'https://open.spotify.com/artist/3nlpTZci9O5W8RsNoNH559'},\n",
       " 'followers': {'href': None, 'total': 2755707},\n",
       " 'genres': ['bachata', 'latin', 'latin pop', 'tropical'],\n",
       " 'href': 'https://api.spotify.com/v1/artists/3nlpTZci9O5W8RsNoNH559',\n",
       " 'id': '3nlpTZci9O5W8RsNoNH559',\n",
       " 'images': [{'height': 640,\n",
       "   'url': 'https://i.scdn.co/image/ab6761610000e5ebaa60935c3c4dc4a0fd48759e',\n",
       "   'width': 640},\n",
       "  {'height': 320,\n",
       "   'url': 'https://i.scdn.co/image/ab67616100005174aa60935c3c4dc4a0fd48759e',\n",
       "   'width': 320},\n",
       "  {'height': 160,\n",
       "   'url': 'https://i.scdn.co/image/ab6761610000f178aa60935c3c4dc4a0fd48759e',\n",
       "   'width': 160}],\n",
       " 'name': 'Juan Luis Guerra 4.40',\n",
       " 'popularity': 76,\n",
       " 'type': 'artist',\n",
       " 'uri': 'spotify:artist:3nlpTZci9O5W8RsNoNH559'}"
      ]
     },
     "execution_count": 305,
     "metadata": {},
     "output_type": "execute_result"
    }
   ],
   "source": [
    "r.json()"
   ]
  },
  {
   "cell_type": "markdown",
   "metadata": {},
   "source": [
    "Para buscar al artista pero sin tener el id específico"
   ]
  },
  {
   "cell_type": "code",
   "execution_count": 306,
   "metadata": {},
   "outputs": [],
   "source": [
    "url_search = 'https://api.spotify.com/v1/search'\n",
    "search_params = {'q':'Juan+Luis+Guerra', 'type':'artist', 'market':'AR'}"
   ]
  },
  {
   "cell_type": "code",
   "execution_count": 307,
   "metadata": {},
   "outputs": [
    {
     "data": {
      "text/plain": [
       "200"
      ]
     },
     "execution_count": 307,
     "metadata": {},
     "output_type": "execute_result"
    }
   ],
   "source": [
    "r = requests.get(url_search, headers=header, params=search_params)\n",
    "r.status_code"
   ]
  },
  {
   "cell_type": "code",
   "execution_count": 308,
   "metadata": {},
   "outputs": [
    {
     "data": {
      "text/plain": [
       "{'artists': {'href': 'https://api.spotify.com/v1/search?query=Juan%2BLuis%2BGuerra&type=artist&market=AR&offset=0&limit=20',\n",
       "  'items': [{'external_urls': {'spotify': 'https://open.spotify.com/artist/3nlpTZci9O5W8RsNoNH559'},\n",
       "    'followers': {'href': None, 'total': 2755707},\n",
       "    'genres': ['bachata', 'latin', 'latin pop', 'tropical'],\n",
       "    'href': 'https://api.spotify.com/v1/artists/3nlpTZci9O5W8RsNoNH559',\n",
       "    'id': '3nlpTZci9O5W8RsNoNH559',\n",
       "    'images': [{'height': 640,\n",
       "      'url': 'https://i.scdn.co/image/ab6761610000e5ebaa60935c3c4dc4a0fd48759e',\n",
       "      'width': 640},\n",
       "     {'height': 320,\n",
       "      'url': 'https://i.scdn.co/image/ab67616100005174aa60935c3c4dc4a0fd48759e',\n",
       "      'width': 320},\n",
       "     {'height': 160,\n",
       "      'url': 'https://i.scdn.co/image/ab6761610000f178aa60935c3c4dc4a0fd48759e',\n",
       "      'width': 160}],\n",
       "    'name': 'Juan Luis Guerra 4.40',\n",
       "    'popularity': 76,\n",
       "    'type': 'artist',\n",
       "    'uri': 'spotify:artist:3nlpTZci9O5W8RsNoNH559'},\n",
       "   {'external_urls': {'spotify': 'https://open.spotify.com/artist/22119GKONcwaofkpE1taDZ'},\n",
       "    'followers': {'href': None, 'total': 1670},\n",
       "    'genres': [],\n",
       "    'href': 'https://api.spotify.com/v1/artists/22119GKONcwaofkpE1taDZ',\n",
       "    'id': '22119GKONcwaofkpE1taDZ',\n",
       "    'images': [],\n",
       "    'name': 'Juan Luis Guerra',\n",
       "    'popularity': 37,\n",
       "    'type': 'artist',\n",
       "    'uri': 'spotify:artist:22119GKONcwaofkpE1taDZ'},\n",
       "   {'external_urls': {'spotify': 'https://open.spotify.com/artist/2H5zNiHrjmfPWN0ezEkWXP'},\n",
       "    'followers': {'href': None, 'total': 8440},\n",
       "    'genres': ['dominican pop'],\n",
       "    'href': 'https://api.spotify.com/v1/artists/2H5zNiHrjmfPWN0ezEkWXP',\n",
       "    'id': '2H5zNiHrjmfPWN0ezEkWXP',\n",
       "    'images': [{'height': 640,\n",
       "      'url': 'https://i.scdn.co/image/ab67616d0000b2737b6abc8d5a74fcdec8b3d7e4',\n",
       "      'width': 640},\n",
       "     {'height': 300,\n",
       "      'url': 'https://i.scdn.co/image/ab67616d00001e027b6abc8d5a74fcdec8b3d7e4',\n",
       "      'width': 300},\n",
       "     {'height': 64,\n",
       "      'url': 'https://i.scdn.co/image/ab67616d000048517b6abc8d5a74fcdec8b3d7e4',\n",
       "      'width': 64}],\n",
       "    'name': 'Juan Luis Guerra y 440',\n",
       "    'popularity': 47,\n",
       "    'type': 'artist',\n",
       "    'uri': 'spotify:artist:2H5zNiHrjmfPWN0ezEkWXP'},\n",
       "   {'external_urls': {'spotify': 'https://open.spotify.com/artist/2NDh0MAx13teNIdQ6v7Bvh'},\n",
       "    'followers': {'href': None, 'total': 721},\n",
       "    'genres': [],\n",
       "    'href': 'https://api.spotify.com/v1/artists/2NDh0MAx13teNIdQ6v7Bvh',\n",
       "    'id': '2NDh0MAx13teNIdQ6v7Bvh',\n",
       "    'images': [{'height': 640,\n",
       "      'url': 'https://i.scdn.co/image/ab67616d0000b273081371425e1a54f80515b4df',\n",
       "      'width': 640},\n",
       "     {'height': 300,\n",
       "      'url': 'https://i.scdn.co/image/ab67616d00001e02081371425e1a54f80515b4df',\n",
       "      'width': 300},\n",
       "     {'height': 64,\n",
       "      'url': 'https://i.scdn.co/image/ab67616d00004851081371425e1a54f80515b4df',\n",
       "      'width': 64}],\n",
       "    'name': 'Juan Luis Guerra R.',\n",
       "    'popularity': 1,\n",
       "    'type': 'artist',\n",
       "    'uri': 'spotify:artist:2NDh0MAx13teNIdQ6v7Bvh'}],\n",
       "  'limit': 20,\n",
       "  'next': None,\n",
       "  'offset': 0,\n",
       "  'previous': None,\n",
       "  'total': 4}}"
      ]
     },
     "execution_count": 308,
     "metadata": {},
     "output_type": "execute_result"
    }
   ],
   "source": [
    "r.json()"
   ]
  },
  {
   "cell_type": "markdown",
   "metadata": {},
   "source": [
    "Este JSON se puede agregara a un dataframe de Pandas y realizarle procesamiento."
   ]
  }
 ],
 "metadata": {
  "interpreter": {
   "hash": "b61c6ad8126c173412d8a6cd9b0705d522f0e34fb3512356ee796a2f13e2df7b"
  },
  "kernelspec": {
   "display_name": "Python 3.9.6 64-bit ('venv': venv)",
   "language": "python",
   "name": "python3"
  },
  "language_info": {
   "codemirror_mode": {
    "name": "ipython",
    "version": 3
   },
   "file_extension": ".py",
   "mimetype": "text/x-python",
   "name": "python",
   "nbconvert_exporter": "python",
   "pygments_lexer": "ipython3",
   "version": "3.9.6"
  },
  "orig_nbformat": 4
 },
 "nbformat": 4,
 "nbformat_minor": 2
}
