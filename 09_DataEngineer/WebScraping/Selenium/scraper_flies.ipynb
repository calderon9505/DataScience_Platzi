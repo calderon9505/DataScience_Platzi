{
 "cells": [
  {
   "cell_type": "markdown",
   "metadata": {},
   "source": [
    "# Scraping "
   ]
  },
  {
   "cell_type": "code",
   "execution_count": 41,
   "metadata": {},
   "outputs": [],
   "source": [
    "from selenium import webdriver\n",
    "from selenium.webdriver.common.by import By"
   ]
  },
  {
   "cell_type": "markdown",
   "metadata": {},
   "source": [
    "Todas las configuraciones"
   ]
  },
  {
   "cell_type": "code",
   "execution_count": 42,
   "metadata": {},
   "outputs": [],
   "source": [
    "# chromedriver = 'C:/Users/User/Documents/DataScience_Platzi/09_DataEngineer/WebScraping/venv/chromedriver'\n",
    "\n",
    "options = webdriver.ChromeOptions()\n",
    "options.add_argument('--incognito')\n",
    "\n",
    "# headers ={\n",
    "#     'User-Agent': 'Mozilla/5.0 (Windows NT 10.0; Win64; x64) AppleWebKit/537.36 (KHTML, like Gecko) Chrome/98.0.4758.102 Safari/537.36'\n",
    "# }"
   ]
  },
  {
   "cell_type": "markdown",
   "metadata": {},
   "source": [
    "Instanciando el driver"
   ]
  },
  {
   "cell_type": "code",
   "execution_count": 43,
   "metadata": {},
   "outputs": [],
   "source": [
    "driver = webdriver.Chrome(executable_path='chromedriver', options=options)\n",
    "# Driver en la misma carpeta del script."
   ]
  },
  {
   "cell_type": "code",
   "execution_count": 44,
   "metadata": {},
   "outputs": [],
   "source": [
    "url = 'https://www.despegar.com.co/vuelos/BGA/BOG?from=SB&di=1-0&reSearch=true#showModal'\n",
    "driver.get(url)"
   ]
  },
  {
   "cell_type": "code",
   "execution_count": 48,
   "metadata": {},
   "outputs": [
    {
     "name": "stdout",
     "output_type": "stream",
     "text": [
      "07:44 \n",
      "14:36 \n",
      "15:24 \n",
      "07:44 \n",
      "07:44 \n",
      "07:44 \n",
      "17:07 \n",
      "17:07 \n",
      "17:07 \n",
      "06:57 \n"
     ]
    }
   ],
   "source": [
    "xpath_vuelos = '//div[@class=\"cluster-container border not-overflow\"]'\n",
    "vuelos = driver.find_elements(By.XPATH, xpath_vuelos)\n",
    "\n",
    "xpath_time = \"\"\"\n",
    "            .\n",
    "            //div[@class=\"cluster-part-0\"]\n",
    "            //div[@class=\"container\"]\n",
    "            //span[@class=\"stops-count-item stops-wrapper text reduce-info-item-container\"]\n",
    "            /span[1]\n",
    "            \"\"\"\n",
    "for vuelo in vuelos:\n",
    "    print(vuelo.find_element(By.XPATH, xpath_time).text)"
   ]
  },
  {
   "cell_type": "code",
   "execution_count": null,
   "metadata": {},
   "outputs": [],
   "source": [
    "# driver.close()"
   ]
  }
 ],
 "metadata": {
  "interpreter": {
   "hash": "b61c6ad8126c173412d8a6cd9b0705d522f0e34fb3512356ee796a2f13e2df7b"
  },
  "kernelspec": {
   "display_name": "Python 3.9.6 64-bit ('venv': venv)",
   "language": "python",
   "name": "python3"
  },
  "language_info": {
   "codemirror_mode": {
    "name": "ipython",
    "version": 3
   },
   "file_extension": ".py",
   "mimetype": "text/x-python",
   "name": "python",
   "nbconvert_exporter": "python",
   "pygments_lexer": "ipython3",
   "version": "3.9.6"
  },
  "orig_nbformat": 4
 },
 "nbformat": 4,
 "nbformat_minor": 2
}
