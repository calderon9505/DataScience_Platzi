{
 "cells": [
  {
   "cell_type": "markdown",
   "metadata": {},
   "source": [
    "# Scraping "
   ]
  },
  {
   "cell_type": "code",
   "execution_count": 6,
   "metadata": {},
   "outputs": [],
   "source": [
    "from selenium import webdriver\n",
    "from selenium.webdriver.common.by import By\n",
    "import time\n"
   ]
  },
  {
   "cell_type": "code",
   "execution_count": 7,
   "metadata": {},
   "outputs": [],
   "source": [
    "options = webdriver.ChromeOptions()\n",
    "options.add_argument('--incognito')"
   ]
  },
  {
   "cell_type": "code",
   "execution_count": 8,
   "metadata": {},
   "outputs": [],
   "source": [
    "driver = webdriver.Chrome(executable_path='chromedriver', options=options)"
   ]
  },
  {
   "cell_type": "code",
   "execution_count": 5,
   "metadata": {},
   "outputs": [],
   "source": [
    "url = \"\"\"\"\n",
    "    https://booking.avianca.com/av/booking/avail?\n",
    "    from=BGA&\n",
    "    to=BOG&\n",
    "    departureDate=2022-03-01&\n",
    "    nbAdults=1&\n",
    "    nbChildren=0&\n",
    "    nbInfants=0&\n",
    "    language=ES&\n",
    "    platform=WEBB2C&\n",
    "    pointOfSale=CO&\n",
    "    tripType=one-way&\n",
    "    FriendlyID=&\n",
    "    FriendlyIDNegoF=&\n",
    "    overrides=%7B%22useHPP%22:%22true%22%7D&\n",
    "    accessMethod=default&backend=PRD\n",
    "\"\"\"\n",
    "\n",
    "driver.get(url)\n",
    "driver.maximize_window()"
   ]
  },
  {
   "cell_type": "markdown",
   "metadata": {},
   "source": [
    "vódigo vuelo\n",
    "hora salida\n",
    "hora llegada\n",
    "precio\n",
    "fecha vuelo\n",
    "fecha consulta"
   ]
  },
  {
   "cell_type": "markdown",
   "metadata": {},
   "source": [
    "Buscando elementos de la página"
   ]
  },
  {
   "cell_type": "code",
   "execution_count": 102,
   "metadata": {},
   "outputs": [
    {
     "name": "stdout",
     "output_type": "stream",
     "text": [
      "07:44 \n",
      "07:44 \n",
      "14:36 \n",
      "07:44 \n",
      "07:44 \n",
      "06:54 \n",
      "17:07 \n",
      "06:57 \n",
      "06:57 \n",
      "07:24 \n"
     ]
    }
   ],
   "source": [
    "xpath_vuelos = '//div[@class=\"cluster-container border not-overflow\"]'\n",
    "vuelos = driver.find_elements(By.XPATH, xpath_vuelos)\n",
    "\n",
    "xpath_time = \"\"\"\n",
    "            .\n",
    "            //div[@class=\"cluster-part-0\"]\n",
    "            //div[@class=\"container\"]\n",
    "            //span[@class=\"stops-count-item stops-wrapper text reduce-info-item-container\"]\n",
    "            /span[1]\n",
    "            \"\"\"\n",
    "for vuelo in vuelos:\n",
    "    print(vuelo.find_element(By.XPATH, xpath_time).text)"
   ]
  },
  {
   "cell_type": "markdown",
   "metadata": {},
   "source": [
    "Interactuando con la página"
   ]
  },
  {
   "cell_type": "code",
   "execution_count": 131,
   "metadata": {},
   "outputs": [
    {
     "ename": "ElementClickInterceptedException",
     "evalue": "Message: element click intercepted: Element <div class=\"cluster-container border not-overflow\" data-id=\"antares_CO-0-site_A-1_C-0_I-0_RT-bgabog_none_2ow-cbt_user-d4bb5726-93fe-4c0c-8b78-4b061d2682cd!4\">...</div> is not clickable at point (456, 839). Other element would receive the click: <div class=\"lgpd-banner\">...</div>\n  (Session info: chrome=98.0.4758.102)\nStacktrace:\nBacktrace:\n\tOrdinal0 [0x010169A3+2582947]\n\tOrdinal0 [0x00FAA6D1+2139857]\n\tOrdinal0 [0x00EA3A98+1063576]\n\tOrdinal0 [0x00ED636F+1270639]\n\tOrdinal0 [0x00ED45B7+1263031]\n\tOrdinal0 [0x00ED220B+1253899]\n\tOrdinal0 [0x00ED0FF9+1249273]\n\tOrdinal0 [0x00EC6B53+1207123]\n\tOrdinal0 [0x00EE854C+1344844]\n\tOrdinal0 [0x00EC6524+1205540]\n\tOrdinal0 [0x00EE86A4+1345188]\n\tOrdinal0 [0x00EF834A+1409866]\n\tOrdinal0 [0x00EE8366+1344358]\n\tOrdinal0 [0x00EC5176+1200502]\n\tOrdinal0 [0x00EC6066+1204326]\n\tGetHandleVerifier [0x011BBE02+1675858]\n\tGetHandleVerifier [0x0127036C+2414524]\n\tGetHandleVerifier [0x010ABB01+560977]\n\tGetHandleVerifier [0x010AA8D3+556323]\n\tOrdinal0 [0x00FB020E+2163214]\n\tOrdinal0 [0x00FB5078+2183288]\n\tOrdinal0 [0x00FB51C0+2183616]\n\tOrdinal0 [0x00FBEE1C+2223644]\n\tBaseThreadInitThunk [0x7641FA29+25]\n\tRtlGetAppContainerNamedObjectPath [0x77817A9E+286]\n\tRtlGetAppContainerNamedObjectPath [0x77817A6E+238]\n",
     "output_type": "error",
     "traceback": [
      "\u001b[1;31m---------------------------------------------------------------------------\u001b[0m",
      "\u001b[1;31mElementClickInterceptedException\u001b[0m          Traceback (most recent call last)",
      "\u001b[1;32mc:\\Users\\User\\Documents\\DataScience_Platzi\\09_DataEngineer\\WebScraping\\Selenium\\scraper_flies.ipynb Cell 11'\u001b[0m in \u001b[0;36m<module>\u001b[1;34m\u001b[0m\n\u001b[1;32m----> <a href='vscode-notebook-cell:/c%3A/Users/User/Documents/DataScience_Platzi/09_DataEngineer/WebScraping/Selenium/scraper_flies.ipynb#ch0000009?line=0'>1</a>\u001b[0m vuelos[\u001b[39m3\u001b[39;49m]\u001b[39m.\u001b[39;49mclick()\n\u001b[0;32m      <a href='vscode-notebook-cell:/c%3A/Users/User/Documents/DataScience_Platzi/09_DataEngineer/WebScraping/Selenium/scraper_flies.ipynb#ch0000009?line=2'>3</a>\u001b[0m flight_number \u001b[39m=\u001b[39m driver\u001b[39m.\u001b[39mfind_elements(By\u001b[39m.\u001b[39mXPATH, \u001b[39m'\u001b[39m\u001b[39m//em[@class=\u001b[39m\u001b[39m\"\u001b[39m\u001b[39mflight-number\u001b[39m\u001b[39m\"\u001b[39m\u001b[39m]\u001b[39m\u001b[39m'\u001b[39m)\n\u001b[0;32m      <a href='vscode-notebook-cell:/c%3A/Users/User/Documents/DataScience_Platzi/09_DataEngineer/WebScraping/Selenium/scraper_flies.ipynb#ch0000009?line=4'>5</a>\u001b[0m \u001b[39mfor\u001b[39;00m number \u001b[39min\u001b[39;00m flight_number:\n",
      "File \u001b[1;32mc:\\Users\\User\\Documents\\DataScience_Platzi\\09_DataEngineer\\WebScraping\\venv\\lib\\site-packages\\selenium\\webdriver\\remote\\webelement.py:81\u001b[0m, in \u001b[0;36mWebElement.click\u001b[1;34m(self)\u001b[0m\n\u001b[0;32m     <a href='file:///c%3A/Users/User/Documents/DataScience_Platzi/09_DataEngineer/WebScraping/venv/lib/site-packages/selenium/webdriver/remote/webelement.py?line=78'>79</a>\u001b[0m \u001b[39mdef\u001b[39;00m \u001b[39mclick\u001b[39m(\u001b[39mself\u001b[39m) \u001b[39m-\u001b[39m\u001b[39m>\u001b[39m \u001b[39mNone\u001b[39;00m:\n\u001b[0;32m     <a href='file:///c%3A/Users/User/Documents/DataScience_Platzi/09_DataEngineer/WebScraping/venv/lib/site-packages/selenium/webdriver/remote/webelement.py?line=79'>80</a>\u001b[0m     \u001b[39m\"\"\"Clicks the element.\"\"\"\u001b[39;00m\n\u001b[1;32m---> <a href='file:///c%3A/Users/User/Documents/DataScience_Platzi/09_DataEngineer/WebScraping/venv/lib/site-packages/selenium/webdriver/remote/webelement.py?line=80'>81</a>\u001b[0m     \u001b[39mself\u001b[39;49m\u001b[39m.\u001b[39;49m_execute(Command\u001b[39m.\u001b[39;49mCLICK_ELEMENT)\n",
      "File \u001b[1;32mc:\\Users\\User\\Documents\\DataScience_Platzi\\09_DataEngineer\\WebScraping\\venv\\lib\\site-packages\\selenium\\webdriver\\remote\\webelement.py:710\u001b[0m, in \u001b[0;36mWebElement._execute\u001b[1;34m(self, command, params)\u001b[0m\n\u001b[0;32m    <a href='file:///c%3A/Users/User/Documents/DataScience_Platzi/09_DataEngineer/WebScraping/venv/lib/site-packages/selenium/webdriver/remote/webelement.py?line=707'>708</a>\u001b[0m     params \u001b[39m=\u001b[39m {}\n\u001b[0;32m    <a href='file:///c%3A/Users/User/Documents/DataScience_Platzi/09_DataEngineer/WebScraping/venv/lib/site-packages/selenium/webdriver/remote/webelement.py?line=708'>709</a>\u001b[0m params[\u001b[39m'\u001b[39m\u001b[39mid\u001b[39m\u001b[39m'\u001b[39m] \u001b[39m=\u001b[39m \u001b[39mself\u001b[39m\u001b[39m.\u001b[39m_id\n\u001b[1;32m--> <a href='file:///c%3A/Users/User/Documents/DataScience_Platzi/09_DataEngineer/WebScraping/venv/lib/site-packages/selenium/webdriver/remote/webelement.py?line=709'>710</a>\u001b[0m \u001b[39mreturn\u001b[39;00m \u001b[39mself\u001b[39;49m\u001b[39m.\u001b[39;49m_parent\u001b[39m.\u001b[39;49mexecute(command, params)\n",
      "File \u001b[1;32mc:\\Users\\User\\Documents\\DataScience_Platzi\\09_DataEngineer\\WebScraping\\venv\\lib\\site-packages\\selenium\\webdriver\\remote\\webdriver.py:424\u001b[0m, in \u001b[0;36mWebDriver.execute\u001b[1;34m(self, driver_command, params)\u001b[0m\n\u001b[0;32m    <a href='file:///c%3A/Users/User/Documents/DataScience_Platzi/09_DataEngineer/WebScraping/venv/lib/site-packages/selenium/webdriver/remote/webdriver.py?line=421'>422</a>\u001b[0m response \u001b[39m=\u001b[39m \u001b[39mself\u001b[39m\u001b[39m.\u001b[39mcommand_executor\u001b[39m.\u001b[39mexecute(driver_command, params)\n\u001b[0;32m    <a href='file:///c%3A/Users/User/Documents/DataScience_Platzi/09_DataEngineer/WebScraping/venv/lib/site-packages/selenium/webdriver/remote/webdriver.py?line=422'>423</a>\u001b[0m \u001b[39mif\u001b[39;00m response:\n\u001b[1;32m--> <a href='file:///c%3A/Users/User/Documents/DataScience_Platzi/09_DataEngineer/WebScraping/venv/lib/site-packages/selenium/webdriver/remote/webdriver.py?line=423'>424</a>\u001b[0m     \u001b[39mself\u001b[39;49m\u001b[39m.\u001b[39;49merror_handler\u001b[39m.\u001b[39;49mcheck_response(response)\n\u001b[0;32m    <a href='file:///c%3A/Users/User/Documents/DataScience_Platzi/09_DataEngineer/WebScraping/venv/lib/site-packages/selenium/webdriver/remote/webdriver.py?line=424'>425</a>\u001b[0m     response[\u001b[39m'\u001b[39m\u001b[39mvalue\u001b[39m\u001b[39m'\u001b[39m] \u001b[39m=\u001b[39m \u001b[39mself\u001b[39m\u001b[39m.\u001b[39m_unwrap_value(\n\u001b[0;32m    <a href='file:///c%3A/Users/User/Documents/DataScience_Platzi/09_DataEngineer/WebScraping/venv/lib/site-packages/selenium/webdriver/remote/webdriver.py?line=425'>426</a>\u001b[0m         response\u001b[39m.\u001b[39mget(\u001b[39m'\u001b[39m\u001b[39mvalue\u001b[39m\u001b[39m'\u001b[39m, \u001b[39mNone\u001b[39;00m))\n\u001b[0;32m    <a href='file:///c%3A/Users/User/Documents/DataScience_Platzi/09_DataEngineer/WebScraping/venv/lib/site-packages/selenium/webdriver/remote/webdriver.py?line=426'>427</a>\u001b[0m     \u001b[39mreturn\u001b[39;00m response\n",
      "File \u001b[1;32mc:\\Users\\User\\Documents\\DataScience_Platzi\\09_DataEngineer\\WebScraping\\venv\\lib\\site-packages\\selenium\\webdriver\\remote\\errorhandler.py:247\u001b[0m, in \u001b[0;36mErrorHandler.check_response\u001b[1;34m(self, response)\u001b[0m\n\u001b[0;32m    <a href='file:///c%3A/Users/User/Documents/DataScience_Platzi/09_DataEngineer/WebScraping/venv/lib/site-packages/selenium/webdriver/remote/errorhandler.py?line=244'>245</a>\u001b[0m         alert_text \u001b[39m=\u001b[39m value[\u001b[39m'\u001b[39m\u001b[39malert\u001b[39m\u001b[39m'\u001b[39m]\u001b[39m.\u001b[39mget(\u001b[39m'\u001b[39m\u001b[39mtext\u001b[39m\u001b[39m'\u001b[39m)\n\u001b[0;32m    <a href='file:///c%3A/Users/User/Documents/DataScience_Platzi/09_DataEngineer/WebScraping/venv/lib/site-packages/selenium/webdriver/remote/errorhandler.py?line=245'>246</a>\u001b[0m     \u001b[39mraise\u001b[39;00m exception_class(message, screen, stacktrace, alert_text)  \u001b[39m# type: ignore[call-arg]  # mypy is not smart enough here\u001b[39;00m\n\u001b[1;32m--> <a href='file:///c%3A/Users/User/Documents/DataScience_Platzi/09_DataEngineer/WebScraping/venv/lib/site-packages/selenium/webdriver/remote/errorhandler.py?line=246'>247</a>\u001b[0m \u001b[39mraise\u001b[39;00m exception_class(message, screen, stacktrace)\n",
      "\u001b[1;31mElementClickInterceptedException\u001b[0m: Message: element click intercepted: Element <div class=\"cluster-container border not-overflow\" data-id=\"antares_CO-0-site_A-1_C-0_I-0_RT-bgabog_none_2ow-cbt_user-d4bb5726-93fe-4c0c-8b78-4b061d2682cd!4\">...</div> is not clickable at point (456, 839). Other element would receive the click: <div class=\"lgpd-banner\">...</div>\n  (Session info: chrome=98.0.4758.102)\nStacktrace:\nBacktrace:\n\tOrdinal0 [0x010169A3+2582947]\n\tOrdinal0 [0x00FAA6D1+2139857]\n\tOrdinal0 [0x00EA3A98+1063576]\n\tOrdinal0 [0x00ED636F+1270639]\n\tOrdinal0 [0x00ED45B7+1263031]\n\tOrdinal0 [0x00ED220B+1253899]\n\tOrdinal0 [0x00ED0FF9+1249273]\n\tOrdinal0 [0x00EC6B53+1207123]\n\tOrdinal0 [0x00EE854C+1344844]\n\tOrdinal0 [0x00EC6524+1205540]\n\tOrdinal0 [0x00EE86A4+1345188]\n\tOrdinal0 [0x00EF834A+1409866]\n\tOrdinal0 [0x00EE8366+1344358]\n\tOrdinal0 [0x00EC5176+1200502]\n\tOrdinal0 [0x00EC6066+1204326]\n\tGetHandleVerifier [0x011BBE02+1675858]\n\tGetHandleVerifier [0x0127036C+2414524]\n\tGetHandleVerifier [0x010ABB01+560977]\n\tGetHandleVerifier [0x010AA8D3+556323]\n\tOrdinal0 [0x00FB020E+2163214]\n\tOrdinal0 [0x00FB5078+2183288]\n\tOrdinal0 [0x00FB51C0+2183616]\n\tOrdinal0 [0x00FBEE1C+2223644]\n\tBaseThreadInitThunk [0x7641FA29+25]\n\tRtlGetAppContainerNamedObjectPath [0x77817A9E+286]\n\tRtlGetAppContainerNamedObjectPath [0x77817A6E+238]\n"
     ]
    }
   ],
   "source": [
    "vuelos[3].click()\n",
    "\n",
    "flight_number = driver.find_elements(By.XPATH, '//em[@class=\"flight-number\"]')\n",
    "\n",
    "for number in flight_number:\n",
    "    print(number.text.split(' ')[1])\n"
   ]
  },
  {
   "cell_type": "code",
   "execution_count": 122,
   "metadata": {},
   "outputs": [],
   "source": [
    "driver.find_elements(By.XPATH, '//div[@class=\"modal-header -eva-3-pb-md\"]/i[@class=\"modal-close eva-3-icon-close\"]')[0].click()"
   ]
  },
  {
   "cell_type": "code",
   "execution_count": 128,
   "metadata": {},
   "outputs": [
    {
     "name": "stdout",
     "output_type": "stream",
     "text": [
      "07:44  LA4157 LA4160\n",
      "07:44  LA4157 LA4160\n"
     ]
    },
    {
     "ename": "ElementClickInterceptedException",
     "evalue": "Message: element click intercepted: Element <div class=\"cluster-container border not-overflow\" data-id=\"antares_CO-0-site_A-1_C-0_I-0_RT-bgabog_none_2ow-cbt_user-d4bb5726-93fe-4c0c-8b78-4b061d2682cd!3\">...</div> is not clickable at point (456, 839). Other element would receive the click: <div class=\"lgpd-banner\">...</div>\n  (Session info: chrome=98.0.4758.102)\nStacktrace:\nBacktrace:\n\tOrdinal0 [0x010169A3+2582947]\n\tOrdinal0 [0x00FAA6D1+2139857]\n\tOrdinal0 [0x00EA3A98+1063576]\n\tOrdinal0 [0x00ED636F+1270639]\n\tOrdinal0 [0x00ED45B7+1263031]\n\tOrdinal0 [0x00ED220B+1253899]\n\tOrdinal0 [0x00ED0FF9+1249273]\n\tOrdinal0 [0x00EC6B53+1207123]\n\tOrdinal0 [0x00EE854C+1344844]\n\tOrdinal0 [0x00EC6524+1205540]\n\tOrdinal0 [0x00EE86A4+1345188]\n\tOrdinal0 [0x00EF834A+1409866]\n\tOrdinal0 [0x00EE8366+1344358]\n\tOrdinal0 [0x00EC5176+1200502]\n\tOrdinal0 [0x00EC6066+1204326]\n\tGetHandleVerifier [0x011BBE02+1675858]\n\tGetHandleVerifier [0x0127036C+2414524]\n\tGetHandleVerifier [0x010ABB01+560977]\n\tGetHandleVerifier [0x010AA8D3+556323]\n\tOrdinal0 [0x00FB020E+2163214]\n\tOrdinal0 [0x00FB5078+2183288]\n\tOrdinal0 [0x00FB51C0+2183616]\n\tOrdinal0 [0x00FBEE1C+2223644]\n\tBaseThreadInitThunk [0x7641FA29+25]\n\tRtlGetAppContainerNamedObjectPath [0x77817A9E+286]\n\tRtlGetAppContainerNamedObjectPath [0x77817A6E+238]\n",
     "output_type": "error",
     "traceback": [
      "\u001b[1;31m---------------------------------------------------------------------------\u001b[0m",
      "\u001b[1;31mElementClickInterceptedException\u001b[0m          Traceback (most recent call last)",
      "\u001b[1;32mc:\\Users\\User\\Documents\\DataScience_Platzi\\09_DataEngineer\\WebScraping\\Selenium\\scraper_flies.ipynb Cell 13'\u001b[0m in \u001b[0;36m<module>\u001b[1;34m\u001b[0m\n\u001b[0;32m      <a href='vscode-notebook-cell:/c%3A/Users/User/Documents/DataScience_Platzi/09_DataEngineer/WebScraping/Selenium/scraper_flies.ipynb#ch0000014?line=0'>1</a>\u001b[0m \u001b[39mfor\u001b[39;00m vuelo \u001b[39min\u001b[39;00m vuelos:\n\u001b[0;32m      <a href='vscode-notebook-cell:/c%3A/Users/User/Documents/DataScience_Platzi/09_DataEngineer/WebScraping/Selenium/scraper_flies.ipynb#ch0000014?line=1'>2</a>\u001b[0m     hour \u001b[39m=\u001b[39m vuelo\u001b[39m.\u001b[39mfind_element(By\u001b[39m.\u001b[39mXPATH, xpath_time)\u001b[39m.\u001b[39mtext\n\u001b[1;32m----> <a href='vscode-notebook-cell:/c%3A/Users/User/Documents/DataScience_Platzi/09_DataEngineer/WebScraping/Selenium/scraper_flies.ipynb#ch0000014?line=2'>3</a>\u001b[0m     vuelo\u001b[39m.\u001b[39;49mclick()\n\u001b[0;32m      <a href='vscode-notebook-cell:/c%3A/Users/User/Documents/DataScience_Platzi/09_DataEngineer/WebScraping/Selenium/scraper_flies.ipynb#ch0000014?line=3'>4</a>\u001b[0m     flight_number \u001b[39m=\u001b[39m driver\u001b[39m.\u001b[39mfind_elements(By\u001b[39m.\u001b[39mXPATH, \u001b[39m'\u001b[39m\u001b[39m//em[@class=\u001b[39m\u001b[39m\"\u001b[39m\u001b[39mflight-number\u001b[39m\u001b[39m\"\u001b[39m\u001b[39m]\u001b[39m\u001b[39m'\u001b[39m)\n\u001b[0;32m      <a href='vscode-notebook-cell:/c%3A/Users/User/Documents/DataScience_Platzi/09_DataEngineer/WebScraping/Selenium/scraper_flies.ipynb#ch0000014?line=5'>6</a>\u001b[0m     \u001b[39mprint\u001b[39m(hour, flight_number[\u001b[39m0\u001b[39m]\u001b[39m.\u001b[39mtext\u001b[39m.\u001b[39msplit(\u001b[39m'\u001b[39m\u001b[39m \u001b[39m\u001b[39m'\u001b[39m)[\u001b[39m1\u001b[39m], flight_number[\u001b[39m1\u001b[39m]\u001b[39m.\u001b[39mtext\u001b[39m.\u001b[39msplit(\u001b[39m'\u001b[39m\u001b[39m \u001b[39m\u001b[39m'\u001b[39m)[\u001b[39m1\u001b[39m])\n",
      "File \u001b[1;32mc:\\Users\\User\\Documents\\DataScience_Platzi\\09_DataEngineer\\WebScraping\\venv\\lib\\site-packages\\selenium\\webdriver\\remote\\webelement.py:81\u001b[0m, in \u001b[0;36mWebElement.click\u001b[1;34m(self)\u001b[0m\n\u001b[0;32m     <a href='file:///c%3A/Users/User/Documents/DataScience_Platzi/09_DataEngineer/WebScraping/venv/lib/site-packages/selenium/webdriver/remote/webelement.py?line=78'>79</a>\u001b[0m \u001b[39mdef\u001b[39;00m \u001b[39mclick\u001b[39m(\u001b[39mself\u001b[39m) \u001b[39m-\u001b[39m\u001b[39m>\u001b[39m \u001b[39mNone\u001b[39;00m:\n\u001b[0;32m     <a href='file:///c%3A/Users/User/Documents/DataScience_Platzi/09_DataEngineer/WebScraping/venv/lib/site-packages/selenium/webdriver/remote/webelement.py?line=79'>80</a>\u001b[0m     \u001b[39m\"\"\"Clicks the element.\"\"\"\u001b[39;00m\n\u001b[1;32m---> <a href='file:///c%3A/Users/User/Documents/DataScience_Platzi/09_DataEngineer/WebScraping/venv/lib/site-packages/selenium/webdriver/remote/webelement.py?line=80'>81</a>\u001b[0m     \u001b[39mself\u001b[39;49m\u001b[39m.\u001b[39;49m_execute(Command\u001b[39m.\u001b[39;49mCLICK_ELEMENT)\n",
      "File \u001b[1;32mc:\\Users\\User\\Documents\\DataScience_Platzi\\09_DataEngineer\\WebScraping\\venv\\lib\\site-packages\\selenium\\webdriver\\remote\\webelement.py:710\u001b[0m, in \u001b[0;36mWebElement._execute\u001b[1;34m(self, command, params)\u001b[0m\n\u001b[0;32m    <a href='file:///c%3A/Users/User/Documents/DataScience_Platzi/09_DataEngineer/WebScraping/venv/lib/site-packages/selenium/webdriver/remote/webelement.py?line=707'>708</a>\u001b[0m     params \u001b[39m=\u001b[39m {}\n\u001b[0;32m    <a href='file:///c%3A/Users/User/Documents/DataScience_Platzi/09_DataEngineer/WebScraping/venv/lib/site-packages/selenium/webdriver/remote/webelement.py?line=708'>709</a>\u001b[0m params[\u001b[39m'\u001b[39m\u001b[39mid\u001b[39m\u001b[39m'\u001b[39m] \u001b[39m=\u001b[39m \u001b[39mself\u001b[39m\u001b[39m.\u001b[39m_id\n\u001b[1;32m--> <a href='file:///c%3A/Users/User/Documents/DataScience_Platzi/09_DataEngineer/WebScraping/venv/lib/site-packages/selenium/webdriver/remote/webelement.py?line=709'>710</a>\u001b[0m \u001b[39mreturn\u001b[39;00m \u001b[39mself\u001b[39;49m\u001b[39m.\u001b[39;49m_parent\u001b[39m.\u001b[39;49mexecute(command, params)\n",
      "File \u001b[1;32mc:\\Users\\User\\Documents\\DataScience_Platzi\\09_DataEngineer\\WebScraping\\venv\\lib\\site-packages\\selenium\\webdriver\\remote\\webdriver.py:424\u001b[0m, in \u001b[0;36mWebDriver.execute\u001b[1;34m(self, driver_command, params)\u001b[0m\n\u001b[0;32m    <a href='file:///c%3A/Users/User/Documents/DataScience_Platzi/09_DataEngineer/WebScraping/venv/lib/site-packages/selenium/webdriver/remote/webdriver.py?line=421'>422</a>\u001b[0m response \u001b[39m=\u001b[39m \u001b[39mself\u001b[39m\u001b[39m.\u001b[39mcommand_executor\u001b[39m.\u001b[39mexecute(driver_command, params)\n\u001b[0;32m    <a href='file:///c%3A/Users/User/Documents/DataScience_Platzi/09_DataEngineer/WebScraping/venv/lib/site-packages/selenium/webdriver/remote/webdriver.py?line=422'>423</a>\u001b[0m \u001b[39mif\u001b[39;00m response:\n\u001b[1;32m--> <a href='file:///c%3A/Users/User/Documents/DataScience_Platzi/09_DataEngineer/WebScraping/venv/lib/site-packages/selenium/webdriver/remote/webdriver.py?line=423'>424</a>\u001b[0m     \u001b[39mself\u001b[39;49m\u001b[39m.\u001b[39;49merror_handler\u001b[39m.\u001b[39;49mcheck_response(response)\n\u001b[0;32m    <a href='file:///c%3A/Users/User/Documents/DataScience_Platzi/09_DataEngineer/WebScraping/venv/lib/site-packages/selenium/webdriver/remote/webdriver.py?line=424'>425</a>\u001b[0m     response[\u001b[39m'\u001b[39m\u001b[39mvalue\u001b[39m\u001b[39m'\u001b[39m] \u001b[39m=\u001b[39m \u001b[39mself\u001b[39m\u001b[39m.\u001b[39m_unwrap_value(\n\u001b[0;32m    <a href='file:///c%3A/Users/User/Documents/DataScience_Platzi/09_DataEngineer/WebScraping/venv/lib/site-packages/selenium/webdriver/remote/webdriver.py?line=425'>426</a>\u001b[0m         response\u001b[39m.\u001b[39mget(\u001b[39m'\u001b[39m\u001b[39mvalue\u001b[39m\u001b[39m'\u001b[39m, \u001b[39mNone\u001b[39;00m))\n\u001b[0;32m    <a href='file:///c%3A/Users/User/Documents/DataScience_Platzi/09_DataEngineer/WebScraping/venv/lib/site-packages/selenium/webdriver/remote/webdriver.py?line=426'>427</a>\u001b[0m     \u001b[39mreturn\u001b[39;00m response\n",
      "File \u001b[1;32mc:\\Users\\User\\Documents\\DataScience_Platzi\\09_DataEngineer\\WebScraping\\venv\\lib\\site-packages\\selenium\\webdriver\\remote\\errorhandler.py:247\u001b[0m, in \u001b[0;36mErrorHandler.check_response\u001b[1;34m(self, response)\u001b[0m\n\u001b[0;32m    <a href='file:///c%3A/Users/User/Documents/DataScience_Platzi/09_DataEngineer/WebScraping/venv/lib/site-packages/selenium/webdriver/remote/errorhandler.py?line=244'>245</a>\u001b[0m         alert_text \u001b[39m=\u001b[39m value[\u001b[39m'\u001b[39m\u001b[39malert\u001b[39m\u001b[39m'\u001b[39m]\u001b[39m.\u001b[39mget(\u001b[39m'\u001b[39m\u001b[39mtext\u001b[39m\u001b[39m'\u001b[39m)\n\u001b[0;32m    <a href='file:///c%3A/Users/User/Documents/DataScience_Platzi/09_DataEngineer/WebScraping/venv/lib/site-packages/selenium/webdriver/remote/errorhandler.py?line=245'>246</a>\u001b[0m     \u001b[39mraise\u001b[39;00m exception_class(message, screen, stacktrace, alert_text)  \u001b[39m# type: ignore[call-arg]  # mypy is not smart enough here\u001b[39;00m\n\u001b[1;32m--> <a href='file:///c%3A/Users/User/Documents/DataScience_Platzi/09_DataEngineer/WebScraping/venv/lib/site-packages/selenium/webdriver/remote/errorhandler.py?line=246'>247</a>\u001b[0m \u001b[39mraise\u001b[39;00m exception_class(message, screen, stacktrace)\n",
      "\u001b[1;31mElementClickInterceptedException\u001b[0m: Message: element click intercepted: Element <div class=\"cluster-container border not-overflow\" data-id=\"antares_CO-0-site_A-1_C-0_I-0_RT-bgabog_none_2ow-cbt_user-d4bb5726-93fe-4c0c-8b78-4b061d2682cd!3\">...</div> is not clickable at point (456, 839). Other element would receive the click: <div class=\"lgpd-banner\">...</div>\n  (Session info: chrome=98.0.4758.102)\nStacktrace:\nBacktrace:\n\tOrdinal0 [0x010169A3+2582947]\n\tOrdinal0 [0x00FAA6D1+2139857]\n\tOrdinal0 [0x00EA3A98+1063576]\n\tOrdinal0 [0x00ED636F+1270639]\n\tOrdinal0 [0x00ED45B7+1263031]\n\tOrdinal0 [0x00ED220B+1253899]\n\tOrdinal0 [0x00ED0FF9+1249273]\n\tOrdinal0 [0x00EC6B53+1207123]\n\tOrdinal0 [0x00EE854C+1344844]\n\tOrdinal0 [0x00EC6524+1205540]\n\tOrdinal0 [0x00EE86A4+1345188]\n\tOrdinal0 [0x00EF834A+1409866]\n\tOrdinal0 [0x00EE8366+1344358]\n\tOrdinal0 [0x00EC5176+1200502]\n\tOrdinal0 [0x00EC6066+1204326]\n\tGetHandleVerifier [0x011BBE02+1675858]\n\tGetHandleVerifier [0x0127036C+2414524]\n\tGetHandleVerifier [0x010ABB01+560977]\n\tGetHandleVerifier [0x010AA8D3+556323]\n\tOrdinal0 [0x00FB020E+2163214]\n\tOrdinal0 [0x00FB5078+2183288]\n\tOrdinal0 [0x00FB51C0+2183616]\n\tOrdinal0 [0x00FBEE1C+2223644]\n\tBaseThreadInitThunk [0x7641FA29+25]\n\tRtlGetAppContainerNamedObjectPath [0x77817A9E+286]\n\tRtlGetAppContainerNamedObjectPath [0x77817A6E+238]\n"
     ]
    }
   ],
   "source": [
    "for vuelo in vuelos:\n",
    "    hour = vuelo.find_element(By.XPATH, xpath_time).text\n",
    "    vuelo.click()\n",
    "    flight_number = driver.find_elements(By.XPATH, '//em[@class=\"flight-number\"]')\n",
    "    \n",
    "    print(hour, flight_number[0].text.split(' ')[1], flight_number[1].text.split(' ')[1])\n",
    "    driver.find_elements(By.XPATH, '//div[@class=\"modal-header -eva-3-pb-md\"]/i[@class=\"modal-close eva-3-icon-close\"]')[0].click()\n",
    "    time.sleep(2)"
   ]
  },
  {
   "cell_type": "code",
   "execution_count": null,
   "metadata": {},
   "outputs": [],
   "source": [
    "# driver.close()"
   ]
  }
 ],
 "metadata": {
  "interpreter": {
   "hash": "b61c6ad8126c173412d8a6cd9b0705d522f0e34fb3512356ee796a2f13e2df7b"
  },
  "kernelspec": {
   "display_name": "Python 3.9.6 64-bit ('venv': venv)",
   "language": "python",
   "name": "python3"
  },
  "language_info": {
   "codemirror_mode": {
    "name": "ipython",
    "version": 3
   },
   "file_extension": ".py",
   "mimetype": "text/x-python",
   "name": "python",
   "nbconvert_exporter": "python",
   "pygments_lexer": "ipython3",
   "version": "3.9.6"
  },
  "orig_nbformat": 4
 },
 "nbformat": 4,
 "nbformat_minor": 2
}
