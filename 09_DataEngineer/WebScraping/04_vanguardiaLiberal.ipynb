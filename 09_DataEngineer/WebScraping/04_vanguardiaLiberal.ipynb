{
 "cells": [
  {
   "cell_type": "code",
   "execution_count": 2,
   "metadata": {},
   "outputs": [],
   "source": [
    "import bs4\n",
    "import requests"
   ]
  },
  {
   "cell_type": "markdown",
   "metadata": {},
   "source": [
    "# Platzi Data Live"
   ]
  },
  {
   "cell_type": "code",
   "execution_count": 3,
   "metadata": {},
   "outputs": [],
   "source": [
    "response = requests.get('https://www.platzi.com')"
   ]
  },
  {
   "cell_type": "markdown",
   "metadata": {},
   "source": [
    "`.text` entrega toda la estructura HTML"
   ]
  },
  {
   "cell_type": "code",
   "execution_count": 4,
   "metadata": {},
   "outputs": [
    {
     "data": {
      "text/plain": [
       "str"
      ]
     },
     "execution_count": 4,
     "metadata": {},
     "output_type": "execute_result"
    }
   ],
   "source": [
    "type(response.text)\n",
    "# response.text"
   ]
  },
  {
   "cell_type": "markdown",
   "metadata": {},
   "source": [
    "## Extracción de información del HTML"
   ]
  },
  {
   "cell_type": "code",
   "execution_count": 5,
   "metadata": {},
   "outputs": [
    {
     "name": "stdout",
     "output_type": "stream",
     "text": [
      "Platzi: ‎Cursos Online Profesionales de Tecnología\n",
      "\n",
      "[<meta content=\"Aprende desde cero a crear el futuro web con nuestros Cursos Online Profesionales de Tecnología. 🚀¡Cursos de Desarrollo, Diseño, Marketing y Negocios!\" name=\"description\"/>]\n",
      "\n",
      "Aprende desde cero a crear el futuro web con nuestros Cursos Online Profesionales de Tecnología. 🚀¡Cursos de Desarrollo, Diseño, Marketing y Negocios!\n"
     ]
    }
   ],
   "source": [
    "soup = bs4.BeautifulSoup(response.text, 'html.parser')\n",
    "\n",
    "print(soup.title.text)\n",
    "print()\n",
    "print(soup.select('meta[name=description]')) # selector css\n",
    "print()\n",
    "print(soup.select('meta[name=description]')[0]['content'])\n"
   ]
  },
  {
   "cell_type": "markdown",
   "metadata": {},
   "source": []
  },
  {
   "cell_type": "code",
   "execution_count": 6,
   "metadata": {},
   "outputs": [
    {
     "name": "stdout",
     "output_type": "stream",
     "text": [
      "<class 'bs4.element.ResultSet'>\n",
      "<class 'list'>\n",
      "https://platzi.com/cursos/nextjs-graphql/\n",
      "https://platzi.com/cursos/tailwind/\n",
      "https://platzi.com/cursos/defi-investigacion/\n",
      "https://platzi.com/cursos/liderazgomarketing/\n",
      "https://platzi.com/cursos/spark-ar-3d/\n"
     ]
    }
   ],
   "source": [
    "courses_link = soup.select('.RecentLaunches-link')\n",
    "# print(courses_link)\n",
    "print(type(courses_link))\n",
    "\n",
    "# courses = [course.a['href'] for course in courses_link]\n",
    "courses = [course['href'] for course in courses_link]\n",
    "print(type(courses))\n",
    "\n",
    "for course in courses:\n",
    "    print(course)"
   ]
  },
  {
   "cell_type": "markdown",
   "metadata": {},
   "source": [
    "### Practica a realizar con vanguardia.com"
   ]
  },
  {
   "cell_type": "code",
   "execution_count": 10,
   "metadata": {},
   "outputs": [
    {
     "name": "stdout",
     "output_type": "stream",
     "text": [
      "Confirman 2.171 nuevos casos y cuatro muertos por COVID-19 este viernes en Santander\n",
      "Las cartas que Ãlvaro Uribe se juega en la campaÃ±a electoral\n",
      "MÃ©dico de la CÃ¡rcel Palogordo fue hallado muerto en su consultorio \n",
      "âHay intenciÃ³n de producir ataques contra miembros del Partido Comunesâ: PolicÃ­a\n",
      "Video: \"No estÃ¡n solas\", el mensaje del Gobierno ante escÃ¡ndalo de abuso en el atletismo\n",
      "Familia terminÃ³ intoxicada tras tomar insecticida para disminuir los sÃ­ntomas del COVID-19\n",
      "Motociclista resultÃ³ herido tras grave accidente en Bucaramanga \n",
      "âCartel de embargosâ enreda a juez de Bucaramanga\n",
      "Vetas se convirtiÃ³ en el primer municipio en firmar pacto para delimitaciÃ³n del pÃ¡ramo de SanturbÃ¡n\n",
      "Hoy se inaugura el primer parque eÃ³lico de Colombia en La Guajira\n",
      "Daniel GalÃ¡n avanzÃ³ a las semifinales del Challenger de ConcepciÃ³n\n",
      "Â¿Miedo al crÃ©dito? Conozca las claves para analizar su capacidad de endeudamiento\n"
     ]
    }
   ],
   "source": [
    "response_vanguardia = requests.get('https://www.vanguardia.com')\n",
    "soup_vanguardia = bs4.BeautifulSoup(response_vanguardia.text, 'html.parser')\n",
    "# notices_link = soup_vanguardia.select('article[class*=\"article element\"] div a')\n",
    "# notices = [notice['href'] for notice in notices_link]\n",
    "notices_title = soup_vanguardia.select('article[class*=\"article element\"] div a h2 span')\n",
    "notices = [notice.string for notice in notices_title]\n",
    "\n",
    "for notice in notices:\n",
    "    print(notice)"
   ]
  },
  {
   "cell_type": "markdown",
   "metadata": {},
   "source": [
    "# Page Object Pattern\n",
    "\n",
    "Consiste en esconder los *querys* usados en la manipulación de documento HTML detrás de un objeto que representa la página web.\n",
    "\n",
    "Permiten tener un código robusto y fácil de arreglar."
   ]
  }
 ],
 "metadata": {
  "interpreter": {
   "hash": "b61c6ad8126c173412d8a6cd9b0705d522f0e34fb3512356ee796a2f13e2df7b"
  },
  "kernelspec": {
   "display_name": "Python 3.9.6 64-bit ('venv': venv)",
   "language": "python",
   "name": "python3"
  },
  "language_info": {
   "codemirror_mode": {
    "name": "ipython",
    "version": 3
   },
   "file_extension": ".py",
   "mimetype": "text/x-python",
   "name": "python",
   "nbconvert_exporter": "python",
   "pygments_lexer": "ipython3",
   "version": "3.9.6"
  },
  "orig_nbformat": 4
 },
 "nbformat": 4,
 "nbformat_minor": 2
}
