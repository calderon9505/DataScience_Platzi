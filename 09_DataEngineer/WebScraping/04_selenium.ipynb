{
 "cells": [
  {
   "cell_type": "markdown",
   "metadata": {},
   "source": [
    "# Selenium"
   ]
  },
  {
   "cell_type": "code",
   "execution_count": 1,
   "metadata": {},
   "outputs": [],
   "source": [
    "from selenium import webdriver\n",
    "from selenium.webdriver.common.by import By\n",
    "from selenium.webdriver.common.keys import Keys\n",
    "from selenium.common.exceptions import ElementNotInteractableException\n",
    "\n",
    "import time"
   ]
  },
  {
   "cell_type": "markdown",
   "metadata": {},
   "source": [
    "Configuraciones"
   ]
  },
  {
   "cell_type": "code",
   "execution_count": 2,
   "metadata": {},
   "outputs": [],
   "source": [
    "options = webdriver.ChromeOptions()\n",
    "options.add_argument('--incognito')"
   ]
  },
  {
   "cell_type": "markdown",
   "metadata": {},
   "source": [
    "Instanciando el driver"
   ]
  },
  {
   "cell_type": "code",
   "execution_count": 3,
   "metadata": {},
   "outputs": [
    {
     "name": "stdout",
     "output_type": "stream",
     "text": [
      "\"driver\" es un objeto de tipo <class 'selenium.webdriver.chrome.webdriver.WebDriver'>\n"
     ]
    }
   ],
   "source": [
    "driver = webdriver.Chrome(executable_path='chromedriver', options=options)\n",
    "# Driver en la misma carpeta del script.\n",
    "\n",
    "print('\"driver\" es un objeto de tipo', type(driver))"
   ]
  },
  {
   "cell_type": "markdown",
   "metadata": {},
   "source": [
    "Consultando página web"
   ]
  },
  {
   "cell_type": "code",
   "execution_count": 4,
   "metadata": {},
   "outputs": [],
   "source": [
    "url = 'https://www.avianca.com/co/es/'\n",
    "driver.get(url)\n",
    "driver.maximize_window()"
   ]
  },
  {
   "cell_type": "markdown",
   "metadata": {},
   "source": [
    "Buscando elementos"
   ]
  },
  {
   "cell_type": "markdown",
   "metadata": {},
   "source": [
    "* Id\n",
    "* Name\n",
    "* CSS selector o XPATH\n",
    "* Link Text o PartialLinkText\n",
    "* class\n",
    "* Tag Name"
   ]
  },
  {
   "cell_type": "code",
   "execution_count": 5,
   "metadata": {},
   "outputs": [],
   "source": [
    "button_solo_ida = '//input[@id=\"radioSoloIda\" and @name=\"radioTipoVueloTD\"]/following-sibling::span'\n",
    "box_desde = '//input[contains(@class,\"form-control airport pbOrigen airport_ida airport_mvvn\")]'"
   ]
  },
  {
   "cell_type": "code",
   "execution_count": 6,
   "metadata": {},
   "outputs": [
    {
     "name": "stdout",
     "output_type": "stream",
     "text": [
      "El método \"find_element\" retorna un objeto del tipo <class 'selenium.webdriver.remote.webelement.WebElement'>\n"
     ]
    }
   ],
   "source": [
    "element_button_solo_ida = driver.find_element(By.XPATH, button_solo_ida)\n",
    "print('El método \"find_element\" retorna un objeto del tipo', type(element_button_solo_ida))\n",
    "element_button_solo_ida.click()\n"
   ]
  },
  {
   "cell_type": "code",
   "execution_count": 7,
   "metadata": {},
   "outputs": [
    {
     "name": "stdout",
     "output_type": "stream",
     "text": [
      "DESDE: ElementNotInteractableException\n",
      "DESDE: ElementNotInteractableException\n",
      "DESDE: Success\n"
     ]
    }
   ],
   "source": [
    "# elements_desde = driver.find_elements(By.XPATH, box_desde)[2].send_keys(desde, Keys.DOWN, Keys.ENTER)\n",
    "elements_desde = driver.find_elements(By.XPATH, box_desde)\n",
    "for element in elements_desde:\n",
    "    try:\n",
    "        element.send_keys(\"Bucaramanga\")\n",
    "        element.send_keys(Keys.DOWN)\n",
    "        element.send_keys(Keys.ENTER)\n",
    "        print('DESDE: Success')\n",
    "    except ElementNotInteractableException:\n",
    "        print('DESDE: ElementNotInteractableException')"
   ]
  },
  {
   "cell_type": "code",
   "execution_count": 8,
   "metadata": {},
   "outputs": [],
   "source": [
    "driver.close()"
   ]
  },
  {
   "cell_type": "markdown",
   "metadata": {},
   "source": [
    "## Dropdowns"
   ]
  },
  {
   "cell_type": "code",
   "execution_count": 9,
   "metadata": {},
   "outputs": [],
   "source": [
    "from selenium.webdriver.support.ui import Select"
   ]
  },
  {
   "cell_type": "code",
   "execution_count": 10,
   "metadata": {},
   "outputs": [],
   "source": [
    "driver = webdriver.Chrome(executable_path='chromedriver', options=options)\n",
    "url = 'http://demo-store.seleniumacademy.com'\n",
    "driver.get(url)\n",
    "# driver.maximize_window()"
   ]
  },
  {
   "cell_type": "code",
   "execution_count": 11,
   "metadata": {},
   "outputs": [
    {
     "name": "stdout",
     "output_type": "stream",
     "text": [
      "English\n",
      "French\n",
      "German\n"
     ]
    }
   ],
   "source": [
    "dropdown_language = Select(driver.find_element(By.ID, 'select-language'))\n",
    "\n",
    "for option in dropdown_language.options:\n",
    "    print(option.text)\n",
    "\n",
    "dropdown_language.select_by_visible_text('French')"
   ]
  },
  {
   "cell_type": "code",
   "execution_count": 12,
   "metadata": {},
   "outputs": [
    {
     "data": {
      "text/plain": [
       "'http://demo-store.seleniumacademy.com/?___store=french&___from_store=default'"
      ]
     },
     "execution_count": 12,
     "metadata": {},
     "output_type": "execute_result"
    }
   ],
   "source": [
    "driver.current_url"
   ]
  },
  {
   "cell_type": "markdown",
   "metadata": {},
   "source": [
    "## Pop-up"
   ]
  },
  {
   "cell_type": "code",
   "execution_count": 13,
   "metadata": {},
   "outputs": [],
   "source": [
    "search_field = driver.find_element(By.NAME, 'q')\n",
    "search_field.clear()\n",
    "search_field.send_keys('tee')\n",
    "search_field.submit()\n",
    "\n",
    "driver.find_element(By.CLASS_NAME, 'link-compare').click()\n",
    "driver.find_element(By.LINK_TEXT, 'Clear All').click()\n",
    "time.sleep(1)"
   ]
  },
  {
   "cell_type": "code",
   "execution_count": 14,
   "metadata": {},
   "outputs": [
    {
     "name": "stdout",
     "output_type": "stream",
     "text": [
      "Are you sure you would like to remove all products from your comparison?\n"
     ]
    }
   ],
   "source": [
    "alert = driver.switch_to.alert \n",
    "print(alert.text)\n",
    "alert.accept()\n",
    "time.sleep(1)"
   ]
  },
  {
   "cell_type": "code",
   "execution_count": 15,
   "metadata": {},
   "outputs": [],
   "source": [
    "driver.quit()"
   ]
  },
  {
   "cell_type": "markdown",
   "metadata": {},
   "source": [
    "## Waits"
   ]
  },
  {
   "cell_type": "markdown",
   "metadata": {},
   "source": [
    "### Explicit Waits"
   ]
  },
  {
   "cell_type": "code",
   "execution_count": 16,
   "metadata": {},
   "outputs": [],
   "source": [
    "from selenium.webdriver.support.ui import WebDriverWait\n",
    "from selenium.webdriver.support import expected_conditions as EC"
   ]
  },
  {
   "cell_type": "code",
   "execution_count": 17,
   "metadata": {},
   "outputs": [],
   "source": [
    "driver = webdriver.Chrome(executable_path='chromedriver')\n",
    "driver.get('https://www.avianca.com/co/es/')"
   ]
  },
  {
   "cell_type": "code",
   "execution_count": 18,
   "metadata": {},
   "outputs": [],
   "source": [
    "try:\n",
    "    element = WebDriverWait(driver, 10).until(\n",
    "        EC.element_to_be_clickable((By.XPATH, button_solo_ida))\n",
    "    )\n",
    "    element.click()\n",
    "finally:\n",
    "    driver.quit()"
   ]
  },
  {
   "cell_type": "markdown",
   "metadata": {},
   "source": [
    "In the code above, Selenium will wait for a maximum of 10 seconds for an element matching the given criteria to be found. If no element is found in that time, a `TimeoutException` is thrown. By default, `WebDriverWait` calls the **ExpectedCondition** every 500 milliseconds until it returns success. **ExpectedCondition** will return `true` (Boolean) in case of success or `not null` if it fails to locate an element."
   ]
  },
  {
   "cell_type": "code",
   "execution_count": 19,
   "metadata": {},
   "outputs": [],
   "source": [
    "# wait = WebDriverWait(driver, timeout=10)\n",
    "# element = wait.until(EC.element_to_be_clickable((By.XPATH, button_solo_ida)))"
   ]
  },
  {
   "cell_type": "markdown",
   "metadata": {},
   "source": [
    "los métodos de `EC` deben recibir una tupla en la que la primera posición es el tipo de selector, y en la segunda posición el selector."
   ]
  },
  {
   "cell_type": "markdown",
   "metadata": {},
   "source": [
    "[convenience methods of Expected conditions](https://selenium-python.readthedocs.io/api.html#module-selenium.webdriver.support.expected_conditions)"
   ]
  },
  {
   "cell_type": "markdown",
   "metadata": {},
   "source": [
    "### Implicit Waits"
   ]
  },
  {
   "cell_type": "code",
   "execution_count": 20,
   "metadata": {},
   "outputs": [
    {
     "ename": "MaxRetryError",
     "evalue": "HTTPConnectionPool(host='localhost', port=61538): Max retries exceeded with url: /session/fb169891e5f6f6fc9cf09e0abf4b6f27/timeouts (Caused by NewConnectionError('<urllib3.connection.HTTPConnection object at 0x00000193589A70A0>: Failed to establish a new connection: [WinError 10061] No se puede establecer una conexión ya que el equipo de destino denegó expresamente dicha conexión'))",
     "output_type": "error",
     "traceback": [
      "\u001b[1;31m---------------------------------------------------------------------------\u001b[0m",
      "\u001b[1;31mConnectionRefusedError\u001b[0m                    Traceback (most recent call last)",
      "File \u001b[1;32mc:\\Users\\User\\Documents\\DataScience_Platzi\\09_DataEngineer\\WebScraping\\venv\\lib\\site-packages\\urllib3\\connection.py:174\u001b[0m, in \u001b[0;36mHTTPConnection._new_conn\u001b[1;34m(self)\u001b[0m\n\u001b[0;32m    <a href='file:///c%3A/Users/User/Documents/DataScience_Platzi/09_DataEngineer/WebScraping/venv/lib/site-packages/urllib3/connection.py?line=172'>173</a>\u001b[0m \u001b[39mtry\u001b[39;00m:\n\u001b[1;32m--> <a href='file:///c%3A/Users/User/Documents/DataScience_Platzi/09_DataEngineer/WebScraping/venv/lib/site-packages/urllib3/connection.py?line=173'>174</a>\u001b[0m     conn \u001b[39m=\u001b[39m connection\u001b[39m.\u001b[39mcreate_connection(\n\u001b[0;32m    <a href='file:///c%3A/Users/User/Documents/DataScience_Platzi/09_DataEngineer/WebScraping/venv/lib/site-packages/urllib3/connection.py?line=174'>175</a>\u001b[0m         (\u001b[39mself\u001b[39m\u001b[39m.\u001b[39m_dns_host, \u001b[39mself\u001b[39m\u001b[39m.\u001b[39mport), \u001b[39mself\u001b[39m\u001b[39m.\u001b[39mtimeout, \u001b[39m*\u001b[39m\u001b[39m*\u001b[39mextra_kw\n\u001b[0;32m    <a href='file:///c%3A/Users/User/Documents/DataScience_Platzi/09_DataEngineer/WebScraping/venv/lib/site-packages/urllib3/connection.py?line=175'>176</a>\u001b[0m     )\n\u001b[0;32m    <a href='file:///c%3A/Users/User/Documents/DataScience_Platzi/09_DataEngineer/WebScraping/venv/lib/site-packages/urllib3/connection.py?line=177'>178</a>\u001b[0m \u001b[39mexcept\u001b[39;00m SocketTimeout:\n",
      "File \u001b[1;32mc:\\Users\\User\\Documents\\DataScience_Platzi\\09_DataEngineer\\WebScraping\\venv\\lib\\site-packages\\urllib3\\util\\connection.py:95\u001b[0m, in \u001b[0;36mcreate_connection\u001b[1;34m(address, timeout, source_address, socket_options)\u001b[0m\n\u001b[0;32m     <a href='file:///c%3A/Users/User/Documents/DataScience_Platzi/09_DataEngineer/WebScraping/venv/lib/site-packages/urllib3/util/connection.py?line=93'>94</a>\u001b[0m \u001b[39mif\u001b[39;00m err \u001b[39mis\u001b[39;00m \u001b[39mnot\u001b[39;00m \u001b[39mNone\u001b[39;00m:\n\u001b[1;32m---> <a href='file:///c%3A/Users/User/Documents/DataScience_Platzi/09_DataEngineer/WebScraping/venv/lib/site-packages/urllib3/util/connection.py?line=94'>95</a>\u001b[0m     \u001b[39mraise\u001b[39;00m err\n\u001b[0;32m     <a href='file:///c%3A/Users/User/Documents/DataScience_Platzi/09_DataEngineer/WebScraping/venv/lib/site-packages/urllib3/util/connection.py?line=96'>97</a>\u001b[0m \u001b[39mraise\u001b[39;00m socket\u001b[39m.\u001b[39merror(\u001b[39m\"\u001b[39m\u001b[39mgetaddrinfo returns an empty list\u001b[39m\u001b[39m\"\u001b[39m)\n",
      "File \u001b[1;32mc:\\Users\\User\\Documents\\DataScience_Platzi\\09_DataEngineer\\WebScraping\\venv\\lib\\site-packages\\urllib3\\util\\connection.py:85\u001b[0m, in \u001b[0;36mcreate_connection\u001b[1;34m(address, timeout, source_address, socket_options)\u001b[0m\n\u001b[0;32m     <a href='file:///c%3A/Users/User/Documents/DataScience_Platzi/09_DataEngineer/WebScraping/venv/lib/site-packages/urllib3/util/connection.py?line=83'>84</a>\u001b[0m     sock\u001b[39m.\u001b[39mbind(source_address)\n\u001b[1;32m---> <a href='file:///c%3A/Users/User/Documents/DataScience_Platzi/09_DataEngineer/WebScraping/venv/lib/site-packages/urllib3/util/connection.py?line=84'>85</a>\u001b[0m sock\u001b[39m.\u001b[39;49mconnect(sa)\n\u001b[0;32m     <a href='file:///c%3A/Users/User/Documents/DataScience_Platzi/09_DataEngineer/WebScraping/venv/lib/site-packages/urllib3/util/connection.py?line=85'>86</a>\u001b[0m \u001b[39mreturn\u001b[39;00m sock\n",
      "\u001b[1;31mConnectionRefusedError\u001b[0m: [WinError 10061] No se puede establecer una conexión ya que el equipo de destino denegó expresamente dicha conexión",
      "\nDuring handling of the above exception, another exception occurred:\n",
      "\u001b[1;31mNewConnectionError\u001b[0m                        Traceback (most recent call last)",
      "File \u001b[1;32mc:\\Users\\User\\Documents\\DataScience_Platzi\\09_DataEngineer\\WebScraping\\venv\\lib\\site-packages\\urllib3\\connectionpool.py:703\u001b[0m, in \u001b[0;36mHTTPConnectionPool.urlopen\u001b[1;34m(self, method, url, body, headers, retries, redirect, assert_same_host, timeout, pool_timeout, release_conn, chunked, body_pos, **response_kw)\u001b[0m\n\u001b[0;32m    <a href='file:///c%3A/Users/User/Documents/DataScience_Platzi/09_DataEngineer/WebScraping/venv/lib/site-packages/urllib3/connectionpool.py?line=701'>702</a>\u001b[0m \u001b[39m# Make the request on the httplib connection object.\u001b[39;00m\n\u001b[1;32m--> <a href='file:///c%3A/Users/User/Documents/DataScience_Platzi/09_DataEngineer/WebScraping/venv/lib/site-packages/urllib3/connectionpool.py?line=702'>703</a>\u001b[0m httplib_response \u001b[39m=\u001b[39m \u001b[39mself\u001b[39;49m\u001b[39m.\u001b[39;49m_make_request(\n\u001b[0;32m    <a href='file:///c%3A/Users/User/Documents/DataScience_Platzi/09_DataEngineer/WebScraping/venv/lib/site-packages/urllib3/connectionpool.py?line=703'>704</a>\u001b[0m     conn,\n\u001b[0;32m    <a href='file:///c%3A/Users/User/Documents/DataScience_Platzi/09_DataEngineer/WebScraping/venv/lib/site-packages/urllib3/connectionpool.py?line=704'>705</a>\u001b[0m     method,\n\u001b[0;32m    <a href='file:///c%3A/Users/User/Documents/DataScience_Platzi/09_DataEngineer/WebScraping/venv/lib/site-packages/urllib3/connectionpool.py?line=705'>706</a>\u001b[0m     url,\n\u001b[0;32m    <a href='file:///c%3A/Users/User/Documents/DataScience_Platzi/09_DataEngineer/WebScraping/venv/lib/site-packages/urllib3/connectionpool.py?line=706'>707</a>\u001b[0m     timeout\u001b[39m=\u001b[39;49mtimeout_obj,\n\u001b[0;32m    <a href='file:///c%3A/Users/User/Documents/DataScience_Platzi/09_DataEngineer/WebScraping/venv/lib/site-packages/urllib3/connectionpool.py?line=707'>708</a>\u001b[0m     body\u001b[39m=\u001b[39;49mbody,\n\u001b[0;32m    <a href='file:///c%3A/Users/User/Documents/DataScience_Platzi/09_DataEngineer/WebScraping/venv/lib/site-packages/urllib3/connectionpool.py?line=708'>709</a>\u001b[0m     headers\u001b[39m=\u001b[39;49mheaders,\n\u001b[0;32m    <a href='file:///c%3A/Users/User/Documents/DataScience_Platzi/09_DataEngineer/WebScraping/venv/lib/site-packages/urllib3/connectionpool.py?line=709'>710</a>\u001b[0m     chunked\u001b[39m=\u001b[39;49mchunked,\n\u001b[0;32m    <a href='file:///c%3A/Users/User/Documents/DataScience_Platzi/09_DataEngineer/WebScraping/venv/lib/site-packages/urllib3/connectionpool.py?line=710'>711</a>\u001b[0m )\n\u001b[0;32m    <a href='file:///c%3A/Users/User/Documents/DataScience_Platzi/09_DataEngineer/WebScraping/venv/lib/site-packages/urllib3/connectionpool.py?line=712'>713</a>\u001b[0m \u001b[39m# If we're going to release the connection in ``finally:``, then\u001b[39;00m\n\u001b[0;32m    <a href='file:///c%3A/Users/User/Documents/DataScience_Platzi/09_DataEngineer/WebScraping/venv/lib/site-packages/urllib3/connectionpool.py?line=713'>714</a>\u001b[0m \u001b[39m# the response doesn't need to know about the connection. Otherwise\u001b[39;00m\n\u001b[0;32m    <a href='file:///c%3A/Users/User/Documents/DataScience_Platzi/09_DataEngineer/WebScraping/venv/lib/site-packages/urllib3/connectionpool.py?line=714'>715</a>\u001b[0m \u001b[39m# it will also try to release it and we'll have a double-release\u001b[39;00m\n\u001b[0;32m    <a href='file:///c%3A/Users/User/Documents/DataScience_Platzi/09_DataEngineer/WebScraping/venv/lib/site-packages/urllib3/connectionpool.py?line=715'>716</a>\u001b[0m \u001b[39m# mess.\u001b[39;00m\n",
      "File \u001b[1;32mc:\\Users\\User\\Documents\\DataScience_Platzi\\09_DataEngineer\\WebScraping\\venv\\lib\\site-packages\\urllib3\\connectionpool.py:398\u001b[0m, in \u001b[0;36mHTTPConnectionPool._make_request\u001b[1;34m(self, conn, method, url, timeout, chunked, **httplib_request_kw)\u001b[0m\n\u001b[0;32m    <a href='file:///c%3A/Users/User/Documents/DataScience_Platzi/09_DataEngineer/WebScraping/venv/lib/site-packages/urllib3/connectionpool.py?line=396'>397</a>\u001b[0m     \u001b[39melse\u001b[39;00m:\n\u001b[1;32m--> <a href='file:///c%3A/Users/User/Documents/DataScience_Platzi/09_DataEngineer/WebScraping/venv/lib/site-packages/urllib3/connectionpool.py?line=397'>398</a>\u001b[0m         conn\u001b[39m.\u001b[39mrequest(method, url, \u001b[39m*\u001b[39m\u001b[39m*\u001b[39mhttplib_request_kw)\n\u001b[0;32m    <a href='file:///c%3A/Users/User/Documents/DataScience_Platzi/09_DataEngineer/WebScraping/venv/lib/site-packages/urllib3/connectionpool.py?line=399'>400</a>\u001b[0m \u001b[39m# We are swallowing BrokenPipeError (errno.EPIPE) since the server is\u001b[39;00m\n\u001b[0;32m    <a href='file:///c%3A/Users/User/Documents/DataScience_Platzi/09_DataEngineer/WebScraping/venv/lib/site-packages/urllib3/connectionpool.py?line=400'>401</a>\u001b[0m \u001b[39m# legitimately able to close the connection after sending a valid response.\u001b[39;00m\n\u001b[0;32m    <a href='file:///c%3A/Users/User/Documents/DataScience_Platzi/09_DataEngineer/WebScraping/venv/lib/site-packages/urllib3/connectionpool.py?line=401'>402</a>\u001b[0m \u001b[39m# With this behaviour, the received response is still readable.\u001b[39;00m\n",
      "File \u001b[1;32mc:\\Users\\User\\Documents\\DataScience_Platzi\\09_DataEngineer\\WebScraping\\venv\\lib\\site-packages\\urllib3\\connection.py:239\u001b[0m, in \u001b[0;36mHTTPConnection.request\u001b[1;34m(self, method, url, body, headers)\u001b[0m\n\u001b[0;32m    <a href='file:///c%3A/Users/User/Documents/DataScience_Platzi/09_DataEngineer/WebScraping/venv/lib/site-packages/urllib3/connection.py?line=237'>238</a>\u001b[0m     headers[\u001b[39m\"\u001b[39m\u001b[39mUser-Agent\u001b[39m\u001b[39m\"\u001b[39m] \u001b[39m=\u001b[39m _get_default_user_agent()\n\u001b[1;32m--> <a href='file:///c%3A/Users/User/Documents/DataScience_Platzi/09_DataEngineer/WebScraping/venv/lib/site-packages/urllib3/connection.py?line=238'>239</a>\u001b[0m \u001b[39msuper\u001b[39;49m(HTTPConnection, \u001b[39mself\u001b[39;49m)\u001b[39m.\u001b[39;49mrequest(method, url, body\u001b[39m=\u001b[39;49mbody, headers\u001b[39m=\u001b[39;49mheaders)\n",
      "File \u001b[1;32m~\\AppData\\Local\\Programs\\Python\\Python39\\lib\\http\\client.py:1257\u001b[0m, in \u001b[0;36mHTTPConnection.request\u001b[1;34m(self, method, url, body, headers, encode_chunked)\u001b[0m\n\u001b[0;32m   <a href='file:///~/AppData/Local/Programs/Python/Python39/lib/http/client.py?line=1255'>1256</a>\u001b[0m \u001b[39m\"\"\"Send a complete request to the server.\"\"\"\u001b[39;00m\n\u001b[1;32m-> <a href='file:///~/AppData/Local/Programs/Python/Python39/lib/http/client.py?line=1256'>1257</a>\u001b[0m \u001b[39mself\u001b[39;49m\u001b[39m.\u001b[39;49m_send_request(method, url, body, headers, encode_chunked)\n",
      "File \u001b[1;32m~\\AppData\\Local\\Programs\\Python\\Python39\\lib\\http\\client.py:1303\u001b[0m, in \u001b[0;36mHTTPConnection._send_request\u001b[1;34m(self, method, url, body, headers, encode_chunked)\u001b[0m\n\u001b[0;32m   <a href='file:///~/AppData/Local/Programs/Python/Python39/lib/http/client.py?line=1301'>1302</a>\u001b[0m     body \u001b[39m=\u001b[39m _encode(body, \u001b[39m'\u001b[39m\u001b[39mbody\u001b[39m\u001b[39m'\u001b[39m)\n\u001b[1;32m-> <a href='file:///~/AppData/Local/Programs/Python/Python39/lib/http/client.py?line=1302'>1303</a>\u001b[0m \u001b[39mself\u001b[39;49m\u001b[39m.\u001b[39;49mendheaders(body, encode_chunked\u001b[39m=\u001b[39;49mencode_chunked)\n",
      "File \u001b[1;32m~\\AppData\\Local\\Programs\\Python\\Python39\\lib\\http\\client.py:1252\u001b[0m, in \u001b[0;36mHTTPConnection.endheaders\u001b[1;34m(self, message_body, encode_chunked)\u001b[0m\n\u001b[0;32m   <a href='file:///~/AppData/Local/Programs/Python/Python39/lib/http/client.py?line=1250'>1251</a>\u001b[0m     \u001b[39mraise\u001b[39;00m CannotSendHeader()\n\u001b[1;32m-> <a href='file:///~/AppData/Local/Programs/Python/Python39/lib/http/client.py?line=1251'>1252</a>\u001b[0m \u001b[39mself\u001b[39;49m\u001b[39m.\u001b[39;49m_send_output(message_body, encode_chunked\u001b[39m=\u001b[39;49mencode_chunked)\n",
      "File \u001b[1;32m~\\AppData\\Local\\Programs\\Python\\Python39\\lib\\http\\client.py:1012\u001b[0m, in \u001b[0;36mHTTPConnection._send_output\u001b[1;34m(self, message_body, encode_chunked)\u001b[0m\n\u001b[0;32m   <a href='file:///~/AppData/Local/Programs/Python/Python39/lib/http/client.py?line=1010'>1011</a>\u001b[0m \u001b[39mdel\u001b[39;00m \u001b[39mself\u001b[39m\u001b[39m.\u001b[39m_buffer[:]\n\u001b[1;32m-> <a href='file:///~/AppData/Local/Programs/Python/Python39/lib/http/client.py?line=1011'>1012</a>\u001b[0m \u001b[39mself\u001b[39;49m\u001b[39m.\u001b[39;49msend(msg)\n\u001b[0;32m   <a href='file:///~/AppData/Local/Programs/Python/Python39/lib/http/client.py?line=1013'>1014</a>\u001b[0m \u001b[39mif\u001b[39;00m message_body \u001b[39mis\u001b[39;00m \u001b[39mnot\u001b[39;00m \u001b[39mNone\u001b[39;00m:\n\u001b[0;32m   <a href='file:///~/AppData/Local/Programs/Python/Python39/lib/http/client.py?line=1014'>1015</a>\u001b[0m \n\u001b[0;32m   <a href='file:///~/AppData/Local/Programs/Python/Python39/lib/http/client.py?line=1015'>1016</a>\u001b[0m     \u001b[39m# create a consistent interface to message_body\u001b[39;00m\n",
      "File \u001b[1;32m~\\AppData\\Local\\Programs\\Python\\Python39\\lib\\http\\client.py:952\u001b[0m, in \u001b[0;36mHTTPConnection.send\u001b[1;34m(self, data)\u001b[0m\n\u001b[0;32m    <a href='file:///~/AppData/Local/Programs/Python/Python39/lib/http/client.py?line=950'>951</a>\u001b[0m \u001b[39mif\u001b[39;00m \u001b[39mself\u001b[39m\u001b[39m.\u001b[39mauto_open:\n\u001b[1;32m--> <a href='file:///~/AppData/Local/Programs/Python/Python39/lib/http/client.py?line=951'>952</a>\u001b[0m     \u001b[39mself\u001b[39;49m\u001b[39m.\u001b[39;49mconnect()\n\u001b[0;32m    <a href='file:///~/AppData/Local/Programs/Python/Python39/lib/http/client.py?line=952'>953</a>\u001b[0m \u001b[39melse\u001b[39;00m:\n",
      "File \u001b[1;32mc:\\Users\\User\\Documents\\DataScience_Platzi\\09_DataEngineer\\WebScraping\\venv\\lib\\site-packages\\urllib3\\connection.py:205\u001b[0m, in \u001b[0;36mHTTPConnection.connect\u001b[1;34m(self)\u001b[0m\n\u001b[0;32m    <a href='file:///c%3A/Users/User/Documents/DataScience_Platzi/09_DataEngineer/WebScraping/venv/lib/site-packages/urllib3/connection.py?line=203'>204</a>\u001b[0m \u001b[39mdef\u001b[39;00m \u001b[39mconnect\u001b[39m(\u001b[39mself\u001b[39m):\n\u001b[1;32m--> <a href='file:///c%3A/Users/User/Documents/DataScience_Platzi/09_DataEngineer/WebScraping/venv/lib/site-packages/urllib3/connection.py?line=204'>205</a>\u001b[0m     conn \u001b[39m=\u001b[39m \u001b[39mself\u001b[39;49m\u001b[39m.\u001b[39;49m_new_conn()\n\u001b[0;32m    <a href='file:///c%3A/Users/User/Documents/DataScience_Platzi/09_DataEngineer/WebScraping/venv/lib/site-packages/urllib3/connection.py?line=205'>206</a>\u001b[0m     \u001b[39mself\u001b[39m\u001b[39m.\u001b[39m_prepare_conn(conn)\n",
      "File \u001b[1;32mc:\\Users\\User\\Documents\\DataScience_Platzi\\09_DataEngineer\\WebScraping\\venv\\lib\\site-packages\\urllib3\\connection.py:186\u001b[0m, in \u001b[0;36mHTTPConnection._new_conn\u001b[1;34m(self)\u001b[0m\n\u001b[0;32m    <a href='file:///c%3A/Users/User/Documents/DataScience_Platzi/09_DataEngineer/WebScraping/venv/lib/site-packages/urllib3/connection.py?line=184'>185</a>\u001b[0m \u001b[39mexcept\u001b[39;00m SocketError \u001b[39mas\u001b[39;00m e:\n\u001b[1;32m--> <a href='file:///c%3A/Users/User/Documents/DataScience_Platzi/09_DataEngineer/WebScraping/venv/lib/site-packages/urllib3/connection.py?line=185'>186</a>\u001b[0m     \u001b[39mraise\u001b[39;00m NewConnectionError(\n\u001b[0;32m    <a href='file:///c%3A/Users/User/Documents/DataScience_Platzi/09_DataEngineer/WebScraping/venv/lib/site-packages/urllib3/connection.py?line=186'>187</a>\u001b[0m         \u001b[39mself\u001b[39m, \u001b[39m\"\u001b[39m\u001b[39mFailed to establish a new connection: \u001b[39m\u001b[39m%s\u001b[39;00m\u001b[39m\"\u001b[39m \u001b[39m%\u001b[39m e\n\u001b[0;32m    <a href='file:///c%3A/Users/User/Documents/DataScience_Platzi/09_DataEngineer/WebScraping/venv/lib/site-packages/urllib3/connection.py?line=187'>188</a>\u001b[0m     )\n\u001b[0;32m    <a href='file:///c%3A/Users/User/Documents/DataScience_Platzi/09_DataEngineer/WebScraping/venv/lib/site-packages/urllib3/connection.py?line=189'>190</a>\u001b[0m \u001b[39mreturn\u001b[39;00m conn\n",
      "\u001b[1;31mNewConnectionError\u001b[0m: <urllib3.connection.HTTPConnection object at 0x00000193589A70A0>: Failed to establish a new connection: [WinError 10061] No se puede establecer una conexión ya que el equipo de destino denegó expresamente dicha conexión",
      "\nDuring handling of the above exception, another exception occurred:\n",
      "\u001b[1;31mMaxRetryError\u001b[0m                             Traceback (most recent call last)",
      "\u001b[1;32mc:\\Users\\User\\Documents\\DataScience_Platzi\\09_DataEngineer\\WebScraping\\Selenium\\02_selenium.ipynb Cell 34'\u001b[0m in \u001b[0;36m<module>\u001b[1;34m\u001b[0m\n\u001b[1;32m----> <a href='vscode-notebook-cell:/c%3A/Users/User/Documents/DataScience_Platzi/09_DataEngineer/WebScraping/Selenium/02_selenium.ipynb#ch0000033?line=0'>1</a>\u001b[0m driver\u001b[39m.\u001b[39;49mimplicitly_wait(\u001b[39m10\u001b[39;49m)\n",
      "File \u001b[1;32mc:\\Users\\User\\Documents\\DataScience_Platzi\\09_DataEngineer\\WebScraping\\venv\\lib\\site-packages\\selenium\\webdriver\\remote\\webdriver.py:1148\u001b[0m, in \u001b[0;36mWebDriver.implicitly_wait\u001b[1;34m(self, time_to_wait)\u001b[0m\n\u001b[0;32m   <a href='file:///c%3A/Users/User/Documents/DataScience_Platzi/09_DataEngineer/WebScraping/venv/lib/site-packages/selenium/webdriver/remote/webdriver.py?line=1132'>1133</a>\u001b[0m \u001b[39mdef\u001b[39;00m \u001b[39mimplicitly_wait\u001b[39m(\u001b[39mself\u001b[39m, time_to_wait) \u001b[39m-\u001b[39m\u001b[39m>\u001b[39m \u001b[39mNone\u001b[39;00m:\n\u001b[0;32m   <a href='file:///c%3A/Users/User/Documents/DataScience_Platzi/09_DataEngineer/WebScraping/venv/lib/site-packages/selenium/webdriver/remote/webdriver.py?line=1133'>1134</a>\u001b[0m     \u001b[39m\"\"\"\u001b[39;00m\n\u001b[0;32m   <a href='file:///c%3A/Users/User/Documents/DataScience_Platzi/09_DataEngineer/WebScraping/venv/lib/site-packages/selenium/webdriver/remote/webdriver.py?line=1134'>1135</a>\u001b[0m \u001b[39m    Sets a sticky timeout to implicitly wait for an element to be found,\u001b[39;00m\n\u001b[0;32m   <a href='file:///c%3A/Users/User/Documents/DataScience_Platzi/09_DataEngineer/WebScraping/venv/lib/site-packages/selenium/webdriver/remote/webdriver.py?line=1135'>1136</a>\u001b[0m \u001b[39m       or a command to complete. This method only needs to be called one\u001b[39;00m\n\u001b[1;32m   (...)\u001b[0m\n\u001b[0;32m   <a href='file:///c%3A/Users/User/Documents/DataScience_Platzi/09_DataEngineer/WebScraping/venv/lib/site-packages/selenium/webdriver/remote/webdriver.py?line=1145'>1146</a>\u001b[0m \u001b[39m            driver.implicitly_wait(30)\u001b[39;00m\n\u001b[0;32m   <a href='file:///c%3A/Users/User/Documents/DataScience_Platzi/09_DataEngineer/WebScraping/venv/lib/site-packages/selenium/webdriver/remote/webdriver.py?line=1146'>1147</a>\u001b[0m \u001b[39m    \"\"\"\u001b[39;00m\n\u001b[1;32m-> <a href='file:///c%3A/Users/User/Documents/DataScience_Platzi/09_DataEngineer/WebScraping/venv/lib/site-packages/selenium/webdriver/remote/webdriver.py?line=1147'>1148</a>\u001b[0m     \u001b[39mself\u001b[39;49m\u001b[39m.\u001b[39;49mexecute(Command\u001b[39m.\u001b[39;49mSET_TIMEOUTS, {\n\u001b[0;32m   <a href='file:///c%3A/Users/User/Documents/DataScience_Platzi/09_DataEngineer/WebScraping/venv/lib/site-packages/selenium/webdriver/remote/webdriver.py?line=1148'>1149</a>\u001b[0m         \u001b[39m'\u001b[39;49m\u001b[39mimplicit\u001b[39;49m\u001b[39m'\u001b[39;49m: \u001b[39mint\u001b[39;49m(\u001b[39mfloat\u001b[39;49m(time_to_wait) \u001b[39m*\u001b[39;49m \u001b[39m1000\u001b[39;49m)})\n",
      "File \u001b[1;32mc:\\Users\\User\\Documents\\DataScience_Platzi\\09_DataEngineer\\WebScraping\\venv\\lib\\site-packages\\selenium\\webdriver\\remote\\webdriver.py:422\u001b[0m, in \u001b[0;36mWebDriver.execute\u001b[1;34m(self, driver_command, params)\u001b[0m\n\u001b[0;32m    <a href='file:///c%3A/Users/User/Documents/DataScience_Platzi/09_DataEngineer/WebScraping/venv/lib/site-packages/selenium/webdriver/remote/webdriver.py?line=418'>419</a>\u001b[0m         params[\u001b[39m'\u001b[39m\u001b[39msessionId\u001b[39m\u001b[39m'\u001b[39m] \u001b[39m=\u001b[39m \u001b[39mself\u001b[39m\u001b[39m.\u001b[39msession_id\n\u001b[0;32m    <a href='file:///c%3A/Users/User/Documents/DataScience_Platzi/09_DataEngineer/WebScraping/venv/lib/site-packages/selenium/webdriver/remote/webdriver.py?line=420'>421</a>\u001b[0m params \u001b[39m=\u001b[39m \u001b[39mself\u001b[39m\u001b[39m.\u001b[39m_wrap_value(params)\n\u001b[1;32m--> <a href='file:///c%3A/Users/User/Documents/DataScience_Platzi/09_DataEngineer/WebScraping/venv/lib/site-packages/selenium/webdriver/remote/webdriver.py?line=421'>422</a>\u001b[0m response \u001b[39m=\u001b[39m \u001b[39mself\u001b[39;49m\u001b[39m.\u001b[39;49mcommand_executor\u001b[39m.\u001b[39;49mexecute(driver_command, params)\n\u001b[0;32m    <a href='file:///c%3A/Users/User/Documents/DataScience_Platzi/09_DataEngineer/WebScraping/venv/lib/site-packages/selenium/webdriver/remote/webdriver.py?line=422'>423</a>\u001b[0m \u001b[39mif\u001b[39;00m response:\n\u001b[0;32m    <a href='file:///c%3A/Users/User/Documents/DataScience_Platzi/09_DataEngineer/WebScraping/venv/lib/site-packages/selenium/webdriver/remote/webdriver.py?line=423'>424</a>\u001b[0m     \u001b[39mself\u001b[39m\u001b[39m.\u001b[39merror_handler\u001b[39m.\u001b[39mcheck_response(response)\n",
      "File \u001b[1;32mc:\\Users\\User\\Documents\\DataScience_Platzi\\09_DataEngineer\\WebScraping\\venv\\lib\\site-packages\\selenium\\webdriver\\remote\\remote_connection.py:421\u001b[0m, in \u001b[0;36mRemoteConnection.execute\u001b[1;34m(self, command, params)\u001b[0m\n\u001b[0;32m    <a href='file:///c%3A/Users/User/Documents/DataScience_Platzi/09_DataEngineer/WebScraping/venv/lib/site-packages/selenium/webdriver/remote/remote_connection.py?line=418'>419</a>\u001b[0m data \u001b[39m=\u001b[39m utils\u001b[39m.\u001b[39mdump_json(params)\n\u001b[0;32m    <a href='file:///c%3A/Users/User/Documents/DataScience_Platzi/09_DataEngineer/WebScraping/venv/lib/site-packages/selenium/webdriver/remote/remote_connection.py?line=419'>420</a>\u001b[0m url \u001b[39m=\u001b[39m \u001b[39mf\u001b[39m\u001b[39m\"\u001b[39m\u001b[39m{\u001b[39;00m\u001b[39mself\u001b[39m\u001b[39m.\u001b[39m_url\u001b[39m}\u001b[39;00m\u001b[39m{\u001b[39;00mpath\u001b[39m}\u001b[39;00m\u001b[39m\"\u001b[39m\n\u001b[1;32m--> <a href='file:///c%3A/Users/User/Documents/DataScience_Platzi/09_DataEngineer/WebScraping/venv/lib/site-packages/selenium/webdriver/remote/remote_connection.py?line=420'>421</a>\u001b[0m \u001b[39mreturn\u001b[39;00m \u001b[39mself\u001b[39;49m\u001b[39m.\u001b[39;49m_request(command_info[\u001b[39m0\u001b[39;49m], url, body\u001b[39m=\u001b[39;49mdata)\n",
      "File \u001b[1;32mc:\\Users\\User\\Documents\\DataScience_Platzi\\09_DataEngineer\\WebScraping\\venv\\lib\\site-packages\\selenium\\webdriver\\remote\\remote_connection.py:443\u001b[0m, in \u001b[0;36mRemoteConnection._request\u001b[1;34m(self, method, url, body)\u001b[0m\n\u001b[0;32m    <a href='file:///c%3A/Users/User/Documents/DataScience_Platzi/09_DataEngineer/WebScraping/venv/lib/site-packages/selenium/webdriver/remote/remote_connection.py?line=439'>440</a>\u001b[0m     body \u001b[39m=\u001b[39m \u001b[39mNone\u001b[39;00m\n\u001b[0;32m    <a href='file:///c%3A/Users/User/Documents/DataScience_Platzi/09_DataEngineer/WebScraping/venv/lib/site-packages/selenium/webdriver/remote/remote_connection.py?line=441'>442</a>\u001b[0m \u001b[39mif\u001b[39;00m \u001b[39mself\u001b[39m\u001b[39m.\u001b[39mkeep_alive:\n\u001b[1;32m--> <a href='file:///c%3A/Users/User/Documents/DataScience_Platzi/09_DataEngineer/WebScraping/venv/lib/site-packages/selenium/webdriver/remote/remote_connection.py?line=442'>443</a>\u001b[0m     resp \u001b[39m=\u001b[39m \u001b[39mself\u001b[39;49m\u001b[39m.\u001b[39;49m_conn\u001b[39m.\u001b[39;49mrequest(method, url, body\u001b[39m=\u001b[39;49mbody, headers\u001b[39m=\u001b[39;49mheaders)\n\u001b[0;32m    <a href='file:///c%3A/Users/User/Documents/DataScience_Platzi/09_DataEngineer/WebScraping/venv/lib/site-packages/selenium/webdriver/remote/remote_connection.py?line=443'>444</a>\u001b[0m     statuscode \u001b[39m=\u001b[39m resp\u001b[39m.\u001b[39mstatus\n\u001b[0;32m    <a href='file:///c%3A/Users/User/Documents/DataScience_Platzi/09_DataEngineer/WebScraping/venv/lib/site-packages/selenium/webdriver/remote/remote_connection.py?line=444'>445</a>\u001b[0m \u001b[39melse\u001b[39;00m:\n",
      "File \u001b[1;32mc:\\Users\\User\\Documents\\DataScience_Platzi\\09_DataEngineer\\WebScraping\\venv\\lib\\site-packages\\urllib3\\request.py:78\u001b[0m, in \u001b[0;36mRequestMethods.request\u001b[1;34m(self, method, url, fields, headers, **urlopen_kw)\u001b[0m\n\u001b[0;32m     <a href='file:///c%3A/Users/User/Documents/DataScience_Platzi/09_DataEngineer/WebScraping/venv/lib/site-packages/urllib3/request.py?line=73'>74</a>\u001b[0m     \u001b[39mreturn\u001b[39;00m \u001b[39mself\u001b[39m\u001b[39m.\u001b[39mrequest_encode_url(\n\u001b[0;32m     <a href='file:///c%3A/Users/User/Documents/DataScience_Platzi/09_DataEngineer/WebScraping/venv/lib/site-packages/urllib3/request.py?line=74'>75</a>\u001b[0m         method, url, fields\u001b[39m=\u001b[39mfields, headers\u001b[39m=\u001b[39mheaders, \u001b[39m*\u001b[39m\u001b[39m*\u001b[39murlopen_kw\n\u001b[0;32m     <a href='file:///c%3A/Users/User/Documents/DataScience_Platzi/09_DataEngineer/WebScraping/venv/lib/site-packages/urllib3/request.py?line=75'>76</a>\u001b[0m     )\n\u001b[0;32m     <a href='file:///c%3A/Users/User/Documents/DataScience_Platzi/09_DataEngineer/WebScraping/venv/lib/site-packages/urllib3/request.py?line=76'>77</a>\u001b[0m \u001b[39melse\u001b[39;00m:\n\u001b[1;32m---> <a href='file:///c%3A/Users/User/Documents/DataScience_Platzi/09_DataEngineer/WebScraping/venv/lib/site-packages/urllib3/request.py?line=77'>78</a>\u001b[0m     \u001b[39mreturn\u001b[39;00m \u001b[39mself\u001b[39m\u001b[39m.\u001b[39mrequest_encode_body(\n\u001b[0;32m     <a href='file:///c%3A/Users/User/Documents/DataScience_Platzi/09_DataEngineer/WebScraping/venv/lib/site-packages/urllib3/request.py?line=78'>79</a>\u001b[0m         method, url, fields\u001b[39m=\u001b[39mfields, headers\u001b[39m=\u001b[39mheaders, \u001b[39m*\u001b[39m\u001b[39m*\u001b[39murlopen_kw\n\u001b[0;32m     <a href='file:///c%3A/Users/User/Documents/DataScience_Platzi/09_DataEngineer/WebScraping/venv/lib/site-packages/urllib3/request.py?line=79'>80</a>\u001b[0m     )\n",
      "File \u001b[1;32mc:\\Users\\User\\Documents\\DataScience_Platzi\\09_DataEngineer\\WebScraping\\venv\\lib\\site-packages\\urllib3\\request.py:170\u001b[0m, in \u001b[0;36mRequestMethods.request_encode_body\u001b[1;34m(self, method, url, fields, headers, encode_multipart, multipart_boundary, **urlopen_kw)\u001b[0m\n\u001b[0;32m    <a href='file:///c%3A/Users/User/Documents/DataScience_Platzi/09_DataEngineer/WebScraping/venv/lib/site-packages/urllib3/request.py?line=166'>167</a>\u001b[0m extra_kw[\u001b[39m\"\u001b[39m\u001b[39mheaders\u001b[39m\u001b[39m\"\u001b[39m]\u001b[39m.\u001b[39mupdate(headers)\n\u001b[0;32m    <a href='file:///c%3A/Users/User/Documents/DataScience_Platzi/09_DataEngineer/WebScraping/venv/lib/site-packages/urllib3/request.py?line=167'>168</a>\u001b[0m extra_kw\u001b[39m.\u001b[39mupdate(urlopen_kw)\n\u001b[1;32m--> <a href='file:///c%3A/Users/User/Documents/DataScience_Platzi/09_DataEngineer/WebScraping/venv/lib/site-packages/urllib3/request.py?line=169'>170</a>\u001b[0m \u001b[39mreturn\u001b[39;00m \u001b[39mself\u001b[39m\u001b[39m.\u001b[39murlopen(method, url, \u001b[39m*\u001b[39m\u001b[39m*\u001b[39mextra_kw)\n",
      "File \u001b[1;32mc:\\Users\\User\\Documents\\DataScience_Platzi\\09_DataEngineer\\WebScraping\\venv\\lib\\site-packages\\urllib3\\poolmanager.py:375\u001b[0m, in \u001b[0;36mPoolManager.urlopen\u001b[1;34m(self, method, url, redirect, **kw)\u001b[0m\n\u001b[0;32m    <a href='file:///c%3A/Users/User/Documents/DataScience_Platzi/09_DataEngineer/WebScraping/venv/lib/site-packages/urllib3/poolmanager.py?line=372'>373</a>\u001b[0m     response \u001b[39m=\u001b[39m conn\u001b[39m.\u001b[39murlopen(method, url, \u001b[39m*\u001b[39m\u001b[39m*\u001b[39mkw)\n\u001b[0;32m    <a href='file:///c%3A/Users/User/Documents/DataScience_Platzi/09_DataEngineer/WebScraping/venv/lib/site-packages/urllib3/poolmanager.py?line=373'>374</a>\u001b[0m \u001b[39melse\u001b[39;00m:\n\u001b[1;32m--> <a href='file:///c%3A/Users/User/Documents/DataScience_Platzi/09_DataEngineer/WebScraping/venv/lib/site-packages/urllib3/poolmanager.py?line=374'>375</a>\u001b[0m     response \u001b[39m=\u001b[39m conn\u001b[39m.\u001b[39murlopen(method, u\u001b[39m.\u001b[39mrequest_uri, \u001b[39m*\u001b[39m\u001b[39m*\u001b[39mkw)\n\u001b[0;32m    <a href='file:///c%3A/Users/User/Documents/DataScience_Platzi/09_DataEngineer/WebScraping/venv/lib/site-packages/urllib3/poolmanager.py?line=376'>377</a>\u001b[0m redirect_location \u001b[39m=\u001b[39m redirect \u001b[39mand\u001b[39;00m response\u001b[39m.\u001b[39mget_redirect_location()\n\u001b[0;32m    <a href='file:///c%3A/Users/User/Documents/DataScience_Platzi/09_DataEngineer/WebScraping/venv/lib/site-packages/urllib3/poolmanager.py?line=377'>378</a>\u001b[0m \u001b[39mif\u001b[39;00m \u001b[39mnot\u001b[39;00m redirect_location:\n",
      "File \u001b[1;32mc:\\Users\\User\\Documents\\DataScience_Platzi\\09_DataEngineer\\WebScraping\\venv\\lib\\site-packages\\urllib3\\connectionpool.py:813\u001b[0m, in \u001b[0;36mHTTPConnectionPool.urlopen\u001b[1;34m(self, method, url, body, headers, retries, redirect, assert_same_host, timeout, pool_timeout, release_conn, chunked, body_pos, **response_kw)\u001b[0m\n\u001b[0;32m    <a href='file:///c%3A/Users/User/Documents/DataScience_Platzi/09_DataEngineer/WebScraping/venv/lib/site-packages/urllib3/connectionpool.py?line=807'>808</a>\u001b[0m \u001b[39mif\u001b[39;00m \u001b[39mnot\u001b[39;00m conn:\n\u001b[0;32m    <a href='file:///c%3A/Users/User/Documents/DataScience_Platzi/09_DataEngineer/WebScraping/venv/lib/site-packages/urllib3/connectionpool.py?line=808'>809</a>\u001b[0m     \u001b[39m# Try again\u001b[39;00m\n\u001b[0;32m    <a href='file:///c%3A/Users/User/Documents/DataScience_Platzi/09_DataEngineer/WebScraping/venv/lib/site-packages/urllib3/connectionpool.py?line=809'>810</a>\u001b[0m     log\u001b[39m.\u001b[39mwarning(\n\u001b[0;32m    <a href='file:///c%3A/Users/User/Documents/DataScience_Platzi/09_DataEngineer/WebScraping/venv/lib/site-packages/urllib3/connectionpool.py?line=810'>811</a>\u001b[0m         \u001b[39m\"\u001b[39m\u001b[39mRetrying (\u001b[39m\u001b[39m%r\u001b[39;00m\u001b[39m) after connection broken by \u001b[39m\u001b[39m'\u001b[39m\u001b[39m%r\u001b[39;00m\u001b[39m'\u001b[39m\u001b[39m: \u001b[39m\u001b[39m%s\u001b[39;00m\u001b[39m\"\u001b[39m, retries, err, url\n\u001b[0;32m    <a href='file:///c%3A/Users/User/Documents/DataScience_Platzi/09_DataEngineer/WebScraping/venv/lib/site-packages/urllib3/connectionpool.py?line=811'>812</a>\u001b[0m     )\n\u001b[1;32m--> <a href='file:///c%3A/Users/User/Documents/DataScience_Platzi/09_DataEngineer/WebScraping/venv/lib/site-packages/urllib3/connectionpool.py?line=812'>813</a>\u001b[0m     \u001b[39mreturn\u001b[39;00m \u001b[39mself\u001b[39m\u001b[39m.\u001b[39murlopen(\n\u001b[0;32m    <a href='file:///c%3A/Users/User/Documents/DataScience_Platzi/09_DataEngineer/WebScraping/venv/lib/site-packages/urllib3/connectionpool.py?line=813'>814</a>\u001b[0m         method,\n\u001b[0;32m    <a href='file:///c%3A/Users/User/Documents/DataScience_Platzi/09_DataEngineer/WebScraping/venv/lib/site-packages/urllib3/connectionpool.py?line=814'>815</a>\u001b[0m         url,\n\u001b[0;32m    <a href='file:///c%3A/Users/User/Documents/DataScience_Platzi/09_DataEngineer/WebScraping/venv/lib/site-packages/urllib3/connectionpool.py?line=815'>816</a>\u001b[0m         body,\n\u001b[0;32m    <a href='file:///c%3A/Users/User/Documents/DataScience_Platzi/09_DataEngineer/WebScraping/venv/lib/site-packages/urllib3/connectionpool.py?line=816'>817</a>\u001b[0m         headers,\n\u001b[0;32m    <a href='file:///c%3A/Users/User/Documents/DataScience_Platzi/09_DataEngineer/WebScraping/venv/lib/site-packages/urllib3/connectionpool.py?line=817'>818</a>\u001b[0m         retries,\n\u001b[0;32m    <a href='file:///c%3A/Users/User/Documents/DataScience_Platzi/09_DataEngineer/WebScraping/venv/lib/site-packages/urllib3/connectionpool.py?line=818'>819</a>\u001b[0m         redirect,\n\u001b[0;32m    <a href='file:///c%3A/Users/User/Documents/DataScience_Platzi/09_DataEngineer/WebScraping/venv/lib/site-packages/urllib3/connectionpool.py?line=819'>820</a>\u001b[0m         assert_same_host,\n\u001b[0;32m    <a href='file:///c%3A/Users/User/Documents/DataScience_Platzi/09_DataEngineer/WebScraping/venv/lib/site-packages/urllib3/connectionpool.py?line=820'>821</a>\u001b[0m         timeout\u001b[39m=\u001b[39mtimeout,\n\u001b[0;32m    <a href='file:///c%3A/Users/User/Documents/DataScience_Platzi/09_DataEngineer/WebScraping/venv/lib/site-packages/urllib3/connectionpool.py?line=821'>822</a>\u001b[0m         pool_timeout\u001b[39m=\u001b[39mpool_timeout,\n\u001b[0;32m    <a href='file:///c%3A/Users/User/Documents/DataScience_Platzi/09_DataEngineer/WebScraping/venv/lib/site-packages/urllib3/connectionpool.py?line=822'>823</a>\u001b[0m         release_conn\u001b[39m=\u001b[39mrelease_conn,\n\u001b[0;32m    <a href='file:///c%3A/Users/User/Documents/DataScience_Platzi/09_DataEngineer/WebScraping/venv/lib/site-packages/urllib3/connectionpool.py?line=823'>824</a>\u001b[0m         chunked\u001b[39m=\u001b[39mchunked,\n\u001b[0;32m    <a href='file:///c%3A/Users/User/Documents/DataScience_Platzi/09_DataEngineer/WebScraping/venv/lib/site-packages/urllib3/connectionpool.py?line=824'>825</a>\u001b[0m         body_pos\u001b[39m=\u001b[39mbody_pos,\n\u001b[0;32m    <a href='file:///c%3A/Users/User/Documents/DataScience_Platzi/09_DataEngineer/WebScraping/venv/lib/site-packages/urllib3/connectionpool.py?line=825'>826</a>\u001b[0m         \u001b[39m*\u001b[39m\u001b[39m*\u001b[39mresponse_kw\n\u001b[0;32m    <a href='file:///c%3A/Users/User/Documents/DataScience_Platzi/09_DataEngineer/WebScraping/venv/lib/site-packages/urllib3/connectionpool.py?line=826'>827</a>\u001b[0m     )\n\u001b[0;32m    <a href='file:///c%3A/Users/User/Documents/DataScience_Platzi/09_DataEngineer/WebScraping/venv/lib/site-packages/urllib3/connectionpool.py?line=828'>829</a>\u001b[0m \u001b[39m# Handle redirect?\u001b[39;00m\n\u001b[0;32m    <a href='file:///c%3A/Users/User/Documents/DataScience_Platzi/09_DataEngineer/WebScraping/venv/lib/site-packages/urllib3/connectionpool.py?line=829'>830</a>\u001b[0m redirect_location \u001b[39m=\u001b[39m redirect \u001b[39mand\u001b[39;00m response\u001b[39m.\u001b[39mget_redirect_location()\n",
      "File \u001b[1;32mc:\\Users\\User\\Documents\\DataScience_Platzi\\09_DataEngineer\\WebScraping\\venv\\lib\\site-packages\\urllib3\\connectionpool.py:813\u001b[0m, in \u001b[0;36mHTTPConnectionPool.urlopen\u001b[1;34m(self, method, url, body, headers, retries, redirect, assert_same_host, timeout, pool_timeout, release_conn, chunked, body_pos, **response_kw)\u001b[0m\n\u001b[0;32m    <a href='file:///c%3A/Users/User/Documents/DataScience_Platzi/09_DataEngineer/WebScraping/venv/lib/site-packages/urllib3/connectionpool.py?line=807'>808</a>\u001b[0m \u001b[39mif\u001b[39;00m \u001b[39mnot\u001b[39;00m conn:\n\u001b[0;32m    <a href='file:///c%3A/Users/User/Documents/DataScience_Platzi/09_DataEngineer/WebScraping/venv/lib/site-packages/urllib3/connectionpool.py?line=808'>809</a>\u001b[0m     \u001b[39m# Try again\u001b[39;00m\n\u001b[0;32m    <a href='file:///c%3A/Users/User/Documents/DataScience_Platzi/09_DataEngineer/WebScraping/venv/lib/site-packages/urllib3/connectionpool.py?line=809'>810</a>\u001b[0m     log\u001b[39m.\u001b[39mwarning(\n\u001b[0;32m    <a href='file:///c%3A/Users/User/Documents/DataScience_Platzi/09_DataEngineer/WebScraping/venv/lib/site-packages/urllib3/connectionpool.py?line=810'>811</a>\u001b[0m         \u001b[39m\"\u001b[39m\u001b[39mRetrying (\u001b[39m\u001b[39m%r\u001b[39;00m\u001b[39m) after connection broken by \u001b[39m\u001b[39m'\u001b[39m\u001b[39m%r\u001b[39;00m\u001b[39m'\u001b[39m\u001b[39m: \u001b[39m\u001b[39m%s\u001b[39;00m\u001b[39m\"\u001b[39m, retries, err, url\n\u001b[0;32m    <a href='file:///c%3A/Users/User/Documents/DataScience_Platzi/09_DataEngineer/WebScraping/venv/lib/site-packages/urllib3/connectionpool.py?line=811'>812</a>\u001b[0m     )\n\u001b[1;32m--> <a href='file:///c%3A/Users/User/Documents/DataScience_Platzi/09_DataEngineer/WebScraping/venv/lib/site-packages/urllib3/connectionpool.py?line=812'>813</a>\u001b[0m     \u001b[39mreturn\u001b[39;00m \u001b[39mself\u001b[39m\u001b[39m.\u001b[39murlopen(\n\u001b[0;32m    <a href='file:///c%3A/Users/User/Documents/DataScience_Platzi/09_DataEngineer/WebScraping/venv/lib/site-packages/urllib3/connectionpool.py?line=813'>814</a>\u001b[0m         method,\n\u001b[0;32m    <a href='file:///c%3A/Users/User/Documents/DataScience_Platzi/09_DataEngineer/WebScraping/venv/lib/site-packages/urllib3/connectionpool.py?line=814'>815</a>\u001b[0m         url,\n\u001b[0;32m    <a href='file:///c%3A/Users/User/Documents/DataScience_Platzi/09_DataEngineer/WebScraping/venv/lib/site-packages/urllib3/connectionpool.py?line=815'>816</a>\u001b[0m         body,\n\u001b[0;32m    <a href='file:///c%3A/Users/User/Documents/DataScience_Platzi/09_DataEngineer/WebScraping/venv/lib/site-packages/urllib3/connectionpool.py?line=816'>817</a>\u001b[0m         headers,\n\u001b[0;32m    <a href='file:///c%3A/Users/User/Documents/DataScience_Platzi/09_DataEngineer/WebScraping/venv/lib/site-packages/urllib3/connectionpool.py?line=817'>818</a>\u001b[0m         retries,\n\u001b[0;32m    <a href='file:///c%3A/Users/User/Documents/DataScience_Platzi/09_DataEngineer/WebScraping/venv/lib/site-packages/urllib3/connectionpool.py?line=818'>819</a>\u001b[0m         redirect,\n\u001b[0;32m    <a href='file:///c%3A/Users/User/Documents/DataScience_Platzi/09_DataEngineer/WebScraping/venv/lib/site-packages/urllib3/connectionpool.py?line=819'>820</a>\u001b[0m         assert_same_host,\n\u001b[0;32m    <a href='file:///c%3A/Users/User/Documents/DataScience_Platzi/09_DataEngineer/WebScraping/venv/lib/site-packages/urllib3/connectionpool.py?line=820'>821</a>\u001b[0m         timeout\u001b[39m=\u001b[39mtimeout,\n\u001b[0;32m    <a href='file:///c%3A/Users/User/Documents/DataScience_Platzi/09_DataEngineer/WebScraping/venv/lib/site-packages/urllib3/connectionpool.py?line=821'>822</a>\u001b[0m         pool_timeout\u001b[39m=\u001b[39mpool_timeout,\n\u001b[0;32m    <a href='file:///c%3A/Users/User/Documents/DataScience_Platzi/09_DataEngineer/WebScraping/venv/lib/site-packages/urllib3/connectionpool.py?line=822'>823</a>\u001b[0m         release_conn\u001b[39m=\u001b[39mrelease_conn,\n\u001b[0;32m    <a href='file:///c%3A/Users/User/Documents/DataScience_Platzi/09_DataEngineer/WebScraping/venv/lib/site-packages/urllib3/connectionpool.py?line=823'>824</a>\u001b[0m         chunked\u001b[39m=\u001b[39mchunked,\n\u001b[0;32m    <a href='file:///c%3A/Users/User/Documents/DataScience_Platzi/09_DataEngineer/WebScraping/venv/lib/site-packages/urllib3/connectionpool.py?line=824'>825</a>\u001b[0m         body_pos\u001b[39m=\u001b[39mbody_pos,\n\u001b[0;32m    <a href='file:///c%3A/Users/User/Documents/DataScience_Platzi/09_DataEngineer/WebScraping/venv/lib/site-packages/urllib3/connectionpool.py?line=825'>826</a>\u001b[0m         \u001b[39m*\u001b[39m\u001b[39m*\u001b[39mresponse_kw\n\u001b[0;32m    <a href='file:///c%3A/Users/User/Documents/DataScience_Platzi/09_DataEngineer/WebScraping/venv/lib/site-packages/urllib3/connectionpool.py?line=826'>827</a>\u001b[0m     )\n\u001b[0;32m    <a href='file:///c%3A/Users/User/Documents/DataScience_Platzi/09_DataEngineer/WebScraping/venv/lib/site-packages/urllib3/connectionpool.py?line=828'>829</a>\u001b[0m \u001b[39m# Handle redirect?\u001b[39;00m\n\u001b[0;32m    <a href='file:///c%3A/Users/User/Documents/DataScience_Platzi/09_DataEngineer/WebScraping/venv/lib/site-packages/urllib3/connectionpool.py?line=829'>830</a>\u001b[0m redirect_location \u001b[39m=\u001b[39m redirect \u001b[39mand\u001b[39;00m response\u001b[39m.\u001b[39mget_redirect_location()\n",
      "File \u001b[1;32mc:\\Users\\User\\Documents\\DataScience_Platzi\\09_DataEngineer\\WebScraping\\venv\\lib\\site-packages\\urllib3\\connectionpool.py:813\u001b[0m, in \u001b[0;36mHTTPConnectionPool.urlopen\u001b[1;34m(self, method, url, body, headers, retries, redirect, assert_same_host, timeout, pool_timeout, release_conn, chunked, body_pos, **response_kw)\u001b[0m\n\u001b[0;32m    <a href='file:///c%3A/Users/User/Documents/DataScience_Platzi/09_DataEngineer/WebScraping/venv/lib/site-packages/urllib3/connectionpool.py?line=807'>808</a>\u001b[0m \u001b[39mif\u001b[39;00m \u001b[39mnot\u001b[39;00m conn:\n\u001b[0;32m    <a href='file:///c%3A/Users/User/Documents/DataScience_Platzi/09_DataEngineer/WebScraping/venv/lib/site-packages/urllib3/connectionpool.py?line=808'>809</a>\u001b[0m     \u001b[39m# Try again\u001b[39;00m\n\u001b[0;32m    <a href='file:///c%3A/Users/User/Documents/DataScience_Platzi/09_DataEngineer/WebScraping/venv/lib/site-packages/urllib3/connectionpool.py?line=809'>810</a>\u001b[0m     log\u001b[39m.\u001b[39mwarning(\n\u001b[0;32m    <a href='file:///c%3A/Users/User/Documents/DataScience_Platzi/09_DataEngineer/WebScraping/venv/lib/site-packages/urllib3/connectionpool.py?line=810'>811</a>\u001b[0m         \u001b[39m\"\u001b[39m\u001b[39mRetrying (\u001b[39m\u001b[39m%r\u001b[39;00m\u001b[39m) after connection broken by \u001b[39m\u001b[39m'\u001b[39m\u001b[39m%r\u001b[39;00m\u001b[39m'\u001b[39m\u001b[39m: \u001b[39m\u001b[39m%s\u001b[39;00m\u001b[39m\"\u001b[39m, retries, err, url\n\u001b[0;32m    <a href='file:///c%3A/Users/User/Documents/DataScience_Platzi/09_DataEngineer/WebScraping/venv/lib/site-packages/urllib3/connectionpool.py?line=811'>812</a>\u001b[0m     )\n\u001b[1;32m--> <a href='file:///c%3A/Users/User/Documents/DataScience_Platzi/09_DataEngineer/WebScraping/venv/lib/site-packages/urllib3/connectionpool.py?line=812'>813</a>\u001b[0m     \u001b[39mreturn\u001b[39;00m \u001b[39mself\u001b[39m\u001b[39m.\u001b[39murlopen(\n\u001b[0;32m    <a href='file:///c%3A/Users/User/Documents/DataScience_Platzi/09_DataEngineer/WebScraping/venv/lib/site-packages/urllib3/connectionpool.py?line=813'>814</a>\u001b[0m         method,\n\u001b[0;32m    <a href='file:///c%3A/Users/User/Documents/DataScience_Platzi/09_DataEngineer/WebScraping/venv/lib/site-packages/urllib3/connectionpool.py?line=814'>815</a>\u001b[0m         url,\n\u001b[0;32m    <a href='file:///c%3A/Users/User/Documents/DataScience_Platzi/09_DataEngineer/WebScraping/venv/lib/site-packages/urllib3/connectionpool.py?line=815'>816</a>\u001b[0m         body,\n\u001b[0;32m    <a href='file:///c%3A/Users/User/Documents/DataScience_Platzi/09_DataEngineer/WebScraping/venv/lib/site-packages/urllib3/connectionpool.py?line=816'>817</a>\u001b[0m         headers,\n\u001b[0;32m    <a href='file:///c%3A/Users/User/Documents/DataScience_Platzi/09_DataEngineer/WebScraping/venv/lib/site-packages/urllib3/connectionpool.py?line=817'>818</a>\u001b[0m         retries,\n\u001b[0;32m    <a href='file:///c%3A/Users/User/Documents/DataScience_Platzi/09_DataEngineer/WebScraping/venv/lib/site-packages/urllib3/connectionpool.py?line=818'>819</a>\u001b[0m         redirect,\n\u001b[0;32m    <a href='file:///c%3A/Users/User/Documents/DataScience_Platzi/09_DataEngineer/WebScraping/venv/lib/site-packages/urllib3/connectionpool.py?line=819'>820</a>\u001b[0m         assert_same_host,\n\u001b[0;32m    <a href='file:///c%3A/Users/User/Documents/DataScience_Platzi/09_DataEngineer/WebScraping/venv/lib/site-packages/urllib3/connectionpool.py?line=820'>821</a>\u001b[0m         timeout\u001b[39m=\u001b[39mtimeout,\n\u001b[0;32m    <a href='file:///c%3A/Users/User/Documents/DataScience_Platzi/09_DataEngineer/WebScraping/venv/lib/site-packages/urllib3/connectionpool.py?line=821'>822</a>\u001b[0m         pool_timeout\u001b[39m=\u001b[39mpool_timeout,\n\u001b[0;32m    <a href='file:///c%3A/Users/User/Documents/DataScience_Platzi/09_DataEngineer/WebScraping/venv/lib/site-packages/urllib3/connectionpool.py?line=822'>823</a>\u001b[0m         release_conn\u001b[39m=\u001b[39mrelease_conn,\n\u001b[0;32m    <a href='file:///c%3A/Users/User/Documents/DataScience_Platzi/09_DataEngineer/WebScraping/venv/lib/site-packages/urllib3/connectionpool.py?line=823'>824</a>\u001b[0m         chunked\u001b[39m=\u001b[39mchunked,\n\u001b[0;32m    <a href='file:///c%3A/Users/User/Documents/DataScience_Platzi/09_DataEngineer/WebScraping/venv/lib/site-packages/urllib3/connectionpool.py?line=824'>825</a>\u001b[0m         body_pos\u001b[39m=\u001b[39mbody_pos,\n\u001b[0;32m    <a href='file:///c%3A/Users/User/Documents/DataScience_Platzi/09_DataEngineer/WebScraping/venv/lib/site-packages/urllib3/connectionpool.py?line=825'>826</a>\u001b[0m         \u001b[39m*\u001b[39m\u001b[39m*\u001b[39mresponse_kw\n\u001b[0;32m    <a href='file:///c%3A/Users/User/Documents/DataScience_Platzi/09_DataEngineer/WebScraping/venv/lib/site-packages/urllib3/connectionpool.py?line=826'>827</a>\u001b[0m     )\n\u001b[0;32m    <a href='file:///c%3A/Users/User/Documents/DataScience_Platzi/09_DataEngineer/WebScraping/venv/lib/site-packages/urllib3/connectionpool.py?line=828'>829</a>\u001b[0m \u001b[39m# Handle redirect?\u001b[39;00m\n\u001b[0;32m    <a href='file:///c%3A/Users/User/Documents/DataScience_Platzi/09_DataEngineer/WebScraping/venv/lib/site-packages/urllib3/connectionpool.py?line=829'>830</a>\u001b[0m redirect_location \u001b[39m=\u001b[39m redirect \u001b[39mand\u001b[39;00m response\u001b[39m.\u001b[39mget_redirect_location()\n",
      "File \u001b[1;32mc:\\Users\\User\\Documents\\DataScience_Platzi\\09_DataEngineer\\WebScraping\\venv\\lib\\site-packages\\urllib3\\connectionpool.py:785\u001b[0m, in \u001b[0;36mHTTPConnectionPool.urlopen\u001b[1;34m(self, method, url, body, headers, retries, redirect, assert_same_host, timeout, pool_timeout, release_conn, chunked, body_pos, **response_kw)\u001b[0m\n\u001b[0;32m    <a href='file:///c%3A/Users/User/Documents/DataScience_Platzi/09_DataEngineer/WebScraping/venv/lib/site-packages/urllib3/connectionpool.py?line=781'>782</a>\u001b[0m \u001b[39melif\u001b[39;00m \u001b[39misinstance\u001b[39m(e, (SocketError, HTTPException)):\n\u001b[0;32m    <a href='file:///c%3A/Users/User/Documents/DataScience_Platzi/09_DataEngineer/WebScraping/venv/lib/site-packages/urllib3/connectionpool.py?line=782'>783</a>\u001b[0m     e \u001b[39m=\u001b[39m ProtocolError(\u001b[39m\"\u001b[39m\u001b[39mConnection aborted.\u001b[39m\u001b[39m\"\u001b[39m, e)\n\u001b[1;32m--> <a href='file:///c%3A/Users/User/Documents/DataScience_Platzi/09_DataEngineer/WebScraping/venv/lib/site-packages/urllib3/connectionpool.py?line=784'>785</a>\u001b[0m retries \u001b[39m=\u001b[39m retries\u001b[39m.\u001b[39;49mincrement(\n\u001b[0;32m    <a href='file:///c%3A/Users/User/Documents/DataScience_Platzi/09_DataEngineer/WebScraping/venv/lib/site-packages/urllib3/connectionpool.py?line=785'>786</a>\u001b[0m     method, url, error\u001b[39m=\u001b[39;49me, _pool\u001b[39m=\u001b[39;49m\u001b[39mself\u001b[39;49m, _stacktrace\u001b[39m=\u001b[39;49msys\u001b[39m.\u001b[39;49mexc_info()[\u001b[39m2\u001b[39;49m]\n\u001b[0;32m    <a href='file:///c%3A/Users/User/Documents/DataScience_Platzi/09_DataEngineer/WebScraping/venv/lib/site-packages/urllib3/connectionpool.py?line=786'>787</a>\u001b[0m )\n\u001b[0;32m    <a href='file:///c%3A/Users/User/Documents/DataScience_Platzi/09_DataEngineer/WebScraping/venv/lib/site-packages/urllib3/connectionpool.py?line=787'>788</a>\u001b[0m retries\u001b[39m.\u001b[39msleep()\n\u001b[0;32m    <a href='file:///c%3A/Users/User/Documents/DataScience_Platzi/09_DataEngineer/WebScraping/venv/lib/site-packages/urllib3/connectionpool.py?line=789'>790</a>\u001b[0m \u001b[39m# Keep track of the error for the retry warning.\u001b[39;00m\n",
      "File \u001b[1;32mc:\\Users\\User\\Documents\\DataScience_Platzi\\09_DataEngineer\\WebScraping\\venv\\lib\\site-packages\\urllib3\\util\\retry.py:592\u001b[0m, in \u001b[0;36mRetry.increment\u001b[1;34m(self, method, url, response, error, _pool, _stacktrace)\u001b[0m\n\u001b[0;32m    <a href='file:///c%3A/Users/User/Documents/DataScience_Platzi/09_DataEngineer/WebScraping/venv/lib/site-packages/urllib3/util/retry.py?line=580'>581</a>\u001b[0m new_retry \u001b[39m=\u001b[39m \u001b[39mself\u001b[39m\u001b[39m.\u001b[39mnew(\n\u001b[0;32m    <a href='file:///c%3A/Users/User/Documents/DataScience_Platzi/09_DataEngineer/WebScraping/venv/lib/site-packages/urllib3/util/retry.py?line=581'>582</a>\u001b[0m     total\u001b[39m=\u001b[39mtotal,\n\u001b[0;32m    <a href='file:///c%3A/Users/User/Documents/DataScience_Platzi/09_DataEngineer/WebScraping/venv/lib/site-packages/urllib3/util/retry.py?line=582'>583</a>\u001b[0m     connect\u001b[39m=\u001b[39mconnect,\n\u001b[1;32m   (...)\u001b[0m\n\u001b[0;32m    <a href='file:///c%3A/Users/User/Documents/DataScience_Platzi/09_DataEngineer/WebScraping/venv/lib/site-packages/urllib3/util/retry.py?line=587'>588</a>\u001b[0m     history\u001b[39m=\u001b[39mhistory,\n\u001b[0;32m    <a href='file:///c%3A/Users/User/Documents/DataScience_Platzi/09_DataEngineer/WebScraping/venv/lib/site-packages/urllib3/util/retry.py?line=588'>589</a>\u001b[0m )\n\u001b[0;32m    <a href='file:///c%3A/Users/User/Documents/DataScience_Platzi/09_DataEngineer/WebScraping/venv/lib/site-packages/urllib3/util/retry.py?line=590'>591</a>\u001b[0m \u001b[39mif\u001b[39;00m new_retry\u001b[39m.\u001b[39mis_exhausted():\n\u001b[1;32m--> <a href='file:///c%3A/Users/User/Documents/DataScience_Platzi/09_DataEngineer/WebScraping/venv/lib/site-packages/urllib3/util/retry.py?line=591'>592</a>\u001b[0m     \u001b[39mraise\u001b[39;00m MaxRetryError(_pool, url, error \u001b[39mor\u001b[39;00m ResponseError(cause))\n\u001b[0;32m    <a href='file:///c%3A/Users/User/Documents/DataScience_Platzi/09_DataEngineer/WebScraping/venv/lib/site-packages/urllib3/util/retry.py?line=593'>594</a>\u001b[0m log\u001b[39m.\u001b[39mdebug(\u001b[39m\"\u001b[39m\u001b[39mIncremented Retry for (url=\u001b[39m\u001b[39m'\u001b[39m\u001b[39m%s\u001b[39;00m\u001b[39m'\u001b[39m\u001b[39m): \u001b[39m\u001b[39m%r\u001b[39;00m\u001b[39m\"\u001b[39m, url, new_retry)\n\u001b[0;32m    <a href='file:///c%3A/Users/User/Documents/DataScience_Platzi/09_DataEngineer/WebScraping/venv/lib/site-packages/urllib3/util/retry.py?line=595'>596</a>\u001b[0m \u001b[39mreturn\u001b[39;00m new_retry\n",
      "\u001b[1;31mMaxRetryError\u001b[0m: HTTPConnectionPool(host='localhost', port=61538): Max retries exceeded with url: /session/fb169891e5f6f6fc9cf09e0abf4b6f27/timeouts (Caused by NewConnectionError('<urllib3.connection.HTTPConnection object at 0x00000193589A70A0>: Failed to establish a new connection: [WinError 10061] No se puede establecer una conexión ya que el equipo de destino denegó expresamente dicha conexión'))"
     ]
    }
   ],
   "source": [
    "driver.implicitly_wait(10)"
   ]
  }
 ],
 "metadata": {
  "interpreter": {
   "hash": "b61c6ad8126c173412d8a6cd9b0705d522f0e34fb3512356ee796a2f13e2df7b"
  },
  "kernelspec": {
   "display_name": "Python 3.9.6 64-bit ('venv': venv)",
   "language": "python",
   "name": "python3"
  },
  "language_info": {
   "codemirror_mode": {
    "name": "ipython",
    "version": 3
   },
   "file_extension": ".py",
   "mimetype": "text/x-python",
   "name": "python",
   "nbconvert_exporter": "python",
   "pygments_lexer": "ipython3",
   "version": "3.9.6"
  },
  "orig_nbformat": 4
 },
 "nbformat": 4,
 "nbformat_minor": 2
}
