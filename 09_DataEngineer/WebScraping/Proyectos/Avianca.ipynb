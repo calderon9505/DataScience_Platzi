{
 "cells": [
  {
   "cell_type": "markdown",
   "metadata": {},
   "source": [
    "# Avianca"
   ]
  },
  {
   "cell_type": "code",
   "execution_count": 11,
   "metadata": {},
   "outputs": [],
   "source": [
    "from selenium import webdriver\n",
    "from selenium.webdriver.common.by import By\n",
    "from selenium.webdriver.common.keys import Keys\n",
    "from selenium.common.exceptions import ElementNotInteractableException\n",
    "\n",
    "import time"
   ]
  },
  {
   "cell_type": "code",
   "execution_count": 12,
   "metadata": {},
   "outputs": [],
   "source": [
    "options = webdriver.ChromeOptions()\n",
    "options.add_argument('--incognito')"
   ]
  },
  {
   "cell_type": "code",
   "execution_count": 13,
   "metadata": {},
   "outputs": [],
   "source": [
    "driver = webdriver.Chrome(executable_path='chromedriver', options=options)\n",
    "# Driver en la misma carpeta del script."
   ]
  },
  {
   "cell_type": "code",
   "execution_count": 14,
   "metadata": {},
   "outputs": [],
   "source": [
    "url = 'https://www.avianca.com/co/es/'\n",
    "driver.get(url)\n",
    "driver.maximize_window()"
   ]
  },
  {
   "cell_type": "code",
   "execution_count": 15,
   "metadata": {},
   "outputs": [],
   "source": [
    "desde = 'Bucaramanga'\n",
    "hacia = 'Bogota'\n",
    "fecha_de_ida = '2022.3.1' #AAAA.M.D\n",
    "\n",
    "button_solo_ida = '//input[@id=\"radioSoloIda\" and @name=\"radioTipoVueloTD\"]/following-sibling::span'\n",
    "box_desde = '//input[contains(@class,\"form-control airport pbOrigen airport_ida airport_mvvn\")]'\n",
    "box_hacia = '//input[contains(@class,\"form-control airport pbDestino airport_regreso airport_mvvn\")]'\n",
    "box_fecha_de_ida = '//input[contains(@class,\"form-control solo-ida x-mvvm\")]'\n",
    "button_fecha_de_ida = '//div[@data-day=\"' + fecha_de_ida + '\"]'\n",
    "button_buscar = '//button[@class=\"btn primary btn-codepromo pull-btn rojo\"]'\n"
   ]
  },
  {
   "cell_type": "code",
   "execution_count": 16,
   "metadata": {},
   "outputs": [],
   "source": [
    "driver.find_element(By.XPATH, button_solo_ida).click()\n",
    "time.sleep(1)"
   ]
  },
  {
   "cell_type": "code",
   "execution_count": 17,
   "metadata": {},
   "outputs": [
    {
     "name": "stdout",
     "output_type": "stream",
     "text": [
      "DESDE: ElementNotInteractableException\n",
      "DESDE: ElementNotInteractableException\n",
      "DESDE: Success\n"
     ]
    }
   ],
   "source": [
    "# elements_desde = driver.find_elements(By.XPATH, box_desde)[2].send_keys(desde, Keys.DOWN, Keys.ENTER)\n",
    "elements_desde = driver.find_elements(By.XPATH, box_desde)\n",
    "for element in elements_desde:\n",
    "    try:\n",
    "        element.send_keys(desde)\n",
    "        time.sleep(1)\n",
    "        element.send_keys(Keys.DOWN)\n",
    "        time.sleep(1)\n",
    "        element.send_keys(Keys.ENTER)\n",
    "        time.sleep(1)\n",
    "        print('DESDE: Success')\n",
    "    except ElementNotInteractableException:\n",
    "        print('DESDE: ElementNotInteractableException')\n",
    "        time.sleep(1)"
   ]
  },
  {
   "cell_type": "code",
   "execution_count": 18,
   "metadata": {},
   "outputs": [
    {
     "name": "stdout",
     "output_type": "stream",
     "text": [
      "DESDE: ElementNotInteractableException\n",
      "DESDE: ElementNotInteractableException\n",
      "DESDE: Success\n"
     ]
    }
   ],
   "source": [
    "# driver.find_elements(By.XPATH, box_hacia)[2].send_keys(hacia, Keys.DOWN, Keys.ENTER)\n",
    "elements_hacia = driver.find_elements(By.XPATH, box_hacia)\n",
    "for element in elements_hacia:\n",
    "    try:\n",
    "        element.send_keys(hacia)\n",
    "        time.sleep(1)\n",
    "        element.send_keys(Keys.DOWN)\n",
    "        time.sleep(1)\n",
    "        element.send_keys(Keys.ENTER)\n",
    "        time.sleep(1)\n",
    "        print('DESDE: Success')\n",
    "    except ElementNotInteractableException:\n",
    "        print('DESDE: ElementNotInteractableException')\n",
    "        time.sleep(1)"
   ]
  },
  {
   "cell_type": "code",
   "execution_count": 19,
   "metadata": {},
   "outputs": [
    {
     "name": "stdout",
     "output_type": "stream",
     "text": [
      "FECHA_DE_IDA: ElementNotInteractableException\n",
      "FECHA_DE_IDA: ElementNotInteractableException\n",
      "FECHA_DE_IDA: Success\n"
     ]
    }
   ],
   "source": [
    "driver.find_elements(By.XPATH, box_fecha_de_ida)[0].click()\n",
    "elements_fecha_de_ida = driver.find_elements(By.XPATH, button_fecha_de_ida)\n",
    "for element in elements_fecha_de_ida:\n",
    "    try:\n",
    "        element.click()\n",
    "        print('FECHA_DE_IDA: Success')\n",
    "    except ElementNotInteractableException:\n",
    "        print('FECHA_DE_IDA: ElementNotInteractableException')\n",
    "        time.sleep(1)"
   ]
  },
  {
   "cell_type": "code",
   "execution_count": 20,
   "metadata": {},
   "outputs": [],
   "source": [
    "driver.find_elements(By.XPATH, button_buscar)[1].click()\n",
    "time.sleep(1)"
   ]
  },
  {
   "cell_type": "markdown",
   "metadata": {},
   "source": [
    "---\n",
    "\n",
    "La página de Avianca me detectaba como un robot, por lo que no pude continuar\n",
    "\n",
    "---"
   ]
  }
 ],
 "metadata": {
  "interpreter": {
   "hash": "b61c6ad8126c173412d8a6cd9b0705d522f0e34fb3512356ee796a2f13e2df7b"
  },
  "kernelspec": {
   "display_name": "Python 3.9.6 64-bit ('venv': venv)",
   "language": "python",
   "name": "python3"
  },
  "language_info": {
   "codemirror_mode": {
    "name": "ipython",
    "version": 3
   },
   "file_extension": ".py",
   "mimetype": "text/x-python",
   "name": "python",
   "nbconvert_exporter": "python",
   "pygments_lexer": "ipython3",
   "version": "3.9.6"
  },
  "orig_nbformat": 4
 },
 "nbformat": 4,
 "nbformat_minor": 2
}
