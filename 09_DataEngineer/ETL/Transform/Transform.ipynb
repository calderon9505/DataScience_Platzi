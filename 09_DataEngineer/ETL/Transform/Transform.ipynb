{
 "cells": [
  {
   "cell_type": "markdown",
   "metadata": {},
   "source": [
    "# Data wragling\n",
    "\n",
    "Limpiar, transformar (unificar, consolidar, normalizar ...) y enriquecer el dataset para objetivos posteriores."
   ]
  },
  {
   "cell_type": "code",
   "execution_count": 53,
   "metadata": {},
   "outputs": [],
   "source": [
    "import pandas as pd"
   ]
  },
  {
   "cell_type": "code",
   "execution_count": 54,
   "metadata": {},
   "outputs": [
    {
     "data": {
      "text/html": [
       "<div>\n",
       "<style scoped>\n",
       "    .dataframe tbody tr th:only-of-type {\n",
       "        vertical-align: middle;\n",
       "    }\n",
       "\n",
       "    .dataframe tbody tr th {\n",
       "        vertical-align: top;\n",
       "    }\n",
       "\n",
       "    .dataframe thead th {\n",
       "        text-align: right;\n",
       "    }\n",
       "</style>\n",
       "<table border=\"1\" class=\"dataframe\">\n",
       "  <thead>\n",
       "    <tr style=\"text-align: right;\">\n",
       "      <th></th>\n",
       "      <th>body</th>\n",
       "      <th>title</th>\n",
       "      <th>url</th>\n",
       "    </tr>\n",
       "  </thead>\n",
       "  <tbody>\n",
       "    <tr>\n",
       "      <th>0</th>\n",
       "      <td>Luis Fernando Sánchez lleva 15 años liderando ...</td>\n",
       "      <td>[Video] Luis Fernando, el hombre que sueña con...</td>\n",
       "      <td>https://www.eluniversal.com.co/multimedia/vide...</td>\n",
       "    </tr>\n",
       "    <tr>\n",
       "      <th>1</th>\n",
       "      <td>Edwin Quintana, quien ya compró su boleta para...</td>\n",
       "      <td>Luis Díaz, la ficha clave de la selección Colo...</td>\n",
       "      <td>https://www.eluniversal.com.co/deportes/luis-d...</td>\n",
       "    </tr>\n",
       "    <tr>\n",
       "      <th>2</th>\n",
       "      <td>La agencia AFP consultó esa lista este martes ...</td>\n",
       "      <td>Rusia incluye al opositor encarcelado Navalni ...</td>\n",
       "      <td>https://www.eluniversal.com.co/mundo/rusia-inc...</td>\n",
       "    </tr>\n",
       "    <tr>\n",
       "      <th>3</th>\n",
       "      <td>Cartagena fue noticia nacional la semana pasad...</td>\n",
       "      <td>Doble golpe a la institucionalidad</td>\n",
       "      <td>https://www.eluniversal.com.co/opinion/columna...</td>\n",
       "    </tr>\n",
       "    <tr>\n",
       "      <th>4</th>\n",
       "      <td>Al transitar por las vías interdepartamentales...</td>\n",
       "      <td>Bolívar: zona de riesgo electoral según la Moe...</td>\n",
       "      <td>https://www.eluniversal.com.co/politica/boliva...</td>\n",
       "    </tr>\n",
       "    <tr>\n",
       "      <th>...</th>\n",
       "      <td>...</td>\n",
       "      <td>...</td>\n",
       "      <td>...</td>\n",
       "    </tr>\n",
       "    <tr>\n",
       "      <th>91</th>\n",
       "      <td>El artista multiplatino Harry Styles anuncia l...</td>\n",
       "      <td>Harry Styles reprograma su gira y llega a Colo...</td>\n",
       "      <td>https://www.eluniversal.com.co/viernes/harry-s...</td>\n",
       "    </tr>\n",
       "    <tr>\n",
       "      <th>92</th>\n",
       "      <td>Los casos de COVID-19 en el departamento de Su...</td>\n",
       "      <td>Sucre registra más de 1.200 casos activos de C...</td>\n",
       "      <td>https://www.eluniversal.com.co/regional/sucre-...</td>\n",
       "    </tr>\n",
       "    <tr>\n",
       "      <th>93</th>\n",
       "      <td>El tiempo no regresa, eso está claro, sin emba...</td>\n",
       "      <td>Jerónimo Cantillo, un rebelde con causa</td>\n",
       "      <td>https://www.eluniversal.com.co/viernes/jeronim...</td>\n",
       "    </tr>\n",
       "    <tr>\n",
       "      <th>94</th>\n",
       "      <td>Hace unos días noté consternado a un amigo y c...</td>\n",
       "      <td>Lo que dicen los demás</td>\n",
       "      <td>https://www.eluniversal.com.co/opinion/columna...</td>\n",
       "    </tr>\n",
       "    <tr>\n",
       "      <th>95</th>\n",
       "      <td>El gobernador de Sucre, Héctor Olimpo Espinosa...</td>\n",
       "      <td>Gobernador decreta nuevamente calamidad públic...</td>\n",
       "      <td>https://www.eluniversal.com.co/regional/gobern...</td>\n",
       "    </tr>\n",
       "  </tbody>\n",
       "</table>\n",
       "<p>96 rows × 3 columns</p>\n",
       "</div>"
      ],
      "text/plain": [
       "                                                 body  \\\n",
       "0   Luis Fernando Sánchez lleva 15 años liderando ...   \n",
       "1   Edwin Quintana, quien ya compró su boleta para...   \n",
       "2   La agencia AFP consultó esa lista este martes ...   \n",
       "3   Cartagena fue noticia nacional la semana pasad...   \n",
       "4   Al transitar por las vías interdepartamentales...   \n",
       "..                                                ...   \n",
       "91  El artista multiplatino Harry Styles anuncia l...   \n",
       "92  Los casos de COVID-19 en el departamento de Su...   \n",
       "93  El tiempo no regresa, eso está claro, sin emba...   \n",
       "94  Hace unos días noté consternado a un amigo y c...   \n",
       "95  El gobernador de Sucre, Héctor Olimpo Espinosa...   \n",
       "\n",
       "                                                title  \\\n",
       "0   [Video] Luis Fernando, el hombre que sueña con...   \n",
       "1   Luis Díaz, la ficha clave de la selección Colo...   \n",
       "2   Rusia incluye al opositor encarcelado Navalni ...   \n",
       "3                  Doble golpe a la institucionalidad   \n",
       "4   Bolívar: zona de riesgo electoral según la Moe...   \n",
       "..                                                ...   \n",
       "91  Harry Styles reprograma su gira y llega a Colo...   \n",
       "92  Sucre registra más de 1.200 casos activos de C...   \n",
       "93            Jerónimo Cantillo, un rebelde con causa   \n",
       "94                             Lo que dicen los demás   \n",
       "95  Gobernador decreta nuevamente calamidad públic...   \n",
       "\n",
       "                                                  url  \n",
       "0   https://www.eluniversal.com.co/multimedia/vide...  \n",
       "1   https://www.eluniversal.com.co/deportes/luis-d...  \n",
       "2   https://www.eluniversal.com.co/mundo/rusia-inc...  \n",
       "3   https://www.eluniversal.com.co/opinion/columna...  \n",
       "4   https://www.eluniversal.com.co/politica/boliva...  \n",
       "..                                                ...  \n",
       "91  https://www.eluniversal.com.co/viernes/harry-s...  \n",
       "92  https://www.eluniversal.com.co/regional/sucre-...  \n",
       "93  https://www.eluniversal.com.co/viernes/jeronim...  \n",
       "94  https://www.eluniversal.com.co/opinion/columna...  \n",
       "95  https://www.eluniversal.com.co/regional/gobern...  \n",
       "\n",
       "[96 rows x 3 columns]"
      ]
     },
     "execution_count": 54,
     "metadata": {},
     "output_type": "execute_result"
    }
   ],
   "source": [
    "# df = pd.read_csv('../Extract/elpais_2022_01_25.csv')\n",
    "df = pd.read_csv('../Extract/eluniversal_2022_01_25.csv')\n",
    "df"
   ]
  },
  {
   "cell_type": "markdown",
   "metadata": {},
   "source": [
    "## Añadir el nombre del periodico al DataFrame"
   ]
  },
  {
   "cell_type": "code",
   "execution_count": 55,
   "metadata": {},
   "outputs": [
    {
     "data": {
      "text/html": [
       "<div>\n",
       "<style scoped>\n",
       "    .dataframe tbody tr th:only-of-type {\n",
       "        vertical-align: middle;\n",
       "    }\n",
       "\n",
       "    .dataframe tbody tr th {\n",
       "        vertical-align: top;\n",
       "    }\n",
       "\n",
       "    .dataframe thead th {\n",
       "        text-align: right;\n",
       "    }\n",
       "</style>\n",
       "<table border=\"1\" class=\"dataframe\">\n",
       "  <thead>\n",
       "    <tr style=\"text-align: right;\">\n",
       "      <th></th>\n",
       "      <th>body</th>\n",
       "      <th>title</th>\n",
       "      <th>url</th>\n",
       "      <th>newspaper_uid</th>\n",
       "    </tr>\n",
       "  </thead>\n",
       "  <tbody>\n",
       "    <tr>\n",
       "      <th>0</th>\n",
       "      <td>Luis Fernando Sánchez lleva 15 años liderando ...</td>\n",
       "      <td>[Video] Luis Fernando, el hombre que sueña con...</td>\n",
       "      <td>https://www.eluniversal.com.co/multimedia/vide...</td>\n",
       "      <td>eluniversal</td>\n",
       "    </tr>\n",
       "    <tr>\n",
       "      <th>1</th>\n",
       "      <td>Edwin Quintana, quien ya compró su boleta para...</td>\n",
       "      <td>Luis Díaz, la ficha clave de la selección Colo...</td>\n",
       "      <td>https://www.eluniversal.com.co/deportes/luis-d...</td>\n",
       "      <td>eluniversal</td>\n",
       "    </tr>\n",
       "    <tr>\n",
       "      <th>2</th>\n",
       "      <td>La agencia AFP consultó esa lista este martes ...</td>\n",
       "      <td>Rusia incluye al opositor encarcelado Navalni ...</td>\n",
       "      <td>https://www.eluniversal.com.co/mundo/rusia-inc...</td>\n",
       "      <td>eluniversal</td>\n",
       "    </tr>\n",
       "  </tbody>\n",
       "</table>\n",
       "</div>"
      ],
      "text/plain": [
       "                                                body  \\\n",
       "0  Luis Fernando Sánchez lleva 15 años liderando ...   \n",
       "1  Edwin Quintana, quien ya compró su boleta para...   \n",
       "2  La agencia AFP consultó esa lista este martes ...   \n",
       "\n",
       "                                               title  \\\n",
       "0  [Video] Luis Fernando, el hombre que sueña con...   \n",
       "1  Luis Díaz, la ficha clave de la selección Colo...   \n",
       "2  Rusia incluye al opositor encarcelado Navalni ...   \n",
       "\n",
       "                                                 url newspaper_uid  \n",
       "0  https://www.eluniversal.com.co/multimedia/vide...   eluniversal  \n",
       "1  https://www.eluniversal.com.co/deportes/luis-d...   eluniversal  \n",
       "2  https://www.eluniversal.com.co/mundo/rusia-inc...   eluniversal  "
      ]
     },
     "execution_count": 55,
     "metadata": {},
     "output_type": "execute_result"
    }
   ],
   "source": [
    "df['newspaper_uid'] = 'eluniversal'\n",
    "df.head(3)"
   ]
  },
  {
   "cell_type": "markdown",
   "metadata": {},
   "source": [
    "## Obtener el Host"
   ]
  },
  {
   "cell_type": "code",
   "execution_count": 56,
   "metadata": {},
   "outputs": [
    {
     "data": {
      "text/html": [
       "<div>\n",
       "<style scoped>\n",
       "    .dataframe tbody tr th:only-of-type {\n",
       "        vertical-align: middle;\n",
       "    }\n",
       "\n",
       "    .dataframe tbody tr th {\n",
       "        vertical-align: top;\n",
       "    }\n",
       "\n",
       "    .dataframe thead th {\n",
       "        text-align: right;\n",
       "    }\n",
       "</style>\n",
       "<table border=\"1\" class=\"dataframe\">\n",
       "  <thead>\n",
       "    <tr style=\"text-align: right;\">\n",
       "      <th></th>\n",
       "      <th>body</th>\n",
       "      <th>title</th>\n",
       "      <th>url</th>\n",
       "      <th>newspaper_uid</th>\n",
       "      <th>host</th>\n",
       "    </tr>\n",
       "  </thead>\n",
       "  <tbody>\n",
       "    <tr>\n",
       "      <th>0</th>\n",
       "      <td>Luis Fernando Sánchez lleva 15 años liderando ...</td>\n",
       "      <td>[Video] Luis Fernando, el hombre que sueña con...</td>\n",
       "      <td>https://www.eluniversal.com.co/multimedia/vide...</td>\n",
       "      <td>eluniversal</td>\n",
       "      <td>www.eluniversal.com.co</td>\n",
       "    </tr>\n",
       "    <tr>\n",
       "      <th>1</th>\n",
       "      <td>Edwin Quintana, quien ya compró su boleta para...</td>\n",
       "      <td>Luis Díaz, la ficha clave de la selección Colo...</td>\n",
       "      <td>https://www.eluniversal.com.co/deportes/luis-d...</td>\n",
       "      <td>eluniversal</td>\n",
       "      <td>www.eluniversal.com.co</td>\n",
       "    </tr>\n",
       "    <tr>\n",
       "      <th>2</th>\n",
       "      <td>La agencia AFP consultó esa lista este martes ...</td>\n",
       "      <td>Rusia incluye al opositor encarcelado Navalni ...</td>\n",
       "      <td>https://www.eluniversal.com.co/mundo/rusia-inc...</td>\n",
       "      <td>eluniversal</td>\n",
       "      <td>www.eluniversal.com.co</td>\n",
       "    </tr>\n",
       "  </tbody>\n",
       "</table>\n",
       "</div>"
      ],
      "text/plain": [
       "                                                body  \\\n",
       "0  Luis Fernando Sánchez lleva 15 años liderando ...   \n",
       "1  Edwin Quintana, quien ya compró su boleta para...   \n",
       "2  La agencia AFP consultó esa lista este martes ...   \n",
       "\n",
       "                                               title  \\\n",
       "0  [Video] Luis Fernando, el hombre que sueña con...   \n",
       "1  Luis Díaz, la ficha clave de la selección Colo...   \n",
       "2  Rusia incluye al opositor encarcelado Navalni ...   \n",
       "\n",
       "                                                 url newspaper_uid  \\\n",
       "0  https://www.eluniversal.com.co/multimedia/vide...   eluniversal   \n",
       "1  https://www.eluniversal.com.co/deportes/luis-d...   eluniversal   \n",
       "2  https://www.eluniversal.com.co/mundo/rusia-inc...   eluniversal   \n",
       "\n",
       "                     host  \n",
       "0  www.eluniversal.com.co  \n",
       "1  www.eluniversal.com.co  \n",
       "2  www.eluniversal.com.co  "
      ]
     },
     "execution_count": 56,
     "metadata": {},
     "output_type": "execute_result"
    }
   ],
   "source": [
    "from urllib.parse import urlparse\n",
    "\n",
    "df['host'] = df['url'].apply(lambda url: urlparse(url).netloc)\n",
    "df.head(3)"
   ]
  },
  {
   "cell_type": "code",
   "execution_count": 57,
   "metadata": {},
   "outputs": [
    {
     "data": {
      "text/plain": [
       "array(['www.eluniversal.com.co'], dtype=object)"
      ]
     },
     "execution_count": 57,
     "metadata": {},
     "output_type": "execute_result"
    }
   ],
   "source": [
    "df['host'].unique()"
   ]
  },
  {
   "cell_type": "code",
   "execution_count": 58,
   "metadata": {},
   "outputs": [
    {
     "data": {
      "text/plain": [
       "www.eluniversal.com.co    96\n",
       "Name: host, dtype: int64"
      ]
     },
     "execution_count": 58,
     "metadata": {},
     "output_type": "execute_result"
    }
   ],
   "source": [
    "df['host'].value_counts()"
   ]
  },
  {
   "cell_type": "markdown",
   "metadata": {},
   "source": [
    "Mi consulta **select()** de El Universal estubo tan buena que solo me devolvió los enlaces de El Universal XD. Pero El Pais sí devuelve enlaces de otros tipos."
   ]
  },
  {
   "cell_type": "markdown",
   "metadata": {},
   "source": [
    "## Datos faltantes"
   ]
  },
  {
   "cell_type": "code",
   "execution_count": 59,
   "metadata": {},
   "outputs": [
    {
     "data": {
      "text/plain": [
       "body             96\n",
       "title            96\n",
       "url              96\n",
       "newspaper_uid    96\n",
       "host             96\n",
       "dtype: int64"
      ]
     },
     "execution_count": 59,
     "metadata": {},
     "output_type": "execute_result"
    }
   ],
   "source": [
    "df.notna().sum()"
   ]
  },
  {
   "cell_type": "markdown",
   "metadata": {},
   "source": [
    "No tenía ningún faltante, entonces para las pruebas voy a generarlos"
   ]
  },
  {
   "cell_type": "code",
   "execution_count": 60,
   "metadata": {},
   "outputs": [
    {
     "data": {
      "text/html": [
       "<div>\n",
       "<style scoped>\n",
       "    .dataframe tbody tr th:only-of-type {\n",
       "        vertical-align: middle;\n",
       "    }\n",
       "\n",
       "    .dataframe tbody tr th {\n",
       "        vertical-align: top;\n",
       "    }\n",
       "\n",
       "    .dataframe thead th {\n",
       "        text-align: right;\n",
       "    }\n",
       "</style>\n",
       "<table border=\"1\" class=\"dataframe\">\n",
       "  <thead>\n",
       "    <tr style=\"text-align: right;\">\n",
       "      <th></th>\n",
       "      <th>title</th>\n",
       "      <th>url</th>\n",
       "    </tr>\n",
       "  </thead>\n",
       "  <tbody>\n",
       "    <tr>\n",
       "      <th>0</th>\n",
       "      <td>[Video] Luis Fernando, el hombre que sueña con...</td>\n",
       "      <td>https://www.eluniversal.com.co/multimedia/vide...</td>\n",
       "    </tr>\n",
       "    <tr>\n",
       "      <th>1</th>\n",
       "      <td>Luis Díaz, la ficha clave de la selección Colo...</td>\n",
       "      <td>https://www.eluniversal.com.co/deportes/luis-d...</td>\n",
       "    </tr>\n",
       "    <tr>\n",
       "      <th>2</th>\n",
       "      <td>Rusia incluye al opositor encarcelado Navalni ...</td>\n",
       "      <td>https://www.eluniversal.com.co/mundo/rusia-inc...</td>\n",
       "    </tr>\n",
       "    <tr>\n",
       "      <th>3</th>\n",
       "      <td>Doble golpe a la institucionalidad</td>\n",
       "      <td>https://www.eluniversal.com.co/opinion/columna...</td>\n",
       "    </tr>\n",
       "    <tr>\n",
       "      <th>4</th>\n",
       "      <td>Bolívar: zona de riesgo electoral según la Moe...</td>\n",
       "      <td>https://www.eluniversal.com.co/politica/boliva...</td>\n",
       "    </tr>\n",
       "    <tr>\n",
       "      <th>5</th>\n",
       "      <td>Con operativos de control, autoridades se toma...</td>\n",
       "      <td>https://www.eluniversal.com.co/sucesos/con-ope...</td>\n",
       "    </tr>\n",
       "  </tbody>\n",
       "</table>\n",
       "</div>"
      ],
      "text/plain": [
       "                                               title  \\\n",
       "0  [Video] Luis Fernando, el hombre que sueña con...   \n",
       "1  Luis Díaz, la ficha clave de la selección Colo...   \n",
       "2  Rusia incluye al opositor encarcelado Navalni ...   \n",
       "3                 Doble golpe a la institucionalidad   \n",
       "4  Bolívar: zona de riesgo electoral según la Moe...   \n",
       "5  Con operativos de control, autoridades se toma...   \n",
       "\n",
       "                                                 url  \n",
       "0  https://www.eluniversal.com.co/multimedia/vide...  \n",
       "1  https://www.eluniversal.com.co/deportes/luis-d...  \n",
       "2  https://www.eluniversal.com.co/mundo/rusia-inc...  \n",
       "3  https://www.eluniversal.com.co/opinion/columna...  \n",
       "4  https://www.eluniversal.com.co/politica/boliva...  \n",
       "5  https://www.eluniversal.com.co/sucesos/con-ope...  "
      ]
     },
     "execution_count": 60,
     "metadata": {},
     "output_type": "execute_result"
    }
   ],
   "source": [
    "df.loc[:5,['title','url']]"
   ]
  },
  {
   "cell_type": "code",
   "execution_count": 61,
   "metadata": {},
   "outputs": [
    {
     "name": "stdout",
     "output_type": "stream",
     "text": [
      "0                                                 <NA>\n",
      "1    Luis Díaz, la ficha clave de la selección Colo...\n",
      "2                                                 <NA>\n",
      "3                   Doble golpe a la institucionalidad\n",
      "4    Bolívar: zona de riesgo electoral según la Moe...\n",
      "5    Con operativos de control, autoridades se toma...\n",
      "Name: title, dtype: object\n"
     ]
    }
   ],
   "source": [
    "df.loc[0,'title'] = pd.NA\n",
    "df.loc[2,'title'] = pd.NA\n",
    "print(df.loc[:5,'title'])"
   ]
  },
  {
   "cell_type": "code",
   "execution_count": 62,
   "metadata": {},
   "outputs": [
    {
     "name": "stdout",
     "output_type": "stream",
     "text": [
      "(2,)\n"
     ]
    },
    {
     "data": {
      "text/plain": [
       "0    Video luis fernando el hombre que suena con me...\n",
       "1    Luis Díaz, la ficha clave de la selección Colo...\n",
       "2    Rusia incluye al opositor encarcelado navalni ...\n",
       "3                   Doble golpe a la institucionalidad\n",
       "4    Bolívar: zona de riesgo electoral según la Moe...\n",
       "5    Con operativos de control, autoridades se toma...\n",
       "Name: title, dtype: object"
      ]
     },
     "execution_count": 62,
     "metadata": {},
     "output_type": "execute_result"
    }
   ],
   "source": [
    "missing_titles_mask = df['title'].isna()\n",
    "\n",
    "missing_titles = (df[missing_titles_mask]['url']\n",
    "                     .str.extract(r'(?P<missing_titles>[^/]+)$')['missing_titles']\n",
    "                     .str.replace('-',' ').str.capitalize()\n",
    "                )\n",
    "print(missing_titles.shape)\n",
    "df.loc[missing_titles_mask, 'title'] = missing_titles\n",
    "df.loc[:5,'title']"
   ]
  },
  {
   "cell_type": "markdown",
   "metadata": {},
   "source": [
    "## ID único a cada fila"
   ]
  },
  {
   "cell_type": "code",
   "execution_count": 63,
   "metadata": {},
   "outputs": [],
   "source": [
    "import hashlib"
   ]
  },
  {
   "cell_type": "code",
   "execution_count": 64,
   "metadata": {},
   "outputs": [
    {
     "data": {
      "text/plain": [
       "b'https://www.eluniversal.com.co/multimedia/video-luis-fernando-el-hombre-que-suena-con-mejorar-el-cano-juan-angola-BX5819470'"
      ]
     },
     "execution_count": 64,
     "metadata": {},
     "output_type": "execute_result"
    }
   ],
   "source": [
    "df['url'][0].encode()"
   ]
  },
  {
   "cell_type": "code",
   "execution_count": 65,
   "metadata": {},
   "outputs": [
    {
     "data": {
      "text/plain": [
       "b'https://www.eluniversal.com.co/multimedia/video-luis-fernando-el-hombre-que-suena-con-mejorar-el-cano-juan-angola-BX5819470'"
      ]
     },
     "execution_count": 65,
     "metadata": {},
     "output_type": "execute_result"
    }
   ],
   "source": [
    "bytes(df['url'][0].encode())"
   ]
  },
  {
   "cell_type": "code",
   "execution_count": 66,
   "metadata": {},
   "outputs": [
    {
     "data": {
      "text/plain": [
       "<md5 _hashlib.HASH object @ 0x00000191F7058530>"
      ]
     },
     "execution_count": 66,
     "metadata": {},
     "output_type": "execute_result"
    }
   ],
   "source": [
    "hashlib.md5(bytes(df['url'][0].encode()))"
   ]
  },
  {
   "cell_type": "code",
   "execution_count": 67,
   "metadata": {},
   "outputs": [
    {
     "data": {
      "text/plain": [
       "'5ef9647a5e0c42cb0650128d16077edf'"
      ]
     },
     "execution_count": 67,
     "metadata": {},
     "output_type": "execute_result"
    }
   ],
   "source": [
    "hashlib.md5(bytes(df['url'][0].encode())).hexdigest()"
   ]
  },
  {
   "cell_type": "code",
   "execution_count": 68,
   "metadata": {},
   "outputs": [
    {
     "name": "stdout",
     "output_type": "stream",
     "text": [
      "0     5ef9647a5e0c42cb0650128d16077edf\n",
      "1     72709636297ae012421efac327240580\n",
      "2     ee078cbf9ad0f942a9ef35e1d8b251fd\n",
      "3     0a47a3de2199cd935955a06d89b147af\n",
      "4     8e58a14bd82417ee89673256e8700708\n",
      "                    ...               \n",
      "91    6c1bbdec7e142d75357dcaa7b4884d56\n",
      "92    ba3651ca069af97d63fa00095653f7a8\n",
      "93    5579cd5943d55e89dd519fc851f7d700\n",
      "94    a8f6125e9b2f4c7831cbd2d567828ac8\n",
      "95    3a81e8453470c7469a75d8be4b350d11\n",
      "Length: 96, dtype: object\n"
     ]
    },
    {
     "data": {
      "text/html": [
       "<div>\n",
       "<style scoped>\n",
       "    .dataframe tbody tr th:only-of-type {\n",
       "        vertical-align: middle;\n",
       "    }\n",
       "\n",
       "    .dataframe tbody tr th {\n",
       "        vertical-align: top;\n",
       "    }\n",
       "\n",
       "    .dataframe thead th {\n",
       "        text-align: right;\n",
       "    }\n",
       "</style>\n",
       "<table border=\"1\" class=\"dataframe\">\n",
       "  <thead>\n",
       "    <tr style=\"text-align: right;\">\n",
       "      <th></th>\n",
       "      <th>body</th>\n",
       "      <th>title</th>\n",
       "      <th>url</th>\n",
       "      <th>newspaper_uid</th>\n",
       "      <th>host</th>\n",
       "    </tr>\n",
       "    <tr>\n",
       "      <th>uid</th>\n",
       "      <th></th>\n",
       "      <th></th>\n",
       "      <th></th>\n",
       "      <th></th>\n",
       "      <th></th>\n",
       "    </tr>\n",
       "  </thead>\n",
       "  <tbody>\n",
       "    <tr>\n",
       "      <th>5ef9647a5e0c42cb0650128d16077edf</th>\n",
       "      <td>Luis Fernando Sánchez lleva 15 años liderando ...</td>\n",
       "      <td>Video luis fernando el hombre que suena con me...</td>\n",
       "      <td>https://www.eluniversal.com.co/multimedia/vide...</td>\n",
       "      <td>eluniversal</td>\n",
       "      <td>www.eluniversal.com.co</td>\n",
       "    </tr>\n",
       "    <tr>\n",
       "      <th>72709636297ae012421efac327240580</th>\n",
       "      <td>Edwin Quintana, quien ya compró su boleta para...</td>\n",
       "      <td>Luis Díaz, la ficha clave de la selección Colo...</td>\n",
       "      <td>https://www.eluniversal.com.co/deportes/luis-d...</td>\n",
       "      <td>eluniversal</td>\n",
       "      <td>www.eluniversal.com.co</td>\n",
       "    </tr>\n",
       "  </tbody>\n",
       "</table>\n",
       "</div>"
      ],
      "text/plain": [
       "                                                                               body  \\\n",
       "uid                                                                                   \n",
       "5ef9647a5e0c42cb0650128d16077edf  Luis Fernando Sánchez lleva 15 años liderando ...   \n",
       "72709636297ae012421efac327240580  Edwin Quintana, quien ya compró su boleta para...   \n",
       "\n",
       "                                                                              title  \\\n",
       "uid                                                                                   \n",
       "5ef9647a5e0c42cb0650128d16077edf  Video luis fernando el hombre que suena con me...   \n",
       "72709636297ae012421efac327240580  Luis Díaz, la ficha clave de la selección Colo...   \n",
       "\n",
       "                                                                                url  \\\n",
       "uid                                                                                   \n",
       "5ef9647a5e0c42cb0650128d16077edf  https://www.eluniversal.com.co/multimedia/vide...   \n",
       "72709636297ae012421efac327240580  https://www.eluniversal.com.co/deportes/luis-d...   \n",
       "\n",
       "                                 newspaper_uid                    host  \n",
       "uid                                                                     \n",
       "5ef9647a5e0c42cb0650128d16077edf   eluniversal  www.eluniversal.com.co  \n",
       "72709636297ae012421efac327240580   eluniversal  www.eluniversal.com.co  "
      ]
     },
     "execution_count": 68,
     "metadata": {},
     "output_type": "execute_result"
    }
   ],
   "source": [
    "uids = (\n",
    "    df.apply(lambda row: hashlib.md5(bytes(row['url'].encode())).hexdigest(), axis='columns')\n",
    ")\n",
    "print(uids)\n",
    "df['uid'] = uids\n",
    "df.set_index('uid', inplace=True)\n",
    "df.head(2)"
   ]
  },
  {
   "cell_type": "markdown",
   "metadata": {},
   "source": [
    "## Caracteres basura"
   ]
  },
  {
   "cell_type": "code",
   "execution_count": 69,
   "metadata": {},
   "outputs": [
    {
     "data": {
      "text/plain": [
       "'\\nLuis Fernando Sánchez lleva 15 años liderando la Fundación Planeta Azul Caribe, que busca crear conciencia sobre el valor del caño Juan Angola y la necesidad de recuperarlo entre todos. (Lea aquí: El caño Juan Angola sí tiene dolientes)'"
      ]
     },
     "execution_count": 69,
     "metadata": {},
     "output_type": "execute_result"
    }
   ],
   "source": [
    "df['body'][0] = '\\n' + df['body'][0]\n",
    "df['body'][0]"
   ]
  },
  {
   "cell_type": "code",
   "execution_count": 70,
   "metadata": {},
   "outputs": [
    {
     "data": {
      "text/plain": [
       "'Luis Fernando Sánchez lleva 15 años liderando la Fundación Planeta Azul Caribe, que busca crear conciencia sobre el valor del caño Juan Angola y la necesidad de recuperarlo entre todos. (Lea aquí: El caño Juan Angola sí tiene dolientes)'"
      ]
     },
     "execution_count": 70,
     "metadata": {},
     "output_type": "execute_result"
    }
   ],
   "source": [
    "df['body'] = df['body'].str.replace('\\n','')\n",
    "df['body'][0]\n"
   ]
  },
  {
   "cell_type": "markdown",
   "metadata": {},
   "source": [
    "## Enriquecimiento de los datos\n",
    "\n",
    "Tokenizar el título y el body"
   ]
  },
  {
   "cell_type": "code",
   "execution_count": 71,
   "metadata": {},
   "outputs": [
    {
     "name": "stderr",
     "output_type": "stream",
     "text": [
      "[nltk_data] Downloading package stopwords to\n",
      "[nltk_data]     C:\\Users\\User\\AppData\\Roaming\\nltk_data...\n",
      "[nltk_data]   Package stopwords is already up-to-date!\n",
      "[nltk_data] Downloading package punkt to\n",
      "[nltk_data]     C:\\Users\\User\\AppData\\Roaming\\nltk_data...\n",
      "[nltk_data]   Package punkt is already up-to-date!\n"
     ]
    },
    {
     "data": {
      "text/plain": [
       "True"
      ]
     },
     "execution_count": 71,
     "metadata": {},
     "output_type": "execute_result"
    }
   ],
   "source": [
    "import nltk\n",
    "from nltk.corpus import stopwords\n",
    "\n",
    "nltk.download('stopwords')\n",
    "nltk.download('punkt')"
   ]
  },
  {
   "cell_type": "code",
   "execution_count": 72,
   "metadata": {},
   "outputs": [
    {
     "data": {
      "text/plain": [
       "313"
      ]
     },
     "execution_count": 72,
     "metadata": {},
     "output_type": "execute_result"
    }
   ],
   "source": [
    "stop_words = stopwords.words('Spanish')\n",
    "len(stop_words)"
   ]
  },
  {
   "cell_type": "code",
   "execution_count": 73,
   "metadata": {},
   "outputs": [
    {
     "name": "stdout",
     "output_type": "stream",
     "text": [
      "['Video', 'luis', 'fernando', 'el', 'hombre', 'que', 'suena', 'con', 'mejorar', 'el', 'cano', 'juan', 'angola', 'bx5819470']\n"
     ]
    }
   ],
   "source": [
    "tokens = nltk.word_tokenize(df['title'][0])\n",
    "print(tokens)"
   ]
  },
  {
   "cell_type": "code",
   "execution_count": 74,
   "metadata": {},
   "outputs": [
    {
     "name": "stdout",
     "output_type": "stream",
     "text": [
      "['Video', 'luis', 'fernando', 'el', 'hombre', 'que', 'suena', 'con', 'mejorar', 'el', 'cano', 'juan', 'angola']\n"
     ]
    }
   ],
   "source": [
    "tokens = list(filter(lambda token: token.isalpha(), tokens))\n",
    "print(tokens)"
   ]
  },
  {
   "cell_type": "code",
   "execution_count": 75,
   "metadata": {},
   "outputs": [
    {
     "name": "stdout",
     "output_type": "stream",
     "text": [
      "['video', 'luis', 'fernando', 'el', 'hombre', 'que', 'suena', 'con', 'mejorar', 'el', 'cano', 'juan', 'angola']\n"
     ]
    }
   ],
   "source": [
    "tokens = list(map(lambda token: token.lower(), tokens))\n",
    "print(tokens)"
   ]
  },
  {
   "cell_type": "code",
   "execution_count": 76,
   "metadata": {},
   "outputs": [
    {
     "name": "stdout",
     "output_type": "stream",
     "text": [
      "['video', 'luis', 'fernando', 'hombre', 'suena', 'mejorar', 'cano', 'juan', 'angola']\n"
     ]
    }
   ],
   "source": [
    "tokens = list(filter(lambda token: token not in stop_words, tokens))\n",
    "print(tokens)"
   ]
  },
  {
   "cell_type": "code",
   "execution_count": 77,
   "metadata": {},
   "outputs": [
    {
     "data": {
      "text/html": [
       "<div>\n",
       "<style scoped>\n",
       "    .dataframe tbody tr th:only-of-type {\n",
       "        vertical-align: middle;\n",
       "    }\n",
       "\n",
       "    .dataframe tbody tr th {\n",
       "        vertical-align: top;\n",
       "    }\n",
       "\n",
       "    .dataframe thead th {\n",
       "        text-align: right;\n",
       "    }\n",
       "</style>\n",
       "<table border=\"1\" class=\"dataframe\">\n",
       "  <thead>\n",
       "    <tr style=\"text-align: right;\">\n",
       "      <th></th>\n",
       "      <th>body</th>\n",
       "      <th>title</th>\n",
       "      <th>url</th>\n",
       "      <th>newspaper_uid</th>\n",
       "      <th>host</th>\n",
       "      <th>n_tokens_title</th>\n",
       "    </tr>\n",
       "    <tr>\n",
       "      <th>uid</th>\n",
       "      <th></th>\n",
       "      <th></th>\n",
       "      <th></th>\n",
       "      <th></th>\n",
       "      <th></th>\n",
       "      <th></th>\n",
       "    </tr>\n",
       "  </thead>\n",
       "  <tbody>\n",
       "    <tr>\n",
       "      <th>5ef9647a5e0c42cb0650128d16077edf</th>\n",
       "      <td>Luis Fernando Sánchez lleva 15 años liderando ...</td>\n",
       "      <td>Video luis fernando el hombre que suena con me...</td>\n",
       "      <td>https://www.eluniversal.com.co/multimedia/vide...</td>\n",
       "      <td>eluniversal</td>\n",
       "      <td>www.eluniversal.com.co</td>\n",
       "      <td>9</td>\n",
       "    </tr>\n",
       "    <tr>\n",
       "      <th>72709636297ae012421efac327240580</th>\n",
       "      <td>Edwin Quintana, quien ya compró su boleta para...</td>\n",
       "      <td>Luis Díaz, la ficha clave de la selección Colo...</td>\n",
       "      <td>https://www.eluniversal.com.co/deportes/luis-d...</td>\n",
       "      <td>eluniversal</td>\n",
       "      <td>www.eluniversal.com.co</td>\n",
       "      <td>7</td>\n",
       "    </tr>\n",
       "    <tr>\n",
       "      <th>ee078cbf9ad0f942a9ef35e1d8b251fd</th>\n",
       "      <td>La agencia AFP consultó esa lista este martes ...</td>\n",
       "      <td>Rusia incluye al opositor encarcelado navalni ...</td>\n",
       "      <td>https://www.eluniversal.com.co/mundo/rusia-inc...</td>\n",
       "      <td>eluniversal</td>\n",
       "      <td>www.eluniversal.com.co</td>\n",
       "      <td>8</td>\n",
       "    </tr>\n",
       "    <tr>\n",
       "      <th>0a47a3de2199cd935955a06d89b147af</th>\n",
       "      <td>Cartagena fue noticia nacional la semana pasad...</td>\n",
       "      <td>Doble golpe a la institucionalidad</td>\n",
       "      <td>https://www.eluniversal.com.co/opinion/columna...</td>\n",
       "      <td>eluniversal</td>\n",
       "      <td>www.eluniversal.com.co</td>\n",
       "      <td>3</td>\n",
       "    </tr>\n",
       "    <tr>\n",
       "      <th>8e58a14bd82417ee89673256e8700708</th>\n",
       "      <td>Al transitar por las vías interdepartamentales...</td>\n",
       "      <td>Bolívar: zona de riesgo electoral según la Moe...</td>\n",
       "      <td>https://www.eluniversal.com.co/politica/boliva...</td>\n",
       "      <td>eluniversal</td>\n",
       "      <td>www.eluniversal.com.co</td>\n",
       "      <td>8</td>\n",
       "    </tr>\n",
       "    <tr>\n",
       "      <th>...</th>\n",
       "      <td>...</td>\n",
       "      <td>...</td>\n",
       "      <td>...</td>\n",
       "      <td>...</td>\n",
       "      <td>...</td>\n",
       "      <td>...</td>\n",
       "    </tr>\n",
       "    <tr>\n",
       "      <th>6c1bbdec7e142d75357dcaa7b4884d56</th>\n",
       "      <td>El artista multiplatino Harry Styles anuncia l...</td>\n",
       "      <td>Harry Styles reprograma su gira y llega a Colo...</td>\n",
       "      <td>https://www.eluniversal.com.co/viernes/harry-s...</td>\n",
       "      <td>eluniversal</td>\n",
       "      <td>www.eluniversal.com.co</td>\n",
       "      <td>6</td>\n",
       "    </tr>\n",
       "    <tr>\n",
       "      <th>ba3651ca069af97d63fa00095653f7a8</th>\n",
       "      <td>Los casos de COVID-19 en el departamento de Su...</td>\n",
       "      <td>Sucre registra más de 1.200 casos activos de C...</td>\n",
       "      <td>https://www.eluniversal.com.co/regional/sucre-...</td>\n",
       "      <td>eluniversal</td>\n",
       "      <td>www.eluniversal.com.co</td>\n",
       "      <td>4</td>\n",
       "    </tr>\n",
       "    <tr>\n",
       "      <th>5579cd5943d55e89dd519fc851f7d700</th>\n",
       "      <td>El tiempo no regresa, eso está claro, sin emba...</td>\n",
       "      <td>Jerónimo Cantillo, un rebelde con causa</td>\n",
       "      <td>https://www.eluniversal.com.co/viernes/jeronim...</td>\n",
       "      <td>eluniversal</td>\n",
       "      <td>www.eluniversal.com.co</td>\n",
       "      <td>4</td>\n",
       "    </tr>\n",
       "    <tr>\n",
       "      <th>a8f6125e9b2f4c7831cbd2d567828ac8</th>\n",
       "      <td>Hace unos días noté consternado a un amigo y c...</td>\n",
       "      <td>Lo que dicen los demás</td>\n",
       "      <td>https://www.eluniversal.com.co/opinion/columna...</td>\n",
       "      <td>eluniversal</td>\n",
       "      <td>www.eluniversal.com.co</td>\n",
       "      <td>2</td>\n",
       "    </tr>\n",
       "    <tr>\n",
       "      <th>3a81e8453470c7469a75d8be4b350d11</th>\n",
       "      <td>El gobernador de Sucre, Héctor Olimpo Espinosa...</td>\n",
       "      <td>Gobernador decreta nuevamente calamidad públic...</td>\n",
       "      <td>https://www.eluniversal.com.co/regional/gobern...</td>\n",
       "      <td>eluniversal</td>\n",
       "      <td>www.eluniversal.com.co</td>\n",
       "      <td>8</td>\n",
       "    </tr>\n",
       "  </tbody>\n",
       "</table>\n",
       "<p>96 rows × 6 columns</p>\n",
       "</div>"
      ],
      "text/plain": [
       "                                                                               body  \\\n",
       "uid                                                                                   \n",
       "5ef9647a5e0c42cb0650128d16077edf  Luis Fernando Sánchez lleva 15 años liderando ...   \n",
       "72709636297ae012421efac327240580  Edwin Quintana, quien ya compró su boleta para...   \n",
       "ee078cbf9ad0f942a9ef35e1d8b251fd  La agencia AFP consultó esa lista este martes ...   \n",
       "0a47a3de2199cd935955a06d89b147af  Cartagena fue noticia nacional la semana pasad...   \n",
       "8e58a14bd82417ee89673256e8700708  Al transitar por las vías interdepartamentales...   \n",
       "...                                                                             ...   \n",
       "6c1bbdec7e142d75357dcaa7b4884d56  El artista multiplatino Harry Styles anuncia l...   \n",
       "ba3651ca069af97d63fa00095653f7a8  Los casos de COVID-19 en el departamento de Su...   \n",
       "5579cd5943d55e89dd519fc851f7d700  El tiempo no regresa, eso está claro, sin emba...   \n",
       "a8f6125e9b2f4c7831cbd2d567828ac8  Hace unos días noté consternado a un amigo y c...   \n",
       "3a81e8453470c7469a75d8be4b350d11  El gobernador de Sucre, Héctor Olimpo Espinosa...   \n",
       "\n",
       "                                                                              title  \\\n",
       "uid                                                                                   \n",
       "5ef9647a5e0c42cb0650128d16077edf  Video luis fernando el hombre que suena con me...   \n",
       "72709636297ae012421efac327240580  Luis Díaz, la ficha clave de la selección Colo...   \n",
       "ee078cbf9ad0f942a9ef35e1d8b251fd  Rusia incluye al opositor encarcelado navalni ...   \n",
       "0a47a3de2199cd935955a06d89b147af                 Doble golpe a la institucionalidad   \n",
       "8e58a14bd82417ee89673256e8700708  Bolívar: zona de riesgo electoral según la Moe...   \n",
       "...                                                                             ...   \n",
       "6c1bbdec7e142d75357dcaa7b4884d56  Harry Styles reprograma su gira y llega a Colo...   \n",
       "ba3651ca069af97d63fa00095653f7a8  Sucre registra más de 1.200 casos activos de C...   \n",
       "5579cd5943d55e89dd519fc851f7d700            Jerónimo Cantillo, un rebelde con causa   \n",
       "a8f6125e9b2f4c7831cbd2d567828ac8                             Lo que dicen los demás   \n",
       "3a81e8453470c7469a75d8be4b350d11  Gobernador decreta nuevamente calamidad públic...   \n",
       "\n",
       "                                                                                url  \\\n",
       "uid                                                                                   \n",
       "5ef9647a5e0c42cb0650128d16077edf  https://www.eluniversal.com.co/multimedia/vide...   \n",
       "72709636297ae012421efac327240580  https://www.eluniversal.com.co/deportes/luis-d...   \n",
       "ee078cbf9ad0f942a9ef35e1d8b251fd  https://www.eluniversal.com.co/mundo/rusia-inc...   \n",
       "0a47a3de2199cd935955a06d89b147af  https://www.eluniversal.com.co/opinion/columna...   \n",
       "8e58a14bd82417ee89673256e8700708  https://www.eluniversal.com.co/politica/boliva...   \n",
       "...                                                                             ...   \n",
       "6c1bbdec7e142d75357dcaa7b4884d56  https://www.eluniversal.com.co/viernes/harry-s...   \n",
       "ba3651ca069af97d63fa00095653f7a8  https://www.eluniversal.com.co/regional/sucre-...   \n",
       "5579cd5943d55e89dd519fc851f7d700  https://www.eluniversal.com.co/viernes/jeronim...   \n",
       "a8f6125e9b2f4c7831cbd2d567828ac8  https://www.eluniversal.com.co/opinion/columna...   \n",
       "3a81e8453470c7469a75d8be4b350d11  https://www.eluniversal.com.co/regional/gobern...   \n",
       "\n",
       "                                 newspaper_uid                    host  \\\n",
       "uid                                                                      \n",
       "5ef9647a5e0c42cb0650128d16077edf   eluniversal  www.eluniversal.com.co   \n",
       "72709636297ae012421efac327240580   eluniversal  www.eluniversal.com.co   \n",
       "ee078cbf9ad0f942a9ef35e1d8b251fd   eluniversal  www.eluniversal.com.co   \n",
       "0a47a3de2199cd935955a06d89b147af   eluniversal  www.eluniversal.com.co   \n",
       "8e58a14bd82417ee89673256e8700708   eluniversal  www.eluniversal.com.co   \n",
       "...                                        ...                     ...   \n",
       "6c1bbdec7e142d75357dcaa7b4884d56   eluniversal  www.eluniversal.com.co   \n",
       "ba3651ca069af97d63fa00095653f7a8   eluniversal  www.eluniversal.com.co   \n",
       "5579cd5943d55e89dd519fc851f7d700   eluniversal  www.eluniversal.com.co   \n",
       "a8f6125e9b2f4c7831cbd2d567828ac8   eluniversal  www.eluniversal.com.co   \n",
       "3a81e8453470c7469a75d8be4b350d11   eluniversal  www.eluniversal.com.co   \n",
       "\n",
       "                                  n_tokens_title  \n",
       "uid                                               \n",
       "5ef9647a5e0c42cb0650128d16077edf               9  \n",
       "72709636297ae012421efac327240580               7  \n",
       "ee078cbf9ad0f942a9ef35e1d8b251fd               8  \n",
       "0a47a3de2199cd935955a06d89b147af               3  \n",
       "8e58a14bd82417ee89673256e8700708               8  \n",
       "...                                          ...  \n",
       "6c1bbdec7e142d75357dcaa7b4884d56               6  \n",
       "ba3651ca069af97d63fa00095653f7a8               4  \n",
       "5579cd5943d55e89dd519fc851f7d700               4  \n",
       "a8f6125e9b2f4c7831cbd2d567828ac8               2  \n",
       "3a81e8453470c7469a75d8be4b350d11               8  \n",
       "\n",
       "[96 rows x 6 columns]"
      ]
     },
     "execution_count": 77,
     "metadata": {},
     "output_type": "execute_result"
    }
   ],
   "source": [
    "def tokenize_column(df, column):\n",
    "    return (\n",
    "        df[column].dropna()\n",
    "        .apply(lambda row: nltk.word_tokenize(row))\n",
    "        .apply(lambda words: list(filter(lambda word: word.isalpha(), words)))\n",
    "        .apply(lambda words: list(map(lambda word: word.lower(), words)))\n",
    "        .apply(lambda words: list(filter(lambda word: word not in stop_words, words)))\n",
    "        .apply(lambda words: len(words))\n",
    "    )\n",
    "column = 'title'\n",
    "df['n_tokens_'+column] = tokenize_column(df, 'title')\n",
    "df"
   ]
  },
  {
   "cell_type": "markdown",
   "metadata": {},
   "source": [
    "## Datos duplicados"
   ]
  },
  {
   "cell_type": "code",
   "execution_count": 78,
   "metadata": {},
   "outputs": [
    {
     "data": {
      "text/plain": [
       "body              93\n",
       "title             93\n",
       "url               96\n",
       "newspaper_uid      1\n",
       "host               1\n",
       "n_tokens_title     8\n",
       "dtype: int64"
      ]
     },
     "execution_count": 78,
     "metadata": {},
     "output_type": "execute_result"
    }
   ],
   "source": [
    "df.nunique()"
   ]
  },
  {
   "cell_type": "code",
   "execution_count": 79,
   "metadata": {},
   "outputs": [
    {
     "data": {
      "text/plain": [
       "El Curita, mantero cartagenero, fuera de peligro tras ser corneado                   2\n",
       "Con operativos de control, autoridades se tomaron zona sur de Sincelejo              2\n",
       "A Egan Bernal le tratan una infección y contusión pulmonar                           2\n",
       "Video luis fernando el hombre que suena con mejorar el cano juan angola bx5819470    1\n",
       "El Whatsapp destronó a las llamadas telefónicas                                      1\n",
       "                                                                                    ..\n",
       "OMS recomienda priorizar investigación de la versión BA.2 de ómicron                 1\n",
       "Las formas y el fondo                                                                1\n",
       "¿Qué es el síndrome del burnout?                                                     1\n",
       "Nairo Quintana: “Siempre es posible levantarse, abrazo y fortaleza Egan”             1\n",
       "Gobernador decreta nuevamente calamidad pública para la Mojana y el San Jorge        1\n",
       "Name: title, Length: 93, dtype: int64"
      ]
     },
     "execution_count": 79,
     "metadata": {},
     "output_type": "execute_result"
    }
   ],
   "source": [
    "df['title'].value_counts()"
   ]
  },
  {
   "cell_type": "code",
   "execution_count": 80,
   "metadata": {},
   "outputs": [
    {
     "data": {
      "text/html": [
       "<div>\n",
       "<style scoped>\n",
       "    .dataframe tbody tr th:only-of-type {\n",
       "        vertical-align: middle;\n",
       "    }\n",
       "\n",
       "    .dataframe tbody tr th {\n",
       "        vertical-align: top;\n",
       "    }\n",
       "\n",
       "    .dataframe thead th {\n",
       "        text-align: right;\n",
       "    }\n",
       "</style>\n",
       "<table border=\"1\" class=\"dataframe\">\n",
       "  <thead>\n",
       "    <tr style=\"text-align: right;\">\n",
       "      <th></th>\n",
       "      <th>body</th>\n",
       "      <th>title</th>\n",
       "      <th>url</th>\n",
       "      <th>newspaper_uid</th>\n",
       "      <th>host</th>\n",
       "      <th>n_tokens_title</th>\n",
       "    </tr>\n",
       "    <tr>\n",
       "      <th>uid</th>\n",
       "      <th></th>\n",
       "      <th></th>\n",
       "      <th></th>\n",
       "      <th></th>\n",
       "      <th></th>\n",
       "      <th></th>\n",
       "    </tr>\n",
       "  </thead>\n",
       "  <tbody>\n",
       "    <tr>\n",
       "      <th>1e76f1cced96db7d9963e6603d7bede9</th>\n",
       "      <td>El Curita, reconocido mantero oriundo de la ci...</td>\n",
       "      <td>El Curita, mantero cartagenero, fuera de pelig...</td>\n",
       "      <td>https://www.eluniversal.com.co/regional/el-cur...</td>\n",
       "      <td>eluniversal</td>\n",
       "      <td>www.eluniversal.com.co</td>\n",
       "      <td>7</td>\n",
       "    </tr>\n",
       "    <tr>\n",
       "      <th>d312c1d4d067fee335b44b62d352f22a</th>\n",
       "      <td>La Policía Nacional continúa realizado operati...</td>\n",
       "      <td>Con operativos de control, autoridades se toma...</td>\n",
       "      <td>https://www.eluniversal.com.co/regional/con-op...</td>\n",
       "      <td>eluniversal</td>\n",
       "      <td>www.eluniversal.com.co</td>\n",
       "      <td>7</td>\n",
       "    </tr>\n",
       "    <tr>\n",
       "      <th>1b7a78c40b80f05a6ba485fdbab243b2</th>\n",
       "      <td>Tras la tercera cirugía a la que fue sometido ...</td>\n",
       "      <td>A Egan Bernal le tratan una infección y contus...</td>\n",
       "      <td>https://www.eluniversal.com.co/deportes/a-egan...</td>\n",
       "      <td>eluniversal</td>\n",
       "      <td>www.eluniversal.com.co</td>\n",
       "      <td>6</td>\n",
       "    </tr>\n",
       "  </tbody>\n",
       "</table>\n",
       "</div>"
      ],
      "text/plain": [
       "                                                                               body  \\\n",
       "uid                                                                                   \n",
       "1e76f1cced96db7d9963e6603d7bede9  El Curita, reconocido mantero oriundo de la ci...   \n",
       "d312c1d4d067fee335b44b62d352f22a  La Policía Nacional continúa realizado operati...   \n",
       "1b7a78c40b80f05a6ba485fdbab243b2  Tras la tercera cirugía a la que fue sometido ...   \n",
       "\n",
       "                                                                              title  \\\n",
       "uid                                                                                   \n",
       "1e76f1cced96db7d9963e6603d7bede9  El Curita, mantero cartagenero, fuera de pelig...   \n",
       "d312c1d4d067fee335b44b62d352f22a  Con operativos de control, autoridades se toma...   \n",
       "1b7a78c40b80f05a6ba485fdbab243b2  A Egan Bernal le tratan una infección y contus...   \n",
       "\n",
       "                                                                                url  \\\n",
       "uid                                                                                   \n",
       "1e76f1cced96db7d9963e6603d7bede9  https://www.eluniversal.com.co/regional/el-cur...   \n",
       "d312c1d4d067fee335b44b62d352f22a  https://www.eluniversal.com.co/regional/con-op...   \n",
       "1b7a78c40b80f05a6ba485fdbab243b2  https://www.eluniversal.com.co/deportes/a-egan...   \n",
       "\n",
       "                                 newspaper_uid                    host  \\\n",
       "uid                                                                      \n",
       "1e76f1cced96db7d9963e6603d7bede9   eluniversal  www.eluniversal.com.co   \n",
       "d312c1d4d067fee335b44b62d352f22a   eluniversal  www.eluniversal.com.co   \n",
       "1b7a78c40b80f05a6ba485fdbab243b2   eluniversal  www.eluniversal.com.co   \n",
       "\n",
       "                                  n_tokens_title  \n",
       "uid                                               \n",
       "1e76f1cced96db7d9963e6603d7bede9               7  \n",
       "d312c1d4d067fee335b44b62d352f22a               7  \n",
       "1b7a78c40b80f05a6ba485fdbab243b2               6  "
      ]
     },
     "execution_count": 80,
     "metadata": {},
     "output_type": "execute_result"
    }
   ],
   "source": [
    "df[df['title'].duplicated()]"
   ]
  },
  {
   "cell_type": "code",
   "execution_count": 81,
   "metadata": {},
   "outputs": [
    {
     "data": {
      "text/plain": [
       "uid\n",
       "270f8c052c32a47a7b4b0aeb750bbe50    https://www.eluniversal.com.co/sucesos/el-curi...\n",
       "1e76f1cced96db7d9963e6603d7bede9    https://www.eluniversal.com.co/regional/el-cur...\n",
       "Name: url, dtype: object"
      ]
     },
     "execution_count": 81,
     "metadata": {},
     "output_type": "execute_result"
    }
   ],
   "source": [
    "df[df['title'].str.contains('Curita')]['url']"
   ]
  },
  {
   "cell_type": "code",
   "execution_count": 82,
   "metadata": {},
   "outputs": [],
   "source": [
    "df.drop_duplicates(subset=['title'], inplace=True)"
   ]
  },
  {
   "cell_type": "code",
   "execution_count": 83,
   "metadata": {},
   "outputs": [
    {
     "data": {
      "text/plain": [
       "Video luis fernando el hombre que suena con mejorar el cano juan angola bx5819470    1\n",
       "Zonas Francas, un instrumento para la competitividad                                 1\n",
       "[Video] Entre la pobreza y la soledad, así es la vida de María Encarnación           1\n",
       "EE. UU.: Examen de ingreso universitario ahora será digital                          1\n",
       "Juicios por protestas: “En Cuba hay niños presos políticos”                          1\n",
       "                                                                                    ..\n",
       "El Curita, mantero cartagenero, fuera de peligro tras ser corneado                   1\n",
       "¿Qué es el síndrome del burnout?                                                     1\n",
       "Nairo Quintana: “Siempre es posible levantarse, abrazo y fortaleza Egan”             1\n",
       "Carlos Mattos se encuentra en la Clínica Santa Fe por problemas de salud             1\n",
       "Gobernador decreta nuevamente calamidad pública para la Mojana y el San Jorge        1\n",
       "Name: title, Length: 93, dtype: int64"
      ]
     },
     "execution_count": 83,
     "metadata": {},
     "output_type": "execute_result"
    }
   ],
   "source": [
    "df['title'].value_counts()"
   ]
  },
  {
   "cell_type": "code",
   "execution_count": 84,
   "metadata": {},
   "outputs": [
    {
     "data": {
      "text/plain": [
       "body              93\n",
       "title             93\n",
       "url               93\n",
       "newspaper_uid      1\n",
       "host               1\n",
       "n_tokens_title     8\n",
       "dtype: int64"
      ]
     },
     "execution_count": 84,
     "metadata": {},
     "output_type": "execute_result"
    }
   ],
   "source": [
    "df.nunique()"
   ]
  }
 ],
 "metadata": {
  "interpreter": {
   "hash": "80dad90d9d3fce7b8cb42bbf1b2522e1346427693d8d3c087a0e63f90bc89124"
  },
  "kernelspec": {
   "display_name": "Python 3.9.6 64-bit ('venv': venv)",
   "language": "python",
   "name": "python3"
  },
  "language_info": {
   "codemirror_mode": {
    "name": "ipython",
    "version": 3
   },
   "file_extension": ".py",
   "mimetype": "text/x-python",
   "name": "python",
   "nbconvert_exporter": "python",
   "pygments_lexer": "ipython3",
   "version": "3.9.6"
  },
  "orig_nbformat": 4
 },
 "nbformat": 4,
 "nbformat_minor": 2
}
