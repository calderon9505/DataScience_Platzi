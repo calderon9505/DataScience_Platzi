{
 "cells": [
  {
   "cell_type": "markdown",
   "metadata": {},
   "source": [
    "# RDD\n"
   ]
  },
  {
   "cell_type": "code",
   "execution_count": 92,
   "metadata": {},
   "outputs": [],
   "source": [
    "from pyspark import SparkContext"
   ]
  },
  {
   "cell_type": "code",
   "execution_count": 93,
   "metadata": {},
   "outputs": [],
   "source": [
    "sc = SparkContext(master='local', appName='RDD')"
   ]
  },
  {
   "cell_type": "markdown",
   "metadata": {},
   "source": [
    "## Creando mi primer RDD"
   ]
  },
  {
   "cell_type": "code",
   "execution_count": 94,
   "metadata": {},
   "outputs": [
    {
     "data": {
      "text/plain": [
       "pyspark.rdd.RDD"
      ]
     },
     "execution_count": 94,
     "metadata": {},
     "output_type": "execute_result"
    }
   ],
   "source": [
    "rdd1 = sc.parallelize([1,2,3])\n",
    "type(rdd1)"
   ]
  },
  {
   "cell_type": "markdown",
   "metadata": {},
   "source": [
    "se usar ``collect()`` para mostrar todo el RDD seleccionado "
   ]
  },
  {
   "cell_type": "code",
   "execution_count": 95,
   "metadata": {},
   "outputs": [
    {
     "data": {
      "text/plain": [
       "[1, 2, 3]"
      ]
     },
     "execution_count": 95,
     "metadata": {},
     "output_type": "execute_result"
    }
   ],
   "source": [
    "rdd1.collect()"
   ]
  },
  {
   "cell_type": "code",
   "execution_count": 96,
   "metadata": {},
   "outputs": [
    {
     "data": {
      "text/html": [
       "\n",
       "        <div>\n",
       "            <p><b>SparkContext</b></p>\n",
       "\n",
       "            <p><a href=\"http://172.17.172.122:4040\">Spark UI</a></p>\n",
       "\n",
       "            <dl>\n",
       "              <dt>Version</dt>\n",
       "                <dd><code>v3.2.1</code></dd>\n",
       "              <dt>Master</dt>\n",
       "                <dd><code>local</code></dd>\n",
       "              <dt>AppName</dt>\n",
       "                <dd><code>transformacionesYAcciones</code></dd>\n",
       "            </dl>\n",
       "        </div>\n",
       "        "
      ],
      "text/plain": [
       "<SparkContext master=local appName=transformacionesYAcciones>"
      ]
     },
     "execution_count": 96,
     "metadata": {},
     "output_type": "execute_result"
    }
   ],
   "source": [
    "sc"
   ]
  },
  {
   "cell_type": "markdown",
   "metadata": {},
   "source": [
    "## Leyendo desde un archivo"
   ]
  },
  {
   "cell_type": "code",
   "execution_count": 97,
   "metadata": {},
   "outputs": [
    {
     "data": {
      "text/plain": [
       "[['id', 'equipo', 'sigla'],\n",
       " ['1', '30. Februar', 'AUT'],\n",
       " ['2', 'A North American Team', 'MEX'],\n",
       " ['3', 'Acipactli', 'MEX'],\n",
       " ['4', 'Acturus', 'ARG']]"
      ]
     },
     "execution_count": 97,
     "metadata": {},
     "output_type": "execute_result"
    }
   ],
   "source": [
    "equiposOlimpicosRDD = (\n",
    "    sc.textFile('files/paises.csv')\n",
    "    .map(lambda line: line.split(','))\n",
    "    )\n",
    "\n",
    "equiposOlimpicosRDD.take(5)"
   ]
  },
  {
   "cell_type": "markdown",
   "metadata": {},
   "source": [
    "### ¿Cuántos países están juando en los olímpicos?\n"
   ]
  },
  {
   "cell_type": "code",
   "execution_count": 98,
   "metadata": {},
   "outputs": [
    {
     "data": {
      "text/plain": [
       "231"
      ]
     },
     "execution_count": 98,
     "metadata": {},
     "output_type": "execute_result"
    }
   ],
   "source": [
    "equiposOlimpicosRDD.map(lambda fila: fila[2]).distinct().count()"
   ]
  },
  {
   "cell_type": "markdown",
   "metadata": {},
   "source": [
    "### ¿Cuántos equipos distintos tiene cada país?"
   ]
  },
  {
   "cell_type": "markdown",
   "metadata": {},
   "source": [
    "Todo se guarda en formato de *llave valor*, por eso primero debo obtener las siglas del país y luego el nombre del equipo, para que al usar *groupByKey* tome las siglas como *Keys*.\n",
    "\n",
    "`map()` opera sobre toda la tupla (llave-valor), `mapValues()` opera solo sobre el valor."
   ]
  },
  {
   "cell_type": "code",
   "execution_count": 99,
   "metadata": {},
   "outputs": [
    {
     "data": {
      "text/plain": [
       "[('sigla', 1), ('AUT', 11), ('MEX', 9), ('ARG', 18), ('AFG', 1)]"
      ]
     },
     "execution_count": 99,
     "metadata": {},
     "output_type": "execute_result"
    }
   ],
   "source": [
    "equiposOlimpicosRDD \\\n",
    "    .map(lambda fila: (fila[2], fila[1])) \\\n",
    "    .groupByKey() \\\n",
    "    .mapValues(len) \\\n",
    "    .take(5)"
   ]
  },
  {
   "cell_type": "markdown",
   "metadata": {},
   "source": [
    "Aquí ya puedo ver claramente ese formato *clave-valor*"
   ]
  },
  {
   "cell_type": "code",
   "execution_count": 100,
   "metadata": {},
   "outputs": [
    {
     "data": {
      "text/plain": [
       "[('sigla', ['equipo']),\n",
       " ('AUT',\n",
       "  ['30. Februar',\n",
       "   'Austria',\n",
       "   'Austria-1',\n",
       "   'Austria-2',\n",
       "   'Breslau',\n",
       "   'Brigantia',\n",
       "   'Donar III',\n",
       "   'Evita VI',\n",
       "   'May-Be 1960',\n",
       "   '\"R.-V. Germania; Leitmeritz\"',\n",
       "   'Surprise']),\n",
       " ('MEX',\n",
       "  ['A North American Team',\n",
       "   'Acipactli',\n",
       "   'Chamukina',\n",
       "   'Mexico',\n",
       "   'Mexico-1',\n",
       "   'Mexico-2',\n",
       "   'Nausikaa 4',\n",
       "   'Tlaloc',\n",
       "   'Xolotl']),\n",
       " ('ARG',\n",
       "  ['Acturus',\n",
       "   'Antares',\n",
       "   'Arcturus',\n",
       "   'Ardilla',\n",
       "   'Argentina',\n",
       "   'Argentina-1',\n",
       "   'Argentina-2',\n",
       "   'Blue Red',\n",
       "   'Covunco III',\n",
       "   'Cupidon III',\n",
       "   'Djinn',\n",
       "   'Gullvinge',\n",
       "   'Matrero II',\n",
       "   'Mizar',\n",
       "   'Pampero',\n",
       "   'Rampage',\n",
       "   'Tango',\n",
       "   'Wiking']),\n",
       " ('AFG', ['Afghanistan'])]"
      ]
     },
     "execution_count": 100,
     "metadata": {},
     "output_type": "execute_result"
    }
   ],
   "source": [
    "equiposOlimpicosRDD \\\n",
    "    .map(lambda fila: (fila[2], fila[1])) \\\n",
    "    .groupByKey() \\\n",
    "    .mapValues(list). \\\n",
    "    take(5)"
   ]
  },
  {
   "cell_type": "markdown",
   "metadata": {},
   "source": [
    "### Filtrar por país específico"
   ]
  },
  {
   "cell_type": "code",
   "execution_count": 101,
   "metadata": {},
   "outputs": [
    {
     "data": {
      "text/plain": [
       "[['4', 'Acturus', 'ARG'],\n",
       " ['37', 'Antares', 'ARG'],\n",
       " ['42', 'Arcturus', 'ARG'],\n",
       " ['43', 'Ardilla', 'ARG'],\n",
       " ['45', 'Argentina', 'ARG'],\n",
       " ['46', 'Argentina-1', 'ARG'],\n",
       " ['47', 'Argentina-2', 'ARG'],\n",
       " ['119', 'Blue Red', 'ARG'],\n",
       " ['238', 'Covunco III', 'ARG'],\n",
       " ['252', 'Cupidon III', 'ARG'],\n",
       " ['288', 'Djinn', 'ARG'],\n",
       " ['436', 'Gullvinge', 'ARG'],\n",
       " ['644', 'Matrero II', 'ARG'],\n",
       " ['672', 'Mizar', 'ARG'],\n",
       " ['774', 'Pampero', 'ARG'],\n",
       " ['843', 'Rampage', 'ARG'],\n",
       " ['1031', 'Tango', 'ARG'],\n",
       " ['1162', 'Wiking', 'ARG']]"
      ]
     },
     "execution_count": 101,
     "metadata": {},
     "output_type": "execute_result"
    }
   ],
   "source": [
    "equiposArgentinos = equiposOlimpicosRDD.filter(lambda fila: 'ARG' in fila)\n",
    "equiposArgentinos.collect()"
   ]
  },
  {
   "cell_type": "code",
   "execution_count": 102,
   "metadata": {},
   "outputs": [
    {
     "name": "stdout",
     "output_type": "stream",
     "text": [
      "<class 'pyspark.rdd.PipelinedRDD'>\n",
      "<class 'pyspark.rdd.PipelinedRDD'>\n"
     ]
    }
   ],
   "source": [
    "print(type(equiposArgentinos))\n",
    "print(type(equiposOlimpicosRDD))"
   ]
  },
  {
   "cell_type": "markdown",
   "metadata": {},
   "source": [
    "### Conteo aproximado \n",
    "\n",
    "Contar sin morir en el intento\n",
    "\n",
    "Si uso `count()` el programa puede tardar mucho para contar si el set de datos es muy grande. Al usar `countAppronx(ms)` cuenta durante los segundo que se le indique."
   ]
  },
  {
   "cell_type": "code",
   "execution_count": 103,
   "metadata": {},
   "outputs": [
    {
     "data": {
      "text/plain": [
       "1185"
      ]
     },
     "execution_count": 103,
     "metadata": {},
     "output_type": "execute_result"
    }
   ],
   "source": [
    "equiposOlimpicosRDD.countApprox(1)"
   ]
  },
  {
   "cell_type": "code",
   "execution_count": 104,
   "metadata": {},
   "outputs": [
    {
     "name": "stdout",
     "output_type": "stream",
     "text": [
      "deporte.csv\t deportistaError.csv  modelo_relacional.jpg\n",
      "deportista.csv\t evento.csv\t      paises.csv\n",
      "deportista2.csv  juegos.csv\t      resultados.csv\n"
     ]
    }
   ],
   "source": [
    "!ls files/"
   ]
  },
  {
   "cell_type": "markdown",
   "metadata": {},
   "source": [
    "## Operaciones entre conjuntos de datos"
   ]
  },
  {
   "cell_type": "markdown",
   "metadata": {},
   "source": [
    "![](https://raw.githubusercontent.com/terranigmark/curso-apache-spark-platzi/master/files/modelo_relacional.jpg)"
   ]
  },
  {
   "cell_type": "markdown",
   "metadata": {},
   "source": [
    "Deportistas olimpicos. El set esta dividido en dos archivos."
   ]
  },
  {
   "cell_type": "code",
   "execution_count": 105,
   "metadata": {},
   "outputs": [
    {
     "data": {
      "text/plain": [
       "135572"
      ]
     },
     "execution_count": 105,
     "metadata": {},
     "output_type": "execute_result"
    }
   ],
   "source": [
    "deportistaOlimpicoRDD = sc.textFile('files/deportista.csv').map(lambda l: l.split(','))\n",
    "deportistaOlimpicoRDD2 = sc.textFile('files/deportista2.csv').map(lambda l: l.split(','))\n",
    "\n",
    "deportistaOlimpicoRDD = deportistaOlimpicoRDD.union(deportistaOlimpicoRDD2)\n",
    "\n",
    "deportistaOlimpicoRDD.count()"
   ]
  },
  {
   "cell_type": "code",
   "execution_count": 106,
   "metadata": {},
   "outputs": [
    {
     "data": {
      "text/plain": [
       "[['id', 'equipo', 'sigla'],\n",
       " ['1', '30. Februar', 'AUT'],\n",
       " ['2', 'A North American Team', 'MEX'],\n",
       " ['3', 'Acipactli', 'MEX'],\n",
       " ['4', 'Acturus', 'ARG']]"
      ]
     },
     "execution_count": 106,
     "metadata": {},
     "output_type": "execute_result"
    }
   ],
   "source": [
    "equiposOlimpicosRDD.take(5)"
   ]
  },
  {
   "cell_type": "code",
   "execution_count": 107,
   "metadata": {},
   "outputs": [
    {
     "data": {
      "text/plain": [
       "[['deportista_id', 'nombre', 'genero', 'edad', 'altura', 'peso', 'equipo_id'],\n",
       " ['1', 'A Dijiang', '1', '24', '180', '80', '199'],\n",
       " ['2', 'A Lamusi', '1', '23', '170', '60', '199'],\n",
       " ['3', 'Gunnar Nielsen Aaby', '1', '24', '0', '0', '273'],\n",
       " ['4', 'Edgar Lindenau Aabye', '1', '34', '0', '0', '278']]"
      ]
     },
     "execution_count": 107,
     "metadata": {},
     "output_type": "execute_result"
    }
   ],
   "source": [
    "deportistaOlimpicoRDD.take(5)"
   ]
  },
  {
   "cell_type": "markdown",
   "metadata": {},
   "source": [
    "Para hacer un Join debo organizar el set de datos con el `id` como *key* y el resto de datos como *value*.\n",
    "\n",
    "Estoy buscando el país al que corresponde cada jugador."
   ]
  },
  {
   "cell_type": "code",
   "execution_count": 108,
   "metadata": {},
   "outputs": [
    {
     "data": {
      "text/plain": [
       "[['equipo_id',\n",
       "  ['deportista_id', 'nombre', 'genero', 'edad', 'altura', 'peso']],\n",
       " ['199', ['1', 'A Dijiang', '1', '24', '180', '80']],\n",
       " ['199', ['2', 'A Lamusi', '1', '23', '170', '60']],\n",
       " ['273', ['3', 'Gunnar Nielsen Aaby', '1', '24', '0', '0']],\n",
       " ['278', ['4', 'Edgar Lindenau Aabye', '1', '34', '0', '0']]]"
      ]
     },
     "execution_count": 108,
     "metadata": {},
     "output_type": "execute_result"
    }
   ],
   "source": [
    "deportistaOlimpicoRDD.map(lambda l: [l[-1],l[:-1]] ).take(5)"
   ]
  },
  {
   "cell_type": "code",
   "execution_count": 109,
   "metadata": {},
   "outputs": [
    {
     "name": "stderr",
     "output_type": "stream",
     "text": [
      "                                                                                \r"
     ]
    },
    {
     "data": {
      "text/plain": [
       "[('199', (['1', 'A Dijiang', '1', '24', '180', '80'], 'CHN')),\n",
       " ('199', (['2', 'A Lamusi', '1', '23', '170', '60'], 'CHN')),\n",
       " ('199', (['602', 'Abudoureheman', '1', '22', '182', '75'], 'CHN')),\n",
       " ('199', (['1463', 'Ai Linuer', '1', '25', '160', '62'], 'CHN')),\n",
       " ('199', (['1464', 'Ai Yanhan', '2', '14', '168', '54'], 'CHN')),\n",
       " ('199', (['3605', 'An Weijiang', '1', '22', '178', '72'], 'CHN'))]"
      ]
     },
     "execution_count": 109,
     "metadata": {},
     "output_type": "execute_result"
    }
   ],
   "source": [
    "deportistaOlimpicoRDD \\\n",
    "    .map(lambda l: [l[-1],l[:-1]] ) \\\n",
    "    .join(equiposOlimpicosRDD.map(lambda l: [l[0],l[2]])) \\\n",
    "    .take(6)"
   ]
  },
  {
   "cell_type": "markdown",
   "metadata": {},
   "source": [
    "Resultados de la medallería."
   ]
  },
  {
   "cell_type": "code",
   "execution_count": 110,
   "metadata": {},
   "outputs": [
    {
     "name": "stdout",
     "output_type": "stream",
     "text": [
      "[['resultado_id', 'medalla', 'deportista_id', 'juego_id', 'evento_id']]\n"
     ]
    },
    {
     "data": {
      "text/plain": [
       "[['7597', 'NA', '4233', '51', '15'],\n",
       " ['263342', 'NA', '131785', '42', '270'],\n",
       " ['215377', 'NA', '108130', '23', '106'],\n",
       " ['42442', 'NA', '21894', '50', '34'],\n",
       " ['258630', 'NA', '129497', '17', '24'],\n",
       " ['90009', 'NA', '45611', '37', '68'],\n",
       " ['180577', 'NA', '90752', '47', '213'],\n",
       " ['83261', 'NA', '42302', '24', '33'],\n",
       " ['262910', 'NA', '131553', '43', '277'],\n",
       " ['177959', 'NA', '89416', '5', '537']]"
      ]
     },
     "execution_count": 110,
     "metadata": {},
     "output_type": "execute_result"
    }
   ],
   "source": [
    "resultadoRDD = sc.textFile('files/resultados.csv').map(lambda l: l.split(','))\n",
    "print(resultadoRDD.take(1))\n",
    "resultadoRDD.takeSample(False, 10)\n"
   ]
  },
  {
   "cell_type": "markdown",
   "metadata": {},
   "source": [
    "Solo deportistas que han obtenido una medalla."
   ]
  },
  {
   "cell_type": "code",
   "execution_count": 111,
   "metadata": {},
   "outputs": [
    {
     "name": "stdout",
     "output_type": "stream",
     "text": [
      "[['resultado_id', 'medalla', 'deportista_id', 'juego_id', 'evento_id']]\n"
     ]
    },
    {
     "data": {
      "text/plain": [
       "[['33010', 'Bronze', '16986', '21', '402'],\n",
       " ['47729', 'Bronze', '24609', '51', '55'],\n",
       " ['86451', 'Silver', '43834', '49', '245'],\n",
       " ['144926', 'Gold', '72731', '47', '281'],\n",
       " ['57851', 'Bronze', '29627', '49', '87'],\n",
       " ['66764', 'Bronze', '34151', '27', '119'],\n",
       " ['1756', 'Gold', '974', '6', '298'],\n",
       " ['219438', 'Silver', '110228', '29', '106'],\n",
       " ['255297', 'Silver', '127806', '29', '204'],\n",
       " ['237155', 'Bronze', '118933', '49', '46']]"
      ]
     },
     "execution_count": 111,
     "metadata": {},
     "output_type": "execute_result"
    }
   ],
   "source": [
    "ganadores = resultadoRDD.filter(lambda l: 'NA' not in l[1])\n",
    "print(ganadores.take(1))\n",
    "ganadores.takeSample(False, 10)"
   ]
  },
  {
   "cell_type": "markdown",
   "metadata": {},
   "source": [
    "Estoy buscando la medalla que ha ganado cada jugador unido al país al que pertenece."
   ]
  },
  {
   "cell_type": "code",
   "execution_count": 112,
   "metadata": {},
   "outputs": [
    {
     "name": "stderr",
     "output_type": "stream",
     "text": [
      "                                                                                \r"
     ]
    },
    {
     "data": {
      "text/plain": [
       "[('7597',\n",
       "  (('199', ['Bao Yingying', '2', '24', '172', '67'], 'CHN'), ['Silver'])),\n",
       " ('17282',\n",
       "  (('199', ['Cai Huijue', '2', '16', '174', '63'], 'CHN'), ['Bronze'])),\n",
       " ('17996',\n",
       "  (('199', ['Cao Mianying', '2', '21', '176', '71'], 'CHN'), ['Silver'])),\n",
       " ('19779', (('199', ['Chang Si', '2', '25', '170', '56'], 'CHN'), ['Silver'])),\n",
       " ('19791',\n",
       "  (('199', ['Chang Yongxiang', '1', '24', '178', '74'], 'CHN'), ['Silver']))]"
      ]
     },
     "execution_count": 112,
     "metadata": {},
     "output_type": "execute_result"
    }
   ],
   "source": [
    "deportista_pais_medalla = (deportistaOlimpicoRDD\n",
    "    .map(lambda l: [l[-1],l[:-1]])\n",
    "    .join(equiposOlimpicosRDD.map(lambda l: [l[0],l[2]]))\n",
    "    .map(lambda l: (l[1][0][0], (l[0], l[1][0][1:], l[1][1]) ))\n",
    "    # la key es deportista id\n",
    "    # el value es equipo_id, datos del jugador, pais\n",
    "    .join(ganadores.map(lambda l: [l[2],[l[1]]]) )\n",
    "    )\n",
    "deportista_pais_medalla.take(5)"
   ]
  },
  {
   "cell_type": "markdown",
   "metadata": {},
   "source": [
    "Revisando si salen los jugadores que han ganado más de una medalla"
   ]
  },
  {
   "cell_type": "code",
   "execution_count": 113,
   "metadata": {},
   "outputs": [
    {
     "data": {
      "text/plain": [
       "[('17',\n",
       "  (('350', ['Paavo Johannes Aaltonen', '1', '28', '175', '64'], 'FIN'),\n",
       "   ['Bronze'])),\n",
       " ('17',\n",
       "  (('350', ['Paavo Johannes Aaltonen', '1', '28', '175', '64'], 'FIN'),\n",
       "   ['Gold'])),\n",
       " ('17',\n",
       "  (('350', ['Paavo Johannes Aaltonen', '1', '28', '175', '64'], 'FIN'),\n",
       "   ['Gold'])),\n",
       " ('17',\n",
       "  (('350', ['Paavo Johannes Aaltonen', '1', '28', '175', '64'], 'FIN'),\n",
       "   ['Gold'])),\n",
       " ('17',\n",
       "  (('350', ['Paavo Johannes Aaltonen', '1', '28', '175', '64'], 'FIN'),\n",
       "   ['Bronze']))]"
      ]
     },
     "execution_count": 113,
     "metadata": {},
     "output_type": "execute_result"
    }
   ],
   "source": [
    "deportista_pais_medalla.filter(lambda l: l[0] == '17').take(5)"
   ]
  },
  {
   "cell_type": "markdown",
   "metadata": {},
   "source": [
    "### Obteniendo puntajes de los olimpicos por país"
   ]
  },
  {
   "cell_type": "code",
   "execution_count": 117,
   "metadata": {},
   "outputs": [
    {
     "data": {
      "text/plain": [
       "7"
      ]
     },
     "execution_count": 117,
     "metadata": {},
     "output_type": "execute_result"
    }
   ],
   "source": [
    "valoresMedallas = {'Gold':7, 'Silver':5, 'Bronze':4}\n",
    "valoresMedallas['Gold']"
   ]
  },
  {
   "cell_type": "code",
   "execution_count": 123,
   "metadata": {},
   "outputs": [
    {
     "data": {
      "text/plain": [
       "[['CHN', 5], ['CHN', 4], ['CHN', 5], ['CHN', 5], ['CHN', 5]]"
      ]
     },
     "execution_count": 123,
     "metadata": {},
     "output_type": "execute_result"
    }
   ],
   "source": [
    "paises_medallas = (deportista_pais_medalla\n",
    "    .map(lambda l: [ l[1][0][-1], valoresMedallas[l[1][1][0]] ])\n",
    "    )\n",
    "paises_medallas.take(5)"
   ]
  },
  {
   "cell_type": "code",
   "execution_count": 127,
   "metadata": {},
   "outputs": [
    {
     "name": "stderr",
     "output_type": "stream",
     "text": [
      "                                                                                \r"
     ]
    },
    {
     "data": {
      "text/plain": [
       "[('USA', 32137),\n",
       " ('URS', 14834),\n",
       " ('GBR', 10925),\n",
       " ('GER', 10896),\n",
       " ('FRA', 9265),\n",
       " ('ITA', 8755),\n",
       " ('SWE', 8110),\n",
       " ('CAN', 7209),\n",
       " ('AUS', 6755),\n",
       " ('HUN', 6142),\n",
       " ('GDR', 5992),\n",
       " ('NOR', 5627),\n",
       " ('CHN', 5362),\n",
       " ('NED', 5351),\n",
       " ('RUS', 5298),\n",
       " ('JPN', 4702),\n",
       " ('FIN', 4464),\n",
       " ('SUI', 3530),\n",
       " ('KOR', 3472),\n",
       " ('ROU', 3317),\n",
       " ('FRG', 3174),\n",
       " ('DEN', 3156),\n",
       " ('POL', 2802),\n",
       " ('TCH', 2575),\n",
       " ('ESP', 2517),\n",
       " ('BRA', 2402),\n",
       " ('BEL', 2372),\n",
       " ('AUT', 2292),\n",
       " ('CUB', 2262),\n",
       " ('YUG', 2256),\n",
       " ('EUN', 1902),\n",
       " ('BUL', 1678),\n",
       " ('ARG', 1465),\n",
       " ('GRE', 1287),\n",
       " ('NZL', 1233),\n",
       " ('IND', 1231),\n",
       " ('UKR', 999),\n",
       " ('JAM', 847),\n",
       " ('CRO', 730),\n",
       " ('RSA', 685),\n",
       " ('PAK', 645),\n",
       " ('CZE', 594),\n",
       " ('BLR', 575),\n",
       " ('KEN', 567),\n",
       " ('MEX', 564),\n",
       " ('TUR', 526),\n",
       " ('NGR', 505),\n",
       " ('SCG', 373),\n",
       " ('SRB', 359),\n",
       " ('IRI', 347),\n",
       " ('URU', 347),\n",
       " ('KAZ', 336),\n",
       " ('PRK', 332),\n",
       " ('ETH', 287),\n",
       " ('IRL', 247),\n",
       " ('SVK', 247),\n",
       " ('EST', 240),\n",
       " ('LTU', 230),\n",
       " ('TPE', 224),\n",
       " ('INA', 219),\n",
       " ('AZE', 206),\n",
       " ('SLO', 202),\n",
       " ('BAH', 198),\n",
       " ('ANZ', 193),\n",
       " ('POR', 182),\n",
       " ('UZB', 173),\n",
       " ('LAT', 165),\n",
       " ('TTO', 157),\n",
       " ('THA', 155),\n",
       " ('CMR', 154),\n",
       " ('GEO', 154),\n",
       " ('CHI', 146),\n",
       " ('ZIM', 143),\n",
       " ('EGY', 137),\n",
       " ('COL', 131),\n",
       " ('MGL', 124),\n",
       " ('MAR', 115),\n",
       " ('GHA', 93),\n",
       " ('FIJ', 91),\n",
       " ('ARM', 90),\n",
       " ('ALG', 87),\n",
       " ('PAR', 85),\n",
       " ('ISL', 83),\n",
       " ('PER', 77),\n",
       " ('MAS', 75),\n",
       " ('MNE', 70),\n",
       " ('VEN', 69),\n",
       " ('TUN', 64),\n",
       " ('BOH', 53),\n",
       " ('LUX', 48),\n",
       " ('LIE', 44),\n",
       " ('PHI', 43),\n",
       " ('SGP', 43),\n",
       " ('PUR', 41),\n",
       " ('ISR', 40),\n",
       " ('DOM', 39),\n",
       " ('UGA', 37),\n",
       " ('HAI', 25),\n",
       " ('KSA', 25),\n",
       " ('MDA', 24),\n",
       " ('VIE', 22),\n",
       " ('QAT', 21),\n",
       " ('HKG', 21),\n",
       " ('CRC', 20),\n",
       " ('NAM', 20),\n",
       " ('TJK', 20),\n",
       " ('KUW', 19),\n",
       " ('IOA', 19),\n",
       " ('LIB', 18),\n",
       " ('BRN', 16),\n",
       " ('CIV', 16),\n",
       " ('ALB', 16),\n",
       " ('SYR', 16),\n",
       " ('PAN', 15),\n",
       " ('SAA', 15),\n",
       " ('KGZ', 13),\n",
       " ('BDI', 12),\n",
       " ('GRN', 12),\n",
       " ('ECU', 12),\n",
       " ('SUR', 11),\n",
       " ('MOZ', 11),\n",
       " ('SRI', 10),\n",
       " ('TAN', 10),\n",
       " ('ZAM', 9),\n",
       " ('UAR', 9),\n",
       " ('NIG', 9),\n",
       " ('AFG', 8),\n",
       " ('JOR', 7),\n",
       " ('UAE', 7),\n",
       " ('NEP', 7),\n",
       " ('CYP', 5),\n",
       " ('GUA', 5),\n",
       " ('TKM', 5),\n",
       " ('TGA', 5),\n",
       " ('AHO', 5),\n",
       " ('SUD', 5),\n",
       " ('ISV', 5),\n",
       " ('BOT', 5),\n",
       " ('GAB', 5),\n",
       " ('SEN', 5),\n",
       " ('IRQ', 4),\n",
       " ('BAR', 4),\n",
       " ('MRI', 4),\n",
       " ('ERI', 4),\n",
       " ('GUY', 4),\n",
       " ('WIF', 4),\n",
       " ('MON', 4),\n",
       " ('DJI', 4),\n",
       " ('TOG', 4),\n",
       " ('BER', 4)]"
      ]
     },
     "execution_count": 127,
     "metadata": {},
     "output_type": "execute_result"
    }
   ],
   "source": [
    "from operator import add\n",
    "conclusion = (paises_medallas\n",
    "    .reduceByKey((add))\n",
    "    .sortBy(lambda l: l[1], ascending=False)\n",
    "    )\n",
    "conclusion.collect()"
   ]
  },
  {
   "cell_type": "code",
   "execution_count": 133,
   "metadata": {},
   "outputs": [],
   "source": [
    "import matplotlib.pyplot as plt\n"
   ]
  },
  {
   "cell_type": "code",
   "execution_count": 136,
   "metadata": {},
   "outputs": [
    {
     "data": {
      "text/plain": [
       "([0, 1, 2, 3, 4, 5, 6, 7, 8, 9, 10, 11, 12, 13, 14, 15, 16, 17, 18, 19],\n",
       " [Text(0, 0, ''),\n",
       "  Text(0, 0, ''),\n",
       "  Text(0, 0, ''),\n",
       "  Text(0, 0, ''),\n",
       "  Text(0, 0, ''),\n",
       "  Text(0, 0, ''),\n",
       "  Text(0, 0, ''),\n",
       "  Text(0, 0, ''),\n",
       "  Text(0, 0, ''),\n",
       "  Text(0, 0, ''),\n",
       "  Text(0, 0, ''),\n",
       "  Text(0, 0, ''),\n",
       "  Text(0, 0, ''),\n",
       "  Text(0, 0, ''),\n",
       "  Text(0, 0, ''),\n",
       "  Text(0, 0, ''),\n",
       "  Text(0, 0, ''),\n",
       "  Text(0, 0, ''),\n",
       "  Text(0, 0, ''),\n",
       "  Text(0, 0, '')])"
      ]
     },
     "execution_count": 136,
     "metadata": {},
     "output_type": "execute_result"
    },
    {
     "data": {
      "image/png": "[encoded data removed]",
      "text/plain": [
       "<Figure size 432x288 with 1 Axes>"
      ]
     },
     "metadata": {
      "needs_background": "light"
     },
     "output_type": "display_data"
    }
   ],
   "source": [
    "plt.scatter(conclusion.map(lambda x: x[0]).take(20) , conclusion.map(lambda x: x[1]).take(20))\n",
    "plt.xticks(rotation=90)"
   ]
  },
  {
   "cell_type": "markdown",
   "metadata": {},
   "source": [
    "Funciones de acción usadas hasta ahora\n",
    "\n",
    "`top(n)`\n",
    "\n",
    "`take(n)`\n",
    "\n",
    "`takeSample(bool, n)`"
   ]
  },
  {
   "cell_type": "code",
   "execution_count": 91,
   "metadata": {},
   "outputs": [],
   "source": [
    "sc.stop()"
   ]
  }
 ],
 "metadata": {
  "interpreter": {
   "hash": "7eec1dd3093dcbd9d6d4051608c39e7519e208209da012ad9e85a161fe621224"
  },
  "kernelspec": {
   "display_name": "Python 3.8.10 ('spark-env')",
   "language": "python",
   "name": "python3"
  },
  "language_info": {
   "codemirror_mode": {
    "name": "ipython",
    "version": 3
   },
   "file_extension": ".py",
   "mimetype": "text/x-python",
   "name": "python",
   "nbconvert_exporter": "python",
   "pygments_lexer": "ipython3",
   "version": "3.8.10"
  },
  "orig_nbformat": 4
 },
 "nbformat": 4,
 "nbformat_minor": 2
}
