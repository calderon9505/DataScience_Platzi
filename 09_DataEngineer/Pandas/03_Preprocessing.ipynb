{
 "cells": [
  {
   "cell_type": "markdown",
   "metadata": {},
   "source": [
    "# RUTINA DE PREPROCESAMIENTO DE DATOS"
   ]
  },
  {
   "cell_type": "markdown",
   "metadata": {},
   "source": [
    "[Dataset Search](https://datasetsearch.research.google.com/)"
   ]
  },
  {
   "cell_type": "code",
   "execution_count": 12,
   "metadata": {},
   "outputs": [],
   "source": [
    "import pandas as pd\n",
    "\n",
    "pd.options.display.float_format = '{:_.1f}'.format"
   ]
  },
  {
   "cell_type": "markdown",
   "metadata": {},
   "source": [
    "## Analizando un DF"
   ]
  },
  {
   "cell_type": "code",
   "execution_count": 13,
   "metadata": {},
   "outputs": [
    {
     "data": {
      "text/html": [
       "<div>\n",
       "<style scoped>\n",
       "    .dataframe tbody tr th:only-of-type {\n",
       "        vertical-align: middle;\n",
       "    }\n",
       "\n",
       "    .dataframe tbody tr th {\n",
       "        vertical-align: top;\n",
       "    }\n",
       "\n",
       "    .dataframe thead th {\n",
       "        text-align: right;\n",
       "    }\n",
       "</style>\n",
       "<table border=\"1\" class=\"dataframe\">\n",
       "  <thead>\n",
       "    <tr style=\"text-align: right;\">\n",
       "      <th></th>\n",
       "      <th>name</th>\n",
       "      <th>id</th>\n",
       "      <th>nametype</th>\n",
       "      <th>recclass</th>\n",
       "      <th>mass (g)</th>\n",
       "      <th>fall</th>\n",
       "      <th>year</th>\n",
       "      <th>reclat</th>\n",
       "      <th>reclong</th>\n",
       "      <th>GeoLocation</th>\n",
       "    </tr>\n",
       "  </thead>\n",
       "  <tbody>\n",
       "    <tr>\n",
       "      <th>41126</th>\n",
       "      <td>Yamato 791934</td>\n",
       "      <td>27283</td>\n",
       "      <td>Valid</td>\n",
       "      <td>H4</td>\n",
       "      <td>40.0</td>\n",
       "      <td>Found</td>\n",
       "      <td>01/01/1979 12:00:00 AM</td>\n",
       "      <td>-71.5</td>\n",
       "      <td>35.7</td>\n",
       "      <td>(-71.5, 35.66667)</td>\n",
       "    </tr>\n",
       "    <tr>\n",
       "      <th>31144</th>\n",
       "      <td>Park</td>\n",
       "      <td>18104</td>\n",
       "      <td>Valid</td>\n",
       "      <td>L6</td>\n",
       "      <td>13_000.0</td>\n",
       "      <td>Found</td>\n",
       "      <td>01/01/1969 12:00:00 AM</td>\n",
       "      <td>39.1</td>\n",
       "      <td>-100.4</td>\n",
       "      <td>(39.11, -100.36167)</td>\n",
       "    </tr>\n",
       "    <tr>\n",
       "      <th>2453</th>\n",
       "      <td>Allan Hills A77014</td>\n",
       "      <td>1329</td>\n",
       "      <td>Valid</td>\n",
       "      <td>H5</td>\n",
       "      <td>308.8</td>\n",
       "      <td>Found</td>\n",
       "      <td>01/01/1977 12:00:00 AM</td>\n",
       "      <td>-76.7</td>\n",
       "      <td>159.7</td>\n",
       "      <td>(-76.71667, 159.66667)</td>\n",
       "    </tr>\n",
       "    <tr>\n",
       "      <th>5857</th>\n",
       "      <td>Dar al Gani 104</td>\n",
       "      <td>5654</td>\n",
       "      <td>Valid</td>\n",
       "      <td>H6</td>\n",
       "      <td>269.0</td>\n",
       "      <td>Found</td>\n",
       "      <td>01/01/1996 12:00:00 AM</td>\n",
       "      <td>27.1</td>\n",
       "      <td>16.1</td>\n",
       "      <td>(27.13533, 16.052)</td>\n",
       "    </tr>\n",
       "  </tbody>\n",
       "</table>\n",
       "</div>"
      ],
      "text/plain": [
       "                     name     id nametype recclass  mass (g)   fall  \\\n",
       "41126       Yamato 791934  27283    Valid       H4      40.0  Found   \n",
       "31144                Park  18104    Valid       L6  13_000.0  Found   \n",
       "2453   Allan Hills A77014   1329    Valid       H5     308.8  Found   \n",
       "5857      Dar al Gani 104   5654    Valid       H6     269.0  Found   \n",
       "\n",
       "                         year  reclat  reclong             GeoLocation  \n",
       "41126  01/01/1979 12:00:00 AM   -71.5     35.7       (-71.5, 35.66667)  \n",
       "31144  01/01/1969 12:00:00 AM    39.1   -100.4     (39.11, -100.36167)  \n",
       "2453   01/01/1977 12:00:00 AM   -76.7    159.7  (-76.71667, 159.66667)  \n",
       "5857   01/01/1996 12:00:00 AM    27.1     16.1      (27.13533, 16.052)  "
      ]
     },
     "execution_count": 13,
     "metadata": {},
     "output_type": "execute_result"
    }
   ],
   "source": [
    "df_meteorites = pd.read_csv('files/Meteorite_Landings.csv')\n",
    "df_meteorites.sample(4)"
   ]
  },
  {
   "cell_type": "code",
   "execution_count": 14,
   "metadata": {},
   "outputs": [
    {
     "data": {
      "text/plain": [
       "(45716, 10)"
      ]
     },
     "execution_count": 14,
     "metadata": {},
     "output_type": "execute_result"
    }
   ],
   "source": [
    "df_meteorites.shape"
   ]
  },
  {
   "cell_type": "code",
   "execution_count": 15,
   "metadata": {},
   "outputs": [
    {
     "data": {
      "text/html": [
       "<div>\n",
       "<style scoped>\n",
       "    .dataframe tbody tr th:only-of-type {\n",
       "        vertical-align: middle;\n",
       "    }\n",
       "\n",
       "    .dataframe tbody tr th {\n",
       "        vertical-align: top;\n",
       "    }\n",
       "\n",
       "    .dataframe thead th {\n",
       "        text-align: right;\n",
       "    }\n",
       "</style>\n",
       "<table border=\"1\" class=\"dataframe\">\n",
       "  <thead>\n",
       "    <tr style=\"text-align: right;\">\n",
       "      <th></th>\n",
       "      <th>id</th>\n",
       "      <th>mass (g)</th>\n",
       "      <th>reclat</th>\n",
       "      <th>reclong</th>\n",
       "    </tr>\n",
       "  </thead>\n",
       "  <tbody>\n",
       "    <tr>\n",
       "      <th>count</th>\n",
       "      <td>45_716.0</td>\n",
       "      <td>45_585.0</td>\n",
       "      <td>38_401.0</td>\n",
       "      <td>38_401.0</td>\n",
       "    </tr>\n",
       "    <tr>\n",
       "      <th>mean</th>\n",
       "      <td>26_889.7</td>\n",
       "      <td>13_278.1</td>\n",
       "      <td>-39.1</td>\n",
       "      <td>61.1</td>\n",
       "    </tr>\n",
       "    <tr>\n",
       "      <th>std</th>\n",
       "      <td>16_860.7</td>\n",
       "      <td>574_988.9</td>\n",
       "      <td>46.4</td>\n",
       "      <td>80.6</td>\n",
       "    </tr>\n",
       "    <tr>\n",
       "      <th>min</th>\n",
       "      <td>1.0</td>\n",
       "      <td>0.0</td>\n",
       "      <td>-87.4</td>\n",
       "      <td>-165.4</td>\n",
       "    </tr>\n",
       "    <tr>\n",
       "      <th>25%</th>\n",
       "      <td>12_688.8</td>\n",
       "      <td>7.2</td>\n",
       "      <td>-76.7</td>\n",
       "      <td>0.0</td>\n",
       "    </tr>\n",
       "    <tr>\n",
       "      <th>50%</th>\n",
       "      <td>24_261.5</td>\n",
       "      <td>32.6</td>\n",
       "      <td>-71.5</td>\n",
       "      <td>35.7</td>\n",
       "    </tr>\n",
       "    <tr>\n",
       "      <th>75%</th>\n",
       "      <td>40_656.8</td>\n",
       "      <td>202.6</td>\n",
       "      <td>0.0</td>\n",
       "      <td>157.2</td>\n",
       "    </tr>\n",
       "    <tr>\n",
       "      <th>max</th>\n",
       "      <td>57_458.0</td>\n",
       "      <td>60_000_000.0</td>\n",
       "      <td>81.2</td>\n",
       "      <td>354.5</td>\n",
       "    </tr>\n",
       "  </tbody>\n",
       "</table>\n",
       "</div>"
      ],
      "text/plain": [
       "            id     mass (g)   reclat  reclong\n",
       "count 45_716.0     45_585.0 38_401.0 38_401.0\n",
       "mean  26_889.7     13_278.1    -39.1     61.1\n",
       "std   16_860.7    574_988.9     46.4     80.6\n",
       "min        1.0          0.0    -87.4   -165.4\n",
       "25%   12_688.8          7.2    -76.7      0.0\n",
       "50%   24_261.5         32.6    -71.5     35.7\n",
       "75%   40_656.8        202.6      0.0    157.2\n",
       "max   57_458.0 60_000_000.0     81.2    354.5"
      ]
     },
     "execution_count": 15,
     "metadata": {},
     "output_type": "execute_result"
    }
   ],
   "source": [
    "df_meteorites.describe()"
   ]
  },
  {
   "cell_type": "code",
   "execution_count": 16,
   "metadata": {},
   "outputs": [
    {
     "name": "stdout",
     "output_type": "stream",
     "text": [
      "<class 'pandas.core.frame.DataFrame'>\n",
      "RangeIndex: 45716 entries, 0 to 45715\n",
      "Data columns (total 10 columns):\n",
      " #   Column       Non-Null Count  Dtype  \n",
      "---  ------       --------------  -----  \n",
      " 0   name         45716 non-null  object \n",
      " 1   id           45716 non-null  int64  \n",
      " 2   nametype     45716 non-null  object \n",
      " 3   recclass     45716 non-null  object \n",
      " 4   mass (g)     45585 non-null  float64\n",
      " 5   fall         45716 non-null  object \n",
      " 6   year         45425 non-null  object \n",
      " 7   reclat       38401 non-null  float64\n",
      " 8   reclong      38401 non-null  float64\n",
      " 9   GeoLocation  38401 non-null  object \n",
      "dtypes: float64(3), int64(1), object(6)\n",
      "memory usage: 3.5+ MB\n"
     ]
    }
   ],
   "source": [
    "df_meteorites.info()"
   ]
  },
  {
   "cell_type": "markdown",
   "metadata": {},
   "source": [
    "Nueva funcionalidad que permite encontrar el formato más adecudo par las varaibles y convertirlas.\n",
    "\n",
    "Int64 a diferencia de int64 (minuscula) puede entender los NaN"
   ]
  },
  {
   "cell_type": "code",
   "execution_count": 17,
   "metadata": {},
   "outputs": [
    {
     "data": {
      "text/plain": [
       "name            string\n",
       "id               Int64\n",
       "nametype        string\n",
       "recclass        string\n",
       "mass (g)       Float64\n",
       "fall            string\n",
       "year            string\n",
       "reclat         Float64\n",
       "reclong        Float64\n",
       "GeoLocation     string\n",
       "dtype: object"
      ]
     },
     "execution_count": 17,
     "metadata": {},
     "output_type": "execute_result"
    }
   ],
   "source": [
    "df_meteorites = df_meteorites.convert_dtypes()\n",
    "df_meteorites.dtypes"
   ]
  },
  {
   "cell_type": "markdown",
   "metadata": {},
   "source": [
    "## Categorización"
   ]
  },
  {
   "cell_type": "markdown",
   "metadata": {},
   "source": [
    "conteo de valores distintos en cada columna"
   ]
  },
  {
   "cell_type": "code",
   "execution_count": 18,
   "metadata": {},
   "outputs": [
    {
     "data": {
      "text/plain": [
       "name           45716\n",
       "id             45716\n",
       "nametype           2\n",
       "recclass         466\n",
       "mass (g)       12576\n",
       "fall               2\n",
       "year             266\n",
       "reclat         12738\n",
       "reclong        14640\n",
       "GeoLocation    17100\n",
       "dtype: int64"
      ]
     },
     "execution_count": 18,
     "metadata": {},
     "output_type": "execute_result"
    }
   ],
   "source": [
    "df_meteorites.nunique()"
   ]
  },
  {
   "cell_type": "markdown",
   "metadata": {},
   "source": [
    "*nametype* y *fall* son variables cetegóricas."
   ]
  },
  {
   "cell_type": "code",
   "execution_count": 19,
   "metadata": {},
   "outputs": [
    {
     "data": {
      "text/plain": [
       "<StringArray>\n",
       "['Valid', 'Relict']\n",
       "Length: 2, dtype: string"
      ]
     },
     "execution_count": 19,
     "metadata": {},
     "output_type": "execute_result"
    }
   ],
   "source": [
    "df_meteorites.nametype.unique()"
   ]
  },
  {
   "cell_type": "code",
   "execution_count": 20,
   "metadata": {},
   "outputs": [
    {
     "data": {
      "text/plain": [
       "<StringArray>\n",
       "['Fell', 'Found']\n",
       "Length: 2, dtype: string"
      ]
     },
     "execution_count": 20,
     "metadata": {},
     "output_type": "execute_result"
    }
   ],
   "source": [
    "df_meteorites.fall.unique()"
   ]
  },
  {
   "cell_type": "code",
   "execution_count": 21,
   "metadata": {},
   "outputs": [
    {
     "data": {
      "text/plain": [
       "<StringArray>\n",
       "['Fell', 'Found']\n",
       "Length: 2, dtype: string"
      ]
     },
     "execution_count": 21,
     "metadata": {},
     "output_type": "execute_result"
    }
   ],
   "source": [
    "df_meteorites['fall'].unique()"
   ]
  },
  {
   "cell_type": "code",
   "execution_count": 36,
   "metadata": {},
   "outputs": [
    {
     "data": {
      "text/plain": [
       "Found    44609\n",
       "Fell      1107\n",
       "Name: fall, dtype: int64"
      ]
     },
     "execution_count": 36,
     "metadata": {},
     "output_type": "execute_result"
    }
   ],
   "source": [
    "df_meteorites['fall'].value_counts()"
   ]
  },
  {
   "cell_type": "markdown",
   "metadata": {},
   "source": [
    "The function is a shortcut, as it is actually a groupby operation in combination with counting of the number of records within each group:\n",
    "\n",
    "```\n",
    "titanic.groupby(\"fall\")[\"fall\"].count()\n",
    "```"
   ]
  },
  {
   "cell_type": "markdown",
   "metadata": {},
   "source": [
    "Vamos a convertir el tipo de datos de estas columnas a tipo *category*."
   ]
  },
  {
   "cell_type": "code",
   "execution_count": 23,
   "metadata": {},
   "outputs": [
    {
     "data": {
      "text/plain": [
       "name             string\n",
       "id                Int64\n",
       "nametype       category\n",
       "recclass         string\n",
       "mass (g)        Float64\n",
       "fall           category\n",
       "year             string\n",
       "reclat          Float64\n",
       "reclong         Float64\n",
       "GeoLocation      string\n",
       "dtype: object"
      ]
     },
     "execution_count": 23,
     "metadata": {},
     "output_type": "execute_result"
    }
   ],
   "source": [
    "df_meteorites[['nametype','fall']] = df_meteorites[['nametype','fall']].astype('category')\n",
    "df_meteorites.dtypes"
   ]
  },
  {
   "cell_type": "code",
   "execution_count": 24,
   "metadata": {},
   "outputs": [
    {
     "data": {
      "text/html": [
       "<div>\n",
       "<style scoped>\n",
       "    .dataframe tbody tr th:only-of-type {\n",
       "        vertical-align: middle;\n",
       "    }\n",
       "\n",
       "    .dataframe tbody tr th {\n",
       "        vertical-align: top;\n",
       "    }\n",
       "\n",
       "    .dataframe thead th {\n",
       "        text-align: right;\n",
       "    }\n",
       "</style>\n",
       "<table border=\"1\" class=\"dataframe\">\n",
       "  <thead>\n",
       "    <tr style=\"text-align: right;\">\n",
       "      <th></th>\n",
       "      <th>Fell</th>\n",
       "      <th>Found</th>\n",
       "    </tr>\n",
       "  </thead>\n",
       "  <tbody>\n",
       "    <tr>\n",
       "      <th>0</th>\n",
       "      <td>1</td>\n",
       "      <td>0</td>\n",
       "    </tr>\n",
       "    <tr>\n",
       "      <th>1</th>\n",
       "      <td>1</td>\n",
       "      <td>0</td>\n",
       "    </tr>\n",
       "    <tr>\n",
       "      <th>2</th>\n",
       "      <td>1</td>\n",
       "      <td>0</td>\n",
       "    </tr>\n",
       "    <tr>\n",
       "      <th>3</th>\n",
       "      <td>1</td>\n",
       "      <td>0</td>\n",
       "    </tr>\n",
       "    <tr>\n",
       "      <th>4</th>\n",
       "      <td>1</td>\n",
       "      <td>0</td>\n",
       "    </tr>\n",
       "    <tr>\n",
       "      <th>...</th>\n",
       "      <td>...</td>\n",
       "      <td>...</td>\n",
       "    </tr>\n",
       "    <tr>\n",
       "      <th>45711</th>\n",
       "      <td>0</td>\n",
       "      <td>1</td>\n",
       "    </tr>\n",
       "    <tr>\n",
       "      <th>45712</th>\n",
       "      <td>0</td>\n",
       "      <td>1</td>\n",
       "    </tr>\n",
       "    <tr>\n",
       "      <th>45713</th>\n",
       "      <td>0</td>\n",
       "      <td>1</td>\n",
       "    </tr>\n",
       "    <tr>\n",
       "      <th>45714</th>\n",
       "      <td>0</td>\n",
       "      <td>1</td>\n",
       "    </tr>\n",
       "    <tr>\n",
       "      <th>45715</th>\n",
       "      <td>0</td>\n",
       "      <td>1</td>\n",
       "    </tr>\n",
       "  </tbody>\n",
       "</table>\n",
       "<p>45716 rows × 2 columns</p>\n",
       "</div>"
      ],
      "text/plain": [
       "       Fell  Found\n",
       "0         1      0\n",
       "1         1      0\n",
       "2         1      0\n",
       "3         1      0\n",
       "4         1      0\n",
       "...     ...    ...\n",
       "45711     0      1\n",
       "45712     0      1\n",
       "45713     0      1\n",
       "45714     0      1\n",
       "45715     0      1\n",
       "\n",
       "[45716 rows x 2 columns]"
      ]
     },
     "execution_count": 24,
     "metadata": {},
     "output_type": "execute_result"
    }
   ],
   "source": [
    "pd.get_dummies(df_meteorites['fall'])"
   ]
  },
  {
   "cell_type": "markdown",
   "metadata": {},
   "source": [
    "Con esto estamos finalmente categorizando la columna *fall* en dos columnas (fell y found). Esto es el mapeo de variables categóricas que vimos en el curso de probabilidad."
   ]
  },
  {
   "cell_type": "code",
   "execution_count": 25,
   "metadata": {},
   "outputs": [
    {
     "data": {
      "text/html": [
       "<div>\n",
       "<style scoped>\n",
       "    .dataframe tbody tr th:only-of-type {\n",
       "        vertical-align: middle;\n",
       "    }\n",
       "\n",
       "    .dataframe tbody tr th {\n",
       "        vertical-align: top;\n",
       "    }\n",
       "\n",
       "    .dataframe thead th {\n",
       "        text-align: right;\n",
       "    }\n",
       "</style>\n",
       "<table border=\"1\" class=\"dataframe\">\n",
       "  <thead>\n",
       "    <tr style=\"text-align: right;\">\n",
       "      <th></th>\n",
       "      <th>name</th>\n",
       "      <th>id</th>\n",
       "      <th>nametype</th>\n",
       "      <th>recclass</th>\n",
       "      <th>mass (g)</th>\n",
       "      <th>fall</th>\n",
       "      <th>year</th>\n",
       "      <th>reclat</th>\n",
       "      <th>reclong</th>\n",
       "      <th>GeoLocation</th>\n",
       "      <th>fell</th>\n",
       "      <th>found</th>\n",
       "    </tr>\n",
       "  </thead>\n",
       "  <tbody>\n",
       "    <tr>\n",
       "      <th>0</th>\n",
       "      <td>Aachen</td>\n",
       "      <td>1</td>\n",
       "      <td>Valid</td>\n",
       "      <td>L5</td>\n",
       "      <td>21.0</td>\n",
       "      <td>Fell</td>\n",
       "      <td>01/01/1880 12:00:00 AM</td>\n",
       "      <td>50.8</td>\n",
       "      <td>6.1</td>\n",
       "      <td>(50.775, 6.08333)</td>\n",
       "      <td>1</td>\n",
       "      <td>0</td>\n",
       "    </tr>\n",
       "    <tr>\n",
       "      <th>1</th>\n",
       "      <td>Aarhus</td>\n",
       "      <td>2</td>\n",
       "      <td>Valid</td>\n",
       "      <td>H6</td>\n",
       "      <td>720.0</td>\n",
       "      <td>Fell</td>\n",
       "      <td>01/01/1951 12:00:00 AM</td>\n",
       "      <td>56.2</td>\n",
       "      <td>10.2</td>\n",
       "      <td>(56.18333, 10.23333)</td>\n",
       "      <td>1</td>\n",
       "      <td>0</td>\n",
       "    </tr>\n",
       "    <tr>\n",
       "      <th>2</th>\n",
       "      <td>Abee</td>\n",
       "      <td>6</td>\n",
       "      <td>Valid</td>\n",
       "      <td>EH4</td>\n",
       "      <td>107_000.0</td>\n",
       "      <td>Fell</td>\n",
       "      <td>01/01/1952 12:00:00 AM</td>\n",
       "      <td>54.2</td>\n",
       "      <td>-113.0</td>\n",
       "      <td>(54.21667, -113.0)</td>\n",
       "      <td>1</td>\n",
       "      <td>0</td>\n",
       "    </tr>\n",
       "    <tr>\n",
       "      <th>3</th>\n",
       "      <td>Acapulco</td>\n",
       "      <td>10</td>\n",
       "      <td>Valid</td>\n",
       "      <td>Acapulcoite</td>\n",
       "      <td>1_914.0</td>\n",
       "      <td>Fell</td>\n",
       "      <td>01/01/1976 12:00:00 AM</td>\n",
       "      <td>16.9</td>\n",
       "      <td>-99.9</td>\n",
       "      <td>(16.88333, -99.9)</td>\n",
       "      <td>1</td>\n",
       "      <td>0</td>\n",
       "    </tr>\n",
       "  </tbody>\n",
       "</table>\n",
       "</div>"
      ],
      "text/plain": [
       "       name  id nametype     recclass  mass (g)  fall                    year  \\\n",
       "0    Aachen   1    Valid           L5      21.0  Fell  01/01/1880 12:00:00 AM   \n",
       "1    Aarhus   2    Valid           H6     720.0  Fell  01/01/1951 12:00:00 AM   \n",
       "2      Abee   6    Valid          EH4 107_000.0  Fell  01/01/1952 12:00:00 AM   \n",
       "3  Acapulco  10    Valid  Acapulcoite   1_914.0  Fell  01/01/1976 12:00:00 AM   \n",
       "\n",
       "   reclat  reclong           GeoLocation  fell  found  \n",
       "0    50.8      6.1     (50.775, 6.08333)     1      0  \n",
       "1    56.2     10.2  (56.18333, 10.23333)     1      0  \n",
       "2    54.2   -113.0    (54.21667, -113.0)     1      0  \n",
       "3    16.9    -99.9     (16.88333, -99.9)     1      0  "
      ]
     },
     "execution_count": 25,
     "metadata": {},
     "output_type": "execute_result"
    }
   ],
   "source": [
    "df_meteorites[['fell','found']] = pd.get_dummies(df_meteorites['fall'])\n",
    "df_meteorites.head(4)"
   ]
  },
  {
   "cell_type": "markdown",
   "metadata": {},
   "source": [
    "Ahora veamos la categorización de la columna *year*."
   ]
  },
  {
   "cell_type": "code",
   "execution_count": 26,
   "metadata": {},
   "outputs": [
    {
     "data": {
      "text/plain": [
       "0        01/01/1880 12:00:00 AM\n",
       "1        01/01/1951 12:00:00 AM\n",
       "2        01/01/1952 12:00:00 AM\n",
       "3        01/01/1976 12:00:00 AM\n",
       "4        01/01/1902 12:00:00 AM\n",
       "                  ...          \n",
       "45711    01/01/1990 12:00:00 AM\n",
       "45712    01/01/1999 12:00:00 AM\n",
       "45713    01/01/1939 12:00:00 AM\n",
       "45714    01/01/2003 12:00:00 AM\n",
       "45715    01/01/1976 12:00:00 AM\n",
       "Name: year, Length: 45716, dtype: string"
      ]
     },
     "execution_count": 26,
     "metadata": {},
     "output_type": "execute_result"
    }
   ],
   "source": [
    "df_meteorites['year']"
   ]
  },
  {
   "cell_type": "code",
   "execution_count": 27,
   "metadata": {},
   "outputs": [
    {
     "data": {
      "text/plain": [
       "0       1880-01-01 12:00:00\n",
       "1       1951-01-01 12:00:00\n",
       "2       1952-01-01 12:00:00\n",
       "3       1976-01-01 12:00:00\n",
       "4       1902-01-01 12:00:00\n",
       "                ...        \n",
       "45711   1990-01-01 12:00:00\n",
       "45712   1999-01-01 12:00:00\n",
       "45713   1939-01-01 12:00:00\n",
       "45714   2003-01-01 12:00:00\n",
       "45715   1976-01-01 12:00:00\n",
       "Name: year, Length: 45716, dtype: datetime64[ns]"
      ]
     },
     "execution_count": 27,
     "metadata": {},
     "output_type": "execute_result"
    }
   ],
   "source": [
    "pd.to_datetime(\n",
    "    df_meteorites['year'], \n",
    "    errors='coerce',\n",
    "    format='%m/%d/%Y %H:%M:%S %p'\n",
    ")"
   ]
  },
  {
   "cell_type": "code",
   "execution_count": 28,
   "metadata": {},
   "outputs": [
    {
     "data": {
      "text/plain": [
       "name                   string\n",
       "id                      Int64\n",
       "nametype             category\n",
       "recclass               string\n",
       "mass (g)              Float64\n",
       "fall                 category\n",
       "year           datetime64[ns]\n",
       "reclat                Float64\n",
       "reclong               Float64\n",
       "GeoLocation            string\n",
       "fell                    uint8\n",
       "found                   uint8\n",
       "dtype: object"
      ]
     },
     "execution_count": 28,
     "metadata": {},
     "output_type": "execute_result"
    }
   ],
   "source": [
    "df_meteorites['year'] = pd.to_datetime(\n",
    "    df_meteorites['year'], \n",
    "    errors='coerce',\n",
    "    format='%m/%d/%Y %H:%M:%S %p'\n",
    ")\n",
    "df_meteorites.dtypes"
   ]
  },
  {
   "cell_type": "markdown",
   "metadata": {},
   "source": [
    "La categorización reduce el uso de memoria RAM y de almacenamiento."
   ]
  },
  {
   "cell_type": "markdown",
   "metadata": {},
   "source": [
    "## Renombramiento de las columnas"
   ]
  },
  {
   "cell_type": "code",
   "execution_count": 29,
   "metadata": {},
   "outputs": [
    {
     "data": {
      "text/html": [
       "<div>\n",
       "<style scoped>\n",
       "    .dataframe tbody tr th:only-of-type {\n",
       "        vertical-align: middle;\n",
       "    }\n",
       "\n",
       "    .dataframe tbody tr th {\n",
       "        vertical-align: top;\n",
       "    }\n",
       "\n",
       "    .dataframe thead th {\n",
       "        text-align: right;\n",
       "    }\n",
       "</style>\n",
       "<table border=\"1\" class=\"dataframe\">\n",
       "  <thead>\n",
       "    <tr style=\"text-align: right;\">\n",
       "      <th></th>\n",
       "      <th>name</th>\n",
       "      <th>id</th>\n",
       "      <th>nametype</th>\n",
       "      <th>recclass</th>\n",
       "      <th>mass</th>\n",
       "      <th>fall</th>\n",
       "      <th>year</th>\n",
       "      <th>reclat</th>\n",
       "      <th>reclong</th>\n",
       "      <th>GeoLocation</th>\n",
       "      <th>fell</th>\n",
       "      <th>found</th>\n",
       "    </tr>\n",
       "  </thead>\n",
       "  <tbody>\n",
       "    <tr>\n",
       "      <th>0</th>\n",
       "      <td>Aachen</td>\n",
       "      <td>1</td>\n",
       "      <td>Valid</td>\n",
       "      <td>L5</td>\n",
       "      <td>21.0</td>\n",
       "      <td>Fell</td>\n",
       "      <td>1880-01-01 12:00:00</td>\n",
       "      <td>50.8</td>\n",
       "      <td>6.1</td>\n",
       "      <td>(50.775, 6.08333)</td>\n",
       "      <td>1</td>\n",
       "      <td>0</td>\n",
       "    </tr>\n",
       "    <tr>\n",
       "      <th>1</th>\n",
       "      <td>Aarhus</td>\n",
       "      <td>2</td>\n",
       "      <td>Valid</td>\n",
       "      <td>H6</td>\n",
       "      <td>720.0</td>\n",
       "      <td>Fell</td>\n",
       "      <td>1951-01-01 12:00:00</td>\n",
       "      <td>56.2</td>\n",
       "      <td>10.2</td>\n",
       "      <td>(56.18333, 10.23333)</td>\n",
       "      <td>1</td>\n",
       "      <td>0</td>\n",
       "    </tr>\n",
       "    <tr>\n",
       "      <th>2</th>\n",
       "      <td>Abee</td>\n",
       "      <td>6</td>\n",
       "      <td>Valid</td>\n",
       "      <td>EH4</td>\n",
       "      <td>107_000.0</td>\n",
       "      <td>Fell</td>\n",
       "      <td>1952-01-01 12:00:00</td>\n",
       "      <td>54.2</td>\n",
       "      <td>-113.0</td>\n",
       "      <td>(54.21667, -113.0)</td>\n",
       "      <td>1</td>\n",
       "      <td>0</td>\n",
       "    </tr>\n",
       "    <tr>\n",
       "      <th>3</th>\n",
       "      <td>Acapulco</td>\n",
       "      <td>10</td>\n",
       "      <td>Valid</td>\n",
       "      <td>Acapulcoite</td>\n",
       "      <td>1_914.0</td>\n",
       "      <td>Fell</td>\n",
       "      <td>1976-01-01 12:00:00</td>\n",
       "      <td>16.9</td>\n",
       "      <td>-99.9</td>\n",
       "      <td>(16.88333, -99.9)</td>\n",
       "      <td>1</td>\n",
       "      <td>0</td>\n",
       "    </tr>\n",
       "  </tbody>\n",
       "</table>\n",
       "</div>"
      ],
      "text/plain": [
       "       name  id nametype     recclass      mass  fall                year  \\\n",
       "0    Aachen   1    Valid           L5      21.0  Fell 1880-01-01 12:00:00   \n",
       "1    Aarhus   2    Valid           H6     720.0  Fell 1951-01-01 12:00:00   \n",
       "2      Abee   6    Valid          EH4 107_000.0  Fell 1952-01-01 12:00:00   \n",
       "3  Acapulco  10    Valid  Acapulcoite   1_914.0  Fell 1976-01-01 12:00:00   \n",
       "\n",
       "   reclat  reclong           GeoLocation  fell  found  \n",
       "0    50.8      6.1     (50.775, 6.08333)     1      0  \n",
       "1    56.2     10.2  (56.18333, 10.23333)     1      0  \n",
       "2    54.2   -113.0    (54.21667, -113.0)     1      0  \n",
       "3    16.9    -99.9     (16.88333, -99.9)     1      0  "
      ]
     },
     "execution_count": 29,
     "metadata": {},
     "output_type": "execute_result"
    }
   ],
   "source": [
    "df_meteorites.rename(columns={'mass (g)':'mass'}, inplace=True)\n",
    "df_meteorites.head(4)"
   ]
  },
  {
   "cell_type": "markdown",
   "metadata": {},
   "source": [
    "## Borrar columa "
   ]
  },
  {
   "cell_type": "code",
   "execution_count": 30,
   "metadata": {},
   "outputs": [
    {
     "data": {
      "text/html": [
       "<div>\n",
       "<style scoped>\n",
       "    .dataframe tbody tr th:only-of-type {\n",
       "        vertical-align: middle;\n",
       "    }\n",
       "\n",
       "    .dataframe tbody tr th {\n",
       "        vertical-align: top;\n",
       "    }\n",
       "\n",
       "    .dataframe thead th {\n",
       "        text-align: right;\n",
       "    }\n",
       "</style>\n",
       "<table border=\"1\" class=\"dataframe\">\n",
       "  <thead>\n",
       "    <tr style=\"text-align: right;\">\n",
       "      <th></th>\n",
       "      <th>name</th>\n",
       "      <th>id</th>\n",
       "      <th>nametype</th>\n",
       "      <th>recclass</th>\n",
       "      <th>mass</th>\n",
       "      <th>fall</th>\n",
       "      <th>year</th>\n",
       "      <th>reclat</th>\n",
       "      <th>reclong</th>\n",
       "      <th>GeoLocation</th>\n",
       "      <th>fell</th>\n",
       "      <th>found</th>\n",
       "      <th>ones</th>\n",
       "    </tr>\n",
       "  </thead>\n",
       "  <tbody>\n",
       "    <tr>\n",
       "      <th>0</th>\n",
       "      <td>Aachen</td>\n",
       "      <td>1</td>\n",
       "      <td>Valid</td>\n",
       "      <td>L5</td>\n",
       "      <td>21.0</td>\n",
       "      <td>Fell</td>\n",
       "      <td>1880-01-01 12:00:00</td>\n",
       "      <td>50.8</td>\n",
       "      <td>6.1</td>\n",
       "      <td>(50.775, 6.08333)</td>\n",
       "      <td>1</td>\n",
       "      <td>0</td>\n",
       "      <td>1</td>\n",
       "    </tr>\n",
       "  </tbody>\n",
       "</table>\n",
       "</div>"
      ],
      "text/plain": [
       "     name  id nametype recclass  mass  fall                year  reclat  \\\n",
       "0  Aachen   1    Valid       L5  21.0  Fell 1880-01-01 12:00:00    50.8   \n",
       "\n",
       "   reclong        GeoLocation  fell  found  ones  \n",
       "0      6.1  (50.775, 6.08333)     1      0     1  "
      ]
     },
     "execution_count": 30,
     "metadata": {},
     "output_type": "execute_result"
    }
   ],
   "source": [
    "df_meteorites['ones'] = 1\n",
    "df_meteorites.head(1)"
   ]
  },
  {
   "cell_type": "code",
   "execution_count": 31,
   "metadata": {},
   "outputs": [
    {
     "data": {
      "text/html": [
       "<div>\n",
       "<style scoped>\n",
       "    .dataframe tbody tr th:only-of-type {\n",
       "        vertical-align: middle;\n",
       "    }\n",
       "\n",
       "    .dataframe tbody tr th {\n",
       "        vertical-align: top;\n",
       "    }\n",
       "\n",
       "    .dataframe thead th {\n",
       "        text-align: right;\n",
       "    }\n",
       "</style>\n",
       "<table border=\"1\" class=\"dataframe\">\n",
       "  <thead>\n",
       "    <tr style=\"text-align: right;\">\n",
       "      <th></th>\n",
       "      <th>name</th>\n",
       "      <th>id</th>\n",
       "      <th>nametype</th>\n",
       "      <th>recclass</th>\n",
       "      <th>mass</th>\n",
       "      <th>fall</th>\n",
       "      <th>year</th>\n",
       "      <th>reclat</th>\n",
       "      <th>reclong</th>\n",
       "      <th>GeoLocation</th>\n",
       "      <th>fell</th>\n",
       "      <th>found</th>\n",
       "    </tr>\n",
       "  </thead>\n",
       "  <tbody>\n",
       "    <tr>\n",
       "      <th>0</th>\n",
       "      <td>Aachen</td>\n",
       "      <td>1</td>\n",
       "      <td>Valid</td>\n",
       "      <td>L5</td>\n",
       "      <td>21.0</td>\n",
       "      <td>Fell</td>\n",
       "      <td>1880-01-01 12:00:00</td>\n",
       "      <td>50.8</td>\n",
       "      <td>6.1</td>\n",
       "      <td>(50.775, 6.08333)</td>\n",
       "      <td>1</td>\n",
       "      <td>0</td>\n",
       "    </tr>\n",
       "  </tbody>\n",
       "</table>\n",
       "</div>"
      ],
      "text/plain": [
       "     name  id nametype recclass  mass  fall                year  reclat  \\\n",
       "0  Aachen   1    Valid       L5  21.0  Fell 1880-01-01 12:00:00    50.8   \n",
       "\n",
       "   reclong        GeoLocation  fell  found  \n",
       "0      6.1  (50.775, 6.08333)     1      0  "
      ]
     },
     "execution_count": 31,
     "metadata": {},
     "output_type": "execute_result"
    }
   ],
   "source": [
    "# df_meteorites.drop(['ones'], axis=1, inplace=True)\n",
    "df_meteorites.drop(columns='ones', inplace=True)\n",
    "df_meteorites.head(1)"
   ]
  },
  {
   "cell_type": "markdown",
   "metadata": {},
   "source": [
    "## Borrar fila"
   ]
  },
  {
   "cell_type": "code",
   "execution_count": 32,
   "metadata": {},
   "outputs": [
    {
     "data": {
      "text/html": [
       "<div>\n",
       "<style scoped>\n",
       "    .dataframe tbody tr th:only-of-type {\n",
       "        vertical-align: middle;\n",
       "    }\n",
       "\n",
       "    .dataframe tbody tr th {\n",
       "        vertical-align: top;\n",
       "    }\n",
       "\n",
       "    .dataframe thead th {\n",
       "        text-align: right;\n",
       "    }\n",
       "</style>\n",
       "<table border=\"1\" class=\"dataframe\">\n",
       "  <thead>\n",
       "    <tr style=\"text-align: right;\">\n",
       "      <th></th>\n",
       "      <th>name</th>\n",
       "      <th>id</th>\n",
       "      <th>nametype</th>\n",
       "      <th>recclass</th>\n",
       "      <th>mass</th>\n",
       "      <th>fall</th>\n",
       "      <th>year</th>\n",
       "      <th>reclat</th>\n",
       "      <th>reclong</th>\n",
       "      <th>GeoLocation</th>\n",
       "      <th>fell</th>\n",
       "      <th>found</th>\n",
       "    </tr>\n",
       "  </thead>\n",
       "  <tbody>\n",
       "    <tr>\n",
       "      <th>45707</th>\n",
       "      <td>Zhaoping</td>\n",
       "      <td>54609</td>\n",
       "      <td>Valid</td>\n",
       "      <td>Iron, IAB complex</td>\n",
       "      <td>2_000_000.0</td>\n",
       "      <td>Found</td>\n",
       "      <td>1983-01-01 12:00:00</td>\n",
       "      <td>24.2</td>\n",
       "      <td>111.2</td>\n",
       "      <td>(24.23333, 111.18333)</td>\n",
       "      <td>0</td>\n",
       "      <td>1</td>\n",
       "    </tr>\n",
       "    <tr>\n",
       "      <th>45709</th>\n",
       "      <td>Zhongxiang</td>\n",
       "      <td>30406</td>\n",
       "      <td>Valid</td>\n",
       "      <td>Iron</td>\n",
       "      <td>100_000.0</td>\n",
       "      <td>Found</td>\n",
       "      <td>1981-01-01 12:00:00</td>\n",
       "      <td>31.2</td>\n",
       "      <td>112.5</td>\n",
       "      <td>(31.2, 112.5)</td>\n",
       "      <td>0</td>\n",
       "      <td>1</td>\n",
       "    </tr>\n",
       "    <tr>\n",
       "      <th>45711</th>\n",
       "      <td>Zillah 002</td>\n",
       "      <td>31356</td>\n",
       "      <td>Valid</td>\n",
       "      <td>Eucrite</td>\n",
       "      <td>172.0</td>\n",
       "      <td>Found</td>\n",
       "      <td>1990-01-01 12:00:00</td>\n",
       "      <td>29.0</td>\n",
       "      <td>17.0</td>\n",
       "      <td>(29.037, 17.0185)</td>\n",
       "      <td>0</td>\n",
       "      <td>1</td>\n",
       "    </tr>\n",
       "    <tr>\n",
       "      <th>45713</th>\n",
       "      <td>Zlin</td>\n",
       "      <td>30410</td>\n",
       "      <td>Valid</td>\n",
       "      <td>H4</td>\n",
       "      <td>3.3</td>\n",
       "      <td>Found</td>\n",
       "      <td>1939-01-01 12:00:00</td>\n",
       "      <td>49.2</td>\n",
       "      <td>17.7</td>\n",
       "      <td>(49.25, 17.66667)</td>\n",
       "      <td>0</td>\n",
       "      <td>1</td>\n",
       "    </tr>\n",
       "    <tr>\n",
       "      <th>45715</th>\n",
       "      <td>Zulu Queen</td>\n",
       "      <td>30414</td>\n",
       "      <td>Valid</td>\n",
       "      <td>L3.7</td>\n",
       "      <td>200.0</td>\n",
       "      <td>Found</td>\n",
       "      <td>1976-01-01 12:00:00</td>\n",
       "      <td>34.0</td>\n",
       "      <td>-115.7</td>\n",
       "      <td>(33.98333, -115.68333)</td>\n",
       "      <td>0</td>\n",
       "      <td>1</td>\n",
       "    </tr>\n",
       "  </tbody>\n",
       "</table>\n",
       "</div>"
      ],
      "text/plain": [
       "             name     id nametype           recclass        mass   fall  \\\n",
       "45707    Zhaoping  54609    Valid  Iron, IAB complex 2_000_000.0  Found   \n",
       "45709  Zhongxiang  30406    Valid               Iron   100_000.0  Found   \n",
       "45711  Zillah 002  31356    Valid            Eucrite       172.0  Found   \n",
       "45713        Zlin  30410    Valid                 H4         3.3  Found   \n",
       "45715  Zulu Queen  30414    Valid               L3.7       200.0  Found   \n",
       "\n",
       "                     year  reclat  reclong             GeoLocation  fell  \\\n",
       "45707 1983-01-01 12:00:00    24.2    111.2   (24.23333, 111.18333)     0   \n",
       "45709 1981-01-01 12:00:00    31.2    112.5           (31.2, 112.5)     0   \n",
       "45711 1990-01-01 12:00:00    29.0     17.0       (29.037, 17.0185)     0   \n",
       "45713 1939-01-01 12:00:00    49.2     17.7       (49.25, 17.66667)     0   \n",
       "45715 1976-01-01 12:00:00    34.0   -115.7  (33.98333, -115.68333)     0   \n",
       "\n",
       "       found  \n",
       "45707      1  \n",
       "45709      1  \n",
       "45711      1  \n",
       "45713      1  \n",
       "45715      1  "
      ]
     },
     "execution_count": 32,
     "metadata": {},
     "output_type": "execute_result"
    }
   ],
   "source": [
    "# df_meteorites.drop([0,2,4,6]).head(5)\n",
    "# df_meteorites.drop(index=[0,2,4,6]).head(5)\n",
    "df_meteorites.drop([i for i in range(0, len(df_meteorites.index), 2)]).tail(5)"
   ]
  },
  {
   "cell_type": "markdown",
   "metadata": {},
   "source": [
    "## Copia del DF"
   ]
  },
  {
   "cell_type": "code",
   "execution_count": 33,
   "metadata": {},
   "outputs": [],
   "source": [
    "df_copy = df_meteorites.copy()"
   ]
  }
 ],
 "metadata": {
  "interpreter": {
   "hash": "2647ea34e536f865ab67ff9ddee7fd78773d956cec0cab53c79b32cd10da5d83"
  },
  "kernelspec": {
   "display_name": "Python 3.9.6 64-bit",
   "language": "python",
   "name": "python3"
  },
  "language_info": {
   "codemirror_mode": {
    "name": "ipython",
    "version": 3
   },
   "file_extension": ".py",
   "mimetype": "text/x-python",
   "name": "python",
   "nbconvert_exporter": "python",
   "pygments_lexer": "ipython3",
   "version": "3.9.6"
  },
  "orig_nbformat": 4
 },
 "nbformat": 4,
 "nbformat_minor": 2
}
